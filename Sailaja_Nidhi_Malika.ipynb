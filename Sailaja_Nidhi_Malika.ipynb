{
  "cells": [
    {
      "cell_type": "code",
      "execution_count": 168,
      "id": "ba497191",
      "metadata": {
        "id": "ba497191"
      },
      "outputs": [],
      "source": [
        "import numpy as np\n",
        "import pandas as pd\n",
        "import os\n",
        "import gc\n",
        "import matplotlib.pyplot as plt\n",
        "import warnings\n",
        "import seaborn as sns\n",
        "from sklearn.preprocessing import StandardScaler"
      ]
    },
    {
      "cell_type": "code",
      "execution_count": 169,
      "id": "2a07cee4",
      "metadata": {
        "id": "2a07cee4"
      },
      "outputs": [],
      "source": [
        "threshold_dict = {'aluminium':2.8,'ammonia':32.5,'arsenic':0.01,'barium':2,'cadmium':0.005,'chloramine':4,'chromium':0.1,'copper':1.3,'flouride':1.5,'bacteria':0,'viruses':0,'lead':0.015,'nitrates':10,'nitrites':1,'mercury':0.002,'perchlorate':56,'radium':5,'selenium':0.5,'silver':0.1,'uranium':0.3}"
      ]
    },
    {
      "cell_type": "markdown",
      "id": "18c6572c",
      "metadata": {
        "id": "18c6572c"
      },
      "source": [
        "## Dataframe"
      ]
    },
    {
      "cell_type": "markdown",
      "id": "3242b406",
      "metadata": {
        "id": "3242b406"
      },
      "source": [
        "## The dataset has 7999 rows and 21 columns"
      ]
    },
    {
      "cell_type": "markdown",
      "id": "6143b77e",
      "metadata": {
        "id": "6143b77e"
      },
      "source": [
        "# <font color=\"blue\">Preprocessing</font>"
      ]
    },
    {
      "cell_type": "code",
      "execution_count": 170,
      "id": "ffd3161f",
      "metadata": {
        "id": "ffd3161f"
      },
      "outputs": [],
      "source": [
        "missing_value = ['#NUM!',np.nan] #missing values given as #NUM! "
      ]
    },
    {
      "cell_type": "code",
      "execution_count": 189,
      "id": "691240b6",
      "metadata": {
        "id": "691240b6"
      },
      "outputs": [],
      "source": [
        "df = pd.read_csv('waterQuality1.csv') "
      ]
    },
    {
      "cell_type": "code",
      "execution_count": 190,
      "id": "3b8c961c",
      "metadata": {
        "id": "3b8c961c",
        "outputId": "333be4bf-3ad6-4729-b553-95fa7d0c92cb",
        "colab": {
          "base_uri": "https://localhost:8080/",
          "height": 299
        }
      },
      "outputs": [
        {
          "output_type": "execute_result",
          "data": {
            "text/plain": [
              "   aluminium ammonia  arsenic  barium  cadmium  chloramine  chromium  copper  \\\n",
              "0       1.65    9.08     0.04    2.85    0.007        0.35      0.83    0.17   \n",
              "1       2.32   21.16     0.01    3.31    0.002        5.28      0.68    0.66   \n",
              "2       1.01   14.02     0.04    0.58    0.008        4.24      0.53    0.02   \n",
              "3       1.36   11.33     0.04    2.96    0.001        7.23      0.03    1.66   \n",
              "4       0.92   24.33     0.03    0.20    0.006        2.67      0.69    0.57   \n",
              "\n",
              "   flouride  bacteria  ...   lead  nitrates  nitrites  mercury  perchlorate  \\\n",
              "0      0.05      0.20  ...  0.054     16.08      1.13    0.007        37.75   \n",
              "1      0.90      0.65  ...  0.100      2.01      1.93    0.003        32.26   \n",
              "2      0.99      0.05  ...  0.078     14.16      1.11    0.006        50.28   \n",
              "3      1.08      0.71  ...  0.016      1.41      1.29    0.004         9.12   \n",
              "4      0.61      0.13  ...  0.117      6.74      1.11    0.003        16.90   \n",
              "\n",
              "   radium  selenium  silver  uranium  is_safe  \n",
              "0    6.78      0.08    0.34     0.02        1  \n",
              "1    3.21      0.08    0.27     0.05        1  \n",
              "2    7.07      0.07    0.44     0.01        0  \n",
              "3    1.72      0.02    0.45     0.05        1  \n",
              "4    2.41      0.02    0.06     0.02        1  \n",
              "\n",
              "[5 rows x 21 columns]"
            ],
            "text/html": [
              "\n",
              "  <div id=\"df-f76168ef-be6a-4f8a-aefc-2453a36ecbf3\">\n",
              "    <div class=\"colab-df-container\">\n",
              "      <div>\n",
              "<style scoped>\n",
              "    .dataframe tbody tr th:only-of-type {\n",
              "        vertical-align: middle;\n",
              "    }\n",
              "\n",
              "    .dataframe tbody tr th {\n",
              "        vertical-align: top;\n",
              "    }\n",
              "\n",
              "    .dataframe thead th {\n",
              "        text-align: right;\n",
              "    }\n",
              "</style>\n",
              "<table border=\"1\" class=\"dataframe\">\n",
              "  <thead>\n",
              "    <tr style=\"text-align: right;\">\n",
              "      <th></th>\n",
              "      <th>aluminium</th>\n",
              "      <th>ammonia</th>\n",
              "      <th>arsenic</th>\n",
              "      <th>barium</th>\n",
              "      <th>cadmium</th>\n",
              "      <th>chloramine</th>\n",
              "      <th>chromium</th>\n",
              "      <th>copper</th>\n",
              "      <th>flouride</th>\n",
              "      <th>bacteria</th>\n",
              "      <th>...</th>\n",
              "      <th>lead</th>\n",
              "      <th>nitrates</th>\n",
              "      <th>nitrites</th>\n",
              "      <th>mercury</th>\n",
              "      <th>perchlorate</th>\n",
              "      <th>radium</th>\n",
              "      <th>selenium</th>\n",
              "      <th>silver</th>\n",
              "      <th>uranium</th>\n",
              "      <th>is_safe</th>\n",
              "    </tr>\n",
              "  </thead>\n",
              "  <tbody>\n",
              "    <tr>\n",
              "      <th>0</th>\n",
              "      <td>1.65</td>\n",
              "      <td>9.08</td>\n",
              "      <td>0.04</td>\n",
              "      <td>2.85</td>\n",
              "      <td>0.007</td>\n",
              "      <td>0.35</td>\n",
              "      <td>0.83</td>\n",
              "      <td>0.17</td>\n",
              "      <td>0.05</td>\n",
              "      <td>0.20</td>\n",
              "      <td>...</td>\n",
              "      <td>0.054</td>\n",
              "      <td>16.08</td>\n",
              "      <td>1.13</td>\n",
              "      <td>0.007</td>\n",
              "      <td>37.75</td>\n",
              "      <td>6.78</td>\n",
              "      <td>0.08</td>\n",
              "      <td>0.34</td>\n",
              "      <td>0.02</td>\n",
              "      <td>1</td>\n",
              "    </tr>\n",
              "    <tr>\n",
              "      <th>1</th>\n",
              "      <td>2.32</td>\n",
              "      <td>21.16</td>\n",
              "      <td>0.01</td>\n",
              "      <td>3.31</td>\n",
              "      <td>0.002</td>\n",
              "      <td>5.28</td>\n",
              "      <td>0.68</td>\n",
              "      <td>0.66</td>\n",
              "      <td>0.90</td>\n",
              "      <td>0.65</td>\n",
              "      <td>...</td>\n",
              "      <td>0.100</td>\n",
              "      <td>2.01</td>\n",
              "      <td>1.93</td>\n",
              "      <td>0.003</td>\n",
              "      <td>32.26</td>\n",
              "      <td>3.21</td>\n",
              "      <td>0.08</td>\n",
              "      <td>0.27</td>\n",
              "      <td>0.05</td>\n",
              "      <td>1</td>\n",
              "    </tr>\n",
              "    <tr>\n",
              "      <th>2</th>\n",
              "      <td>1.01</td>\n",
              "      <td>14.02</td>\n",
              "      <td>0.04</td>\n",
              "      <td>0.58</td>\n",
              "      <td>0.008</td>\n",
              "      <td>4.24</td>\n",
              "      <td>0.53</td>\n",
              "      <td>0.02</td>\n",
              "      <td>0.99</td>\n",
              "      <td>0.05</td>\n",
              "      <td>...</td>\n",
              "      <td>0.078</td>\n",
              "      <td>14.16</td>\n",
              "      <td>1.11</td>\n",
              "      <td>0.006</td>\n",
              "      <td>50.28</td>\n",
              "      <td>7.07</td>\n",
              "      <td>0.07</td>\n",
              "      <td>0.44</td>\n",
              "      <td>0.01</td>\n",
              "      <td>0</td>\n",
              "    </tr>\n",
              "    <tr>\n",
              "      <th>3</th>\n",
              "      <td>1.36</td>\n",
              "      <td>11.33</td>\n",
              "      <td>0.04</td>\n",
              "      <td>2.96</td>\n",
              "      <td>0.001</td>\n",
              "      <td>7.23</td>\n",
              "      <td>0.03</td>\n",
              "      <td>1.66</td>\n",
              "      <td>1.08</td>\n",
              "      <td>0.71</td>\n",
              "      <td>...</td>\n",
              "      <td>0.016</td>\n",
              "      <td>1.41</td>\n",
              "      <td>1.29</td>\n",
              "      <td>0.004</td>\n",
              "      <td>9.12</td>\n",
              "      <td>1.72</td>\n",
              "      <td>0.02</td>\n",
              "      <td>0.45</td>\n",
              "      <td>0.05</td>\n",
              "      <td>1</td>\n",
              "    </tr>\n",
              "    <tr>\n",
              "      <th>4</th>\n",
              "      <td>0.92</td>\n",
              "      <td>24.33</td>\n",
              "      <td>0.03</td>\n",
              "      <td>0.20</td>\n",
              "      <td>0.006</td>\n",
              "      <td>2.67</td>\n",
              "      <td>0.69</td>\n",
              "      <td>0.57</td>\n",
              "      <td>0.61</td>\n",
              "      <td>0.13</td>\n",
              "      <td>...</td>\n",
              "      <td>0.117</td>\n",
              "      <td>6.74</td>\n",
              "      <td>1.11</td>\n",
              "      <td>0.003</td>\n",
              "      <td>16.90</td>\n",
              "      <td>2.41</td>\n",
              "      <td>0.02</td>\n",
              "      <td>0.06</td>\n",
              "      <td>0.02</td>\n",
              "      <td>1</td>\n",
              "    </tr>\n",
              "  </tbody>\n",
              "</table>\n",
              "<p>5 rows × 21 columns</p>\n",
              "</div>\n",
              "      <button class=\"colab-df-convert\" onclick=\"convertToInteractive('df-f76168ef-be6a-4f8a-aefc-2453a36ecbf3')\"\n",
              "              title=\"Convert this dataframe to an interactive table.\"\n",
              "              style=\"display:none;\">\n",
              "        \n",
              "  <svg xmlns=\"http://www.w3.org/2000/svg\" height=\"24px\"viewBox=\"0 0 24 24\"\n",
              "       width=\"24px\">\n",
              "    <path d=\"M0 0h24v24H0V0z\" fill=\"none\"/>\n",
              "    <path d=\"M18.56 5.44l.94 2.06.94-2.06 2.06-.94-2.06-.94-.94-2.06-.94 2.06-2.06.94zm-11 1L8.5 8.5l.94-2.06 2.06-.94-2.06-.94L8.5 2.5l-.94 2.06-2.06.94zm10 10l.94 2.06.94-2.06 2.06-.94-2.06-.94-.94-2.06-.94 2.06-2.06.94z\"/><path d=\"M17.41 7.96l-1.37-1.37c-.4-.4-.92-.59-1.43-.59-.52 0-1.04.2-1.43.59L10.3 9.45l-7.72 7.72c-.78.78-.78 2.05 0 2.83L4 21.41c.39.39.9.59 1.41.59.51 0 1.02-.2 1.41-.59l7.78-7.78 2.81-2.81c.8-.78.8-2.07 0-2.86zM5.41 20L4 18.59l7.72-7.72 1.47 1.35L5.41 20z\"/>\n",
              "  </svg>\n",
              "      </button>\n",
              "      \n",
              "  <style>\n",
              "    .colab-df-container {\n",
              "      display:flex;\n",
              "      flex-wrap:wrap;\n",
              "      gap: 12px;\n",
              "    }\n",
              "\n",
              "    .colab-df-convert {\n",
              "      background-color: #E8F0FE;\n",
              "      border: none;\n",
              "      border-radius: 50%;\n",
              "      cursor: pointer;\n",
              "      display: none;\n",
              "      fill: #1967D2;\n",
              "      height: 32px;\n",
              "      padding: 0 0 0 0;\n",
              "      width: 32px;\n",
              "    }\n",
              "\n",
              "    .colab-df-convert:hover {\n",
              "      background-color: #E2EBFA;\n",
              "      box-shadow: 0px 1px 2px rgba(60, 64, 67, 0.3), 0px 1px 3px 1px rgba(60, 64, 67, 0.15);\n",
              "      fill: #174EA6;\n",
              "    }\n",
              "\n",
              "    [theme=dark] .colab-df-convert {\n",
              "      background-color: #3B4455;\n",
              "      fill: #D2E3FC;\n",
              "    }\n",
              "\n",
              "    [theme=dark] .colab-df-convert:hover {\n",
              "      background-color: #434B5C;\n",
              "      box-shadow: 0px 1px 3px 1px rgba(0, 0, 0, 0.15);\n",
              "      filter: drop-shadow(0px 1px 2px rgba(0, 0, 0, 0.3));\n",
              "      fill: #FFFFFF;\n",
              "    }\n",
              "  </style>\n",
              "\n",
              "      <script>\n",
              "        const buttonEl =\n",
              "          document.querySelector('#df-f76168ef-be6a-4f8a-aefc-2453a36ecbf3 button.colab-df-convert');\n",
              "        buttonEl.style.display =\n",
              "          google.colab.kernel.accessAllowed ? 'block' : 'none';\n",
              "\n",
              "        async function convertToInteractive(key) {\n",
              "          const element = document.querySelector('#df-f76168ef-be6a-4f8a-aefc-2453a36ecbf3');\n",
              "          const dataTable =\n",
              "            await google.colab.kernel.invokeFunction('convertToInteractive',\n",
              "                                                     [key], {});\n",
              "          if (!dataTable) return;\n",
              "\n",
              "          const docLinkHtml = 'Like what you see? Visit the ' +\n",
              "            '<a target=\"_blank\" href=https://colab.research.google.com/notebooks/data_table.ipynb>data table notebook</a>'\n",
              "            + ' to learn more about interactive tables.';\n",
              "          element.innerHTML = '';\n",
              "          dataTable['output_type'] = 'display_data';\n",
              "          await google.colab.output.renderOutput(dataTable, element);\n",
              "          const docLink = document.createElement('div');\n",
              "          docLink.innerHTML = docLinkHtml;\n",
              "          element.appendChild(docLink);\n",
              "        }\n",
              "      </script>\n",
              "    </div>\n",
              "  </div>\n",
              "  "
            ]
          },
          "metadata": {},
          "execution_count": 190
        }
      ],
      "source": [
        "df.head()"
      ]
    },
    {
      "cell_type": "code",
      "execution_count": 191,
      "id": "5d2ca258",
      "metadata": {
        "id": "5d2ca258",
        "outputId": "5b898009-d182-4f54-a6dd-89dad8a8ae0f",
        "colab": {
          "base_uri": "https://localhost:8080/"
        }
      },
      "outputs": [
        {
          "output_type": "execute_result",
          "data": {
            "text/plain": [
              "(7999, 21)"
            ]
          },
          "metadata": {},
          "execution_count": 191
        }
      ],
      "source": [
        "df.shape"
      ]
    },
    {
      "cell_type": "code",
      "execution_count": 192,
      "id": "49e79662",
      "metadata": {
        "id": "49e79662",
        "outputId": "291db50b-f43f-41c7-8275-4342ecd5b4f4",
        "colab": {
          "base_uri": "https://localhost:8080/"
        }
      },
      "outputs": [
        {
          "output_type": "execute_result",
          "data": {
            "text/plain": [
              "aluminium      0\n",
              "ammonia        0\n",
              "arsenic        0\n",
              "barium         0\n",
              "cadmium        0\n",
              "chloramine     0\n",
              "chromium       0\n",
              "copper         0\n",
              "flouride       0\n",
              "bacteria       0\n",
              "viruses        0\n",
              "lead           0\n",
              "nitrates       0\n",
              "nitrites       0\n",
              "mercury        0\n",
              "perchlorate    0\n",
              "radium         0\n",
              "selenium       0\n",
              "silver         0\n",
              "uranium        0\n",
              "is_safe        0\n",
              "dtype: int64"
            ]
          },
          "metadata": {},
          "execution_count": 192
        }
      ],
      "source": [
        "df.isna().sum()"
      ]
    },
    {
      "cell_type": "code",
      "execution_count": 193,
      "id": "85171295",
      "metadata": {
        "id": "85171295"
      },
      "outputs": [],
      "source": [
        "df['is_safe']=df['is_safe'].map({'0':0,'1':1,'#NUM!':0})\n",
        "ammo=[]\n",
        "for i in range(len(df)):\n",
        "    s=df.loc[i,'ammonia']\n",
        "    if s=='#NUM!':\n",
        "        ammo+=[0]\n",
        "    else:\n",
        "        ammo+=[float(s)]\n",
        "df['ammonia']=ammo"
      ]
    },
    {
      "cell_type": "code",
      "execution_count": 194,
      "id": "e9f711bd",
      "metadata": {
        "id": "e9f711bd",
        "outputId": "e2dee471-e574-4ce4-e7ff-ae86021966d6",
        "colab": {
          "base_uri": "https://localhost:8080/"
        }
      },
      "outputs": [
        {
          "output_type": "execute_result",
          "data": {
            "text/plain": [
              "aluminium      0\n",
              "ammonia        0\n",
              "arsenic        0\n",
              "barium         0\n",
              "cadmium        0\n",
              "chloramine     0\n",
              "chromium       0\n",
              "copper         0\n",
              "flouride       0\n",
              "bacteria       0\n",
              "viruses        0\n",
              "lead           0\n",
              "nitrates       0\n",
              "nitrites       0\n",
              "mercury        0\n",
              "perchlorate    0\n",
              "radium         0\n",
              "selenium       0\n",
              "silver         0\n",
              "uranium        0\n",
              "is_safe        0\n",
              "dtype: int64"
            ]
          },
          "metadata": {},
          "execution_count": 194
        }
      ],
      "source": [
        "df.isna().sum()"
      ]
    },
    {
      "cell_type": "code",
      "execution_count": 195,
      "id": "321f56c9",
      "metadata": {
        "id": "321f56c9"
      },
      "outputs": [],
      "source": [
        "df = df.astype({'is_safe':'int'})"
      ]
    },
    {
      "cell_type": "markdown",
      "id": "975cce43",
      "metadata": {
        "id": "975cce43"
      },
      "source": [
        "## Ammonia column has all the values in object so we convert it to floating point"
      ]
    },
    {
      "cell_type": "code",
      "execution_count": 196,
      "id": "ec393dc2",
      "metadata": {
        "id": "ec393dc2",
        "outputId": "fb225fb9-1c36-4239-9743-892873e9ab3e",
        "colab": {
          "base_uri": "https://localhost:8080/"
        }
      },
      "outputs": [
        {
          "output_type": "execute_result",
          "data": {
            "text/plain": [
              "aluminium      float64\n",
              "ammonia        float64\n",
              "arsenic        float64\n",
              "barium         float64\n",
              "cadmium        float64\n",
              "chloramine     float64\n",
              "chromium       float64\n",
              "copper         float64\n",
              "flouride       float64\n",
              "bacteria       float64\n",
              "viruses        float64\n",
              "lead           float64\n",
              "nitrates       float64\n",
              "nitrites       float64\n",
              "mercury        float64\n",
              "perchlorate    float64\n",
              "radium         float64\n",
              "selenium       float64\n",
              "silver         float64\n",
              "uranium        float64\n",
              "is_safe          int64\n",
              "dtype: object"
            ]
          },
          "metadata": {},
          "execution_count": 196
        }
      ],
      "source": [
        "df.dtypes"
      ]
    },
    {
      "cell_type": "code",
      "execution_count": 197,
      "id": "d13c9f60",
      "metadata": {
        "id": "d13c9f60"
      },
      "outputs": [],
      "source": [
        "df[\"ammonia\"] = df[\"ammonia\"].apply(pd.to_numeric)"
      ]
    },
    {
      "cell_type": "code",
      "execution_count": 198,
      "id": "d950c85e",
      "metadata": {
        "id": "d950c85e",
        "outputId": "0c2eeff8-b1d7-4abc-fba4-d5eb316396cc",
        "colab": {
          "base_uri": "https://localhost:8080/"
        }
      },
      "outputs": [
        {
          "output_type": "execute_result",
          "data": {
            "text/plain": [
              "aluminium      float64\n",
              "ammonia        float64\n",
              "arsenic        float64\n",
              "barium         float64\n",
              "cadmium        float64\n",
              "chloramine     float64\n",
              "chromium       float64\n",
              "copper         float64\n",
              "flouride       float64\n",
              "bacteria       float64\n",
              "viruses        float64\n",
              "lead           float64\n",
              "nitrates       float64\n",
              "nitrites       float64\n",
              "mercury        float64\n",
              "perchlorate    float64\n",
              "radium         float64\n",
              "selenium       float64\n",
              "silver         float64\n",
              "uranium        float64\n",
              "is_safe          int64\n",
              "dtype: object"
            ]
          },
          "metadata": {},
          "execution_count": 198
        }
      ],
      "source": [
        "df.dtypes"
      ]
    },
    {
      "cell_type": "markdown",
      "id": "62b68612",
      "metadata": {
        "id": "62b68612"
      },
      "source": [
        "## Initialize Target Class"
      ]
    },
    {
      "cell_type": "code",
      "execution_count": 199,
      "id": "983a5b87",
      "metadata": {
        "id": "983a5b87"
      },
      "outputs": [],
      "source": [
        "target_col = \"is_safe\""
      ]
    },
    {
      "cell_type": "markdown",
      "id": "bb82d025",
      "metadata": {
        "id": "bb82d025"
      },
      "source": [
        "## There are 3 missing values in each ammonia and is_safe column. \n",
        "Assuming that concentrations of those minerals in the water sample were too small to record, we replace it with 0.\n"
      ]
    },
    {
      "cell_type": "markdown",
      "id": "74811fbc",
      "metadata": {
        "id": "74811fbc"
      },
      "source": [
        "# <font color=\"blue\">EDA</font>"
      ]
    },
    {
      "cell_type": "code",
      "execution_count": 31,
      "id": "8a331a4c",
      "metadata": {
        "id": "8a331a4c",
        "outputId": "6e28ac9e-fee8-4d6a-f65b-33ee09a681f3",
        "colab": {
          "base_uri": "https://localhost:8080/",
          "height": 964
        }
      },
      "outputs": [
        {
          "output_type": "display_data",
          "data": {
            "text/plain": [
              "<Figure size 1584x1584 with 25 Axes>"
            ],
            "image/png": "[encoded data removed]"
          },
          "metadata": {
            "needs_background": "light"
          }
        }
      ],
      "source": [
        "df.hist(figsize=(22,22))\n",
        "plt.savefig('mineral_plot.png')\n",
        "plt.show()"
      ]
    },
    {
      "cell_type": "markdown",
      "id": "a77769b4",
      "metadata": {
        "id": "a77769b4"
      },
      "source": [
        "## Ammonia"
      ]
    },
    {
      "cell_type": "code",
      "execution_count": 32,
      "id": "4dd9557f",
      "metadata": {
        "id": "4dd9557f",
        "outputId": "052c5c8d-08e5-4e24-8197-5a3dc5feaa99",
        "colab": {
          "base_uri": "https://localhost:8080/",
          "height": 281
        }
      },
      "outputs": [
        {
          "output_type": "display_data",
          "data": {
            "text/plain": [
              "<Figure size 432x288 with 1 Axes>"
            ],
            "image/png": "[encoded data removed]"
          },
          "metadata": {
            "needs_background": "light"
          }
        }
      ],
      "source": [
        "df.ammonia.plot.density(color='green')\n",
        "plt.title('Density plot for ammonia')\n",
        "plt.savefig('ammonia.png')\n",
        "plt.show()"
      ]
    },
    {
      "cell_type": "markdown",
      "id": "60943e24",
      "metadata": {
        "id": "60943e24"
      },
      "source": [
        "## Selenium"
      ]
    },
    {
      "cell_type": "code",
      "execution_count": 33,
      "id": "f7dca733",
      "metadata": {
        "id": "f7dca733",
        "outputId": "6a2020d8-b284-43ed-cdd2-1c5ccb300159",
        "colab": {
          "base_uri": "https://localhost:8080/",
          "height": 281
        }
      },
      "outputs": [
        {
          "output_type": "display_data",
          "data": {
            "text/plain": [
              "<Figure size 432x288 with 1 Axes>"
            ],
            "image/png": "[encoded data removed]"
          },
          "metadata": {
            "needs_background": "light"
          }
        }
      ],
      "source": [
        "df.selenium.plot.density(color='green')\n",
        "plt.title('Density plot for Selenium')\n",
        "plt.savefig('selenium.png')\n",
        "plt.show()"
      ]
    },
    {
      "cell_type": "markdown",
      "id": "028082e4",
      "metadata": {
        "id": "028082e4"
      },
      "source": [
        "## Uranium"
      ]
    },
    {
      "cell_type": "code",
      "execution_count": 34,
      "id": "947e82f1",
      "metadata": {
        "id": "947e82f1",
        "outputId": "fae77feb-2648-4fb9-a68f-f302b5be6489",
        "colab": {
          "base_uri": "https://localhost:8080/",
          "height": 281
        }
      },
      "outputs": [
        {
          "output_type": "display_data",
          "data": {
            "text/plain": [
              "<Figure size 432x288 with 1 Axes>"
            ],
            "image/png": "[encoded data removed]"
          },
          "metadata": {
            "needs_background": "light"
          }
        }
      ],
      "source": [
        "df.uranium.plot.density(color='green')\n",
        "plt.title('Density plot for uranium')\n",
        "plt.savefig('uranium.png')\n",
        "plt.show()"
      ]
    },
    {
      "cell_type": "markdown",
      "id": "ad213724",
      "metadata": {
        "id": "ad213724"
      },
      "source": [
        "## Correlation between features"
      ]
    },
    {
      "cell_type": "code",
      "execution_count": 35,
      "id": "18ab6b33",
      "metadata": {
        "id": "18ab6b33",
        "outputId": "83ce3d93-fca3-4bbf-a637-0fa1a0159b1f",
        "colab": {
          "base_uri": "https://localhost:8080/",
          "height": 728
        }
      },
      "outputs": [
        {
          "output_type": "execute_result",
          "data": {
            "text/plain": [
              "<pandas.io.formats.style.Styler at 0x7f6051ee8dd0>"
            ],
            "text/html": [
              "<style type=\"text/css\">\n",
              "#T_ffe4b_row0_col0, #T_ffe4b_row1_col1, #T_ffe4b_row2_col2, #T_ffe4b_row3_col3, #T_ffe4b_row4_col4, #T_ffe4b_row5_col5, #T_ffe4b_row6_col6, #T_ffe4b_row7_col7, #T_ffe4b_row8_col8, #T_ffe4b_row9_col9, #T_ffe4b_row10_col10, #T_ffe4b_row11_col11, #T_ffe4b_row12_col12, #T_ffe4b_row13_col13, #T_ffe4b_row14_col14, #T_ffe4b_row15_col15, #T_ffe4b_row16_col16, #T_ffe4b_row17_col17, #T_ffe4b_row18_col18, #T_ffe4b_row19_col19, #T_ffe4b_row20_col20 {\n",
              "  background-color: #fcfdbf;\n",
              "  color: #000000;\n",
              "}\n",
              "#T_ffe4b_row0_col1, #T_ffe4b_row0_col4, #T_ffe4b_row10_col19, #T_ffe4b_row12_col5, #T_ffe4b_row16_col7 {\n",
              "  background-color: #1c1044;\n",
              "  color: #f1f1f1;\n",
              "}\n",
              "#T_ffe4b_row0_col2, #T_ffe4b_row0_col16, #T_ffe4b_row9_col13, #T_ffe4b_row13_col9, #T_ffe4b_row16_col0 {\n",
              "  background-color: #681c81;\n",
              "  color: #f1f1f1;\n",
              "}\n",
              "#T_ffe4b_row0_col3 {\n",
              "  background-color: #6d1d81;\n",
              "  color: #f1f1f1;\n",
              "}\n",
              "#T_ffe4b_row0_col5, #T_ffe4b_row0_col15 {\n",
              "  background-color: #a02f7f;\n",
              "  color: #f1f1f1;\n",
              "}\n",
              "#T_ffe4b_row0_col6, #T_ffe4b_row2_col5, #T_ffe4b_row6_col3, #T_ffe4b_row16_col18 {\n",
              "  background-color: #9c2e7f;\n",
              "  color: #f1f1f1;\n",
              "}\n",
              "#T_ffe4b_row0_col7 {\n",
              "  background-color: #51127c;\n",
              "  color: #f1f1f1;\n",
              "}\n",
              "#T_ffe4b_row0_col8, #T_ffe4b_row12_col8, #T_ffe4b_row12_col14, #T_ffe4b_row13_col14 {\n",
              "  background-color: #020109;\n",
              "  color: #f1f1f1;\n",
              "}\n",
              "#T_ffe4b_row0_col9, #T_ffe4b_row5_col14, #T_ffe4b_row6_col14, #T_ffe4b_row18_col17, #T_ffe4b_row19_col17 {\n",
              "  background-color: #010108;\n",
              "  color: #f1f1f1;\n",
              "}\n",
              "#T_ffe4b_row0_col10, #T_ffe4b_row1_col13, #T_ffe4b_row2_col17, #T_ffe4b_row6_col8, #T_ffe4b_row9_col17, #T_ffe4b_row10_col0, #T_ffe4b_row10_col12, #T_ffe4b_row11_col1 {\n",
              "  background-color: #02020d;\n",
              "  color: #f1f1f1;\n",
              "}\n",
              "#T_ffe4b_row0_col11, #T_ffe4b_row2_col10, #T_ffe4b_row11_col5, #T_ffe4b_row11_col12, #T_ffe4b_row12_col7, #T_ffe4b_row12_col13, #T_ffe4b_row14_col10, #T_ffe4b_row14_col19, #T_ffe4b_row18_col10 {\n",
              "  background-color: #140e36;\n",
              "  color: #f1f1f1;\n",
              "}\n",
              "#T_ffe4b_row0_col12, #T_ffe4b_row1_col17, #T_ffe4b_row2_col7, #T_ffe4b_row4_col19, #T_ffe4b_row5_col12, #T_ffe4b_row5_col19, #T_ffe4b_row6_col17, #T_ffe4b_row6_col19, #T_ffe4b_row11_col17, #T_ffe4b_row12_col1, #T_ffe4b_row19_col14, #T_ffe4b_row20_col9 {\n",
              "  background-color: #0a0822;\n",
              "  color: #f1f1f1;\n",
              "}\n",
              "#T_ffe4b_row0_col13, #T_ffe4b_row16_col2 {\n",
              "  background-color: #651a80;\n",
              "  color: #f1f1f1;\n",
              "}\n",
              "#T_ffe4b_row0_col14, #T_ffe4b_row4_col8, #T_ffe4b_row5_col8, #T_ffe4b_row6_col11, #T_ffe4b_row8_col1, #T_ffe4b_row8_col14, #T_ffe4b_row9_col14, #T_ffe4b_row11_col2, #T_ffe4b_row13_col11, #T_ffe4b_row16_col8, #T_ffe4b_row20_col8 {\n",
              "  background-color: #030312;\n",
              "  color: #f1f1f1;\n",
              "}\n",
              "#T_ffe4b_row0_col17, #T_ffe4b_row2_col8, #T_ffe4b_row7_col17, #T_ffe4b_row11_col14, #T_ffe4b_row12_col3, #T_ffe4b_row18_col11 {\n",
              "  background-color: #03030f;\n",
              "  color: #f1f1f1;\n",
              "}\n",
              "#T_ffe4b_row0_col18, #T_ffe4b_row13_col18 {\n",
              "  background-color: #962c80;\n",
              "  color: #f1f1f1;\n",
              "}\n",
              "#T_ffe4b_row0_col19, #T_ffe4b_row1_col19, #T_ffe4b_row11_col18, #T_ffe4b_row13_col12, #T_ffe4b_row15_col4 {\n",
              "  background-color: #100b2d;\n",
              "  color: #f1f1f1;\n",
              "}\n",
              "#T_ffe4b_row0_col20, #T_ffe4b_row2_col4, #T_ffe4b_row5_col3 {\n",
              "  background-color: #aa337d;\n",
              "  color: #f1f1f1;\n",
              "}\n",
              "#T_ffe4b_row1_col0, #T_ffe4b_row1_col2, #T_ffe4b_row20_col16 {\n",
              "  background-color: #251255;\n",
              "  color: #f1f1f1;\n",
              "}\n",
              "#T_ffe4b_row1_col3, #T_ffe4b_row2_col20, #T_ffe4b_row4_col10, #T_ffe4b_row8_col7, #T_ffe4b_row11_col15, #T_ffe4b_row14_col5, #T_ffe4b_row16_col1, #T_ffe4b_row17_col12, #T_ffe4b_row19_col16 {\n",
              "  background-color: #160f3b;\n",
              "  color: #f1f1f1;\n",
              "}\n",
              "#T_ffe4b_row1_col4, #T_ffe4b_row11_col20, #T_ffe4b_row19_col4, #T_ffe4b_row20_col15 {\n",
              "  background-color: #390f6e;\n",
              "  color: #f1f1f1;\n",
              "}\n",
              "#T_ffe4b_row1_col5 {\n",
              "  background-color: #420f75;\n",
              "  color: #f1f1f1;\n",
              "}\n",
              "#T_ffe4b_row1_col6, #T_ffe4b_row7_col0, #T_ffe4b_row13_col7 {\n",
              "  background-color: #4e117b;\n",
              "  color: #f1f1f1;\n",
              "}\n",
              "#T_ffe4b_row1_col7, #T_ffe4b_row8_col2, #T_ffe4b_row9_col19, #T_ffe4b_row11_col0, #T_ffe4b_row12_col11, #T_ffe4b_row17_col11, #T_ffe4b_row19_col2 {\n",
              "  background-color: #180f3d;\n",
              "  color: #f1f1f1;\n",
              "}\n",
              "#T_ffe4b_row1_col8, #T_ffe4b_row2_col11, #T_ffe4b_row4_col0, #T_ffe4b_row4_col5, #T_ffe4b_row4_col6, #T_ffe4b_row4_col7, #T_ffe4b_row4_col9, #T_ffe4b_row4_col15, #T_ffe4b_row4_col16, #T_ffe4b_row4_col18, #T_ffe4b_row4_col20, #T_ffe4b_row10_col13, #T_ffe4b_row10_col17, #T_ffe4b_row11_col3, #T_ffe4b_row13_col1, #T_ffe4b_row20_col2, #T_ffe4b_row20_col4, #T_ffe4b_row20_col10, #T_ffe4b_row20_col12, #T_ffe4b_row20_col14, #T_ffe4b_row20_col19 {\n",
              "  background-color: #000004;\n",
              "  color: #f1f1f1;\n",
              "}\n",
              "#T_ffe4b_row1_col9, #T_ffe4b_row9_col2, #T_ffe4b_row17_col15, #T_ffe4b_row19_col10, #T_ffe4b_row19_col18, #T_ffe4b_row19_col20 {\n",
              "  background-color: #221150;\n",
              "  color: #f1f1f1;\n",
              "}\n",
              "#T_ffe4b_row1_col10, #T_ffe4b_row1_col20, #T_ffe4b_row9_col20 {\n",
              "  background-color: #341069;\n",
              "  color: #f1f1f1;\n",
              "}\n",
              "#T_ffe4b_row1_col11, #T_ffe4b_row4_col17, #T_ffe4b_row5_col17, #T_ffe4b_row10_col8, #T_ffe4b_row10_col14, #T_ffe4b_row11_col16, #T_ffe4b_row13_col17, #T_ffe4b_row19_col8 {\n",
              "  background-color: #060518;\n",
              "  color: #f1f1f1;\n",
              "}\n",
              "#T_ffe4b_row1_col12, #T_ffe4b_row2_col19, #T_ffe4b_row10_col16, #T_ffe4b_row12_col16, #T_ffe4b_row12_col19, #T_ffe4b_row14_col11, #T_ffe4b_row15_col19, #T_ffe4b_row18_col12, #T_ffe4b_row19_col1, #T_ffe4b_row19_col11, #T_ffe4b_row20_col11 {\n",
              "  background-color: #0c0926;\n",
              "  color: #f1f1f1;\n",
              "}\n",
              "#T_ffe4b_row1_col14, #T_ffe4b_row3_col12, #T_ffe4b_row6_col12, #T_ffe4b_row8_col17, #T_ffe4b_row9_col11, #T_ffe4b_row15_col11, #T_ffe4b_row17_col10 {\n",
              "  background-color: #08071e;\n",
              "  color: #f1f1f1;\n",
              "}\n",
              "#T_ffe4b_row1_col15, #T_ffe4b_row8_col4, #T_ffe4b_row8_col20, #T_ffe4b_row11_col7 {\n",
              "  background-color: #3f0f72;\n",
              "  color: #f1f1f1;\n",
              "}\n",
              "#T_ffe4b_row1_col16, #T_ffe4b_row8_col6, #T_ffe4b_row12_col2, #T_ffe4b_row14_col15, #T_ffe4b_row17_col5 {\n",
              "  background-color: #20114b;\n",
              "  color: #f1f1f1;\n",
              "}\n",
              "#T_ffe4b_row1_col18, #T_ffe4b_row6_col7 {\n",
              "  background-color: #3b0f70;\n",
              "  color: #f1f1f1;\n",
              "}\n",
              "#T_ffe4b_row2_col0, #T_ffe4b_row20_col6 {\n",
              "  background-color: #621980;\n",
              "  color: #f1f1f1;\n",
              "}\n",
              "#T_ffe4b_row2_col1, #T_ffe4b_row7_col3, #T_ffe4b_row8_col10, #T_ffe4b_row10_col7, #T_ffe4b_row11_col10, #T_ffe4b_row17_col2, #T_ffe4b_row19_col0, #T_ffe4b_row19_col7 {\n",
              "  background-color: #150e38;\n",
              "  color: #f1f1f1;\n",
              "}\n",
              "#T_ffe4b_row2_col3, #T_ffe4b_row6_col2, #T_ffe4b_row18_col13 {\n",
              "  background-color: #882781;\n",
              "  color: #f1f1f1;\n",
              "}\n",
              "#T_ffe4b_row2_col6, #T_ffe4b_row15_col2 {\n",
              "  background-color: #8e2a81;\n",
              "  color: #f1f1f1;\n",
              "}\n",
              "#T_ffe4b_row2_col9, #T_ffe4b_row7_col4, #T_ffe4b_row7_col16, #T_ffe4b_row8_col15, #T_ffe4b_row14_col6, #T_ffe4b_row14_col7, #T_ffe4b_row17_col16 {\n",
              "  background-color: #19103f;\n",
              "  color: #f1f1f1;\n",
              "}\n",
              "#T_ffe4b_row2_col12, #T_ffe4b_row5_col10, #T_ffe4b_row6_col10, #T_ffe4b_row8_col11, #T_ffe4b_row11_col6, #T_ffe4b_row15_col10 {\n",
              "  background-color: #120d31;\n",
              "  color: #f1f1f1;\n",
              "}\n",
              "#T_ffe4b_row2_col13 {\n",
              "  background-color: #7e2482;\n",
              "  color: #f1f1f1;\n",
              "}\n",
              "#T_ffe4b_row2_col14, #T_ffe4b_row4_col14, #T_ffe4b_row8_col3, #T_ffe4b_row9_col0, #T_ffe4b_row14_col8 {\n",
              "  background-color: #02020b;\n",
              "  color: #f1f1f1;\n",
              "}\n",
              "#T_ffe4b_row2_col15, #T_ffe4b_row15_col0 {\n",
              "  background-color: #942c80;\n",
              "  color: #f1f1f1;\n",
              "}\n",
              "#T_ffe4b_row2_col16, #T_ffe4b_row18_col20 {\n",
              "  background-color: #5f187f;\n",
              "  color: #f1f1f1;\n",
              "}\n",
              "#T_ffe4b_row2_col18, #T_ffe4b_row15_col13 {\n",
              "  background-color: #8c2981;\n",
              "  color: #f1f1f1;\n",
              "}\n",
              "#T_ffe4b_row3_col0 {\n",
              "  background-color: #7b2382;\n",
              "  color: #f1f1f1;\n",
              "}\n",
              "#T_ffe4b_row3_col1, #T_ffe4b_row10_col20, #T_ffe4b_row12_col6, #T_ffe4b_row16_col4, #T_ffe4b_row19_col9, #T_ffe4b_row20_col3, #T_ffe4b_row20_col7, #T_ffe4b_row20_col13 {\n",
              "  background-color: #1d1147;\n",
              "  color: #f1f1f1;\n",
              "}\n",
              "#T_ffe4b_row3_col2, #T_ffe4b_row5_col13, #T_ffe4b_row13_col15 {\n",
              "  background-color: #992d80;\n",
              "  color: #f1f1f1;\n",
              "}\n",
              "#T_ffe4b_row3_col4, #T_ffe4b_row11_col4, #T_ffe4b_row14_col20, #T_ffe4b_row16_col9 {\n",
              "  background-color: #2f1163;\n",
              "  color: #f1f1f1;\n",
              "}\n",
              "#T_ffe4b_row3_col5 {\n",
              "  background-color: #bd3977;\n",
              "  color: #f1f1f1;\n",
              "}\n",
              "#T_ffe4b_row3_col6 {\n",
              "  background-color: #b3367a;\n",
              "  color: #f1f1f1;\n",
              "}\n",
              "#T_ffe4b_row3_col7, #T_ffe4b_row5_col1, #T_ffe4b_row10_col1 {\n",
              "  background-color: #29115a;\n",
              "  color: #f1f1f1;\n",
              "}\n",
              "#T_ffe4b_row3_col8, #T_ffe4b_row13_col8, #T_ffe4b_row15_col8 {\n",
              "  background-color: #010106;\n",
              "  color: #f1f1f1;\n",
              "}\n",
              "#T_ffe4b_row3_col9, #T_ffe4b_row6_col1, #T_ffe4b_row17_col20, #T_ffe4b_row18_col7 {\n",
              "  background-color: #311165;\n",
              "  color: #f1f1f1;\n",
              "}\n",
              "#T_ffe4b_row3_col10, #T_ffe4b_row4_col12, #T_ffe4b_row5_col4, #T_ffe4b_row8_col19, #T_ffe4b_row12_col0, #T_ffe4b_row14_col0, #T_ffe4b_row16_col19, #T_ffe4b_row17_col0, #T_ffe4b_row17_col1 {\n",
              "  background-color: #110c2f;\n",
              "  color: #f1f1f1;\n",
              "}\n",
              "#T_ffe4b_row3_col11, #T_ffe4b_row3_col14, #T_ffe4b_row9_col8, #T_ffe4b_row11_col8, #T_ffe4b_row15_col14, #T_ffe4b_row18_col8, #T_ffe4b_row18_col14 {\n",
              "  background-color: #050416;\n",
              "  color: #f1f1f1;\n",
              "}\n",
              "#T_ffe4b_row3_col13 {\n",
              "  background-color: #802582;\n",
              "  color: #f1f1f1;\n",
              "}\n",
              "#T_ffe4b_row3_col15 {\n",
              "  background-color: #c43c75;\n",
              "  color: #f1f1f1;\n",
              "}\n",
              "#T_ffe4b_row3_col16, #T_ffe4b_row6_col20 {\n",
              "  background-color: #782281;\n",
              "  color: #f1f1f1;\n",
              "}\n",
              "#T_ffe4b_row3_col17, #T_ffe4b_row3_col19, #T_ffe4b_row4_col13, #T_ffe4b_row7_col12, #T_ffe4b_row8_col13, #T_ffe4b_row14_col13, #T_ffe4b_row14_col17, #T_ffe4b_row16_col10, #T_ffe4b_row16_col14, #T_ffe4b_row17_col14, #T_ffe4b_row19_col12 {\n",
              "  background-color: #0b0924;\n",
              "  color: #f1f1f1;\n",
              "}\n",
              "#T_ffe4b_row3_col18 {\n",
              "  background-color: #ba3878;\n",
              "  color: #f1f1f1;\n",
              "}\n",
              "#T_ffe4b_row3_col20 {\n",
              "  background-color: #5a167e;\n",
              "  color: #f1f1f1;\n",
              "}\n",
              "#T_ffe4b_row4_col1, #T_ffe4b_row5_col11, #T_ffe4b_row7_col14, #T_ffe4b_row12_col9, #T_ffe4b_row15_col12 {\n",
              "  background-color: #07061c;\n",
              "  color: #f1f1f1;\n",
              "}\n",
              "#T_ffe4b_row4_col2, #T_ffe4b_row16_col6 {\n",
              "  background-color: #902a81;\n",
              "  color: #f1f1f1;\n",
              "}\n",
              "#T_ffe4b_row4_col3, #T_ffe4b_row13_col10, #T_ffe4b_row20_col17 {\n",
              "  background-color: #010005;\n",
              "  color: #f1f1f1;\n",
              "}\n",
              "#T_ffe4b_row4_col11, #T_ffe4b_row12_col10, #T_ffe4b_row14_col3, #T_ffe4b_row14_col12, #T_ffe4b_row15_col17, #T_ffe4b_row16_col12, #T_ffe4b_row17_col8, #T_ffe4b_row17_col19 {\n",
              "  background-color: #06051a;\n",
              "  color: #f1f1f1;\n",
              "}\n",
              "#T_ffe4b_row5_col0, #T_ffe4b_row5_col2, #T_ffe4b_row13_col6, #T_ffe4b_row15_col16 {\n",
              "  background-color: #982d80;\n",
              "  color: #f1f1f1;\n",
              "}\n",
              "#T_ffe4b_row5_col6 {\n",
              "  background-color: #e34e65;\n",
              "  color: #f1f1f1;\n",
              "}\n",
              "#T_ffe4b_row5_col7 {\n",
              "  background-color: #3d0f71;\n",
              "  color: #f1f1f1;\n",
              "}\n",
              "#T_ffe4b_row5_col9, #T_ffe4b_row20_col18 {\n",
              "  background-color: #451077;\n",
              "  color: #f1f1f1;\n",
              "}\n",
              "#T_ffe4b_row5_col15 {\n",
              "  background-color: #eb5760;\n",
              "  color: #f1f1f1;\n",
              "}\n",
              "#T_ffe4b_row5_col16 {\n",
              "  background-color: #9e2f7f;\n",
              "  color: #f1f1f1;\n",
              "}\n",
              "#T_ffe4b_row5_col18, #T_ffe4b_row6_col15, #T_ffe4b_row15_col6 {\n",
              "  background-color: #d9466b;\n",
              "  color: #f1f1f1;\n",
              "}\n",
              "#T_ffe4b_row5_col20 {\n",
              "  background-color: #792282;\n",
              "  color: #f1f1f1;\n",
              "}\n",
              "#T_ffe4b_row6_col0, #T_ffe4b_row18_col16 {\n",
              "  background-color: #912b81;\n",
              "  color: #f1f1f1;\n",
              "}\n",
              "#T_ffe4b_row6_col4, #T_ffe4b_row8_col0, #T_ffe4b_row14_col1, #T_ffe4b_row14_col9, #T_ffe4b_row17_col9, #T_ffe4b_row18_col4 {\n",
              "  background-color: #0e0b2b;\n",
              "  color: #f1f1f1;\n",
              "}\n",
              "#T_ffe4b_row6_col5 {\n",
              "  background-color: #e24d66;\n",
              "  color: #f1f1f1;\n",
              "}\n",
              "#T_ffe4b_row6_col9, #T_ffe4b_row7_col18, #T_ffe4b_row17_col4 {\n",
              "  background-color: #400f74;\n",
              "  color: #f1f1f1;\n",
              "}\n",
              "#T_ffe4b_row6_col13, #T_ffe4b_row20_col0 {\n",
              "  background-color: #892881;\n",
              "  color: #f1f1f1;\n",
              "}\n",
              "#T_ffe4b_row6_col16 {\n",
              "  background-color: #832681;\n",
              "  color: #f1f1f1;\n",
              "}\n",
              "#T_ffe4b_row6_col18, #T_ffe4b_row18_col6 {\n",
              "  background-color: #d5446d;\n",
              "  color: #f1f1f1;\n",
              "}\n",
              "#T_ffe4b_row7_col1, #T_ffe4b_row7_col2, #T_ffe4b_row7_col19, #T_ffe4b_row12_col17, #T_ffe4b_row17_col3, #T_ffe4b_row18_col19, #T_ffe4b_row19_col13 {\n",
              "  background-color: #0d0a29;\n",
              "  color: #f1f1f1;\n",
              "}\n",
              "#T_ffe4b_row7_col5, #T_ffe4b_row7_col20 {\n",
              "  background-color: #471078;\n",
              "  color: #f1f1f1;\n",
              "}\n",
              "#T_ffe4b_row7_col6, #T_ffe4b_row7_col13, #T_ffe4b_row9_col7 {\n",
              "  background-color: #491078;\n",
              "  color: #f1f1f1;\n",
              "}\n",
              "#T_ffe4b_row7_col8, #T_ffe4b_row9_col12, #T_ffe4b_row10_col3, #T_ffe4b_row11_col13, #T_ffe4b_row16_col11, #T_ffe4b_row19_col3, #T_ffe4b_row20_col1 {\n",
              "  background-color: #040414;\n",
              "  color: #f1f1f1;\n",
              "}\n",
              "#T_ffe4b_row7_col9, #T_ffe4b_row7_col15, #T_ffe4b_row10_col4, #T_ffe4b_row12_col4, #T_ffe4b_row15_col9, #T_ffe4b_row18_col9 {\n",
              "  background-color: #440f76;\n",
              "  color: #f1f1f1;\n",
              "}\n",
              "#T_ffe4b_row7_col10, #T_ffe4b_row8_col9, #T_ffe4b_row8_col16, #T_ffe4b_row10_col11, #T_ffe4b_row14_col2, #T_ffe4b_row17_col7, #T_ffe4b_row17_col13 {\n",
              "  background-color: #130d34;\n",
              "  color: #f1f1f1;\n",
              "}\n",
              "#T_ffe4b_row7_col11, #T_ffe4b_row15_col7 {\n",
              "  background-color: #38106c;\n",
              "  color: #f1f1f1;\n",
              "}\n",
              "#T_ffe4b_row8_col5, #T_ffe4b_row9_col4, #T_ffe4b_row10_col5, #T_ffe4b_row10_col15, #T_ffe4b_row18_col1, #T_ffe4b_row19_col6, #T_ffe4b_row19_col15 {\n",
              "  background-color: #1e1149;\n",
              "  color: #f1f1f1;\n",
              "}\n",
              "#T_ffe4b_row8_col12, #T_ffe4b_row11_col9, #T_ffe4b_row11_col19, #T_ffe4b_row13_col19, #T_ffe4b_row16_col17 {\n",
              "  background-color: #090720;\n",
              "  color: #f1f1f1;\n",
              "}\n",
              "#T_ffe4b_row8_col18, #T_ffe4b_row10_col18, #T_ffe4b_row12_col20, #T_ffe4b_row15_col1 {\n",
              "  background-color: #241253;\n",
              "  color: #f1f1f1;\n",
              "}\n",
              "#T_ffe4b_row9_col1, #T_ffe4b_row10_col2, #T_ffe4b_row12_col15, #T_ffe4b_row14_col16, #T_ffe4b_row17_col18, #T_ffe4b_row19_col5 {\n",
              "  background-color: #1a1042;\n",
              "  color: #f1f1f1;\n",
              "}\n",
              "#T_ffe4b_row9_col3, #T_ffe4b_row10_col6, #T_ffe4b_row12_col18, #T_ffe4b_row14_col18 {\n",
              "  background-color: #21114e;\n",
              "  color: #f1f1f1;\n",
              "}\n",
              "#T_ffe4b_row9_col5, #T_ffe4b_row9_col6, #T_ffe4b_row9_col15 {\n",
              "  background-color: #54137d;\n",
              "  color: #f1f1f1;\n",
              "}\n",
              "#T_ffe4b_row9_col10, #T_ffe4b_row10_col9 {\n",
              "  background-color: #ed5a5f;\n",
              "  color: #f1f1f1;\n",
              "}\n",
              "#T_ffe4b_row9_col16 {\n",
              "  background-color: #331067;\n",
              "  color: #f1f1f1;\n",
              "}\n",
              "#T_ffe4b_row9_col18, #T_ffe4b_row15_col20 {\n",
              "  background-color: #56147d;\n",
              "  color: #f1f1f1;\n",
              "}\n",
              "#T_ffe4b_row13_col0 {\n",
              "  background-color: #671b80;\n",
              "  color: #f1f1f1;\n",
              "}\n",
              "#T_ffe4b_row13_col2 {\n",
              "  background-color: #842681;\n",
              "  color: #f1f1f1;\n",
              "}\n",
              "#T_ffe4b_row13_col3 {\n",
              "  background-color: #752181;\n",
              "  color: #f1f1f1;\n",
              "}\n",
              "#T_ffe4b_row13_col4, #T_ffe4b_row14_col4 {\n",
              "  background-color: #36106b;\n",
              "  color: #f1f1f1;\n",
              "}\n",
              "#T_ffe4b_row13_col5 {\n",
              "  background-color: #a5317e;\n",
              "  color: #f1f1f1;\n",
              "}\n",
              "#T_ffe4b_row13_col16 {\n",
              "  background-color: #732081;\n",
              "  color: #f1f1f1;\n",
              "}\n",
              "#T_ffe4b_row13_col20 {\n",
              "  background-color: #4c117a;\n",
              "  color: #f1f1f1;\n",
              "}\n",
              "#T_ffe4b_row15_col3 {\n",
              "  background-color: #ae347b;\n",
              "  color: #f1f1f1;\n",
              "}\n",
              "#T_ffe4b_row15_col5 {\n",
              "  background-color: #ea5661;\n",
              "  color: #f1f1f1;\n",
              "}\n",
              "#T_ffe4b_row15_col18 {\n",
              "  background-color: #d3436e;\n",
              "  color: #f1f1f1;\n",
              "}\n",
              "#T_ffe4b_row16_col3 {\n",
              "  background-color: #6a1c81;\n",
              "  color: #f1f1f1;\n",
              "}\n",
              "#T_ffe4b_row16_col5 {\n",
              "  background-color: #a8327d;\n",
              "  color: #f1f1f1;\n",
              "}\n",
              "#T_ffe4b_row16_col13 {\n",
              "  background-color: #721f81;\n",
              "  color: #f1f1f1;\n",
              "}\n",
              "#T_ffe4b_row16_col15, #T_ffe4b_row18_col3 {\n",
              "  background-color: #a3307e;\n",
              "  color: #f1f1f1;\n",
              "}\n",
              "#T_ffe4b_row16_col20 {\n",
              "  background-color: #52137c;\n",
              "  color: #f1f1f1;\n",
              "}\n",
              "#T_ffe4b_row17_col6 {\n",
              "  background-color: #2a115c;\n",
              "  color: #f1f1f1;\n",
              "}\n",
              "#T_ffe4b_row18_col0 {\n",
              "  background-color: #8b2981;\n",
              "  color: #f1f1f1;\n",
              "}\n",
              "#T_ffe4b_row18_col2 {\n",
              "  background-color: #862781;\n",
              "  color: #f1f1f1;\n",
              "}\n",
              "#T_ffe4b_row18_col5 {\n",
              "  background-color: #d8456c;\n",
              "  color: #f1f1f1;\n",
              "}\n",
              "#T_ffe4b_row18_col15 {\n",
              "  background-color: #d2426f;\n",
              "  color: #f1f1f1;\n",
              "}\n",
              "#T_ffe4b_row20_col5 {\n",
              "  background-color: #601880;\n",
              "  color: #f1f1f1;\n",
              "}\n",
              "</style>\n",
              "<table id=\"T_ffe4b_\" class=\"dataframe\">\n",
              "  <thead>\n",
              "    <tr>\n",
              "      <th class=\"blank level0\" >&nbsp;</th>\n",
              "      <th class=\"col_heading level0 col0\" >aluminium</th>\n",
              "      <th class=\"col_heading level0 col1\" >ammonia</th>\n",
              "      <th class=\"col_heading level0 col2\" >arsenic</th>\n",
              "      <th class=\"col_heading level0 col3\" >barium</th>\n",
              "      <th class=\"col_heading level0 col4\" >cadmium</th>\n",
              "      <th class=\"col_heading level0 col5\" >chloramine</th>\n",
              "      <th class=\"col_heading level0 col6\" >chromium</th>\n",
              "      <th class=\"col_heading level0 col7\" >copper</th>\n",
              "      <th class=\"col_heading level0 col8\" >flouride</th>\n",
              "      <th class=\"col_heading level0 col9\" >bacteria</th>\n",
              "      <th class=\"col_heading level0 col10\" >viruses</th>\n",
              "      <th class=\"col_heading level0 col11\" >lead</th>\n",
              "      <th class=\"col_heading level0 col12\" >nitrates</th>\n",
              "      <th class=\"col_heading level0 col13\" >nitrites</th>\n",
              "      <th class=\"col_heading level0 col14\" >mercury</th>\n",
              "      <th class=\"col_heading level0 col15\" >perchlorate</th>\n",
              "      <th class=\"col_heading level0 col16\" >radium</th>\n",
              "      <th class=\"col_heading level0 col17\" >selenium</th>\n",
              "      <th class=\"col_heading level0 col18\" >silver</th>\n",
              "      <th class=\"col_heading level0 col19\" >uranium</th>\n",
              "      <th class=\"col_heading level0 col20\" >is_safe</th>\n",
              "    </tr>\n",
              "  </thead>\n",
              "  <tbody>\n",
              "    <tr>\n",
              "      <th id=\"T_ffe4b_level0_row0\" class=\"row_heading level0 row0\" >aluminium</th>\n",
              "      <td id=\"T_ffe4b_row0_col0\" class=\"data row0 col0\" >1.000000</td>\n",
              "      <td id=\"T_ffe4b_row0_col1\" class=\"data row0 col1\" >0.067369</td>\n",
              "      <td id=\"T_ffe4b_row0_col2\" class=\"data row0 col2\" >0.225725</td>\n",
              "      <td id=\"T_ffe4b_row0_col3\" class=\"data row0 col3\" >0.294091</td>\n",
              "      <td id=\"T_ffe4b_row0_col4\" class=\"data row0 col4\" >-0.099902</td>\n",
              "      <td id=\"T_ffe4b_row0_col5\" class=\"data row0 col5\" >0.369221</td>\n",
              "      <td id=\"T_ffe4b_row0_col6\" class=\"data row0 col6\" >0.353134</td>\n",
              "      <td id=\"T_ffe4b_row0_col7\" class=\"data row0 col7\" >0.168569</td>\n",
              "      <td id=\"T_ffe4b_row0_col8\" class=\"data row0 col8\" >-0.009877</td>\n",
              "      <td id=\"T_ffe4b_row0_col9\" class=\"data row0 col9\" >-0.078324</td>\n",
              "      <td id=\"T_ffe4b_row0_col10\" class=\"data row0 col10\" >-0.071040</td>\n",
              "      <td id=\"T_ffe4b_row0_col11\" class=\"data row0 col11\" >0.020957</td>\n",
              "      <td id=\"T_ffe4b_row0_col12\" class=\"data row0 col12\" >-0.003851</td>\n",
              "      <td id=\"T_ffe4b_row0_col13\" class=\"data row0 col13\" >0.237439</td>\n",
              "      <td id=\"T_ffe4b_row0_col14\" class=\"data row0 col14\" >-0.003129</td>\n",
              "      <td id=\"T_ffe4b_row0_col15\" class=\"data row0 col15\" >0.362986</td>\n",
              "      <td id=\"T_ffe4b_row0_col16\" class=\"data row0 col16\" >0.243396</td>\n",
              "      <td id=\"T_ffe4b_row0_col17\" class=\"data row0 col17\" >-0.003651</td>\n",
              "      <td id=\"T_ffe4b_row0_col18\" class=\"data row0 col18\" >0.334923</td>\n",
              "      <td id=\"T_ffe4b_row0_col19\" class=\"data row0 col19\" >0.014723</td>\n",
              "      <td id=\"T_ffe4b_row0_col20\" class=\"data row0 col20\" >0.333974</td>\n",
              "    </tr>\n",
              "    <tr>\n",
              "      <th id=\"T_ffe4b_level0_row1\" class=\"row_heading level0 row1\" >ammonia</th>\n",
              "      <td id=\"T_ffe4b_row1_col0\" class=\"data row1 col0\" >0.067369</td>\n",
              "      <td id=\"T_ffe4b_row1_col1\" class=\"data row1 col1\" >1.000000</td>\n",
              "      <td id=\"T_ffe4b_row1_col2\" class=\"data row1 col2\" >0.046783</td>\n",
              "      <td id=\"T_ffe4b_row1_col3\" class=\"data row1 col3\" >0.070099</td>\n",
              "      <td id=\"T_ffe4b_row1_col4\" class=\"data row1 col4\" >-0.006422</td>\n",
              "      <td id=\"T_ffe4b_row1_col5\" class=\"data row1 col5\" >0.104775</td>\n",
              "      <td id=\"T_ffe4b_row1_col6\" class=\"data row1 col6\" >0.124782</td>\n",
              "      <td id=\"T_ffe4b_row1_col7\" class=\"data row1 col7\" >0.015953</td>\n",
              "      <td id=\"T_ffe4b_row1_col8\" class=\"data row1 col8\" >-0.028221</td>\n",
              "      <td id=\"T_ffe4b_row1_col9\" class=\"data row1 col9\" >0.063603</td>\n",
              "      <td id=\"T_ffe4b_row1_col10\" class=\"data row1 col10\" >0.105856</td>\n",
              "      <td id=\"T_ffe4b_row1_col11\" class=\"data row1 col11\" >-0.037065</td>\n",
              "      <td id=\"T_ffe4b_row1_col12\" class=\"data row1 col12\" >0.006483</td>\n",
              "      <td id=\"T_ffe4b_row1_col13\" class=\"data row1 col13\" >-0.063309</td>\n",
              "      <td id=\"T_ffe4b_row1_col14\" class=\"data row1 col14\" >0.020884</td>\n",
              "      <td id=\"T_ffe4b_row1_col15\" class=\"data row1 col15\" >0.090928</td>\n",
              "      <td id=\"T_ffe4b_row1_col16\" class=\"data row1 col16\" >0.050401</td>\n",
              "      <td id=\"T_ffe4b_row1_col17\" class=\"data row1 col17\" >0.029897</td>\n",
              "      <td id=\"T_ffe4b_row1_col18\" class=\"data row1 col18\" >0.075547</td>\n",
              "      <td id=\"T_ffe4b_row1_col19\" class=\"data row1 col19\" >0.014635</td>\n",
              "      <td id=\"T_ffe4b_row1_col20\" class=\"data row1 col20\" >-0.022919</td>\n",
              "    </tr>\n",
              "    <tr>\n",
              "      <th id=\"T_ffe4b_level0_row2\" class=\"row_heading level0 row2\" >arsenic</th>\n",
              "      <td id=\"T_ffe4b_row2_col0\" class=\"data row2 col0\" >0.225725</td>\n",
              "      <td id=\"T_ffe4b_row2_col1\" class=\"data row2 col1\" >0.046783</td>\n",
              "      <td id=\"T_ffe4b_row2_col2\" class=\"data row2 col2\" >1.000000</td>\n",
              "      <td id=\"T_ffe4b_row2_col3\" class=\"data row2 col3\" >0.362925</td>\n",
              "      <td id=\"T_ffe4b_row2_col4\" class=\"data row2 col4\" >0.334782</td>\n",
              "      <td id=\"T_ffe4b_row2_col5\" class=\"data row2 col5\" >0.356509</td>\n",
              "      <td id=\"T_ffe4b_row2_col6\" class=\"data row2 col6\" >0.312421</td>\n",
              "      <td id=\"T_ffe4b_row2_col7\" class=\"data row2 col7\" >-0.036488</td>\n",
              "      <td id=\"T_ffe4b_row2_col8\" class=\"data row2 col8\" >0.003731</td>\n",
              "      <td id=\"T_ffe4b_row2_col9\" class=\"data row2 col9\" >0.035642</td>\n",
              "      <td id=\"T_ffe4b_row2_col10\" class=\"data row2 col10\" >0.011596</td>\n",
              "      <td id=\"T_ffe4b_row2_col11\" class=\"data row2 col11\" >-0.087669</td>\n",
              "      <td id=\"T_ffe4b_row2_col12\" class=\"data row2 col12\" >0.027533</td>\n",
              "      <td id=\"T_ffe4b_row2_col13\" class=\"data row2 col13\" >0.305113</td>\n",
              "      <td id=\"T_ffe4b_row2_col14\" class=\"data row2 col14\" >-0.015288</td>\n",
              "      <td id=\"T_ffe4b_row2_col15\" class=\"data row2 col15\" >0.332228</td>\n",
              "      <td id=\"T_ffe4b_row2_col16\" class=\"data row2 col16\" >0.218328</td>\n",
              "      <td id=\"T_ffe4b_row2_col17\" class=\"data row2 col17\" >-0.006993</td>\n",
              "      <td id=\"T_ffe4b_row2_col18\" class=\"data row2 col18\" >0.307794</td>\n",
              "      <td id=\"T_ffe4b_row2_col19\" class=\"data row2 col19\" >0.001469</td>\n",
              "      <td id=\"T_ffe4b_row2_col20\" class=\"data row2 col20\" >-0.123362</td>\n",
              "    </tr>\n",
              "    <tr>\n",
              "      <th id=\"T_ffe4b_level0_row3\" class=\"row_heading level0 row3\" >barium</th>\n",
              "      <td id=\"T_ffe4b_row3_col0\" class=\"data row3 col0\" >0.294091</td>\n",
              "      <td id=\"T_ffe4b_row3_col1\" class=\"data row3 col1\" >0.070099</td>\n",
              "      <td id=\"T_ffe4b_row3_col2\" class=\"data row3 col2\" >0.362925</td>\n",
              "      <td id=\"T_ffe4b_row3_col3\" class=\"data row3 col3\" >1.000000</td>\n",
              "      <td id=\"T_ffe4b_row3_col4\" class=\"data row3 col4\" >-0.037901</td>\n",
              "      <td id=\"T_ffe4b_row3_col5\" class=\"data row3 col5\" >0.446869</td>\n",
              "      <td id=\"T_ffe4b_row3_col6\" class=\"data row3 col6\" >0.415937</td>\n",
              "      <td id=\"T_ffe4b_row3_col7\" class=\"data row3 col7\" >0.065277</td>\n",
              "      <td id=\"T_ffe4b_row3_col8\" class=\"data row3 col8\" >-0.018637</td>\n",
              "      <td id=\"T_ffe4b_row3_col9\" class=\"data row3 col9\" >0.101304</td>\n",
              "      <td id=\"T_ffe4b_row3_col10\" class=\"data row3 col10\" >-0.002429</td>\n",
              "      <td id=\"T_ffe4b_row3_col11\" class=\"data row3 col11\" >-0.042829</td>\n",
              "      <td id=\"T_ffe4b_row3_col12\" class=\"data row3 col12\" >-0.011423</td>\n",
              "      <td id=\"T_ffe4b_row3_col13\" class=\"data row3 col13\" >0.312783</td>\n",
              "      <td id=\"T_ffe4b_row3_col14\" class=\"data row3 col14\" >0.006165</td>\n",
              "      <td id=\"T_ffe4b_row3_col15\" class=\"data row3 col15\" >0.462207</td>\n",
              "      <td id=\"T_ffe4b_row3_col16\" class=\"data row3 col16\" >0.286890</td>\n",
              "      <td id=\"T_ffe4b_row3_col17\" class=\"data row3 col17\" >0.035222</td>\n",
              "      <td id=\"T_ffe4b_row3_col18\" class=\"data row3 col18\" >0.431542</td>\n",
              "      <td id=\"T_ffe4b_row3_col19\" class=\"data row3 col19\" >-0.002541</td>\n",
              "      <td id=\"T_ffe4b_row3_col20\" class=\"data row3 col20\" >0.090858</td>\n",
              "    </tr>\n",
              "    <tr>\n",
              "      <th id=\"T_ffe4b_level0_row4\" class=\"row_heading level0 row4\" >cadmium</th>\n",
              "      <td id=\"T_ffe4b_row4_col0\" class=\"data row4 col0\" >-0.099902</td>\n",
              "      <td id=\"T_ffe4b_row4_col1\" class=\"data row4 col1\" >-0.006422</td>\n",
              "      <td id=\"T_ffe4b_row4_col2\" class=\"data row4 col2\" >0.334782</td>\n",
              "      <td id=\"T_ffe4b_row4_col3\" class=\"data row4 col3\" >-0.037901</td>\n",
              "      <td id=\"T_ffe4b_row4_col4\" class=\"data row4 col4\" >1.000000</td>\n",
              "      <td id=\"T_ffe4b_row4_col5\" class=\"data row4 col5\" >-0.144366</td>\n",
              "      <td id=\"T_ffe4b_row4_col6\" class=\"data row4 col6\" >-0.157716</td>\n",
              "      <td id=\"T_ffe4b_row4_col7\" class=\"data row4 col7\" >-0.109252</td>\n",
              "      <td id=\"T_ffe4b_row4_col8\" class=\"data row4 col8\" >0.005005</td>\n",
              "      <td id=\"T_ffe4b_row4_col9\" class=\"data row4 col9\" >-0.092133</td>\n",
              "      <td id=\"T_ffe4b_row4_col10\" class=\"data row4 col10\" >0.021255</td>\n",
              "      <td id=\"T_ffe4b_row4_col11\" class=\"data row4 col11\" >-0.035313</td>\n",
              "      <td id=\"T_ffe4b_row4_col12\" class=\"data row4 col12\" >0.020232</td>\n",
              "      <td id=\"T_ffe4b_row4_col13\" class=\"data row4 col13\" >-0.015829</td>\n",
              "      <td id=\"T_ffe4b_row4_col14\" class=\"data row4 col14\" >-0.016169</td>\n",
              "      <td id=\"T_ffe4b_row4_col15\" class=\"data row4 col15\" >-0.149269</td>\n",
              "      <td id=\"T_ffe4b_row4_col16\" class=\"data row4 col16\" >-0.098936</td>\n",
              "      <td id=\"T_ffe4b_row4_col17\" class=\"data row4 col17\" >0.009933</td>\n",
              "      <td id=\"T_ffe4b_row4_col18\" class=\"data row4 col18\" >-0.155441</td>\n",
              "      <td id=\"T_ffe4b_row4_col19\" class=\"data row4 col19\" >-0.005911</td>\n",
              "      <td id=\"T_ffe4b_row4_col20\" class=\"data row4 col20\" >-0.256034</td>\n",
              "    </tr>\n",
              "    <tr>\n",
              "      <th id=\"T_ffe4b_level0_row5\" class=\"row_heading level0 row5\" >chloramine</th>\n",
              "      <td id=\"T_ffe4b_row5_col0\" class=\"data row5 col0\" >0.369221</td>\n",
              "      <td id=\"T_ffe4b_row5_col1\" class=\"data row5 col1\" >0.104775</td>\n",
              "      <td id=\"T_ffe4b_row5_col2\" class=\"data row5 col2\" >0.356509</td>\n",
              "      <td id=\"T_ffe4b_row5_col3\" class=\"data row5 col3\" >0.446869</td>\n",
              "      <td id=\"T_ffe4b_row5_col4\" class=\"data row5 col4\" >-0.144366</td>\n",
              "      <td id=\"T_ffe4b_row5_col5\" class=\"data row5 col5\" >1.000000</td>\n",
              "      <td id=\"T_ffe4b_row5_col6\" class=\"data row5 col6\" >0.555846</td>\n",
              "      <td id=\"T_ffe4b_row5_col7\" class=\"data row5 col7\" >0.118975</td>\n",
              "      <td id=\"T_ffe4b_row5_col8\" class=\"data row5 col8\" >0.004254</td>\n",
              "      <td id=\"T_ffe4b_row5_col9\" class=\"data row5 col9\" >0.154443</td>\n",
              "      <td id=\"T_ffe4b_row5_col10\" class=\"data row5 col10\" >0.003432</td>\n",
              "      <td id=\"T_ffe4b_row5_col11\" class=\"data row5 col11\" >-0.030241</td>\n",
              "      <td id=\"T_ffe4b_row5_col12\" class=\"data row5 col12\" >-0.001619</td>\n",
              "      <td id=\"T_ffe4b_row5_col13\" class=\"data row5 col13\" >0.379916</td>\n",
              "      <td id=\"T_ffe4b_row5_col14\" class=\"data row5 col14\" >-0.021198</td>\n",
              "      <td id=\"T_ffe4b_row5_col15\" class=\"data row5 col15\" >0.588683</td>\n",
              "      <td id=\"T_ffe4b_row5_col16\" class=\"data row5 col16\" >0.389119</td>\n",
              "      <td id=\"T_ffe4b_row5_col17\" class=\"data row5 col17\" >0.011435</td>\n",
              "      <td id=\"T_ffe4b_row5_col18\" class=\"data row5 col18\" >0.522372</td>\n",
              "      <td id=\"T_ffe4b_row5_col19\" class=\"data row5 col19\" >-0.007648</td>\n",
              "      <td id=\"T_ffe4b_row5_col20\" class=\"data row5 col20\" >0.186704</td>\n",
              "    </tr>\n",
              "    <tr>\n",
              "      <th id=\"T_ffe4b_level0_row6\" class=\"row_heading level0 row6\" >chromium</th>\n",
              "      <td id=\"T_ffe4b_row6_col0\" class=\"data row6 col0\" >0.353134</td>\n",
              "      <td id=\"T_ffe4b_row6_col1\" class=\"data row6 col1\" >0.124782</td>\n",
              "      <td id=\"T_ffe4b_row6_col2\" class=\"data row6 col2\" >0.312421</td>\n",
              "      <td id=\"T_ffe4b_row6_col3\" class=\"data row6 col3\" >0.415937</td>\n",
              "      <td id=\"T_ffe4b_row6_col4\" class=\"data row6 col4\" >-0.157716</td>\n",
              "      <td id=\"T_ffe4b_row6_col5\" class=\"data row6 col5\" >0.555846</td>\n",
              "      <td id=\"T_ffe4b_row6_col6\" class=\"data row6 col6\" >1.000000</td>\n",
              "      <td id=\"T_ffe4b_row6_col7\" class=\"data row6 col7\" >0.113003</td>\n",
              "      <td id=\"T_ffe4b_row6_col8\" class=\"data row6 col8\" >-0.002424</td>\n",
              "      <td id=\"T_ffe4b_row6_col9\" class=\"data row6 col9\" >0.141937</td>\n",
              "      <td id=\"T_ffe4b_row6_col10\" class=\"data row6 col10\" >0.002193</td>\n",
              "      <td id=\"T_ffe4b_row6_col11\" class=\"data row6 col11\" >-0.050254</td>\n",
              "      <td id=\"T_ffe4b_row6_col12\" class=\"data row6 col12\" >-0.012843</td>\n",
              "      <td id=\"T_ffe4b_row6_col13\" class=\"data row6 col13\" >0.335940</td>\n",
              "      <td id=\"T_ffe4b_row6_col14\" class=\"data row6 col14\" >-0.022541</td>\n",
              "      <td id=\"T_ffe4b_row6_col15\" class=\"data row6 col15\" >0.524432</td>\n",
              "      <td id=\"T_ffe4b_row6_col16\" class=\"data row6 col16\" >0.315484</td>\n",
              "      <td id=\"T_ffe4b_row6_col17\" class=\"data row6 col17\" >0.030598</td>\n",
              "      <td id=\"T_ffe4b_row6_col18\" class=\"data row6 col18\" >0.510705</td>\n",
              "      <td id=\"T_ffe4b_row6_col19\" class=\"data row6 col19\" >-0.005472</td>\n",
              "      <td id=\"T_ffe4b_row6_col20\" class=\"data row6 col20\" >0.182306</td>\n",
              "    </tr>\n",
              "    <tr>\n",
              "      <th id=\"T_ffe4b_level0_row7\" class=\"row_heading level0 row7\" >copper</th>\n",
              "      <td id=\"T_ffe4b_row7_col0\" class=\"data row7 col0\" >0.168569</td>\n",
              "      <td id=\"T_ffe4b_row7_col1\" class=\"data row7 col1\" >0.015953</td>\n",
              "      <td id=\"T_ffe4b_row7_col2\" class=\"data row7 col2\" >-0.036488</td>\n",
              "      <td id=\"T_ffe4b_row7_col3\" class=\"data row7 col3\" >0.065277</td>\n",
              "      <td id=\"T_ffe4b_row7_col4\" class=\"data row7 col4\" >-0.109252</td>\n",
              "      <td id=\"T_ffe4b_row7_col5\" class=\"data row7 col5\" >0.118975</td>\n",
              "      <td id=\"T_ffe4b_row7_col6\" class=\"data row7 col6\" >0.113003</td>\n",
              "      <td id=\"T_ffe4b_row7_col7\" class=\"data row7 col7\" >1.000000</td>\n",
              "      <td id=\"T_ffe4b_row7_col8\" class=\"data row7 col8\" >0.011647</td>\n",
              "      <td id=\"T_ffe4b_row7_col9\" class=\"data row7 col9\" >0.149271</td>\n",
              "      <td id=\"T_ffe4b_row7_col10\" class=\"data row7 col10\" >0.006183</td>\n",
              "      <td id=\"T_ffe4b_row7_col11\" class=\"data row7 col11\" >0.121762</td>\n",
              "      <td id=\"T_ffe4b_row7_col12\" class=\"data row7 col12\" >0.002259</td>\n",
              "      <td id=\"T_ffe4b_row7_col13\" class=\"data row7 col13\" >0.162092</td>\n",
              "      <td id=\"T_ffe4b_row7_col14\" class=\"data row7 col14\" >0.017785</td>\n",
              "      <td id=\"T_ffe4b_row7_col15\" class=\"data row7 col15\" >0.104527</td>\n",
              "      <td id=\"T_ffe4b_row7_col16\" class=\"data row7 col16\" >0.026534</td>\n",
              "      <td id=\"T_ffe4b_row7_col17\" class=\"data row7 col17\" >-0.003356</td>\n",
              "      <td id=\"T_ffe4b_row7_col18\" class=\"data row7 col18\" >0.089241</td>\n",
              "      <td id=\"T_ffe4b_row7_col19\" class=\"data row7 col19\" >0.006802</td>\n",
              "      <td id=\"T_ffe4b_row7_col20\" class=\"data row7 col20\" >0.029498</td>\n",
              "    </tr>\n",
              "    <tr>\n",
              "      <th id=\"T_ffe4b_level0_row8\" class=\"row_heading level0 row8\" >flouride</th>\n",
              "      <td id=\"T_ffe4b_row8_col0\" class=\"data row8 col0\" >-0.009877</td>\n",
              "      <td id=\"T_ffe4b_row8_col1\" class=\"data row8 col1\" >-0.028221</td>\n",
              "      <td id=\"T_ffe4b_row8_col2\" class=\"data row8 col2\" >0.003731</td>\n",
              "      <td id=\"T_ffe4b_row8_col3\" class=\"data row8 col3\" >-0.018637</td>\n",
              "      <td id=\"T_ffe4b_row8_col4\" class=\"data row8 col4\" >0.005005</td>\n",
              "      <td id=\"T_ffe4b_row8_col5\" class=\"data row8 col5\" >0.004254</td>\n",
              "      <td id=\"T_ffe4b_row8_col6\" class=\"data row8 col6\" >-0.002424</td>\n",
              "      <td id=\"T_ffe4b_row8_col7\" class=\"data row8 col7\" >0.011647</td>\n",
              "      <td id=\"T_ffe4b_row8_col8\" class=\"data row8 col8\" >1.000000</td>\n",
              "      <td id=\"T_ffe4b_row8_col9\" class=\"data row8 col9\" >0.013984</td>\n",
              "      <td id=\"T_ffe4b_row8_col10\" class=\"data row8 col10\" >0.018261</td>\n",
              "      <td id=\"T_ffe4b_row8_col11\" class=\"data row8 col11\" >0.012146</td>\n",
              "      <td id=\"T_ffe4b_row8_col12\" class=\"data row8 col12\" >-0.008245</td>\n",
              "      <td id=\"T_ffe4b_row8_col13\" class=\"data row8 col13\" >-0.016591</td>\n",
              "      <td id=\"T_ffe4b_row8_col14\" class=\"data row8 col14\" >-0.004263</td>\n",
              "      <td id=\"T_ffe4b_row8_col15\" class=\"data row8 col15\" >-0.016352</td>\n",
              "      <td id=\"T_ffe4b_row8_col16\" class=\"data row8 col16\" >0.007683</td>\n",
              "      <td id=\"T_ffe4b_row8_col17\" class=\"data row8 col17\" >0.022726</td>\n",
              "      <td id=\"T_ffe4b_row8_col18\" class=\"data row8 col18\" >0.014446</td>\n",
              "      <td id=\"T_ffe4b_row8_col19\" class=\"data row8 col19\" >0.016849</td>\n",
              "      <td id=\"T_ffe4b_row8_col20\" class=\"data row8 col20\" >0.006550</td>\n",
              "    </tr>\n",
              "    <tr>\n",
              "      <th id=\"T_ffe4b_level0_row9\" class=\"row_heading level0 row9\" >bacteria</th>\n",
              "      <td id=\"T_ffe4b_row9_col0\" class=\"data row9 col0\" >-0.078324</td>\n",
              "      <td id=\"T_ffe4b_row9_col1\" class=\"data row9 col1\" >0.063603</td>\n",
              "      <td id=\"T_ffe4b_row9_col2\" class=\"data row9 col2\" >0.035642</td>\n",
              "      <td id=\"T_ffe4b_row9_col3\" class=\"data row9 col3\" >0.101304</td>\n",
              "      <td id=\"T_ffe4b_row9_col4\" class=\"data row9 col4\" >-0.092133</td>\n",
              "      <td id=\"T_ffe4b_row9_col5\" class=\"data row9 col5\" >0.154443</td>\n",
              "      <td id=\"T_ffe4b_row9_col6\" class=\"data row9 col6\" >0.141937</td>\n",
              "      <td id=\"T_ffe4b_row9_col7\" class=\"data row9 col7\" >0.149271</td>\n",
              "      <td id=\"T_ffe4b_row9_col8\" class=\"data row9 col8\" >0.013984</td>\n",
              "      <td id=\"T_ffe4b_row9_col9\" class=\"data row9 col9\" >1.000000</td>\n",
              "      <td id=\"T_ffe4b_row9_col10\" class=\"data row9 col10\" >0.618535</td>\n",
              "      <td id=\"T_ffe4b_row9_col11\" class=\"data row9 col11\" >-0.027179</td>\n",
              "      <td id=\"T_ffe4b_row9_col12\" class=\"data row9 col12\" >-0.033993</td>\n",
              "      <td id=\"T_ffe4b_row9_col13\" class=\"data row9 col13\" >0.246463</td>\n",
              "      <td id=\"T_ffe4b_row9_col14\" class=\"data row9 col14\" >-0.004406</td>\n",
              "      <td id=\"T_ffe4b_row9_col15\" class=\"data row9 col15\" >0.147526</td>\n",
              "      <td id=\"T_ffe4b_row9_col16\" class=\"data row9 col16\" >0.099080</td>\n",
              "      <td id=\"T_ffe4b_row9_col17\" class=\"data row9 col17\" >-0.006779</td>\n",
              "      <td id=\"T_ffe4b_row9_col18\" class=\"data row9 col18\" >0.148199</td>\n",
              "      <td id=\"T_ffe4b_row9_col19\" class=\"data row9 col19\" >0.045077</td>\n",
              "      <td id=\"T_ffe4b_row9_col20\" class=\"data row9 col20\" >-0.022077</td>\n",
              "    </tr>\n",
              "    <tr>\n",
              "      <th id=\"T_ffe4b_level0_row10\" class=\"row_heading level0 row10\" >viruses</th>\n",
              "      <td id=\"T_ffe4b_row10_col0\" class=\"data row10 col0\" >-0.071040</td>\n",
              "      <td id=\"T_ffe4b_row10_col1\" class=\"data row10 col1\" >0.105856</td>\n",
              "      <td id=\"T_ffe4b_row10_col2\" class=\"data row10 col2\" >0.011596</td>\n",
              "      <td id=\"T_ffe4b_row10_col3\" class=\"data row10 col3\" >-0.002429</td>\n",
              "      <td id=\"T_ffe4b_row10_col4\" class=\"data row10 col4\" >0.021255</td>\n",
              "      <td id=\"T_ffe4b_row10_col5\" class=\"data row10 col5\" >0.003432</td>\n",
              "      <td id=\"T_ffe4b_row10_col6\" class=\"data row10 col6\" >0.002193</td>\n",
              "      <td id=\"T_ffe4b_row10_col7\" class=\"data row10 col7\" >0.006183</td>\n",
              "      <td id=\"T_ffe4b_row10_col8\" class=\"data row10 col8\" >0.018261</td>\n",
              "      <td id=\"T_ffe4b_row10_col9\" class=\"data row10 col9\" >0.618535</td>\n",
              "      <td id=\"T_ffe4b_row10_col10\" class=\"data row10 col10\" >1.000000</td>\n",
              "      <td id=\"T_ffe4b_row10_col11\" class=\"data row10 col11\" >0.017886</td>\n",
              "      <td id=\"T_ffe4b_row10_col12\" class=\"data row10 col12\" >-0.044621</td>\n",
              "      <td id=\"T_ffe4b_row10_col13\" class=\"data row10 col13\" >-0.091364</td>\n",
              "      <td id=\"T_ffe4b_row10_col14\" class=\"data row10 col14\" >0.011728</td>\n",
              "      <td id=\"T_ffe4b_row10_col15\" class=\"data row10 col15\" >0.002965</td>\n",
              "      <td id=\"T_ffe4b_row10_col16\" class=\"data row10 col16\" >-0.019955</td>\n",
              "      <td id=\"T_ffe4b_row10_col17\" class=\"data row10 col17\" >-0.035013</td>\n",
              "      <td id=\"T_ffe4b_row10_col18\" class=\"data row10 col18\" >0.011680</td>\n",
              "      <td id=\"T_ffe4b_row10_col19\" class=\"data row10 col19\" >0.058473</td>\n",
              "      <td id=\"T_ffe4b_row10_col20\" class=\"data row10 col20\" >-0.097040</td>\n",
              "    </tr>\n",
              "    <tr>\n",
              "      <th id=\"T_ffe4b_level0_row11\" class=\"row_heading level0 row11\" >lead</th>\n",
              "      <td id=\"T_ffe4b_row11_col0\" class=\"data row11 col0\" >0.020957</td>\n",
              "      <td id=\"T_ffe4b_row11_col1\" class=\"data row11 col1\" >-0.037065</td>\n",
              "      <td id=\"T_ffe4b_row11_col2\" class=\"data row11 col2\" >-0.087669</td>\n",
              "      <td id=\"T_ffe4b_row11_col3\" class=\"data row11 col3\" >-0.042829</td>\n",
              "      <td id=\"T_ffe4b_row11_col4\" class=\"data row11 col4\" >-0.035313</td>\n",
              "      <td id=\"T_ffe4b_row11_col5\" class=\"data row11 col5\" >-0.030241</td>\n",
              "      <td id=\"T_ffe4b_row11_col6\" class=\"data row11 col6\" >-0.050254</td>\n",
              "      <td id=\"T_ffe4b_row11_col7\" class=\"data row11 col7\" >0.121762</td>\n",
              "      <td id=\"T_ffe4b_row11_col8\" class=\"data row11 col8\" >0.012146</td>\n",
              "      <td id=\"T_ffe4b_row11_col9\" class=\"data row11 col9\" >-0.027179</td>\n",
              "      <td id=\"T_ffe4b_row11_col10\" class=\"data row11 col10\" >0.017886</td>\n",
              "      <td id=\"T_ffe4b_row11_col11\" class=\"data row11 col11\" >1.000000</td>\n",
              "      <td id=\"T_ffe4b_row11_col12\" class=\"data row11 col12\" >0.035095</td>\n",
              "      <td id=\"T_ffe4b_row11_col13\" class=\"data row11 col13\" >-0.052656</td>\n",
              "      <td id=\"T_ffe4b_row11_col14\" class=\"data row11 col14\" >-0.008073</td>\n",
              "      <td id=\"T_ffe4b_row11_col15\" class=\"data row11 col15\" >-0.027426</td>\n",
              "      <td id=\"T_ffe4b_row11_col16\" class=\"data row11 col16\" >-0.048623</td>\n",
              "      <td id=\"T_ffe4b_row11_col17\" class=\"data row11 col17\" >0.031694</td>\n",
              "      <td id=\"T_ffe4b_row11_col18\" class=\"data row11 col18\" >-0.057207</td>\n",
              "      <td id=\"T_ffe4b_row11_col19\" class=\"data row11 col19\" >-0.009372</td>\n",
              "      <td id=\"T_ffe4b_row11_col20\" class=\"data row11 col20\" >-0.009970</td>\n",
              "    </tr>\n",
              "    <tr>\n",
              "      <th id=\"T_ffe4b_level0_row12\" class=\"row_heading level0 row12\" >nitrates</th>\n",
              "      <td id=\"T_ffe4b_row12_col0\" class=\"data row12 col0\" >-0.003851</td>\n",
              "      <td id=\"T_ffe4b_row12_col1\" class=\"data row12 col1\" >0.006483</td>\n",
              "      <td id=\"T_ffe4b_row12_col2\" class=\"data row12 col2\" >0.027533</td>\n",
              "      <td id=\"T_ffe4b_row12_col3\" class=\"data row12 col3\" >-0.011423</td>\n",
              "      <td id=\"T_ffe4b_row12_col4\" class=\"data row12 col4\" >0.020232</td>\n",
              "      <td id=\"T_ffe4b_row12_col5\" class=\"data row12 col5\" >-0.001619</td>\n",
              "      <td id=\"T_ffe4b_row12_col6\" class=\"data row12 col6\" >-0.012843</td>\n",
              "      <td id=\"T_ffe4b_row12_col7\" class=\"data row12 col7\" >0.002259</td>\n",
              "      <td id=\"T_ffe4b_row12_col8\" class=\"data row12 col8\" >-0.008245</td>\n",
              "      <td id=\"T_ffe4b_row12_col9\" class=\"data row12 col9\" >-0.033993</td>\n",
              "      <td id=\"T_ffe4b_row12_col10\" class=\"data row12 col10\" >-0.044621</td>\n",
              "      <td id=\"T_ffe4b_row12_col11\" class=\"data row12 col11\" >0.035095</td>\n",
              "      <td id=\"T_ffe4b_row12_col12\" class=\"data row12 col12\" >1.000000</td>\n",
              "      <td id=\"T_ffe4b_row12_col13\" class=\"data row12 col13\" >0.016898</td>\n",
              "      <td id=\"T_ffe4b_row12_col14\" class=\"data row12 col14\" >-0.020429</td>\n",
              "      <td id=\"T_ffe4b_row12_col15\" class=\"data row12 col15\" >-0.014091</td>\n",
              "      <td id=\"T_ffe4b_row12_col16\" class=\"data row12 col16\" >-0.021406</td>\n",
              "      <td id=\"T_ffe4b_row12_col17\" class=\"data row12 col17\" >0.043180</td>\n",
              "      <td id=\"T_ffe4b_row12_col18\" class=\"data row12 col18\" >0.005149</td>\n",
              "      <td id=\"T_ffe4b_row12_col19\" class=\"data row12 col19\" >0.000795</td>\n",
              "      <td id=\"T_ffe4b_row12_col20\" class=\"data row12 col20\" >-0.072100</td>\n",
              "    </tr>\n",
              "    <tr>\n",
              "      <th id=\"T_ffe4b_level0_row13\" class=\"row_heading level0 row13\" >nitrites</th>\n",
              "      <td id=\"T_ffe4b_row13_col0\" class=\"data row13 col0\" >0.237439</td>\n",
              "      <td id=\"T_ffe4b_row13_col1\" class=\"data row13 col1\" >-0.063309</td>\n",
              "      <td id=\"T_ffe4b_row13_col2\" class=\"data row13 col2\" >0.305113</td>\n",
              "      <td id=\"T_ffe4b_row13_col3\" class=\"data row13 col3\" >0.312783</td>\n",
              "      <td id=\"T_ffe4b_row13_col4\" class=\"data row13 col4\" >-0.015829</td>\n",
              "      <td id=\"T_ffe4b_row13_col5\" class=\"data row13 col5\" >0.379916</td>\n",
              "      <td id=\"T_ffe4b_row13_col6\" class=\"data row13 col6\" >0.335940</td>\n",
              "      <td id=\"T_ffe4b_row13_col7\" class=\"data row13 col7\" >0.162092</td>\n",
              "      <td id=\"T_ffe4b_row13_col8\" class=\"data row13 col8\" >-0.016591</td>\n",
              "      <td id=\"T_ffe4b_row13_col9\" class=\"data row13 col9\" >0.246463</td>\n",
              "      <td id=\"T_ffe4b_row13_col10\" class=\"data row13 col10\" >-0.091364</td>\n",
              "      <td id=\"T_ffe4b_row13_col11\" class=\"data row13 col11\" >-0.052656</td>\n",
              "      <td id=\"T_ffe4b_row13_col12\" class=\"data row13 col12\" >0.016898</td>\n",
              "      <td id=\"T_ffe4b_row13_col13\" class=\"data row13 col13\" >1.000000</td>\n",
              "      <td id=\"T_ffe4b_row13_col14\" class=\"data row13 col14\" >-0.016936</td>\n",
              "      <td id=\"T_ffe4b_row13_col15\" class=\"data row13 col15\" >0.346407</td>\n",
              "      <td id=\"T_ffe4b_row13_col16\" class=\"data row13 col16\" >0.272939</td>\n",
              "      <td id=\"T_ffe4b_row13_col17\" class=\"data row13 col17\" >0.012100</td>\n",
              "      <td id=\"T_ffe4b_row13_col18\" class=\"data row13 col18\" >0.332877</td>\n",
              "      <td id=\"T_ffe4b_row13_col19\" class=\"data row13 col19\" >-0.010035</td>\n",
              "      <td id=\"T_ffe4b_row13_col20\" class=\"data row13 col20\" >0.046986</td>\n",
              "    </tr>\n",
              "    <tr>\n",
              "      <th id=\"T_ffe4b_level0_row14\" class=\"row_heading level0 row14\" >mercury</th>\n",
              "      <td id=\"T_ffe4b_row14_col0\" class=\"data row14 col0\" >-0.003129</td>\n",
              "      <td id=\"T_ffe4b_row14_col1\" class=\"data row14 col1\" >0.020884</td>\n",
              "      <td id=\"T_ffe4b_row14_col2\" class=\"data row14 col2\" >-0.015288</td>\n",
              "      <td id=\"T_ffe4b_row14_col3\" class=\"data row14 col3\" >0.006165</td>\n",
              "      <td id=\"T_ffe4b_row14_col4\" class=\"data row14 col4\" >-0.016169</td>\n",
              "      <td id=\"T_ffe4b_row14_col5\" class=\"data row14 col5\" >-0.021198</td>\n",
              "      <td id=\"T_ffe4b_row14_col6\" class=\"data row14 col6\" >-0.022541</td>\n",
              "      <td id=\"T_ffe4b_row14_col7\" class=\"data row14 col7\" >0.017785</td>\n",
              "      <td id=\"T_ffe4b_row14_col8\" class=\"data row14 col8\" >-0.004263</td>\n",
              "      <td id=\"T_ffe4b_row14_col9\" class=\"data row14 col9\" >-0.004406</td>\n",
              "      <td id=\"T_ffe4b_row14_col10\" class=\"data row14 col10\" >0.011728</td>\n",
              "      <td id=\"T_ffe4b_row14_col11\" class=\"data row14 col11\" >-0.008073</td>\n",
              "      <td id=\"T_ffe4b_row14_col12\" class=\"data row14 col12\" >-0.020429</td>\n",
              "      <td id=\"T_ffe4b_row14_col13\" class=\"data row14 col13\" >-0.016936</td>\n",
              "      <td id=\"T_ffe4b_row14_col14\" class=\"data row14 col14\" >1.000000</td>\n",
              "      <td id=\"T_ffe4b_row14_col15\" class=\"data row14 col15\" >0.006356</td>\n",
              "      <td id=\"T_ffe4b_row14_col16\" class=\"data row14 col16\" >0.032427</td>\n",
              "      <td id=\"T_ffe4b_row14_col17\" class=\"data row14 col17\" >0.034659</td>\n",
              "      <td id=\"T_ffe4b_row14_col18\" class=\"data row14 col18\" >0.006304</td>\n",
              "      <td id=\"T_ffe4b_row14_col19\" class=\"data row14 col19\" >0.031733</td>\n",
              "      <td id=\"T_ffe4b_row14_col20\" class=\"data row14 col20\" >-0.036817</td>\n",
              "    </tr>\n",
              "    <tr>\n",
              "      <th id=\"T_ffe4b_level0_row15\" class=\"row_heading level0 row15\" >perchlorate</th>\n",
              "      <td id=\"T_ffe4b_row15_col0\" class=\"data row15 col0\" >0.362986</td>\n",
              "      <td id=\"T_ffe4b_row15_col1\" class=\"data row15 col1\" >0.090928</td>\n",
              "      <td id=\"T_ffe4b_row15_col2\" class=\"data row15 col2\" >0.332228</td>\n",
              "      <td id=\"T_ffe4b_row15_col3\" class=\"data row15 col3\" >0.462207</td>\n",
              "      <td id=\"T_ffe4b_row15_col4\" class=\"data row15 col4\" >-0.149269</td>\n",
              "      <td id=\"T_ffe4b_row15_col5\" class=\"data row15 col5\" >0.588683</td>\n",
              "      <td id=\"T_ffe4b_row15_col6\" class=\"data row15 col6\" >0.524432</td>\n",
              "      <td id=\"T_ffe4b_row15_col7\" class=\"data row15 col7\" >0.104527</td>\n",
              "      <td id=\"T_ffe4b_row15_col8\" class=\"data row15 col8\" >-0.016352</td>\n",
              "      <td id=\"T_ffe4b_row15_col9\" class=\"data row15 col9\" >0.147526</td>\n",
              "      <td id=\"T_ffe4b_row15_col10\" class=\"data row15 col10\" >0.002965</td>\n",
              "      <td id=\"T_ffe4b_row15_col11\" class=\"data row15 col11\" >-0.027426</td>\n",
              "      <td id=\"T_ffe4b_row15_col12\" class=\"data row15 col12\" >-0.014091</td>\n",
              "      <td id=\"T_ffe4b_row15_col13\" class=\"data row15 col13\" >0.346407</td>\n",
              "      <td id=\"T_ffe4b_row15_col14\" class=\"data row15 col14\" >0.006356</td>\n",
              "      <td id=\"T_ffe4b_row15_col15\" class=\"data row15 col15\" >1.000000</td>\n",
              "      <td id=\"T_ffe4b_row15_col16\" class=\"data row15 col16\" >0.373242</td>\n",
              "      <td id=\"T_ffe4b_row15_col17\" class=\"data row15 col17\" >0.014517</td>\n",
              "      <td id=\"T_ffe4b_row15_col18\" class=\"data row15 col18\" >0.504539</td>\n",
              "      <td id=\"T_ffe4b_row15_col19\" class=\"data row15 col19\" >0.000981</td>\n",
              "      <td id=\"T_ffe4b_row15_col20\" class=\"data row15 col20\" >0.075735</td>\n",
              "    </tr>\n",
              "    <tr>\n",
              "      <th id=\"T_ffe4b_level0_row16\" class=\"row_heading level0 row16\" >radium</th>\n",
              "      <td id=\"T_ffe4b_row16_col0\" class=\"data row16 col0\" >0.243396</td>\n",
              "      <td id=\"T_ffe4b_row16_col1\" class=\"data row16 col1\" >0.050401</td>\n",
              "      <td id=\"T_ffe4b_row16_col2\" class=\"data row16 col2\" >0.218328</td>\n",
              "      <td id=\"T_ffe4b_row16_col3\" class=\"data row16 col3\" >0.286890</td>\n",
              "      <td id=\"T_ffe4b_row16_col4\" class=\"data row16 col4\" >-0.098936</td>\n",
              "      <td id=\"T_ffe4b_row16_col5\" class=\"data row16 col5\" >0.389119</td>\n",
              "      <td id=\"T_ffe4b_row16_col6\" class=\"data row16 col6\" >0.315484</td>\n",
              "      <td id=\"T_ffe4b_row16_col7\" class=\"data row16 col7\" >0.026534</td>\n",
              "      <td id=\"T_ffe4b_row16_col8\" class=\"data row16 col8\" >0.007683</td>\n",
              "      <td id=\"T_ffe4b_row16_col9\" class=\"data row16 col9\" >0.099080</td>\n",
              "      <td id=\"T_ffe4b_row16_col10\" class=\"data row16 col10\" >-0.019955</td>\n",
              "      <td id=\"T_ffe4b_row16_col11\" class=\"data row16 col11\" >-0.048623</td>\n",
              "      <td id=\"T_ffe4b_row16_col12\" class=\"data row16 col12\" >-0.021406</td>\n",
              "      <td id=\"T_ffe4b_row16_col13\" class=\"data row16 col13\" >0.272939</td>\n",
              "      <td id=\"T_ffe4b_row16_col14\" class=\"data row16 col14\" >0.032427</td>\n",
              "      <td id=\"T_ffe4b_row16_col15\" class=\"data row16 col15\" >0.373242</td>\n",
              "      <td id=\"T_ffe4b_row16_col16\" class=\"data row16 col16\" >1.000000</td>\n",
              "      <td id=\"T_ffe4b_row16_col17\" class=\"data row16 col17\" >0.028467</td>\n",
              "      <td id=\"T_ffe4b_row16_col18\" class=\"data row16 col18\" >0.354273</td>\n",
              "      <td id=\"T_ffe4b_row16_col19\" class=\"data row16 col19\" >0.020565</td>\n",
              "      <td id=\"T_ffe4b_row16_col20\" class=\"data row16 col20\" >0.064743</td>\n",
              "    </tr>\n",
              "    <tr>\n",
              "      <th id=\"T_ffe4b_level0_row17\" class=\"row_heading level0 row17\" >selenium</th>\n",
              "      <td id=\"T_ffe4b_row17_col0\" class=\"data row17 col0\" >-0.003651</td>\n",
              "      <td id=\"T_ffe4b_row17_col1\" class=\"data row17 col1\" >0.029897</td>\n",
              "      <td id=\"T_ffe4b_row17_col2\" class=\"data row17 col2\" >-0.006993</td>\n",
              "      <td id=\"T_ffe4b_row17_col3\" class=\"data row17 col3\" >0.035222</td>\n",
              "      <td id=\"T_ffe4b_row17_col4\" class=\"data row17 col4\" >0.009933</td>\n",
              "      <td id=\"T_ffe4b_row17_col5\" class=\"data row17 col5\" >0.011435</td>\n",
              "      <td id=\"T_ffe4b_row17_col6\" class=\"data row17 col6\" >0.030598</td>\n",
              "      <td id=\"T_ffe4b_row17_col7\" class=\"data row17 col7\" >-0.003356</td>\n",
              "      <td id=\"T_ffe4b_row17_col8\" class=\"data row17 col8\" >0.022726</td>\n",
              "      <td id=\"T_ffe4b_row17_col9\" class=\"data row17 col9\" >-0.006779</td>\n",
              "      <td id=\"T_ffe4b_row17_col10\" class=\"data row17 col10\" >-0.035013</td>\n",
              "      <td id=\"T_ffe4b_row17_col11\" class=\"data row17 col11\" >0.031694</td>\n",
              "      <td id=\"T_ffe4b_row17_col12\" class=\"data row17 col12\" >0.043180</td>\n",
              "      <td id=\"T_ffe4b_row17_col13\" class=\"data row17 col13\" >0.012100</td>\n",
              "      <td id=\"T_ffe4b_row17_col14\" class=\"data row17 col14\" >0.034659</td>\n",
              "      <td id=\"T_ffe4b_row17_col15\" class=\"data row17 col15\" >0.014517</td>\n",
              "      <td id=\"T_ffe4b_row17_col16\" class=\"data row17 col16\" >0.028467</td>\n",
              "      <td id=\"T_ffe4b_row17_col17\" class=\"data row17 col17\" >1.000000</td>\n",
              "      <td id=\"T_ffe4b_row17_col18\" class=\"data row17 col18\" >-0.019951</td>\n",
              "      <td id=\"T_ffe4b_row17_col19\" class=\"data row17 col19\" >-0.022276</td>\n",
              "      <td id=\"T_ffe4b_row17_col20\" class=\"data row17 col20\" >-0.030923</td>\n",
              "    </tr>\n",
              "    <tr>\n",
              "      <th id=\"T_ffe4b_level0_row18\" class=\"row_heading level0 row18\" >silver</th>\n",
              "      <td id=\"T_ffe4b_row18_col0\" class=\"data row18 col0\" >0.334923</td>\n",
              "      <td id=\"T_ffe4b_row18_col1\" class=\"data row18 col1\" >0.075547</td>\n",
              "      <td id=\"T_ffe4b_row18_col2\" class=\"data row18 col2\" >0.307794</td>\n",
              "      <td id=\"T_ffe4b_row18_col3\" class=\"data row18 col3\" >0.431542</td>\n",
              "      <td id=\"T_ffe4b_row18_col4\" class=\"data row18 col4\" >-0.155441</td>\n",
              "      <td id=\"T_ffe4b_row18_col5\" class=\"data row18 col5\" >0.522372</td>\n",
              "      <td id=\"T_ffe4b_row18_col6\" class=\"data row18 col6\" >0.510705</td>\n",
              "      <td id=\"T_ffe4b_row18_col7\" class=\"data row18 col7\" >0.089241</td>\n",
              "      <td id=\"T_ffe4b_row18_col8\" class=\"data row18 col8\" >0.014446</td>\n",
              "      <td id=\"T_ffe4b_row18_col9\" class=\"data row18 col9\" >0.148199</td>\n",
              "      <td id=\"T_ffe4b_row18_col10\" class=\"data row18 col10\" >0.011680</td>\n",
              "      <td id=\"T_ffe4b_row18_col11\" class=\"data row18 col11\" >-0.057207</td>\n",
              "      <td id=\"T_ffe4b_row18_col12\" class=\"data row18 col12\" >0.005149</td>\n",
              "      <td id=\"T_ffe4b_row18_col13\" class=\"data row18 col13\" >0.332877</td>\n",
              "      <td id=\"T_ffe4b_row18_col14\" class=\"data row18 col14\" >0.006304</td>\n",
              "      <td id=\"T_ffe4b_row18_col15\" class=\"data row18 col15\" >0.504539</td>\n",
              "      <td id=\"T_ffe4b_row18_col16\" class=\"data row18 col16\" >0.354273</td>\n",
              "      <td id=\"T_ffe4b_row18_col17\" class=\"data row18 col17\" >-0.019951</td>\n",
              "      <td id=\"T_ffe4b_row18_col18\" class=\"data row18 col18\" >1.000000</td>\n",
              "      <td id=\"T_ffe4b_row18_col19\" class=\"data row18 col19\" >0.008133</td>\n",
              "      <td id=\"T_ffe4b_row18_col20\" class=\"data row18 col20\" >0.102813</td>\n",
              "    </tr>\n",
              "    <tr>\n",
              "      <th id=\"T_ffe4b_level0_row19\" class=\"row_heading level0 row19\" >uranium</th>\n",
              "      <td id=\"T_ffe4b_row19_col0\" class=\"data row19 col0\" >0.014723</td>\n",
              "      <td id=\"T_ffe4b_row19_col1\" class=\"data row19 col1\" >0.014635</td>\n",
              "      <td id=\"T_ffe4b_row19_col2\" class=\"data row19 col2\" >0.001469</td>\n",
              "      <td id=\"T_ffe4b_row19_col3\" class=\"data row19 col3\" >-0.002541</td>\n",
              "      <td id=\"T_ffe4b_row19_col4\" class=\"data row19 col4\" >-0.005911</td>\n",
              "      <td id=\"T_ffe4b_row19_col5\" class=\"data row19 col5\" >-0.007648</td>\n",
              "      <td id=\"T_ffe4b_row19_col6\" class=\"data row19 col6\" >-0.005472</td>\n",
              "      <td id=\"T_ffe4b_row19_col7\" class=\"data row19 col7\" >0.006802</td>\n",
              "      <td id=\"T_ffe4b_row19_col8\" class=\"data row19 col8\" >0.016849</td>\n",
              "      <td id=\"T_ffe4b_row19_col9\" class=\"data row19 col9\" >0.045077</td>\n",
              "      <td id=\"T_ffe4b_row19_col10\" class=\"data row19 col10\" >0.058473</td>\n",
              "      <td id=\"T_ffe4b_row19_col11\" class=\"data row19 col11\" >-0.009372</td>\n",
              "      <td id=\"T_ffe4b_row19_col12\" class=\"data row19 col12\" >0.000795</td>\n",
              "      <td id=\"T_ffe4b_row19_col13\" class=\"data row19 col13\" >-0.010035</td>\n",
              "      <td id=\"T_ffe4b_row19_col14\" class=\"data row19 col14\" >0.031733</td>\n",
              "      <td id=\"T_ffe4b_row19_col15\" class=\"data row19 col15\" >0.000981</td>\n",
              "      <td id=\"T_ffe4b_row19_col16\" class=\"data row19 col16\" >0.020565</td>\n",
              "      <td id=\"T_ffe4b_row19_col17\" class=\"data row19 col17\" >-0.022276</td>\n",
              "      <td id=\"T_ffe4b_row19_col18\" class=\"data row19 col18\" >0.008133</td>\n",
              "      <td id=\"T_ffe4b_row19_col19\" class=\"data row19 col19\" >1.000000</td>\n",
              "      <td id=\"T_ffe4b_row19_col20\" class=\"data row19 col20\" >-0.075619</td>\n",
              "    </tr>\n",
              "    <tr>\n",
              "      <th id=\"T_ffe4b_level0_row20\" class=\"row_heading level0 row20\" >is_safe</th>\n",
              "      <td id=\"T_ffe4b_row20_col0\" class=\"data row20 col0\" >0.333974</td>\n",
              "      <td id=\"T_ffe4b_row20_col1\" class=\"data row20 col1\" >-0.022919</td>\n",
              "      <td id=\"T_ffe4b_row20_col2\" class=\"data row20 col2\" >-0.123362</td>\n",
              "      <td id=\"T_ffe4b_row20_col3\" class=\"data row20 col3\" >0.090858</td>\n",
              "      <td id=\"T_ffe4b_row20_col4\" class=\"data row20 col4\" >-0.256034</td>\n",
              "      <td id=\"T_ffe4b_row20_col5\" class=\"data row20 col5\" >0.186704</td>\n",
              "      <td id=\"T_ffe4b_row20_col6\" class=\"data row20 col6\" >0.182306</td>\n",
              "      <td id=\"T_ffe4b_row20_col7\" class=\"data row20 col7\" >0.029498</td>\n",
              "      <td id=\"T_ffe4b_row20_col8\" class=\"data row20 col8\" >0.006550</td>\n",
              "      <td id=\"T_ffe4b_row20_col9\" class=\"data row20 col9\" >-0.022077</td>\n",
              "      <td id=\"T_ffe4b_row20_col10\" class=\"data row20 col10\" >-0.097040</td>\n",
              "      <td id=\"T_ffe4b_row20_col11\" class=\"data row20 col11\" >-0.009970</td>\n",
              "      <td id=\"T_ffe4b_row20_col12\" class=\"data row20 col12\" >-0.072100</td>\n",
              "      <td id=\"T_ffe4b_row20_col13\" class=\"data row20 col13\" >0.046986</td>\n",
              "      <td id=\"T_ffe4b_row20_col14\" class=\"data row20 col14\" >-0.036817</td>\n",
              "      <td id=\"T_ffe4b_row20_col15\" class=\"data row20 col15\" >0.075735</td>\n",
              "      <td id=\"T_ffe4b_row20_col16\" class=\"data row20 col16\" >0.064743</td>\n",
              "      <td id=\"T_ffe4b_row20_col17\" class=\"data row20 col17\" >-0.030923</td>\n",
              "      <td id=\"T_ffe4b_row20_col18\" class=\"data row20 col18\" >0.102813</td>\n",
              "      <td id=\"T_ffe4b_row20_col19\" class=\"data row20 col19\" >-0.075619</td>\n",
              "      <td id=\"T_ffe4b_row20_col20\" class=\"data row20 col20\" >1.000000</td>\n",
              "    </tr>\n",
              "  </tbody>\n",
              "</table>\n"
            ]
          },
          "metadata": {},
          "execution_count": 35
        }
      ],
      "source": [
        "corr = df.corr() \n",
        "corr.style.background_gradient(cmap='magma')"
      ]
    },
    {
      "cell_type": "markdown",
      "id": "c9d0d3b3",
      "metadata": {
        "id": "c9d0d3b3"
      },
      "source": [
        "## Columns which don't have any value above the threshold value"
      ]
    },
    {
      "cell_type": "code",
      "execution_count": 36,
      "id": "b34d621e",
      "metadata": {
        "id": "b34d621e"
      },
      "outputs": [],
      "source": [
        "def threshold(column,value):\n",
        "    sum = 0\n",
        "    for i in df[str(column)]:\n",
        "        if i>value:\n",
        "            sum = sum + 1\n",
        "    print(column+\" has \"+str(sum)+\" values above the threshold \")"
      ]
    },
    {
      "cell_type": "code",
      "execution_count": 37,
      "id": "5acf97a1",
      "metadata": {
        "id": "5acf97a1"
      },
      "outputs": [],
      "source": [
        "keys = threshold_dict.keys()\n",
        "values = threshold_dict.values()"
      ]
    },
    {
      "cell_type": "code",
      "execution_count": 38,
      "id": "e7cb193e",
      "metadata": {
        "id": "e7cb193e",
        "outputId": "592f2fe4-c57f-493e-91d8-cb5d15461539",
        "colab": {
          "base_uri": "https://localhost:8080/"
        }
      },
      "outputs": [
        {
          "output_type": "stream",
          "name": "stdout",
          "text": [
            "aluminium has 863 values above the threshold \n",
            "ammonia has 0 values above the threshold \n",
            "arsenic has 6821 values above the threshold \n",
            "barium has 2642 values above the threshold \n",
            "cadmium has 6518 values above the threshold \n",
            "chloramine has 2128 values above the threshold \n",
            "chromium has 3503 values above the threshold \n",
            "copper has 2329 values above the threshold \n",
            "flouride has 0 values above the threshold \n",
            "bacteria has 5203 values above the threshold \n",
            "viruses has 6693 values above the threshold \n",
            "lead has 7241 values above the threshold \n",
            "nitrates has 3966 values above the threshold \n",
            "nitrites has 5980 values above the threshold \n",
            "mercury has 6081 values above the threshold \n",
            "perchlorate has 181 values above the threshold \n",
            "radium has 1726 values above the threshold \n",
            "selenium has 0 values above the threshold \n",
            "silver has 3151 values above the threshold \n",
            "uranium has 0 values above the threshold \n"
          ]
        }
      ],
      "source": [
        "for i,j in zip(keys,values):\n",
        "    threshold(i,j)"
      ]
    },
    {
      "cell_type": "code",
      "execution_count": 39,
      "id": "97534a5c",
      "metadata": {
        "id": "97534a5c"
      },
      "outputs": [],
      "source": [
        "count1 = df[\"is_safe\"].value_counts()[1]\n",
        "count0 = df[\"is_safe\"].value_counts()[0]"
      ]
    },
    {
      "cell_type": "code",
      "execution_count": 40,
      "id": "acfc8a84",
      "metadata": {
        "id": "acfc8a84",
        "outputId": "7698af30-db40-4f83-bcd8-dbd5a7c3477d",
        "colab": {
          "base_uri": "https://localhost:8080/"
        }
      },
      "outputs": [
        {
          "output_type": "stream",
          "name": "stdout",
          "text": [
            "aluminium 1: above threshold 285 1:below threshold 627 0: above threshold 578 0: below threshold 6506\n",
            "aluminium 1: above threshold 0.3125 1:below threshold 0.6875 0: above threshold 0.0815923207227555 0: below threshold 0.9184076792772445\n",
            "ammonia 1: above threshold 0 1:below threshold 912 0: above threshold 0 0: below threshold 7084\n",
            "ammonia 1: above threshold 0.0 1:below threshold 1.0 0: above threshold 0.0 0: below threshold 1.0\n",
            "arsenic 1: above threshold 685 1:below threshold 227 0: above threshold 6136 0: below threshold 948\n",
            "arsenic 1: above threshold 0.7510964912280702 1:below threshold 0.24890350877192982 0: above threshold 0.8661773009599096 0: below threshold 0.13382269904009034\n",
            "barium 1: above threshold 391 1:below threshold 521 0: above threshold 2251 0: below threshold 4833\n",
            "barium 1: above threshold 0.42872807017543857 1:below threshold 0.5712719298245614 0: above threshold 0.3177583286278938 0: below threshold 0.6822416713721061\n",
            "cadmium 1: above threshold 478 1:below threshold 434 0: above threshold 6040 0: below threshold 1044\n",
            "cadmium 1: above threshold 0.5241228070175439 1:below threshold 0.4758771929824561 0: above threshold 0.8526256352343309 0: below threshold 0.14737436476566912\n",
            "chloramine 1: above threshold 402 1:below threshold 510 0: above threshold 1726 0: below threshold 5358\n",
            "chloramine 1: above threshold 0.4407894736842105 1:below threshold 0.5592105263157895 0: above threshold 0.24364765669113495 0: below threshold 0.756352343308865\n",
            "chromium 1: above threshold 688 1:below threshold 224 0: above threshold 2815 0: below threshold 4269\n",
            "chromium 1: above threshold 0.7543859649122807 1:below threshold 0.24561403508771928 0: above threshold 0.3973743647656691 0: below threshold 0.6026256352343309\n",
            "copper 1: above threshold 268 1:below threshold 644 0: above threshold 2061 0: below threshold 5023\n",
            "copper 1: above threshold 0.29385964912280704 1:below threshold 0.706140350877193 0: above threshold 0.2909373235460192 0: below threshold 0.7090626764539808\n",
            "flouride 1: above threshold 0 1:below threshold 912 0: above threshold 0 0: below threshold 7084\n",
            "flouride 1: above threshold 0.0 1:below threshold 1.0 0: above threshold 0.0 0: below threshold 1.0\n",
            "bacteria 1: above threshold 578 1:below threshold 334 0: above threshold 4625 0: below threshold 2459\n",
            "bacteria 1: above threshold 0.6337719298245614 1:below threshold 0.36622807017543857 0: above threshold 0.6528797289666854 0: below threshold 0.3471202710333145\n",
            "viruses 1: above threshold 663 1:below threshold 249 0: above threshold 6030 0: below threshold 1054\n",
            "viruses 1: above threshold 0.7269736842105263 1:below threshold 0.2730263157894737 0: above threshold 0.8512140033879164 0: below threshold 0.14878599661208358\n",
            "lead 1: above threshold 831 1:below threshold 81 0: above threshold 6410 0: below threshold 674\n",
            "lead 1: above threshold 0.9111842105263158 1:below threshold 0.08881578947368421 0: above threshold 0.9048560135516657 0: below threshold 0.09514398644833427\n",
            "nitrates 1: above threshold 360 1:below threshold 552 0: above threshold 3606 0: below threshold 3478\n",
            "nitrates 1: above threshold 0.39473684210526316 1:below threshold 0.6052631578947368 0: above threshold 0.5090344438170525 0: below threshold 0.49096555618294746\n",
            "nitrites 1: above threshold 792 1:below threshold 120 0: above threshold 5188 0: below threshold 1896\n",
            "nitrites 1: above threshold 0.868421052631579 1:below threshold 0.13157894736842105 0: above threshold 0.7323546019198193 0: below threshold 0.2676453980801807\n",
            "mercury 1: above threshold 652 1:below threshold 260 0: above threshold 5429 0: below threshold 1655\n",
            "mercury 1: above threshold 0.7149122807017544 1:below threshold 0.2850877192982456 0: above threshold 0.7663749294184077 0: below threshold 0.23362507058159232\n",
            "perchlorate 1: above threshold 2 1:below threshold 910 0: above threshold 179 0: below threshold 6905\n",
            "perchlorate 1: above threshold 0.0021929824561403508 1:below threshold 0.9978070175438597 0: above threshold 0.025268210050818748 0: below threshold 0.9747317899491813\n",
            "radium 1: above threshold 215 1:below threshold 697 0: above threshold 1511 0: below threshold 5573\n",
            "radium 1: above threshold 0.23574561403508773 1:below threshold 0.7642543859649122 0: above threshold 0.21329757199322416 0: below threshold 0.7867024280067758\n",
            "selenium 1: above threshold 0 1:below threshold 912 0: above threshold 0 0: below threshold 7084\n",
            "selenium 1: above threshold 0.0 1:below threshold 1.0 0: above threshold 0.0 0: below threshold 1.0\n",
            "silver 1: above threshold 502 1:below threshold 410 0: above threshold 2649 0: below threshold 4435\n",
            "silver 1: above threshold 0.5504385964912281 1:below threshold 0.44956140350877194 0: above threshold 0.3739412761151892 0: below threshold 0.6260587238848109\n",
            "uranium 1: above threshold 0 1:below threshold 912 0: above threshold 0 0: below threshold 7084\n",
            "uranium 1: above threshold 0.0 1:below threshold 1.0 0: above threshold 0.0 0: below threshold 1.0\n"
          ]
        }
      ],
      "source": [
        "count_above_1 = 0\n",
        "count_below_1 = 0\n",
        "count_above_0 = 0\n",
        "count_below_0 = 0\n",
        "safe = df[\"is_safe\"]\n",
        "for i,l in zip(threshold_dict.keys(),threshold_dict.values()):\n",
        "    mineral = df[str(i)]\n",
        "    for j,k in zip(mineral,safe):\n",
        "        if k==1:\n",
        "            if j>l:\n",
        "                count_above_1 = count_above_1 + 1\n",
        "            else:\n",
        "                count_below_1 = count_below_1 + 1\n",
        "        else:\n",
        "            if j>l:\n",
        "                count_above_0 = count_above_0 + 1\n",
        "            else:\n",
        "                count_below_0 = count_below_0 + 1\n",
        "    print(str(i)+\" 1: above threshold \"+str(count_above_1)+\" 1:below threshold \"+str(count_below_1)+\" 0: above threshold \"+str(count_above_0)+\" 0: below threshold \"+str(count_below_0))\n",
        "    print(str(i)+\" 1: above threshold \"+str((count_above_1)/count1)+\" 1:below threshold \"+str((count_below_1)/count1)+\" 0: above threshold \"+str((count_above_0)/count0)+\" 0: below threshold \"+str((count_below_0)/count0))\n",
        "    count_above_1 = 0\n",
        "    count_below_1 = 0\n",
        "    count_above_0 = 0\n",
        "    count_below_0 = 0"
      ]
    },
    {
      "cell_type": "markdown",
      "id": "e429b3ad",
      "metadata": {
        "id": "e429b3ad"
      },
      "source": [
        "## is_safe column which is the target class has 88% of the value classified as 0 and only 11% of the values classified as 1"
      ]
    },
    {
      "cell_type": "code",
      "execution_count": 183,
      "id": "e9d4236f",
      "metadata": {
        "id": "e9d4236f"
      },
      "outputs": [],
      "source": [
        "from yellowbrick.target.feature_correlation import feature_correlation\n",
        "from yellowbrick.model_selection import feature_importances"
      ]
    },
    {
      "cell_type": "markdown",
      "id": "b79bca67",
      "metadata": {
        "id": "b79bca67"
      },
      "source": [
        "## Feature Extraction"
      ]
    },
    {
      "cell_type": "markdown",
      "id": "dca50bec",
      "metadata": {
        "id": "dca50bec"
      },
      "source": [
        "## Pearson Correlation"
      ]
    },
    {
      "cell_type": "code",
      "execution_count": 202,
      "id": "3c6f43cc",
      "metadata": {
        "id": "3c6f43cc",
        "outputId": "2c8b13a1-4642-43f6-ed89-35d35dd06008",
        "colab": {
          "base_uri": "https://localhost:8080/",
          "height": 311
        }
      },
      "outputs": [
        {
          "output_type": "error",
          "ename": "ValueError",
          "evalue": "ignored",
          "traceback": [
            "\u001b[0;31m---------------------------------------------------------------------------\u001b[0m",
            "\u001b[0;31mValueError\u001b[0m                                Traceback (most recent call last)",
            "\u001b[0;32m<ipython-input-202-d49aab9d530b>\u001b[0m in \u001b[0;36m<module>\u001b[0;34m\u001b[0m\n\u001b[0;32m----> 1\u001b[0;31m \u001b[0mfeature_correlation\u001b[0m\u001b[0;34m(\u001b[0m\u001b[0mX\u001b[0m\u001b[0;34m,\u001b[0m \u001b[0my\u001b[0m\u001b[0;34m,\u001b[0m \u001b[0mmethod\u001b[0m\u001b[0;34m=\u001b[0m\u001b[0;34m'mutual_info-classification'\u001b[0m\u001b[0;34m)\u001b[0m\u001b[0;34m;\u001b[0m\u001b[0;34m\u001b[0m\u001b[0;34m\u001b[0m\u001b[0m\n\u001b[0m",
            "\u001b[0;32m/usr/local/lib/python3.7/dist-packages/yellowbrick/target/feature_correlation.py\u001b[0m in \u001b[0;36mfeature_correlation\u001b[0;34m(X, y, ax, method, labels, sort, feature_index, feature_names, color, show, **kwargs)\u001b[0m\n\u001b[1;32m    355\u001b[0m \u001b[0;34m\u001b[0m\u001b[0m\n\u001b[1;32m    356\u001b[0m     \u001b[0;31m# Fit and transform the visualizer (calls draw)\u001b[0m\u001b[0;34m\u001b[0m\u001b[0;34m\u001b[0m\u001b[0;34m\u001b[0m\u001b[0m\n\u001b[0;32m--> 357\u001b[0;31m     \u001b[0mvisualizer\u001b[0m\u001b[0;34m.\u001b[0m\u001b[0mfit\u001b[0m\u001b[0;34m(\u001b[0m\u001b[0mX\u001b[0m\u001b[0;34m,\u001b[0m \u001b[0my\u001b[0m\u001b[0;34m,\u001b[0m \u001b[0;34m**\u001b[0m\u001b[0mkwargs\u001b[0m\u001b[0;34m)\u001b[0m\u001b[0;34m\u001b[0m\u001b[0;34m\u001b[0m\u001b[0m\n\u001b[0m\u001b[1;32m    358\u001b[0m     \u001b[0;32mif\u001b[0m \u001b[0mshow\u001b[0m\u001b[0;34m:\u001b[0m\u001b[0;34m\u001b[0m\u001b[0;34m\u001b[0m\u001b[0m\n\u001b[1;32m    359\u001b[0m         \u001b[0mvisualizer\u001b[0m\u001b[0;34m.\u001b[0m\u001b[0mshow\u001b[0m\u001b[0;34m(\u001b[0m\u001b[0;34m)\u001b[0m\u001b[0;34m\u001b[0m\u001b[0;34m\u001b[0m\u001b[0m\n",
            "\u001b[0;32m/usr/local/lib/python3.7/dist-packages/yellowbrick/target/feature_correlation.py\u001b[0m in \u001b[0;36mfit\u001b[0;34m(self, X, y, **kwargs)\u001b[0m\n\u001b[1;32m    176\u001b[0m         \u001b[0;32melse\u001b[0m\u001b[0;34m:\u001b[0m\u001b[0;34m\u001b[0m\u001b[0;34m\u001b[0m\u001b[0m\n\u001b[1;32m    177\u001b[0m             self.scores_ = np.array(\n\u001b[0;32m--> 178\u001b[0;31m                 \u001b[0mself\u001b[0m\u001b[0;34m.\u001b[0m\u001b[0mcorrelation_methods\u001b[0m\u001b[0;34m[\u001b[0m\u001b[0mself\u001b[0m\u001b[0;34m.\u001b[0m\u001b[0mmethod\u001b[0m\u001b[0;34m]\u001b[0m\u001b[0;34m(\u001b[0m\u001b[0mX\u001b[0m\u001b[0;34m,\u001b[0m \u001b[0my\u001b[0m\u001b[0;34m,\u001b[0m \u001b[0;34m**\u001b[0m\u001b[0mkwargs\u001b[0m\u001b[0;34m)\u001b[0m\u001b[0;34m\u001b[0m\u001b[0;34m\u001b[0m\u001b[0m\n\u001b[0m\u001b[1;32m    179\u001b[0m             )\n\u001b[1;32m    180\u001b[0m \u001b[0;34m\u001b[0m\u001b[0m\n",
            "\u001b[0;32m/usr/local/lib/python3.7/dist-packages/sklearn/feature_selection/_mutual_info.py\u001b[0m in \u001b[0;36mmutual_info_classif\u001b[0;34m(X, y, discrete_features, n_neighbors, copy, random_state)\u001b[0m\n\u001b[1;32m    461\u001b[0m            \u001b[0mof\u001b[0m \u001b[0ma\u001b[0m \u001b[0mRandom\u001b[0m \u001b[0mVector\u001b[0m\u001b[0;34m:\u001b[0m\u001b[0;34m,\u001b[0m \u001b[0mProbl\u001b[0m\u001b[0;34m.\u001b[0m \u001b[0mPeredachi\u001b[0m \u001b[0mInf\u001b[0m\u001b[0;34m.\u001b[0m\u001b[0;34m,\u001b[0m \u001b[0;36m23\u001b[0m\u001b[0;34m:\u001b[0m\u001b[0;36m2\u001b[0m \u001b[0;34m(\u001b[0m\u001b[0;36m1987\u001b[0m\u001b[0;34m)\u001b[0m\u001b[0;34m,\u001b[0m \u001b[0;36m9\u001b[0m\u001b[0;34m-\u001b[0m\u001b[0;36m16\u001b[0m\u001b[0;34m\u001b[0m\u001b[0;34m\u001b[0m\u001b[0m\n\u001b[1;32m    462\u001b[0m     \"\"\"\n\u001b[0;32m--> 463\u001b[0;31m     \u001b[0mcheck_classification_targets\u001b[0m\u001b[0;34m(\u001b[0m\u001b[0my\u001b[0m\u001b[0;34m)\u001b[0m\u001b[0;34m\u001b[0m\u001b[0;34m\u001b[0m\u001b[0m\n\u001b[0m\u001b[1;32m    464\u001b[0m     \u001b[0;32mreturn\u001b[0m \u001b[0m_estimate_mi\u001b[0m\u001b[0;34m(\u001b[0m\u001b[0mX\u001b[0m\u001b[0;34m,\u001b[0m \u001b[0my\u001b[0m\u001b[0;34m,\u001b[0m \u001b[0mdiscrete_features\u001b[0m\u001b[0;34m,\u001b[0m \u001b[0;32mTrue\u001b[0m\u001b[0;34m,\u001b[0m \u001b[0mn_neighbors\u001b[0m\u001b[0;34m,\u001b[0m \u001b[0mcopy\u001b[0m\u001b[0;34m,\u001b[0m \u001b[0mrandom_state\u001b[0m\u001b[0;34m)\u001b[0m\u001b[0;34m\u001b[0m\u001b[0;34m\u001b[0m\u001b[0m\n",
            "\u001b[0;32m/usr/local/lib/python3.7/dist-packages/sklearn/utils/multiclass.py\u001b[0m in \u001b[0;36mcheck_classification_targets\u001b[0;34m(y)\u001b[0m\n\u001b[1;32m    195\u001b[0m         \u001b[0;34m\"multilabel-sequences\"\u001b[0m\u001b[0;34m,\u001b[0m\u001b[0;34m\u001b[0m\u001b[0;34m\u001b[0m\u001b[0m\n\u001b[1;32m    196\u001b[0m     ]:\n\u001b[0;32m--> 197\u001b[0;31m         \u001b[0;32mraise\u001b[0m \u001b[0mValueError\u001b[0m\u001b[0;34m(\u001b[0m\u001b[0;34m\"Unknown label type: %r\"\u001b[0m \u001b[0;34m%\u001b[0m \u001b[0my_type\u001b[0m\u001b[0;34m)\u001b[0m\u001b[0;34m\u001b[0m\u001b[0;34m\u001b[0m\u001b[0m\n\u001b[0m\u001b[1;32m    198\u001b[0m \u001b[0;34m\u001b[0m\u001b[0m\n\u001b[1;32m    199\u001b[0m \u001b[0;34m\u001b[0m\u001b[0m\n",
            "\u001b[0;31mValueError\u001b[0m: Unknown label type: 'continuous-multioutput'"
          ]
        }
      ],
      "source": [
        "\n",
        "feature_correlation(X, y, method='mutual_info-classification');"
      ]
    },
    {
      "cell_type": "code",
      "execution_count": 203,
      "id": "1deadbe2",
      "metadata": {
        "id": "1deadbe2"
      },
      "outputs": [],
      "source": [
        "from scipy.stats import pointbiserialr"
      ]
    },
    {
      "cell_type": "code",
      "execution_count": 57,
      "id": "f60fb57c",
      "metadata": {
        "id": "f60fb57c"
      },
      "outputs": [],
      "source": [
        "cor_target = df[\"is_safe\"]"
      ]
    },
    {
      "cell_type": "code",
      "execution_count": 58,
      "id": "745ddd9e",
      "metadata": {
        "id": "745ddd9e",
        "outputId": "cc6da96a-6d4d-4bad-a5f1-3e887e3ae9d3",
        "colab": {
          "base_uri": "https://localhost:8080/"
        }
      },
      "outputs": [
        {
          "output_type": "stream",
          "name": "stdout",
          "text": [
            "aluminium PointbiserialrResult(correlation=0.3339737735314536, pvalue=1.3644997105025007e-207)\n",
            "ammonia PointbiserialrResult(correlation=-0.022919011509633703, pvalue=0.04042546752087036)\n",
            "arsenic PointbiserialrResult(correlation=-0.12336198804817085, pvalue=1.7218152957156371e-28)\n",
            "barium PointbiserialrResult(correlation=0.09085848410080495, pvalue=3.947285518783222e-16)\n",
            "cadmium PointbiserialrResult(correlation=-0.2560339278141225, pvalue=7.043961649657063e-120)\n",
            "chloramine PointbiserialrResult(correlation=0.18670437817218424, pvalue=1.2247347924131437e-63)\n",
            "chromium PointbiserialrResult(correlation=0.18230627521767853, pvalue=1.0347921024650036e-60)\n",
            "copper PointbiserialrResult(correlation=0.029498391409952942, pvalue=0.008341668445494348)\n",
            "flouride PointbiserialrResult(correlation=0.006550242315146571, pvalue=0.5581176589277761)\n",
            "bacteria PointbiserialrResult(correlation=-0.022077427584784322, pvalue=0.04836998993969865)\n",
            "viruses PointbiserialrResult(correlation=-0.09703976928333194, pvalue=3.42265820501751e-18)\n",
            "lead PointbiserialrResult(correlation=-0.009969614620990228, pvalue=0.3727311032390105)\n",
            "nitrates PointbiserialrResult(correlation=-0.07210046400080107, pvalue=1.0847459975727788e-10)\n",
            "nitrites PointbiserialrResult(correlation=0.04698609567947383, pvalue=2.6319360319036614e-05)\n",
            "mercury PointbiserialrResult(correlation=-0.03681683951141225, pvalue=0.000992033135134206)\n",
            "perchlorate PointbiserialrResult(correlation=0.07573545717613006, pvalue=1.1936932401440242e-11)\n",
            "radium PointbiserialrResult(correlation=0.06474325983088657, pvalue=6.850871731108427e-09)\n",
            "selenium PointbiserialrResult(correlation=-0.03092320433659715, pvalue=0.00568542687203367)\n",
            "silver PointbiserialrResult(correlation=0.10281280717119244, pvalue=3.068071020407488e-20)\n",
            "uranium PointbiserialrResult(correlation=-0.07561888095948541, pvalue=1.2833349319525957e-11)\n"
          ]
        }
      ],
      "source": [
        "for i in threshold_dict.keys():\n",
        "    pbc = pointbiserialr(df[str(i)],cor_target)\n",
        "    print(i+\" \"+str(pbc))"
      ]
    },
    {
      "cell_type": "markdown",
      "id": "cb11a667",
      "metadata": {
        "id": "cb11a667"
      },
      "source": [
        "## We can drop  flouride and selenium as they have a p-value greater than 0.05 and hence are not statistically significant"
      ]
    },
    {
      "cell_type": "markdown",
      "id": "e10c3a8c",
      "metadata": {
        "id": "e10c3a8c"
      },
      "source": [
        "## p-value less than 0.05 then variables are statistically significant"
      ]
    },
    {
      "cell_type": "markdown",
      "id": "ef6c145b",
      "metadata": {
        "id": "ef6c145b"
      },
      "source": [
        "# <font color=\"blue\">Class Imbalance</font>"
      ]
    },
    {
      "cell_type": "code",
      "execution_count": 59,
      "id": "97373d62",
      "metadata": {
        "id": "97373d62",
        "outputId": "cc3d21ab-1d5b-48be-aa58-dd4b3727e156",
        "colab": {
          "base_uri": "https://localhost:8080/",
          "height": 416
        }
      },
      "outputs": [
        {
          "output_type": "stream",
          "name": "stderr",
          "text": [
            "/usr/local/lib/python3.7/dist-packages/seaborn/_decorators.py:43: FutureWarning: Pass the following variable as a keyword arg: x. From version 0.12, the only valid positional argument will be `data`, and passing other arguments without an explicit keyword will result in an error or misinterpretation.\n",
            "  FutureWarning\n"
          ]
        },
        {
          "output_type": "display_data",
          "data": {
            "text/plain": [
              "<Figure size 576x396 with 1 Axes>"
            ],
            "image/png": "[encoded data removed]"
          },
          "metadata": {}
        }
      ],
      "source": [
        "sns.countplot(df['is_safe'])\n",
        "plt.savefig('class_imbalance.png')\n",
        "plt.show()"
      ]
    },
    {
      "cell_type": "code",
      "execution_count": 60,
      "id": "9541452c",
      "metadata": {
        "id": "9541452c"
      },
      "outputs": [],
      "source": [
        "count1 = df[\"is_safe\"].value_counts()[1]\n",
        "count0 = df[\"is_safe\"].value_counts()[0]"
      ]
    },
    {
      "cell_type": "markdown",
      "id": "95312bd2",
      "metadata": {
        "id": "95312bd2"
      },
      "source": [
        "## Percentage of 0's "
      ]
    },
    {
      "cell_type": "code",
      "execution_count": 61,
      "id": "95668212",
      "metadata": {
        "id": "95668212",
        "outputId": "b2ba2fc2-bb99-4d3e-d3a9-aadeaf5d8fc0",
        "colab": {
          "base_uri": "https://localhost:8080/"
        }
      },
      "outputs": [
        {
          "output_type": "stream",
          "name": "stdout",
          "text": [
            "88.59429714857428\n"
          ]
        }
      ],
      "source": [
        "print(count0/(count1+count0)*100)"
      ]
    },
    {
      "cell_type": "markdown",
      "id": "71b1fa2e",
      "metadata": {
        "id": "71b1fa2e"
      },
      "source": [
        "## Percentage of 1's"
      ]
    },
    {
      "cell_type": "code",
      "execution_count": 62,
      "id": "7c28ef97",
      "metadata": {
        "id": "7c28ef97",
        "outputId": "0a02cf56-8dcd-40cc-8c49-44bf05052ba4",
        "colab": {
          "base_uri": "https://localhost:8080/"
        }
      },
      "outputs": [
        {
          "output_type": "stream",
          "name": "stdout",
          "text": [
            "11.405702851425712\n"
          ]
        }
      ],
      "source": [
        "print(count1/(count1+count0)*100)"
      ]
    },
    {
      "cell_type": "code",
      "execution_count": 63,
      "id": "28d5c29e",
      "metadata": {
        "id": "28d5c29e"
      },
      "outputs": [],
      "source": [
        "y = df[target_col]"
      ]
    },
    {
      "cell_type": "code",
      "execution_count": 64,
      "id": "cc612a76",
      "metadata": {
        "id": "cc612a76"
      },
      "outputs": [],
      "source": [
        "X = df.drop(target_col, axis=1)"
      ]
    },
    {
      "cell_type": "markdown",
      "id": "9fe2b022",
      "metadata": {
        "id": "9fe2b022"
      },
      "source": [
        "# <font color=\"blue\">Models</font>"
      ]
    },
    {
      "cell_type": "markdown",
      "id": "69109673",
      "metadata": {
        "id": "69109673"
      },
      "source": [
        "## Split train and test"
      ]
    },
    {
      "cell_type": "markdown",
      "id": "f79b89be",
      "metadata": {
        "id": "f79b89be"
      },
      "source": [
        "### performed standard scaling"
      ]
    },
    {
      "cell_type": "code",
      "execution_count": 65,
      "id": "2c62a70b",
      "metadata": {
        "id": "2c62a70b"
      },
      "outputs": [],
      "source": [
        "from sklearn.model_selection import train_test_split "
      ]
    },
    {
      "cell_type": "code",
      "execution_count": 66,
      "id": "c06ab6d2",
      "metadata": {
        "id": "c06ab6d2"
      },
      "outputs": [],
      "source": [
        "import matplotlib.pyplot as plt\n",
        "import numpy as np\n",
        "from sklearn.linear_model import LogisticRegression\n",
        "from sklearn.metrics import classification_report, confusion_matrix\n",
        "from sklearn.metrics import accuracy_score\n",
        "from sklearn import metrics"
      ]
    },
    {
      "cell_type": "code",
      "execution_count": 67,
      "id": "0cdfc83a",
      "metadata": {
        "id": "0cdfc83a"
      },
      "outputs": [],
      "source": [
        "from sklearn.preprocessing import StandardScaler\n",
        "scaler = StandardScaler()\n",
        "X = scaler.fit_transform(X)"
      ]
    },
    {
      "cell_type": "code",
      "execution_count": 68,
      "id": "23e33926",
      "metadata": {
        "id": "23e33926"
      },
      "outputs": [],
      "source": [
        "X_train, X_test, y_train, y_test = train_test_split(X, y, test_size=0.2, stratify=df.is_safe)"
      ]
    },
    {
      "cell_type": "code",
      "execution_count": 69,
      "id": "d5df6554",
      "metadata": {
        "id": "d5df6554"
      },
      "outputs": [],
      "source": [
        "from sklearn import decomposition"
      ]
    },
    {
      "cell_type": "code",
      "execution_count": 70,
      "id": "d6644e43",
      "metadata": {
        "id": "d6644e43"
      },
      "outputs": [],
      "source": [
        "X1 = X"
      ]
    },
    {
      "cell_type": "code",
      "execution_count": 71,
      "id": "798c3eeb",
      "metadata": {
        "id": "798c3eeb"
      },
      "outputs": [],
      "source": [
        "y1 = y"
      ]
    },
    {
      "cell_type": "code",
      "execution_count": 72,
      "id": "d27517bf",
      "metadata": {
        "id": "d27517bf",
        "outputId": "1ebf2a2c-2256-4e64-ee9a-c528c44ddf52",
        "colab": {
          "base_uri": "https://localhost:8080/"
        }
      },
      "outputs": [
        {
          "output_type": "stream",
          "name": "stdout",
          "text": [
            "Before PCA- (7996, 20)\n",
            "After PCA- (7996, 18)\n"
          ]
        }
      ],
      "source": [
        "pca = decomposition.PCA(0.95)\n",
        "print(\"Before PCA-\",X1.shape)\n",
        "X1 = pca.fit_transform(X1)\n",
        "print(\"After PCA-\",X1.shape)"
      ]
    },
    {
      "cell_type": "code",
      "execution_count": 73,
      "id": "fda519ca",
      "metadata": {
        "id": "fda519ca"
      },
      "outputs": [],
      "source": [
        "import plotly.express as px"
      ]
    },
    {
      "cell_type": "code",
      "execution_count": 74,
      "id": "7f515fd1",
      "metadata": {
        "id": "7f515fd1",
        "outputId": "57f0ec1a-1c95-4a9b-e3a1-3a00a116a2f2",
        "colab": {
          "base_uri": "https://localhost:8080/",
          "height": 542
        }
      },
      "outputs": [
        {
          "output_type": "display_data",
          "data": {
            "text/html": [
              "<html>\n",
              "<head><meta charset=\"utf-8\" /></head>\n",
              "<body>\n",
              "    <div>            <script src=\"https://cdnjs.cloudflare.com/ajax/libs/mathjax/2.7.5/MathJax.js?config=TeX-AMS-MML_SVG\"></script><script type=\"text/javascript\">if (window.MathJax) {MathJax.Hub.Config({SVG: {font: \"STIX-Web\"}});}</script>                <script type=\"text/javascript\">window.PlotlyConfig = {MathJaxConfig: 'local'};</script>\n",
              "        <script src=\"https://cdn.plot.ly/plotly-2.8.3.min.js\"></script>                <div id=\"b02eaf7b-b76c-4501-8d0d-d49d98e7f4a5\" class=\"plotly-graph-div\" style=\"height:525px; width:100%;\"></div>            <script type=\"text/javascript\">                                    window.PLOTLYENV=window.PLOTLYENV || {};                                    if (document.getElementById(\"b02eaf7b-b76c-4501-8d0d-d49d98e7f4a5\")) {                    Plotly.newPlot(                        \"b02eaf7b-b76c-4501-8d0d-d49d98e7f4a5\",                        [{\"hovertemplate\":\"x=%{x}<br>y=%{y}<extra></extra>\",\"legendgroup\":\"\",\"marker\":{\"color\":\"#3366CC\",\"symbol\":\"circle\"},\"mode\":\"markers\",\"name\":\"\",\"showlegend\":false,\"x\":[2.167657874247687,2.9708556531668804,2.083176998876089,1.7054388557964988,-0.13777427368128908,1.5225123357497374,1.7385889204463967,2.2750802329218733,1.5794602890675824,1.3933157518861923,2.7654722813675203,1.23208916567057,0.8197894305922122,2.7174542558095047,2.158051907768411,0.705152775044432,1.189455649362805,2.6570912896283816,2.4567922087652305,1.542138634725916,0.2590568835011918,0.34370407854281937,0.039476916141515155,3.2669268296170704,3.2081148989468633,2.5822690672442907,0.8611106887002,2.5546796469282165,2.6658102530783006,2.6234753796888857,2.23175005011215,2.419955145072461,1.1420803757711715,2.8060995184909956,3.25264018269018,2.109796150188653,2.9641809601481865,0.7331860855027158,1.9863389025946996,1.5666257879436412,3.5454734375955357,1.463805178299863,2.4056940624815173,1.3302778727630777,-0.5082228645533968,0.6173646412924655,2.1019144674369907,2.6263460710689435,1.5423876728823693,2.0179200877706305,-0.038590061808773606,2.4926778313409086,1.8106572051681438,2.0397582902649964,1.0850373165059728,4.174926736772193,2.540128654775674,0.34129116587564456,1.6661332586497868,1.6614780983308564,0.5983213849049489,1.7118316453168259,1.6246111308644748,2.2321446299915886,3.4056703235752424,3.1754766681496833,0.849455926010274,2.59754166610901,2.0815678832177746,1.8441467182668947,1.2397698944461044,3.197190176973982,1.5600688142376276,0.3740729193636897,2.0108995810717283,1.871825654423939,3.455500934126635,1.7772964360581183,1.9529460020437794,1.8260730529889708,2.4994508620922806,0.412178731556548,1.2370314874209247,0.6855913919476518,1.2425074405734995,3.9540729668436305,1.1661410856149081,3.712308490034016,1.4737091230996149,-0.150005047441373,2.784628564050908,0.768801141381199,1.4836848526758293,2.6102856534399645,1.285969456889394,0.6458919009695697,2.2553521741499134,1.6049328344006564,1.926203369903152,1.147522157182067,2.0736532745154435,2.5945334337349624,1.4882575497761203,1.7952677152333576,3.929208325011038,1.6133229860526175,0.725954958764598,1.824397346732337,1.5923443128958301,1.2058090457404853,1.8734150023263507,1.4397709910257774,2.340628533396968,0.7398270366082319,2.4236523847021987,3.1050867657216488,1.3768705525138423,2.0646126615826357,2.30383734743081,1.6366460145257766,1.6548944350550703,0.35892831226057076,2.4335981387782417,1.8162569765523644,0.82121505485386,2.4482991522924555,1.4945653316981813,2.560142353851811,1.9802490442132907,2.288382240000805,1.3975349379909419,0.8390543168473394,1.9010784615421585,2.9518158653111866,1.025457786982364,1.0586505669300807,1.3419764972977466,0.8518360932035313,2.711290422560749,2.4749887890348177,2.962694870530968,1.7072340328836106,1.0835654139888715,1.9180076202540106,-0.6596765364201242,1.474149123778298,2.481290349434553,2.4878176957000764,1.6478191371301576,1.0319758645710444,2.5356518570478968,0.06116849069501896,2.735733087867361,1.8592700123767725,1.3250775539177608,0.8292444215776171,2.958656852257863,2.3295054149924725,2.714897472667394,3.3447303571540434,1.5006862766459332,2.1042000178646636,0.47661071436562247,2.5786678815814046,1.741035969952008,1.1687812448395962,2.2217341311040033,1.490724373330578,0.4579317995268784,1.658092014895738,2.331449836323654,3.342041389573438,0.7685028547772641,1.6905467997321404,1.6210024398692542,2.335907499726798,2.0199116859595563,2.5182981855390123,1.481478545531233,1.0700983044624102,3.7161676308946308,1.8488270788398091,1.6616039015792012,2.152593619831263,2.4391428088567046,1.8749672796814232,2.271982741840936,1.2784282705159007,2.6802391738595444,-0.2257560958124457,0.961273958351493,1.0872293257613228,1.551299756585588,1.214829993055297,2.1334078405649586,2.3337774756365586,4.072896258588766,0.7851748253794308,0.28312243811511567,1.6268383077798876,1.6300368705122295,1.936289538505128,1.938147224184412,2.8218327787529267,2.4738468779297937,1.8841016485975475,1.5236507010223868,1.256860328799123,0.9272434275104883,2.0676367830965825,2.2864063115183706,1.6900350293424462,3.38170026726095,3.6534291231420166,2.3870362411582673,2.0677160144855065,3.4370712897904903,2.4441940842165755,1.7905991754062403,1.0149790105659149,2.1737431034685204,1.2434467487059886,1.6022080019680958,1.1680464672387423,1.206059655091041,2.1738654909505266,0.5885535937037965,2.4106087056933148,3.200968852786964,1.295273364994643,3.2786840824469223,1.6555076595943756,0.5706940276090182,1.4551071907253141,1.8395266700433643,2.475659043268365,1.7370413928598976,2.9276530899346267,1.963144042461112,2.1103366254738463,3.315453439696558,0.3994531002583082,2.850260839757938,0.6110441515372784,3.1730213364332487,1.9602179777718185,0.9538716052438762,1.9000843697353058,-0.37647139885287956,2.0145126722557944,3.108465360778617,2.4677552227306987,2.7947838605751096,2.0016944460397488,1.3791851236945902,1.3791128600971432,0.7244740146016884,1.7776800686010594,0.49983582296787976,2.4281782454569267,1.5491012890105,3.4567642636553657,1.8568265658321221,1.321215060998917,1.5062617627527664,1.9650621384648397,1.7451787884644692,0.8587154984377496,2.8676277739959968,2.167059902427282,1.2960984979651513,2.30595342636403,1.855724819426049,1.4027183099814038,1.6848136451701272,1.2679582999433474,1.8550761820777129,0.1333302199284856,0.3808934524847966,1.9935361893835188,1.3779466239070068,1.0353470672925522,1.0924685999449195,1.4732660711657317,0.7605924014920536,0.3474074129549545,1.2228245178509383,2.3820653789634205,0.7453225433947609,1.5514771481110947,2.001525282783936,2.9581376775571893,1.4403464148749539,1.8910099244364202,1.3639735952071463,2.7176914925579503,1.9973411818364688,0.19329347212340187,1.813636964503953,2.8412389607858115,2.466701215754522,1.4635795158042244,2.9998814217746546,1.5232947260392213,1.5113477112757892,1.3849075358077196,2.7631929978978786,3.20757504736621,2.7171693465107314,2.693701381822121,2.5656425045004743,3.4489767709660955,0.30885886556243497,0.5424529721608541,3.1185795127798555,3.7436646013513317,3.1808619257489115,1.5806249762856803,3.7216897758401855,0.7303928967398319,2.9258396343677124,0.030388554056925504,0.5069667106690087,2.7776438962053485,1.8144994655152509,3.4070773530438463,1.984480778945297,2.1790929744648735,0.2614609769725084,1.4089088076404703,1.393491713776473,2.131307432155361,2.751643433184,2.9769694691208475,2.4472876348508885,1.3761992371208638,2.982875225511339,2.3894478017817753,0.777861302111531,0.9678932823792922,1.1476924001890303,1.0612748445767006,0.1084844135285857,1.1917470853973415,2.79289357323888,1.3013734259950154,1.223756254900729,1.9333357294151752,2.16094272067396,2.214885196751272,-0.2569173109546801,2.8880193722417955,0.3574253015222407,1.43823168761078,1.8746795691443163,1.5424826804205862,1.7815764165272843,2.5289449614834822,1.7189367803743676,2.2005803051228687,3.1392223133553725,3.391315394811417,1.1989196670378555,2.1993434412921626,1.75205256095858,2.116664889128673,2.3491997112198058,2.255950524401518,1.9691000953023061,2.8217505451413243,1.5566475265142534,1.9275178954747063,1.5670688884546053,0.8365035717323449,0.7532447462541992,1.2748568101394788,1.952938371809236,1.696118240460416,1.7848997900924721,3.966074572456497,2.2804034616294926,2.731991972111967,1.8682253687620858,1.2346515288109714,-0.001430848639377563,1.1404268579117403,3.0048590767486423,1.9496184088979527,0.5413694220980899,2.152917543059306,1.776478069675451,1.4301024479366566,2.4042592201960957,1.586923501861964,0.9273173488631471,1.5020977839057654,2.5356012919006634,0.4837577118280864,0.5128929911551805,1.5950487642390985,0.6497242947308622,2.1541053525286005,1.9368960837490072,3.4276159727860835,1.293089114364666,0.9405530662723697,2.6864590073001655,3.0533114230196543,1.5449304668633956,2.5358664976725187,2.5835602701380322,-0.018769173137869525,3.0428848735180174,1.464899450058519,0.6824612217592326,2.4530241892849607,2.724482310482235,3.1959318465726865,2.4977057089925356,1.999219397896225,0.9432418468493214,3.0468160625415917,0.534148033557838,1.6798243238218307,2.311883888468497,1.5815097396327646,0.9157439910297709,1.3702702661283073,0.5316304556115156,1.216614991919198,1.7981331098060425,3.1562909468225517,2.0849166955862324,2.4635985985582924,1.8368933398334402,2.1036497899730677,2.259944872895664,1.6090447708466251,1.8707580262915584,1.3621228851204534,2.464444615540742,2.606936874793967,0.9690965292769286,2.279968525085508,-0.022345520895234387,1.0199735600391344,0.4268485463828619,1.9220119626290315,2.6128062623054333,0.2460093396767225,2.8414192470205624,2.4507026697941114,1.8728458864339053,1.9304181817475106,2.01820045192033,2.4682605497063985,1.4364068867158721,2.2438801463238516,2.9894984539449254,3.500027269882822,0.8892991668270538,1.2074793699902442,1.1565961578333461,0.9397211498050805,-0.20686499696995098,0.07900171081199696,1.4313247814384675,3.504318854592777,1.936585442198966,1.2956525311307572,2.0886362850708595,1.9798305705436507,1.0697513067257098,0.7084185757725594,2.55563650340025,1.5160313880912626,2.4280523142389887,1.0251117094988507,2.30675824562867,3.3408266922364387,2.725664376610435,1.4996501561609197,2.051566248772521,3.530278429880888,2.018628047513978,1.2066581326720078,2.638554469541223,2.1234343234980764,1.3705200645373372,1.3507069213030944,2.6061866256412434,2.1887081485072413,0.9520935730854477,2.320472128051547,2.143838326620172,1.5042073641034501,1.5172279046364,1.1953105718965717,2.672337001057738,2.450280848883067,3.2872966732846716,3.1648439846263057,1.9620552129516866,1.9346258397052827,1.4294031745317357,1.3183867868020906,1.5502486031541414,0.8250129267435171,3.2023295761282746,2.983539876288233,-1.112901977554635,1.4570297546009299,0.5158792721187843,2.7049413774628084,2.0106999761968605,1.174373868147187,2.4719037231968914,3.072390802308897,2.086619411034932,1.9323394261109885,0.5104341980073945,2.829861040990537,1.934198912705135,1.4721186544837495,2.7034916141104266,1.570377085132073,4.924785502603594,2.2437268147616645,1.464006810250781,3.239068697844955,1.8962311532406846,1.827148038716723,2.9529739760388165,1.4138805417908433,2.048382699296947,0.37837235110946904,1.6621788461961464,2.762131231179239,0.9461544237222129,2.755220053289803,0.24428844457413113,2.32272586015785,2.617070775207189,1.8970245606931526,1.1521080210069015,2.1187940968386036,1.7917046682411872,0.3819074244421504,3.400526901151408,2.0422443581471623,3.1850708094833573,1.4926536176579321,1.296308499404308,0.8686777538486015,-0.23400699693449858,1.1244360848360249,2.3871284934753887,1.3157151833728669,4.017721418092054,2.156783288150136,-0.19417642657236706,3.2907980815890165,2.8460693220994124,2.4194428878726746,1.9119818486947517,2.7823127995883663,1.2290673163002848,1.27026064035588,2.000725208055076,2.6663471264634935,1.8101463424451352,0.26287265431637624,1.2901026595361416,1.5436353471718542,2.2552216659309288,1.612518970565433,1.3289869117067354,0.8507067962314737,0.7321528651353303,2.7421015913209774,2.683913838890073,1.7886327582613522,1.817086894337403,1.031659834766231,1.4431824115382381,3.5772727042921586,3.321374231763902,1.3324806118278107,2.7976965569374626,1.0464021126058516,2.795379925733521,1.5868288341758248,2.634706174619933,1.3503456903018698,2.5353848808491093,1.2987209102848807,2.1438867547636473,1.557241325281049,0.6954205722633039,2.438879768070211,2.361017631758993,1.0875175057467128,2.405670684650935,2.4959364924168583,3.069366698752732,2.318698150150473,2.688296432198253,2.1493500365807376,1.6290815861042518,0.40898825399783567,1.4160892725533327,0.6547109339238953,2.050789294978022,1.9689257821468864,1.1801165583918765,1.3744972521168772,1.8350661331286031,2.7160277594896836,0.8102295364480878,2.1281226442826786,1.618312585749571,0.763370926194369,2.968465993912419,4.152333504239161,0.99282300862471,3.01063514815933,2.856735293817707,1.984113262586754,2.2386282548075283,1.7440917557802722,1.4572824130878723,2.1492224724192135,1.549520944308774,0.5162269942345953,0.2711945148818771,1.399189904234093,0.8509035631396196,1.930157586896334,2.4060926663465745,2.5769520608920655,2.402194600606304,2.3677327201778597,1.8979538961187299,3.346951617947565,1.3074498887498456,0.29653011323789247,1.7701014227734506,4.158295346870019,-0.16243622650880277,2.4296611722718224,1.4118465798059545,1.4939403607959065,1.9555968610599177,1.4955940512456782,3.019950616812071,2.104726076969505,1.343272663747201,2.265955517495757,0.728820419611742,1.388890935711338,2.947466812130514,1.390174352440985,1.238794170146238,1.3775622873247602,0.7521541216326413,2.912956097552923,3.1496800436888193,4.1234440751250885,1.440524324898657,1.3669849512821683,1.6653262864638643,0.049263941259319766,2.674524751889101,3.2074064871056565,0.32212374613892214,0.954614270023749,0.4888478524124719,2.0111990187356534,-0.5250850346173067,0.5863011790831547,0.45687040742730956,1.4087436464355876,2.308897437587618,2.1557239927496044,2.8224996620567047,1.9686215424039504,2.1586479172943434,1.411685826635147,0.3726320804594998,2.2939245987629153,1.5958857601606233,1.7754996392249358,1.326058178227626,2.7672907613207074,2.5523986138063677,2.8011839504421365,2.146352493798869,2.987606717380488,2.490520278667286,0.3063909020135109,2.1044636410502933,1.4832595190187143,1.5367968386610475,1.89433010218332,0.7395674651648546,1.8117631499706444,-0.14552825422183605,1.3508919961785892,1.5379064671010774,2.005523931508951,0.33383633748457614,1.2112149036744377,1.9125893431982597,1.5356459543776324,0.8100047425189376,0.1699564489794387,0.37184538576439763,2.154917656001092,1.9019757621226379,2.6546146274563194,2.0271217537572865,1.22799086145161,2.0229035924311534,3.1034625495066965,1.0936005955585324,3.695216443840021,2.0223980512111384,1.9421942442273556,2.06855604833691,1.1590363451403003,2.9395322288043095,2.2054747631040548,0.6871366398016299,2.1826565693713693,1.5857552453072614,-0.5357086733022168,2.294627288727719,2.689789116738224,1.4167704815457742,1.4067921352217923,1.261321788183434,0.933567212083741,1.5780495747448882,1.3617704489667946,2.2223194536105946,4.407699050336872,2.0053002058063165,0.8329383005199145,1.197884298601016,1.6216646117187858,2.993787957990944,2.24452398579834,0.7177071463760155,1.9826038023376105,2.720525948936299,0.9635194372298248,2.536018540988835,1.4509969851870352,2.1676640680729786,2.1294546552449614,1.9298042443536796,1.3080534254736214,2.73571249752857,2.1055518543800193,2.298960374027896,-0.03810326508640613,1.9106691146866068,2.3135418716786913,3.528278583154755,0.37519156949780935,2.8323662690494555,0.9198812054866243,2.135810730536565,1.4572032177027137,1.740645168007619,1.6102810914083678,1.0225507175612387,1.0668224473783108,1.3288663333296484,2.3441112912021462,1.149434541057303,2.0221944205194844,2.5496298485827555,2.278993060455305,2.122513793462141,1.8422009672863786,2.0538318818567456,2.7870893301769404,2.3286509225852243,0.7725858353070219,1.616944169307196,0.933365176177194,0.7456370539127781,2.66323199281915,0.16296074826715753,3.047662715468634,0.6739991881293337,1.9998122973600987,2.7376645890938014,3.132419827357596,0.27914710713874874,1.5954102658308622,0.5123218220097293,2.744124092780823,1.124646834260594,0.03355972283898148,0.7982803223225027,2.0872219520154074,1.7079851607627412,1.215805420284849,0.30689686035251607,0.8617101150020229,1.799647635844826,1.8850656904185323,2.497603049455202,1.1907920121885183,2.9230024333343634,0.07668037147278152,-0.8195290278927166,2.182485544217346,3.177860254621389,2.708566879052616,2.799672761342348,1.6288529231477729,1.7763597714690051,2.666843811384871,1.4390036582740728,0.6276509880300566,3.9395908450807426,0.3345638974832121,2.507364775913617,2.776699455788718,1.0450193220188395,0.6395608835617486,1.1072795227074708,1.8750114609655404,2.13157930291366,1.1807810985403993,1.5610494642486141,1.843298946514928,3.22672442903888,1.562955916677834,2.0541123538194275,2.1529395555440742,0.9068272764781675,0.13990998834753932,2.240854595962507,-0.024512062616034083,2.2979112146594987,2.7049214036302023,1.273649122656999,0.10596917878345598,1.16840366724793,2.1755709351851347,1.640182698998881,0.4712075869262543,1.5952005427754345,3.0745658724391625,1.543697970070997,0.7592106684728066,0.642284731032449,0.26417243248151834,2.5295866089269246,1.1865713810324356,0.8749729172334728,1.339297594193704,0.7339713985152826,1.1725677166989812,-0.05273455516375261,2.2783255715441455,3.0327763900604405,2.665968135838291,0.7866692169231274,0.5805730978453223,1.486075180446713,1.7569155823424107,1.838868190894507,2.6356240847794075,2.354890112267095,1.0478064392558895,1.5580468493804618,-0.26586306220287287,0.9948458466271984,2.1779075486643067,2.8384807152955243,0.736397757127118,0.6512444200794774,2.426441324611169,0.8379278464384388,2.550048252371331,2.362856985366166,2.1305534795926815,3.183494028140098,0.6355855176401277,2.5890926921877284,0.39396193091368287,1.7755374249403815,1.9092591337585416,2.625019464530689,0.5277119218887245,1.9548439661106225,2.336215272757132,1.4049097219820537,2.478068025012313,0.9111268570201178,1.4868592762672002,1.5647974658124704,2.3154958273252335,1.2036867914070575,3.2620366102830043,-0.7247371644790542,1.7309479700375956,0.7173371666618301,1.1779531083118113,1.067050564545043,0.09284102985095374,0.8914055614276699,1.121630228911453,1.9186573802132636,3.5602152133800136,1.414935748809601,2.316060747145322,1.4271446750596142,2.4439431483789367,0.32559217780350874,2.6059444442914272,0.8109464093791332,3.7792408351774385,3.2297792566638033,1.48321482781343,1.7539773876778497,2.525667285446356,1.9669990932076225,0.10086831311615603,2.849059345059941,0.8548639464141385,1.7867788790462211,2.5132278410653703,1.1246631074315458,0.33889863794036856,2.6808563380918966,1.5149423536590123,2.7456576520936236,1.2716197299584877,1.8223699481308318,2.260367009077051,2.02611006422402,1.3089690531503249,1.371966775520613,1.7136675142799433,0.2750103799834005,1.7027047140016163,1.7403672769992222,1.1114171050841744,0.691712405535482,-0.1269061261522895,1.6553095388264525,1.972118291914186,3.9085237094211007,0.6694376762672097,1.4137067938947516,0.904448853262025,0.16817202563413408,2.0569769670659346,2.2746025217234958,0.7944717468031164,2.084860912627395,2.2474064584845874,1.1648874146263948,2.037653691979351,1.891093477965812,2.5998711358425606,2.575451239253592,1.6875786026948139,2.1882260836971636,1.3365520591049405,1.08948123766219,1.5467398592004316,1.2309988497173845,1.9648064466754922,0.6550001749242916,2.941905298584827,1.773338185183588,1.4305596012992672,2.043993973707578,2.9442746916750027,2.418193649965494,0.5790038520502213,1.054643847752835,2.587677128330949,2.724027912415319,1.9002893145127908,1.6432765153087032,2.1053863003605358,2.757635882465066,1.0687312201503802,2.076852514876653,0.8429610010076011,2.611346818657242,3.297258235616994,2.5737777906358152,3.46487992016299,2.113377275428825,2.5306423021796274,0.3515191922121495,1.8273091886776394,2.941646348155746,2.603529929024895,2.5093067851811646,2.4349102466794297,2.6233727089714405,1.5054804612039776,1.2592345442803994,2.751667629045539,1.8082392997481054,0.9424639716457125,2.347924894936139,3.4219250172732263,2.3081328068912623,1.6667929084113793,0.7129083789107432,1.2834280537697795,0.8948670598985964,4.61776642666449,2.801923566948105,3.298920462404352,1.047900422727252,2.075340867384845,3.7549619997830055,3.5130054064058243,2.1166523333181204,2.788757487476765,2.20389068944328,3.5231913377521806,3.318170507179529,1.9117711512075533,2.9713961657050545,2.027983442096152,2.753848149815195,2.4137592489186743,3.785054020915883,1.9260314212119438,2.4858348599729125,2.533804885194059,-0.4768112351368994,1.7462173555726914,2.8619548289939027,2.4656118605939996,1.9360415422331898,2.5693484279708265,0.5503322426774693,2.937649544802423,2.5478045041781003,2.9559977515258686,1.8153861371642563,5.190386396710371,2.170444231030915,1.0724345217176559,2.200610914608593,1.4899816207348549,1.4683597052225361,2.487531233634708,1.7513664881733841,2.9893259763356475,3.7099903150932656,3.773788152335183,2.0425243677176295,3.0603857643711434,3.1601200799406524,1.9299576104760543,2.9507612162617822,4.130045252683762,2.103460939449242,0.9395027885010637,2.1324380326898127,2.528532133086304,3.511703397130135,1.97586291306447,2.7792351326262286,2.5989260654122424,2.0737120263956488,1.88503753194334,1.5706163524384569,0.8846510501562558,2.2158589034809717,3.858823091312877,2.1221645677092065,3.580242638783351,1.632532723551178,1.3437616950740694,2.0829309943889225,1.804971315379252,1.8504089823140957,3.0991457630213786,1.6679768054923838,1.9908929676160565,2.6461459669504293,2.642989525732897,1.4934829913802754,1.9708101910331233,2.783556867998993,1.9948700842361518,1.9068195719784464,2.1458568407277796,4.845887628511807,1.889414850128974,1.4429160898166833,2.30119614280979,2.246867818500183,2.8106483237649376,2.892767700047167,1.5660437129728813,1.9081122572417373,2.509852745526294,2.868809653579558,3.830719771595381,1.5011896081497422,3.642137506263767,2.783951736255578,1.1512483162441245,1.0762585428634914,0.6067607592953945,3.765518672857262,1.1409087506455755,1.621439106791177,3.18830970127767,2.8693611033236652,2.847011893377142,3.7196475366263066,2.730880448754691,2.1340223118506696,0.013428903550524158,3.2302324779691967,3.459224285429066,0.4835109428280321,1.867902482173056,2.490885076743988,0.6943109396965182,3.0630907611782563,2.925695562908459,3.887652290033859,2.406357507764291,1.6875087116834124,1.5396051652724958,-0.04195957999668215,2.899956088936507,1.7345097867453318,3.102281046235364,1.9903880092859179,1.0983589082333804,2.7517907508624018,1.490913889852027,2.3257386560461852,2.9161244111290547,2.69628379049503,0.675840856470044,3.3670532360826004,2.979687723966546,4.047560759672168,2.763953042480664,2.383566769207589,2.1010638416824317,2.181887078322277,1.8205741710151166,3.02986634698331,2.4528804935531765,2.098709441144955,1.2356100923740296,1.1251938814716471,2.154232446191912,2.702798322045907,2.557091286017977,1.4991466205607058,1.7697589052697116,2.718722259611005,2.983733882651256,1.9695137612117604,2.8342789592318787,1.6795925073992155,2.060807766092942,3.897257863506915,2.549701386424095,1.8508761977041945,3.640104853436806,3.245833531548164,2.711705137601324,3.0776792704562435,2.365439438770485,2.027106268443192,0.9037079324389337,1.5675145814617246,1.0934467435099282,2.0505009102548706,2.1196739795138066,3.0422608771010573,2.5568441134189497,4.000665452358622,0.7753659150633367,1.2879288853447735,2.2572244213017125,2.519341861522303,2.4072884733540003,2.4962663812874544,3.547437008213856,2.312769941966636,2.916957393109077,1.3193866155402083,1.4710503923150449,0.8110466467547548,3.6923063681745654,1.9497143360782043,2.9315891568319072,4.369090075220152,3.642825952185067,2.2118708852093074,2.7615806580315128,3.7214192741202874,2.695018924539179,2.0757290019198207,1.7508841596836855,1.7260329362385605,2.0418002526387253,2.301285166636023,1.6219092275958888,2.0441092605124895,3.2026150538893603,1.0858107695895918,2.9179579755681986,3.6570146154335386,2.1265639971178776,2.6320400782519693,2.2410600459884553,0.6367125686927952,2.6270596302467064,2.0793498338292684,3.044459906869472,3.3445096296396803,3.5713193074874057,1.7132667393066363,2.2477207253544655,2.7291045568081063,0.592316067307909,3.698954268678887,2.0439207698827966,2.727326394761637,2.4054036548012063,0.4142214203652325,2.629831397475794,0.4297931874354717,3.497742643385964,3.1017780095068437,2.3482508203881407,3.745875794527101,1.8690564120744186,2.400130456157147,1.7593996882656227,1.4822738976183327,1.9712458259464882,1.7351840249915453,2.2396174879159,1.996567155434809,3.413357075867452,1.2290972598507492,2.5710445966206215,1.897529669833173,2.695781916529379,3.7482010441512594,0.7524461524358199,3.087732209966518,2.2420703277699583,2.1127295077609127,2.844640118610449,1.44473885537854,1.502893347697192,2.8829456159352334,0.7602267633575673,1.5677343695682346,0.5882476195503293,1.6708549393754295,2.0062786151045064,1.285613122359733,1.7623210110242962,2.0388364339791036,2.0731664154239287,1.0946689455927154,2.0171200551132005,2.0945834922737876,3.263805001455085,1.4250333145152978,1.5399548176784972,2.98372592708419,3.6945643915884467,2.124632334629738,1.6997885278800273,1.9632281741000728,3.7589959304218117,1.6387989060830468,0.037153990205352254,2.4738547997609612,4.367153487509402,2.861091417138915,1.7127147855289644,3.4588855598232526,1.64424865588619,2.4718628678242984,1.9556858135863546,2.739262385864118,3.7956068951959825,3.884629506977473,2.5831011305191214,3.7051855442635206,2.811084330009079,1.1933666733779704,1.1295327072826689,2.9809831892043297,4.889000471951786,3.029603432964521,2.2841935825598845,3.6055824157524463,2.2011388957839446,2.2849577681088946,0.6994925641863562,1.6279736225321941,2.7741595668867616,2.486998472831949,2.450674351714665,3.029204518439346,2.530158412696811,0.5528437413396263,2.4468588447534074,2.3075301735424527,2.9884672339154914,3.6752425912848117,2.0354274993058787,3.9577066797756926,2.470758727490514,2.9173691763447445,2.7572515403798423,1.335571244262571,0.8370162190608753,1.3024639204818746,2.2539562357696736,0.8021260870793843,1.4994158259909138,3.570845788380089,1.2444483613694153,2.470771401138687,2.1500336159544333,2.308408575068335,1.9409767950813177,1.1977268481462044,3.383102604322964,1.3405550242444997,1.9420014029506991,3.008354764749756,1.38944795099415,1.2678344355449946,3.6450477439091347,1.3054881431855168,3.5156588744240835,4.062000313026419,3.2359151646665674,1.4928648841964536,3.795912004499972,2.00762108310664,2.6752387626335654,1.7275335208160694,3.6544525568090607,1.8119733609730213,3.619297848130822,1.914027362096755,0.9738768392010688,2.0919622123048005,2.1708753900450537,2.107086677230658,1.7832019853520011,2.511448469287668,2.722579729314818,2.5562432324404707,4.749367264499874,1.6273066355957628,3.4417985310712047,2.661722129709359,1.0936597100491194,1.4627531143411483,2.4233528147045886,2.4665137613262305,3.140390110172889,0.6103949055078612,3.0608967936757527,2.904101394870167,2.193451976345719,3.5110960880081548,1.964072514444976,0.9368390151325067,3.0262616848760797,2.1977758590119083,0.5280986803643866,2.127614358619633,1.5156641827954258,1.099504962398153,2.5478705424276087,3.935135479976792,4.152064972159517,0.766415454889463,1.3672643626961818,4.352026311403917,2.6924012926366885,3.3096039381121694,2.175968767038876,2.70187516397721,1.5915014057344758,4.3332430457562054,2.027852931164344,1.3077868579895597,3.5697742879707937,3.716244047249843,3.3752949159294894,3.787660079686538,2.4995134357218722,1.8492422133319915,3.1211329494221896,1.3066639055541613,0.8683371344162262,3.9819940193426393,1.1655661347067776,2.745768030085949,1.403298714124167,1.1211578740773522,2.3518194294367354,1.2556958483697394,3.5595189238357356,2.958253582677756,3.054313669658364,3.042136240615068,2.3319319374544247,2.7147106743087672,1.28930646524454,2.743852865785198,0.9529777711904752,2.843490181408314,1.9451943979534976,2.4433529056670853,1.3876400053878541,0.7372740373179753,1.886993515689048,1.1197439453819282,3.055937204314694,2.504010073419106,1.322544757173084,3.8661195030190396,2.719342331848248,1.7310178622892631,2.94355754835567,3.0235645558154802,2.388264200537779,2.3697758713377888,1.9691505026522738,4.167911132350086,4.721803647404281,0.8167292227014042,0.8768348283287737,2.675681478918493,0.8163296787378463,-0.5567359635771328,0.6906628702333864,1.8796335437050127,3.678378876025826,2.937229949016212,2.140308876325022,1.91303601629814,1.891255283048001,0.9413340169574933,1.6106549469431741,2.317228407503625,1.8600454568264666,3.52193165570136,1.148117825402974,3.4771733650340546,3.2814771944313947,3.1533152817514782,2.2771494146125755,2.7618207684637137,4.24127342609955,2.5354817706553967,2.0048146012809926,2.5557571234967167,0.9590048617341781,3.224098590363821,1.6499329036429708,2.8169330540165647,2.539143025191353,1.9401093493839756,3.2570158598847403,2.5458842516958513,1.956759826731481,2.232900801580463,2.6571990364625995,3.792274795613731,2.2103086727384387,3.603767925677564,2.772093907227342,3.260055571276,2.132805934719543,1.8010574160155006,1.9382872536475442,0.7579587148015202,2.179838142993582,4.00587138901094,1.7189843961529074,-0.20829937434663157,1.5451352673060348,1.659605011579659,2.9485767514701404,2.507178146665273,1.7958042202902593,2.9967123403996605,4.088703307760998,2.66405426430746,1.9405419692049921,1.0642765016682931,3.390360416305131,1.3362271372023182,2.8638273144171404,2.7295598915228747,2.2846754629434924,4.087863011751924,3.1303136623423837,1.7195609262857032,3.9580422753326436,2.849120696055096,2.3328642389525593,3.098456486174843,1.9723128235699792,2.4633164265062613,0.19294084589148297,2.272071405139213,3.479753036681006,1.567401613383925,4.001380704316915,1.6529065011538562,2.123986470840559,3.2154564358303275,0.9158496675035429,1.6074801933236917,2.9606814488072777,1.5508902285669481,1.4147990703327635,3.2566556433555087,3.4286492436948737,3.480709914942691,1.6614869002585833,1.7828526244365626,1.1330094542086784,0.6608171161751121,1.6646398053121818,2.6352868740349917,2.175843819397419,4.374062216850177,1.6414080246109342,1.8975703845201273,2.9123060615415586,3.236500720196658,3.31891601906673,2.3653118186711897,2.9428101000577818,1.4096331276402922,0.7684778334277054,3.407921349354883,2.6201468272719644,2.763890942869246,0.7426066624512228,1.9533997949410107,1.614940973931148,3.3547602087965873,2.979591888274072,1.2420868240751137,1.989544222868814,1.7356731451212448,3.751687977588247,1.5637791221391348,2.980065579409001,1.6686460059395098,1.874461003021369,1.7254621821577538,4.009498509112002,2.654960786164985,2.5046845746514323,2.485573180114809,1.1161172460984405,3.332254933678402,1.1760318588872787,3.088784580379264,1.7082519607924236,2.7856369861600423,2.18196866370583,1.9681257403570602,2.1163044706349226,1.487035433095878,3.2956075068024924,2.1966467225237682,2.000267096305983,2.5128424741971656,3.902840594790593,3.7268524414380853,1.3630384342286992,2.7074927407960225,3.2945040422050487,2.313552385282311,0.590515728621912,2.8066355900734643,1.8644857321148216,2.5847467484220465,1.995884780591803,1.3019415772495102,2.0851448540702737,2.4722457016302015,2.0918832530798173,1.8340267418009382,1.8423496008289006,2.6289649311323005,1.3794376930996917,3.8490831018801126,4.413754459906494,1.5834974690857688,3.328304580442725,3.6640834016782917,2.867424383410062,2.937961340175792,3.36252608964788,1.2335134802004284,2.287950476815305,1.1298068579221396,1.0776628275867475,0.6209432665821286,1.5792609243426359,1.304503044600061,4.02202847505759,2.4103431989096737,3.754500730276479,2.797522520601135,3.3401640442206255,2.180177509282169,3.776698024257689,1.524022929855711,0.7331090535123925,2.3549536488319567,3.77266676222568,1.7600760819548957,3.207392542990108,1.2775867697490302,2.01214594459878,2.591985296014843,1.870615715840389,4.726172492842974,2.438383392014672,2.4019795325278754,2.824386575968319,1.9799863226858052,2.687310936202086,2.6810728343530656,1.9409191613603947,2.574854259537692,1.3597833705749756,2.2106468669141437,2.787713910114767,5.730741227519097,3.9022592511401504,1.8923147080234899,2.016751360923157,1.4761037697377426,1.4692775220474785,2.6888603217296314,3.7797755098445824,1.6533220196956897,1.3723805081402323,1.5121916160856714,2.1571467627634746,0.8932138139553373,1.1233728725553134,0.7243406001064825,1.9521041109659694,3.602247409750649,3.291324689235208,3.794983859987003,2.115278375418734,3.023029535448538,2.2099168356573093,0.2634969751128376,3.204478207536678,2.1661481468551305,3.4512085937568675,2.4038375800764706,3.1805635525701996,3.8623670522964058,3.929459504219408,3.260471030087427,3.7531787572369883,2.7518888161509234,1.3116701289290424,3.461895179527292,1.8187073942388148,2.0565096161439853,2.4606227483303775,2.6829607075072293,2.0943861659725784,1.502907185362633,2.679275494078582,1.5255335742583316,2.5932936042287738,1.916006765704491,1.574273062529013,2.6923925657539565,2.3834601168463565,1.1169810059303966,1.8574735039698598,0.9302330452771305,2.7150605552407128,2.700791165490172,3.7577947692602858,2.3124353415890915,2.8105856931853883,3.8006557890855364,3.45005603387129,2.402822174658,3.629955035330672,3.580006547498437,3.165226594304163,2.6449839716093875,3.0747305819499418,2.653081647125439,3.314393669369206,1.7230609998417525,2.7562492856791545,2.0060943491432086,0.7938453043662193,3.4485521973041466,3.2014236317861564,2.8138158736994043,1.442708218363573,1.4441552879351502,2.4765999940632235,2.127956863333274,2.382473356092661,4.322007722852586,5.240236220522898,3.0928430254128845,1.9588851245461656,1.4639937366710913,3.6472252979473554,3.528196363504577,2.35288039306417,2.553810996754263,2.831172836685094,2.866117077286591,1.8914105377680668,3.645374336515423,3.088086230707746,3.4448694593789924,2.1876211824892704,2.776165981002608,3.373315414086795,3.1338566808323005,3.3679689825471537,2.5729578981535313,0.42086145935572583,4.554312396368906,2.152796264471061,4.210705320068195,1.695370454056371,3.712968311545682,1.5040581372939787,2.6407538242156026,2.6810835847886954,2.5501955809079315,2.2449227008585115,2.123690125538253,1.9363384705012423,3.1360737858350105,3.1508685456315724,1.4354274326608698,3.1325565171944905,2.355327222288563,2.874104139435378,4.232504502451516,3.435212484928532,2.4376021585649523,3.8410564257268107,2.2854359145935845,1.4136119346356137,2.070047396252271,1.7708071553542963,1.3022263254718716,4.009567233225479,0.9076875575035704,4.486160014636987,1.7041837327996612,2.9307827349833957,3.855636756761112,4.595781457487831,1.0870677613343016,2.5911640420052366,1.279366732657516,3.6076526159263707,2.07719427675336,1.0461452558645268,1.9294544598284284,3.243280208399039,1.5258190456714147,2.068656120158064,1.1983712620744176,1.246198062173484,3.5393278412032956,2.815635059968746,2.870582173879866,1.5759322878972737,4.284518651875908,0.6986506941593871,-0.05385618193780765,4.5065111730659915,3.6296594550583885,3.9765893170918947,2.342901913060728,2.2962202237680867,3.649315241035084,2.178534322218343,2.069952071634809,2.740831794266572,3.6081887269198862,1.0685948240902974,2.629839370661446,3.5737307699752052,2.9494250015973638,0.8810227611968084,1.8428911116300142,2.883758556489177,2.3143560537686816,2.4811434463339084,2.6364291745377706,3.456785858740255,4.021590763172431,2.150082644914607,2.9397237430774408,2.6954688666836346,1.5255806406221466,1.049449579227292,3.122517288374333,1.5112687454497313,3.2133954598973875,3.825599047360722,1.2238669898758794,1.87337103038102,1.6835959238451326,3.4356421340901417,1.1419608158573675,1.1727819432048552,3.356755116730277,3.6139282740806373,1.0300092812351673,1.830231791835795,2.1291501219989586,1.53932705930144,2.485700063604047,1.4219021747626588,2.491356439800414,2.3217344299292546,1.6323200822630397,1.9051206822140057,1.4985482139445958,3.5640582037342776,3.7809512332004944,2.4702919001429686,1.5624168752664822,1.5047622138058625,2.604903941476604,2.9947168649682347,1.6926905581202112,4.448053849117633,2.4378659078394,1.852618916768106,2.060495409332622,0.5208126281127411,1.832573976890122,3.5393405514335217,2.265665835423451,2.226694323465144,2.7051283586751245,2.8104678566439967,2.019812253889329,2.3379657629094925,3.97768179672527,3.305614833875593,3.4702112337723197,2.904661784200603,2.3316626252164796,2.1538024002289906,1.485277645256152,2.8931906924586754,2.5845530505630903,2.2950376555047853,2.799513599530308,2.5099586528646105,2.7330023285531886,2.556908417749147,1.9087477575244722,1.964313329761447,3.1631356001092072,2.9807953928953914,1.8263210109259287,3.3135262924013484,1.131617988670959,2.510133898015332,1.3515282219497007,1.0692753487099265,2.5733635412196576,1.4340807121189714,2.0984617304107416,2.123640645613457,2.785389281811272,3.591472526813497,2.401053207824891,3.240453301321047,2.33365384201724,3.632742179430408,1.9297399389891332,3.093372915664302,1.4860482672741386,4.9547801600660994,3.6522162882608615,2.930354363129108,2.730781261754995,3.1835099007281746,3.269003905352953,1.7044222469027377,4.386192853528097,1.0583117472368258,2.9312384303939867,4.528455725659097,1.414763172668991,1.5001285316700868,4.187357617593887,1.6571601867229613,3.516274798690353,2.123237269292412,2.931465524139015,2.2995653912570058,3.5027569040505613,1.9545259109758921,1.9478724659778242,2.629145399875837,2.394357679791217,2.3184265183898805,2.5286780215937386,1.201825647170414,1.761756591143613,2.01753128694694,2.690228126515901,2.5863891491885043,3.596273613905304,1.6825805581364142,1.9531139285567418,2.00737167972945,1.1895742245948928,3.8316181088960537,2.663863275307042,1.6510134264061709,2.445989931524199,2.368038508985717,2.990747866932713,3.0400636279558113,2.485100132934229,3.2721853530394927,2.846044078697272,3.133701837707699,3.160669467111018,2.3635688656188982,1.8297846891030292,3.319174086822393,2.0137925993180774,2.008708133672148,2.025337731727126,3.9771590339507656,3.355925989605711,1.682841373496755,3.965561108764807,3.379399065424974,3.1357533085797358,1.8700871434161788,1.2154481894768099,3.572619342951974,4.817974257021878,2.1206339838910764,2.699327490230672,3.026743899309622,2.9512077756972097,1.8101559824788704,3.012450697387599,3.2714562765850994,2.723121560615094,3.6220649627901325,1.8512011160517683,2.4823653552805496,1.8814092671404474,1.4208401605061882,-0.3140555550924405,1.346231054338602,1.2777089437449303,1.4425228556547167,1.4711428751884381,1.3529622055390615,2.0730903808851373,0.9666053081236422,0.4629791260491423,1.6831291468066822,1.5463770999802966,0.5777205234219064,0.4715872985559186,2.2917855016438105,1.4415819375057835,0.6819709362738774,0.13587237359941848,0.09945892959964708,0.001247240654758351,2.355786230516022,2.7344916970831483,1.8941349084826593,0.5064242550175078,1.8304396835402035,1.7525457831168765,1.6634857507992018,1.89405458331246,2.0504016153671403,0.5707591143301881,2.4747756642724323,3.2760027621543077,1.17741684248385,2.2781706722469313,-0.16308741757570466,1.465990541802726,1.0866309734987998,3.2460076462826035,0.7310697314703483,1.7366747414632664,0.6824972603485799,-0.5676912486439079,0.30940336653803185,1.8789080270975724,2.430949951914405,0.9838096366036381,1.9711949288423722,-0.07894360815590572,1.9659578579678059,1.6556146323607388,1.126493820303572,1.0786657039248473,3.4167048396181734,1.8689854628970457,0.26907955662288047,1.5174622984235082,1.546789071870585,0.5027471961880561,0.9111323309552987,1.0554137402838666,1.5227717626262034,2.5858561714703368,2.204867684958122,0.3737088532861833,2.5550642489015023,1.100339545724337,1.334417711776797,0.6450860535409916,2.555781177140611,0.9717565859136407,0.08310261149225935,1.4926750911401294,1.2325405254509418,3.05621321237606,1.316416459356656,1.443216995553683,1.261123404129113,2.2700728091717366,-0.2823270397862091,1.1605721364474104,0.4370985012837304,1.0768455134642174,2.983463983652071,1.0896817346413932,2.7077175730764513,1.0892884973716668,-0.9103508154557671,2.0943705344289008,0.397123740815503,1.3074035712646705,2.0793179383461133,0.7210198080295356,0.5906712585998092,1.7243844590560622,1.0102489934955439,1.9368227242050298,1.0073466803972895,1.4364920164028219,2.1336534570334993,0.4624279242148007,1.6253580464033244,2.9139980537515946,1.5283681516376004,0.4031265879875361,1.2573238270121048,1.5774772168732014,0.23095232082817524,1.3020937408853674,1.0787129447619592,1.8096608183031175,0.06443610300885311,1.5995904908765413,2.319254547382749,0.9988215393670207,1.5209017213265312,1.4181831986542663,0.9506357266245217,0.9667602762934399,-0.2739852041313002,1.9960807415409085,1.2980324866207649,0.4346705582655368,2.199806261628533,1.0570479344608477,1.6957269136790218,1.090347153715997,1.4345861541298923,0.8729388354782165,0.12330983690082882,1.066397213414624,2.6948274912057637,0.870415214174959,0.3768880207495761,0.8025132987623929,0.04476516626087808,2.057138197565125,2.4495023387103125,2.1428807184260634,1.445997917057435,1.075069930547369,1.4422605475299202,-0.6575526655597491,0.9431814086844463,1.597760071518384,1.5830487091801544,1.4800333391605005,0.5413616958243259,2.361494446497114,-0.11086504899538838,2.2918440780489022,0.8270687742343255,0.6645537163410101,0.21119800120837431,2.1770723756397135,1.3440293357782838,2.0118962178831348,2.4505807249359965,0.5491921311977513,2.012873570868521,-0.02249893782259747,1.6802705076426088,1.2822798641109203,0.8905541621304189,1.6843948034290257,0.4479037808862542,-0.09002688244997707,1.6028713725259787,1.547741488845129,2.745233677807949,0.49664738464921215,0.7985210383744702,1.160122463167792,1.5458275396671473,1.4507142953789478,2.3526362584297313,1.3009495223993237,0.23966479805562682,2.8559999324425926,1.5387419332249999,1.1476271533683535,1.6173781630166604,1.8104770341855847,1.5924924552514939,2.021365980316639,0.4713573435732476,2.3425437070598547,-0.28097673818220575,0.25190109098610847,1.1445738389914593,0.7952017302919431,0.2930700396523711,1.415539489758072,1.590422674505168,3.0491905038878206,0.1989864679158196,0.06648761035682442,1.4866628309951122,1.375172367267181,1.490276657826293,1.1905446813322698,2.2611308716138194,2.127655927688602,1.178976522952914,1.4663061877922503,0.8150951898410392,0.7615815004012063,1.700207124251637,2.097381804944959,1.3480918208220058,2.4047196714882624,3.0162678650293944,2.280842698139498,2.0209908555572467,3.0993758229908006,1.7772986340586985,1.2596314603123877,0.9831209476602846,2.160999878306267,0.7910622554460277,0.7972609458858172,0.40345295750359705,0.4350945327747696,2.048557110188378,0.4632452129416472,1.6672539045619232,2.553188240372465,1.1359830504664872,2.8772724898359723,0.7719773816782068,-0.11531626029223778,1.3446659059857933,1.7736866733717271,2.197431960559187,1.437575601546965,2.500755046999171,1.975887267623365,1.9892759864324498,2.470152837267146,0.2847640737980368,1.907262177751257,0.46449706217137554,3.1666497238521223,1.7775650837795345,0.6756445225346978,1.3351347208754492,-0.5591242928451647,1.0948765897132442,2.5307724867565065,1.9219204116142181,2.7119528970204696,1.568424790523167,1.366441898532337,0.9522148171616872,0.36978758091899633,1.3656491216882305,-0.4240480012954211,2.0607485866119823,1.149813567259924,2.8769475187728792,1.0879853143762268,0.7074163823504247,0.7076863192516133,1.4893150657407495,0.9211168946388122,0.45305616410604715,2.436481989339789,1.3557412337638775,0.46991273327911853,1.3926889564026064,1.0996267931324053,0.8632551114460506,1.0115465824311236,0.6584073630156065,1.0777394471803154,-0.47622071699925506,-0.3475942526239682,1.0696523651202179,0.9276860015074203,0.8123406269531347,1.1094595668279223,1.235392534803687,0.7712117557939314,-0.26001965311241104,0.9615884020247636,1.895698951937452,0.7665612519985155,0.7592733171910685,1.2008259684224092,2.1298280420107814,1.1366328818412714,1.07331964319189,0.9391994231320648,1.7258438007626358,1.4684973376029933,0.2251515350290338,0.800550564104884,2.044787388145034,2.1502444575585864,1.3191562972986972,2.3393575841979035,0.629145093821177,1.1120599895252128,1.0918133570759143,1.9157685246080922,2.5491750806498326,2.4899151644505633,1.997071739618989,1.8796322165992183,3.113405175026782,-0.3049398130860569,0.4978516840929707,2.281774393791946,3.1574762438877193,2.613788406028678,0.7395721155770193,2.7298420840448707,0.2588935657364922,2.694337710586793,-0.6088965749160709,0.35617187958235524,2.4951690717754196,1.1072504690102418,2.7550489989085967,1.2347543652327795,1.5759136501182585,0.08093195384059947,0.6974120694147096,0.6628801378073337,1.111849419175166,2.1739505591618897,2.2484817640120833,2.092601201168197,0.8282405551440097,2.1142120436177967,1.4294581728920923,0.7098974345795178,0.7512584546210022,1.0223840194268812,0.08004650708326295,-0.08903557648632693,0.6777703371864945,1.9624600668320986,1.303497296855391,0.4888969372108382,1.873867345324664,1.4367027572859457,1.603210388963156,-0.303642469882939,2.446254233283712,0.17902014925070597,1.2810652439430004,1.7345040923595398,0.8819588428438355,0.9511429101205003,1.5986895246390547,1.5086735651972034,1.2703248682784396,2.1813565553260648,2.7477825241176688,1.0502487068115776,1.7766931400774568,1.144625494891214,1.9212687699741355,2.338580356917928,1.8056899020019312,1.1365427180351475,2.743167323307436,0.8939998180771265,1.3944263095204807,1.0807024614286376,0.3097835983592443,0.3943105708507566,0.35734459845730426,1.2053358289570941,0.727633128129231,1.1668533697232293,3.36926686069101,1.3926254419925732,1.7465158928977793,1.5581402231472767,0.3065199628269196,-0.8764656431140436,0.9068010632704463,2.975124884703388,1.9623616340602057,-0.08729635257302949,1.711152404101222,1.0607335897289407,1.2177153618991152,1.6715237733665813,1.1302912668812513,0.6405947827124691,1.1431636085023222,2.321090335002747,0.06323128147375696,0.34085945146477314,1.2828397477639153,0.21433076835390455,1.342786683865197,0.9769064548593241,2.658774721330187,0.6729188231350478,0.7196704967933265,1.6988590572256026,2.6391566052464506,0.5467111624869555,2.51675165992914,2.1099370682743164,-0.27150980552254295,2.2931584598054995,1.0889743077720726,0.3086599503331613,2.4678912853075885,2.1149313735544943,2.4249667242564117,2.0708076660570782,1.693381994002167,0.3655489728272119,2.352310291198836,0.14972740782989036,1.150980479588355,2.131354865336587,0.7234659120411013,0.41238659712080106,1.3362883323623007,0.2640227272042147,0.8895388794213852,0.974071215980385,2.5403683973136846,1.8130612254581806,2.151389582083106,1.2464572406490777,1.1202975816192546,2.130388750412765,1.6005492874051233,1.0976690331149126,0.8056687197020979,1.4641014403039256,1.7064156299947955,0.42750945988120054,1.5153750153503631,-0.3026964744647882,0.8989129209977375,0.39286661261685507,1.3825487640936798,1.5975959910459907,-0.6290254547979446,2.112931541911799,2.2850407426848296,1.3652407508041824,1.0490117746917174,1.1580327534682908,2.381181844431008,1.0116327146407906,1.8382208119921486,2.2631346196965376,2.6143731211062797,0.08647598160514991,0.2963387708891963,0.9484568135165573,0.2345960241604462,-0.5466843346300155,0.019533326721485132,1.1127441523821568,2.8820246925027844,1.278185475482591,0.507696441931483,1.7785511394560496,1.1706357727406216,0.13524812816053183,0.6447024499612974,1.6933449340878362,1.1932030173142012,2.0839852348581736,1.0569697724044826,1.3403970041578623,2.465791897761772,2.591860512406785,0.9389482490218133,1.7882062620859704,2.6849778274514775,1.4834125906993765,0.7224155765064157,2.252009972952899,2.134053677799954,1.2218491043110589,0.7751379181413596,1.556994420615792,1.6110152744851305,0.30218908981057396,1.3371199196977346,1.9038409193977526,1.4850925263600723,0.7675014909238824,1.2377879891040795,1.8164170443264487,2.095594415200375,2.473854133760894,2.1921111305743706,1.0105610675035055,1.3526852239624225,1.1851580255885632,0.27131845263701526,1.5311337654107628,0.5382903605928375,2.4865850961817624,2.5587657042131515,-1.6693561429729913,0.9536723606919584,0.4394199211452693,1.870260129335274,1.267345175065468,0.7007506662834715,1.8474856902465218,2.309921163434126,1.4600775072241867,1.3865046149945095,0.32778130401510974,2.5006610576323482,1.3225241049170187,1.0494683532690439,2.5399535578615207,1.283654518981392,3.9414332942497845,1.942137152588357,1.2856016579792469,2.3725293868117903,1.1826105441545496,1.4299841878265223,1.9420114465001244,1.273705065006067,1.9528085105800543,0.3677529968075925,0.6597118000989558,2.294879641896651,0.9631453906052165,2.3070833017505916,-0.17623798578019878,1.7195465358112354,2.457780460679033,1.6251690905651,0.6933519151658143,1.9764947491934528,1.7853330556600615,-0.044990618493305885,3.186015944253492,1.1863244014158758,2.244196018337051,1.0721271873036027,0.9671085160461199,0.8007138863165888,-0.3784302154400255,0.2302864526179803,1.5333324076044756,1.0863371304523233,3.157553719640015,1.689531698867546,-0.3662099662627739,2.89575810155919,1.875460338907852,1.444586162960364,1.327917362091515,1.9433838097400817,1.1504840944663943,1.0706167794805912,1.372059433383956,2.284050371595921,1.0498005744307413,-0.5909234315545373,1.0734678317778499,1.3333721319946894,1.40354945092039,1.0624364177282022,0.8553637098430203,0.34947327318287846,-0.14500580019971152,1.99662291932921,2.524623524361918,1.4190792285560314,1.1650585402021538,0.345649546864976,0.5915101965277014,3.4116107771828754,2.3889949240590984,0.9416883735187365,2.5088501199264064,0.7851659967796768,2.0307864159983757,0.9624108012254571,2.01241201252994,0.9255715182267897,1.8982236227364866,0.9185480262776831,1.4408854999793885,1.3406064975227578,0.5063960656898927,1.4194217550900157,1.3288163936165465,0.8199097773394118,1.6750591086817956,1.7228474992402099,2.481054470428745,1.9810026833507837,1.9003403429989776,1.3890042685663422,0.9876725862708804,-0.38321557692219,0.3945073887127632,0.512411586278742,2.0253028446535173,0.9133619645403107,0.6788830353432804,1.1918443581245926,0.9175539214464274,2.102229080841191,0.058379251875195506,1.981575554916776,1.5800829102628142,0.6550535123152234,2.178386033852769,3.5066767626850366,0.48734174385536366,2.643205489314386,1.9774527576222891,1.1536797561799712,1.8627031125210818,1.761082722663276,0.8179972841148763,1.749934750668638,1.150233222558197,0.40790958035544994,0.054559687123585915,1.314235069819077,0.7447100201208497,1.747504692904051,1.7052152824226907,1.9992591868699547,1.890341723255832,2.0257895116574187,0.9868132970176829,2.550500045306788,0.6872795975202275,0.2646720503322609,1.2178949990758454,3.19193410539921,-0.4321678257764795,1.4293179970350056,1.3481304539946923,1.2242087615282304,1.6136536525394778,1.007103753359335,2.013235828994128,1.5758822327360293,0.37691142227639296,2.030205851994087,0.4760797872270677,1.0002225682626393,2.2062358818594987,0.40682214408717315,0.514554206758225,1.020751982781691,-0.01456325896287986,2.753665783024767,2.9287974742097767,3.2675241183938013,0.6653114608616348,0.6384972461734038,1.6122295149544794,-0.2119721745668547,2.1669196162593805,2.650952321687301,-0.283179449068068,0.2155072106131088,0.41026463057858215,1.5800532340794469,-0.40526334022441735,0.3236664434629228,0.5808365846357465,0.6311574070060947,1.7200953409966062,1.577125156880309,2.5319612994735463,1.6508658404983723,1.2768695853947285,1.3943981231124936,0.4227713744500242,2.3073223636758384,0.939473078924469,1.891822711614184,1.3407512529970167,2.036909774235345,2.0382478443422825,2.066734331879466,2.029119603050279,2.4772372358592794,2.178257239061133,0.23011043092769357,2.0695399753893766,1.1827677677363289,1.272151107996756,1.046712583937409,0.6255503802373956,1.1759127874279984,-0.35813661500348676,1.51926272505444,1.1746726106250616,2.110571516435998,0.39843738950770585,1.1791213142850192,1.8751508361779514,1.7409084516047821,0.9099526470090175,0.5376980549903891,0.5995915121739746,2.3882764428323653,2.1116989857495905,2.3966332808770923,1.8246940323491427,0.9967810104016998,1.9022748986780296,2.5753674355476317,0.1989093860773851,3.4512113849404096,1.8645716178708798,1.990443283404645,1.4208743984093626,0.8093625812679555,3.1454936791297556,1.7700292973752756,0.6920483790972103,1.8666330328463696,1.3757109907393164,-0.6428951887947911,1.7852702937526934,2.023931578410134,0.59095668503919,0.8281062887258777,1.033427131092154,0.43328021484557405,1.5447598683416974,1.0689775704344133,1.5716019950453213,3.8879356204510924,1.412047258593448,0.8553949181368589,1.5186877610046536,1.329191992369772,2.261058487091595,1.7697218383472504,-0.08869183903382447,2.250157507613943,1.9431562770066493,0.9975578739074276,2.1499354958594314,1.0676142712888737,2.3273263288282746,1.7162447627447597,2.2255142382952693,1.4386474597863075,2.745338879356643,1.45442758786316,2.177226279587508,0.1003202870651352,2.22701185069044,1.8598294266046946,2.4812432293575584,0.3233143942102899,2.128825022714986,0.44157685321110496,1.9600615685643488,0.902712815220862,1.5480448612462698,0.9668141957059213,0.5890549933850288,1.0860172672413788,1.429154465806105,1.8270451873365507,0.6941538237699678,1.916339836232204,2.2589326111227637,2.1671484053418344,2.1968552495054467,1.5665297007258503,2.11849293294101,2.639303296162529,1.9623514200182968,-0.03237067859941594,1.2049791973856692,0.8978809309336045,0.5343236645772844,2.2715067810974063,0.4727788860719441,2.4599354180508413,0.3472020353018758,1.8307875547419332,2.0025792460799083,3.1022056428232654,0.49693984484909565,0.958347970205191,0.9180801188283829,2.1519960680243586,0.6878498941740613,-0.3330120213595801,0.1556467886672532,2.0326132521173257,1.6095854159984972,1.2307984903599125,-0.14046772503981464,0.985839550176798,1.7828156305099085,1.7571864338025815,2.781055786653782,0.9452706204273912,2.2561729581677867,-0.23275984417469917,-0.6348992727278097,1.8652758097921458,2.768079152621372,2.329584892493125,2.165751552319811,1.0585299398489205,1.3354092801854622,2.080328447050101,1.190090774182208,0.6179495474356964,3.300404657211378,0.3426354733934451,2.529002442309995,1.7845692790934309,0.8828045103397014,0.4373222858786304,1.2413953340771269,1.290739965613416,1.5495867478189784,0.4692279440742937,0.7360033570003838,1.7259460576440708,2.6286687042434216,1.626891003098317,2.200725418176631,2.2864466831080748,1.2326374327619865,0.04824459687545241,1.4854285112016765,-0.46997299988432517,2.1719098567292194,2.1941064381095168,1.588959922761211,0.08331152834778985,1.2349971447738706,1.5927573450907404,0.9247020619953912,0.23792075101645022,1.5263184225566035,2.2852676230218005,1.7556980501762447,-0.09262165446160296,0.5222620038208375,-0.15270624676340813,2.4537392004250886,0.8038507186335936,0.13374796289262234,0.9159273042453842,0.8009368008850454,1.1958738799227646,-0.1385182023217377,2.2831252566754396,2.3475310302487835,1.8313480978666206,0.28811150814545067,0.07058504232772052,1.2570360862576597,1.0550257552079687,1.6520665176684233,1.9663222788611814,2.2343214175751065,1.0780962299481824,1.1730469587772647,-0.16088455184619552,0.6177668818345218,1.748504208864868,2.945992795639794,0.4725577779514909,0.7951276470347938,1.7582743822152294,0.09023115639818143,1.9703574815412799,1.571325095978953,1.8218992276701167,2.5234621349127573,0.5929337407690713,2.1562549819594192,0.4983281526916097,1.9284021037564425,1.0899536218844863,2.016719424111788,0.5507213051372325,1.1906789274665204,1.969703527619705,1.3145393452917482,2.5195524697460168,0.3993869421572119,1.1799959124036878,1.6840131936638478,1.5627395809051552,1.2215626845019276,2.681070793474181,-0.7472238861127783,1.3792433218616622,0.03597956902865056,1.0058393994815955,1.3082388692151692,0.1847194202576406,0.1482697209054983,1.309688774576544,1.4198398007560513,3.2979901335513726,1.0469060993533106,1.5150741539683026,0.8239713266431655,2.1460612363761693,-0.02423457168675452,1.9105816304177161,0.9533447195112363,3.311116271543314,3.151921242560605,1.0316552617042012,1.3012162189941738,1.806861679633083,1.7677871776206084,-0.06524061898655235,2.1527086625271634,0.15123646833844476,1.352849233857158,2.317624713161945,1.4215580228906766,0.3815219546676962,1.9490110008324633,0.7506878026553568,2.166071496094915,1.5068894029710802,1.6288906910877812,2.4076790265325525,1.7711891447386254,1.034504594474765,1.461781294128058,1.2622609337886344,-0.28535256842421797,1.673653291495015,1.6228384427519218,0.9524987367831593,0.7783389734916193,-0.1340358834963615,1.6949101089443188,1.8505160756096852,2.886687527132918,0.029545052630978792,0.6132145892089068,0.49735316818849457,0.23590036668235992,1.428683138621954,2.385340356082548,0.8094048178170443,1.3666063852370098,2.2471803898249605,0.5511547109692029,1.1938694657470805,2.003456087449799,2.319779274636138,2.6559513231989693,1.0119334139834475,2.3150583447083424,1.0641784909218794,1.224110029016573,0.6720206166648668,0.9847427924014043,1.269227021966313,-0.3292043253805823,3.015427803407568,1.54090328799,0.9253986390489137,1.3787655498465543,2.5322060571500282,1.69929385362848,0.9168582803979961,0.7068139139826568,1.6932966768733855,2.6236059913663263,1.890362187573729,1.8604962739731883,1.2533938695022555,2.083370354563812,0.6614424034494749,1.7401978077467568,0.266366037876413,1.6705849466628802,2.8038832999664884,2.3551315268968835,3.6641217730194837,1.4934005769231578,1.8640775447602205,0.3595579126169448,2.00124376612266,1.8329331749800228,1.8963312744295209,2.656299462182031,2.6504307076911076,1.4626742979188567,2.173209809644842,1.3517180624488532,2.2229707827237966,1.7674854194456164,1.3534984256876899,1.4103204798771392,3.3010159632261895,1.5178644589422288,1.1099257623290557,0.21402230036725597,0.7009591403375625,1.166060519188695,4.0214853621699245,2.5611595875335955,2.6587784020523664,1.6458520997221322,1.4204408960163366,3.068048387075755,1.657728091332212,2.4010375343293964,2.259322865759739,1.7364377194469867,2.5223629638266414,4.132468314697224,1.3698899922579844,2.6506508651709173,1.5729681475884683,2.5864647029012047,1.8353418139095836,3.586845608017225,0.5998663930315865,2.0536513654616484,1.8196490898426791,-0.8019353551611575,1.2965570904081285,2.4161611083208796,2.1129471903904156,1.2328963627943044,3.209306060271585,-0.39451261837515783,3.3799082127047133,1.1179409671972744,1.4678469496321287,2.191536889139903,4.719144185732169,1.8682317692862627,1.4687789090959988,2.4185256052240667,1.6673549065696414,1.2302836411845826,1.84428311347051,0.9605353695003686,3.1716156692879647,2.636545150517941,2.7445806563124866,0.7773962882768652,2.476130743260105,2.159291288704521,1.6942050274586866,2.8340769762300355,3.128066199998663,1.6776551143556255,0.2483556301145986,1.700086384979863,2.367911085291281,3.720780567971794,1.0376397488492437,2.5833265916881474,2.8308248754196286,1.841335724435398,1.4558516925156773,1.4739049388885923,0.8739970073065287,2.174481389146603,2.9805936076226,2.583246315170827,2.984371185380618,1.466160400668589,0.945364745029622,1.5198067438782525,2.113282675802978,1.4866077769974884,2.88882455966988,0.7246459220010883,2.1098554446923115,1.9617454441127398,2.6441806475451277,1.3377026231903721,2.4553741344775633,2.820020387848522,2.0454558319406253,1.516095356267998,2.790167474047209,3.091872608783732,1.8587336182550867,2.378768913159894,2.326821938814502,2.408254208569947,1.5411265149528552,1.6510575924771262,1.3514155360421598,1.8912960196810793,1.5165751005808448,1.7979803548740765,3.3755510251300893,0.9683462901981801,3.0601251127934828,2.6218689446756986,0.7503011301479335,0.8660314170995225,-0.28979269914498995,3.6527688831570573,1.541035905991791,0.9519904498533946,2.603632036963394,2.4147972442193795,1.5294917917006996,2.5683399428145366,1.2017533903074558,1.451381750790984,-0.019577295700653724,2.253533190858799,3.3211312921975176,0.6245544117017451,0.8603315207781861,2.091581390534297,0.3511099573136317,3.4163641663967947,3.01576440517853,3.0223838391764515,2.261443403507363,1.6736104060162542,1.6310326230205787,0.17513829354064528,2.0401127607402345,2.1572113479368573,2.4919267217886967,2.051082897456581,1.4297921434554826,2.554918819848979,0.7791590364991,2.1927722360286377,1.1428487330189008,2.4148397872598353,0.36872905737464723,3.366893297743725,2.7791781661094896,3.338939345412346,2.528130791413301,1.689482005726259,1.911441750566958,1.220058907046252,1.3232331215994138,2.3063684779010454,1.7707498347876307,1.6549557505757961,0.8607374725364011,1.2346761368084924,2.322513907798491,2.9163143635032207,1.876137379754965,1.1716592513936843,1.3571040236597607,2.3183632589157295,2.472100767094209,2.152127742285998,2.0229909930361463,1.3224829394939177,2.0029414876731666,3.2553389618234987,2.7028555934914245,1.636216535738274,2.3184386100774286,2.9270603097664294,2.5720489279625744,2.3989524967922256,1.462267888798868,2.2275239542432117,1.0957496713122945,1.3939149483396909,2.2335638935494027,1.0660745075955196,1.0086826560023117,1.9452080681160455,2.0605876507884515,3.698573577499521,-0.2909525200280854,1.2955138906609405,2.287743548381256,2.6125673377816003,1.8770955920317385,1.7745692911331525,2.7544312232770665,2.1461345779766248,2.1703302363077146,2.010136470210697,1.6309027668804472,0.925274450600992,3.140804244833716,1.959024296113558,2.6522549203472834,3.307633049210152,3.542479242805416,2.7882780996291334,2.3947659818243894,4.052304231018876,3.153630270489787,2.3523980114379874,1.8007876021488778,2.34952158744907,1.5832064409184174,1.2966999913497745,0.7751052882437094,1.298099246834444,2.54777950959988,0.7996925085544553,2.327859362126404,3.743896905998653,1.6350709182486443,2.949008675692825,1.5499951999741657,0.8353801560944053,2.2368825805432584,1.9446267919478102,2.7502746414212123,3.277998834038637,3.5264986160279927,1.491770483140461,2.9649762298054245,2.2469494528314904,0.8443674679108972,2.341493989476924,1.0914494450664185,3.9928921266713666,2.704591572943402,0.44966754940779347,1.6195951598796428,0.7548123367833057,2.789232974943731,2.6129292841806553,2.3326364385153058,3.7233406621088245,1.7378722800389081,2.2220793587705208,1.7210298696392126,1.714217392668004,2.154519229560557,0.6110004899713403,2.6230757974322256,2.1420425117454043,3.3706288384091487,1.0053461290501875,1.7194691526397952,0.8068183771007961,1.5664394770985985,2.9062411612868497,0.2610949003675178,2.9375482502208663,1.5490040892988797,1.2657125579762962,2.669353577842398,0.6666446320908531,1.5103186933235622,2.9924987995478407,1.305997317250859,1.212532407905611,0.652801701772134,0.7297258148334143,1.230417886550506,1.8292500944375008,1.6439779942727488,2.524359615785413,1.0369510492083702,1.4243499623052338,1.6308961550636907,1.0401208266985744,2.039912666696702,1.5602005524096003,0.569690240360504,1.6392322182346417,2.3285124359302745,2.407835205624114,1.985939630063364,2.0991205736042895,2.88872245649208,2.186043765840896,0.20927164921633828,1.3874281548745115,2.7621605474731603,3.1306656973652647,1.7856774903644963,3.3460178122285695,0.4573217860708901,2.508922537226229,0.9944475305567232,2.7726776104612902,3.0757996135559464,3.1523657162061864,2.625443054966927,3.1789351330124096,2.3082711502846323,1.216555133492661,1.3572679162214583,2.407600011528326,4.083533880730589,2.9652956160754407,1.809022136141958,3.05309482062267,0.7839782177823019,1.9481435778015554,0.37035825100571007,1.424032101639889,3.162887963067155,1.699011609971049,2.9581222839051415,1.9294980373470554,1.8526034237672597,0.8695560492087234,0.8190725642252062,1.2605483235565313,2.1966071938671896,3.1377250132841286,1.9495693052570162,3.2320107828157703,1.7784921719460063,3.0508847185682764,1.8545088697226084,0.7785191194589683,1.1705773613567407,2.303999548614472,1.0181928893846297,0.5772336203423658,0.5860028065587678,3.324631892995432,1.3061389889694413,2.183200230445872,2.331534982752033,1.51997897501206,1.8489231965529882,1.0555445245662958,2.880179951791021,1.0115240985846503,1.5245704636234114,2.7776505323548233,1.139356381786342,1.5508948803189846,2.6403954131753054,1.5342802822027433,3.4991203543124767,2.727319834225651,3.338810449545993,1.3745400912471637,3.1391939142150695,1.087247502547279,2.670526348291883,2.1894307069061756,3.1453377792730848,1.3387043002230623,3.944225469497503,1.4716040614062702,0.7929913725782951,1.6936629432255292,0.967140386565939,1.40979266989564,0.12381522892023251,2.1897788505516957,1.585666340535592,1.8174737070007372,4.1454823410686945,0.9939246169918138,2.0778827811753127,2.0580299538926834,1.2971203329800662,0.6031627788758958,1.6078429412673454,2.8820759509939755,2.819767973103711,-0.028853494059560527,2.4054427852147833,1.671751307472147,1.2465937419836188,2.286598335462647,1.5990236048723097,0.6711203228075087,2.7386257126989566,2.2212744751982343,0.16722129948286832,1.8939704524068852,0.9107805638599845,1.0636070140788738,1.934494501549098,2.4762102153068564,2.8866846933597934,0.9976786656206809,2.178665619205374,3.688621354595147,2.476860225611921,2.4457052317727865,2.3598286645170865,2.727266861606675,1.4726575523194039,2.766535843998549,1.7307938632480022,0.918319200008512,3.650295068988686,2.581456471120003,1.9856014545739444,3.6693387216858118,1.934971679461668,0.6216572584543104,3.5673275610881108,1.3038117081009806,1.06469941180532,4.000869670751056,0.6533776557022797,1.7792554114165637,1.6587792395624772,1.2172996528411428,2.22203688218219,0.9811625788779607,3.2756372243772605,2.5992119552805577,2.5171027360754517,2.0882189699190876,1.0008418916009076,2.826004511607904,1.1684827624755132,2.1264799925496756,0.49591836932602806,2.7730627388968885,2.214492943871068,2.035447187055702,1.331871766348073,0.04795016320862177,1.7065580834144967,1.1875904264226795,2.0032354536967785,1.9950918934143547,1.3917042039786969,3.2825479854483652,2.507473061059391,1.2545274248533225,2.447943242753225,2.0096018707013252,2.4430705738676375,2.2861436718388326,2.005787668992502,3.4528209132139875,4.564604071085075,-0.09585390877862877,0.6656898396583073,1.985387805615677,1.049516219081885,-0.09522200498640557,1.1239764065767508,2.335449545036894,3.1897345708356135,2.49050224934725,0.7702523172308332,2.903236560610234,1.5134184679439968,-0.0334172248843116,1.5241035041384334,1.7263405195286077,1.1342819227508416,4.012240590231902,1.2825678055274843,2.2423012359117807,2.4669691106267835,3.9062133242959165,1.8053851877976494,2.864863826996164,3.0445300804046442,1.9879620716133444,2.31771413633301,2.801590793818732,1.8062821286665875,1.992313648883022,1.2977135371034232,1.9551205949084987,2.633941542382357,0.5269492202457037,2.1970549708991145,2.4457407375539515,1.16546602696047,1.532460305385025,2.418358088126419,2.210061134127386,2.7115809115307887,3.2533870215180136,2.4625767478965384,1.9934687112151461,1.5747622189742747,1.8092149528483827,1.793810019311179,1.2224176118880277,2.0287329874604203,3.1290511342828484,2.0796996964313483,-0.42907654169613435,1.2721819508709344,1.6553591078205825,1.6797813436578528,1.5771242569725592,1.8690473193415882,1.8492070217984606,3.3731497563537416,2.107340766970392,1.9171056877746981,1.6540702369762632,3.4903728781544614,1.1526355101846426,1.9298976781840274,2.63039895069977,2.6983951688869774,3.8084837549749406,3.098179218964272,1.5771015784445899,3.125269863117394,2.077757121461514,1.6592526264071252,2.8081035837450066,1.8354967827013897,3.9224693743682404,0.48485771464243277,0.9355921061122745,3.4192893392936363,1.1305923134476357,2.4397363824039493,1.4151928292663576,2.54342268206402,2.9451373334163766,1.507136241315643,0.9551353339187983,3.278094233628841,1.6422448142128308,1.4365797090002974,2.410186741982371,1.565555584040136,2.478227336337753,2.0538242618854343,1.2071497571827006,1.117499959130045,0.7122955289919783,1.4966291156853408,1.2154238019131358,2.3911705200717117,3.9389478107355265,0.8718476093846294,1.8373630429048133,3.228552978118279,1.9703819266263054,2.3649866525787373,2.136090062803763,2.402377809100874,1.6418802106035313,0.7576767281119674,2.50196064670221,1.9842052335842353,2.2102007798144725,-0.5679905096248111,1.768176286495256,1.3127916547916196,2.0368352094172835,1.8452394672080283,0.3848549934264746,0.4764944351991223,0.4118112549274192,2.636802456791659,2.380983088109325,2.4211843329865514,1.2458512915308322,0.4887667464172372,1.0293655309213003,4.602332411334413,2.0185345814571702,2.7034460575366004,3.213261573070876,1.7307699008688935,2.5757762120509207,2.1374589348999398,2.953462924393241,1.4688253172621426,2.4084736678893037,1.9703112224097317,1.2937938360917853,2.2025247860800774,2.112130402980984,1.6640797231396056,1.7865649233236862,1.5627608843254333,1.5300951238342675,2.7020560144258496,2.764578408721157,0.7070140446609527,2.7912961445451754,2.269762406147987,2.32641781862088,0.2060381837606292,2.2207134183262727,1.287384295837799,2.6532020991567404,1.0311178238589174,-0.25250529258542265,2.495990471167742,1.1670637464037048,1.687983328885496,1.498107385138732,2.42619582079345,2.9099833093039043,0.42034324646774035,2.6826490075377487,3.815010786783505,1.3210307041334473,3.74214609966866,1.6056544752441562,2.940826278108874,1.6670991774536594,3.452846861644393,0.7192686950507732,2.345372989533791,1.5267206061001666,1.2292642116380996,1.4032839647803756,1.735467311508109,1.034747297869183,3.0943091939496665,1.8530044047974659,3.2639881743278263,2.7920324041215956,2.8512314896276254,1.4321538838059953,2.7086218020355584,1.3669909100652493,1.2574693607443435,2.5957531178021314,3.206748068398255,0.7896722075532357,1.627039690751184,2.0142494671508078,1.6787338638000049,1.6031249573997075,1.2947861946460484,3.543542550114699,1.3150327487354816,1.9263608174929987,2.3343300262311257,1.4908361683993947,2.228779917887975,1.7863354494587367,1.0920704840623323,1.686573062338726,1.6830045771808988,1.3645889813660277,2.5381283191960544,5.1073699723180255,3.103215504372008,0.9167309673714737,1.7627438442281866,0.6516160535304085,1.4283425434143788,2.0141539374516997,3.5881263846315825,0.8235030779760419,0.884861588822964,1.8463762875407872,1.5486201805984516,0.5651399371316722,0.6205200663662941,0.5072912710081384,1.1346946866883616,2.7099930517116615,2.440373597294472,3.150956223594122,1.6144561523852723,2.541945657904244,1.9485373069490224,-0.040538167271136905,3.0877631365162754,1.535746864114787,3.66636235737828,1.3162334169920997,1.9364436898568336,3.499621292319641,3.0147839112934744,2.366440900829167,2.6727785338243946,1.5145894346805617,0.7678273870018089,3.404238095718621,0.6503687363293179,1.8293029134037615,1.5665049243873215,2.429975304210589,0.7194196109286712,0.44492864736741694,2.891610981270517,1.036676541524178,2.259688458639928,1.6201254521942847,1.0943248261601901,2.1544610227585337,2.4202886872635276,1.581259643012756,0.9619050170391115,1.0738055531261308,2.182899344174748,3.5107913846199468,3.1405539594342358,2.250819995104016,1.8091291637073366,2.714627297495847,2.1927882308003532,1.145782584672882,2.7771278470906178,2.224614934216024,2.7344468555161083,1.050107187190717,2.256371869295352,2.455537925133488,2.7794907598961327,1.6771414513048366,2.0386855096684884,1.6147312344803264,0.5060525888686123,2.640474675115517,1.8391067807713435,2.3008438002691136,0.9902344156069833,1.9738748477015724,1.9198328255550756,1.3558609715439225,0.8542065054161401,2.9324505688073454,3.768241163362904,2.0902953773156216,1.435220410941813,1.6323890612403829,2.2801444038611103,2.943281965204471,1.4247604526380324,0.9927790915717646,3.272478928546302,1.6272444001304756,1.8552246481153558,2.6962424752063443,1.5184916461625484,2.751504073373969,1.5273955842232796,2.1271591032945625,1.7608625077967484,2.723740959091274,2.9070354505373857,1.8946998233527046,0.7119430594369937,3.8482768636029574,1.7920089261228678,2.9522575677101663,1.338836050847299,3.1284255544421136,1.3559051431208609,2.1042605955488933,1.645691055404166,1.0009058010159533,1.3757227939950492,1.2917142998149256,1.4170532405081218,2.210064123592412,2.3723986846468343,1.2032076145817636,3.412440106222667,2.5082540294505047,1.6338480797361707,3.8139867999545554,2.454636042437782,1.8456707145105058,3.1562715033823294,2.2707559657925174,1.3097188525958023,1.7943959996178966,2.058491986385399,0.6093026463164034,2.913769226863218,1.152637373188262,3.057029538684712,0.6819631265212512,2.3754154951079585,2.9456430337627117,3.743605917217296,1.30925529340971,2.3366273716752985,0.5695490705796133,2.2943817909894184,1.795389004062826,0.5048985004315544,1.2047771460946521,3.262689709165642,1.9155260888051744,2.400152387339567,-0.07051501914163817,1.893200081482525,2.9509001023136054,2.646470354785559,2.359252011510197,0.8196433498979372,2.7558834566930224,0.4940628061404252,-0.9541927122728948,3.2145729827200844,2.419363941092118,2.446536458235765,1.664853973409047,1.3342028918318214,2.9940346301311975,1.9627917578088245,1.5954158572720671,2.8313023031110744,3.010192504082501,0.705838530132693,2.2746504354266723,1.771174134334529,2.056876536019193,0.4964324042935486,1.092376381236994,1.6383861083477294,1.980573995131612,0.6134344463881467,1.5032988049761808,1.958604914139105,2.9638904177274332,1.662796088288334,2.3789006403268873,2.0127842592157563,1.2166846650133512,0.24969608974179813,1.7598545954923597,1.0027528584983572,2.4955309368138883,3.1773699000545075,1.2530548265224786,0.5510406558791584,0.8673431808897771,2.3759675397432813,0.5174743850769323,0.5724007558701016,3.334599437217993,3.409359292116211,1.1277421160372578,0.9677654592879527,1.3581459189463754,0.6211873216137457,2.7048347737173297,0.2432313483204798,1.3742410158231941,1.1474000961794752,1.109743135295025,1.7625702074680294,0.5901742526573456,2.693416687114537,2.1789209427238108,1.8911547451819644,1.8079305970828239,0.573134956276259,1.5737260709557614,1.5423711444220904,1.041202047877407,3.413908634573767,1.6109929456058525,2.1467767090299095,2.3253708574867775,0.34383881257880894,1.2403321260714926,2.957702499884847,2.4273154633616305,1.1857197768114203,1.6580206013100223,2.2106413042357644,1.971546103653586,1.1650598651703625,2.563466192116195,2.1910240796092837,2.1545056363531745,1.5716249932562707,1.5076521553372537,1.7041893944773243,1.5470849244509295,2.918509449126003,2.0521021264374086,1.435079936716138,1.073767617973812,2.1680085303763486,2.508351925339061,2.6810406019213544,1.2546527753152796,1.228147356682188,2.853059087402908,1.7165204908140796,1.7343688464034737,2.680488501890245,0.8580018638248165,1.3101007706169658,0.6941647245866568,0.5763956400966052,1.673637580982259,1.166499906994949,1.2732208459608174,2.4396276173766047,2.3792862236094403,2.2810638312005236,1.440151977442487,1.6529347582495983,0.6689720488039301,2.8365533428569667,0.8398636362106109,1.799494496020088,1.119822107425941,4.485517861703481,3.329058974298233,1.5169870358563864,2.2905115563347205,2.227614222402868,2.391176000613406,1.0024915652300572,2.8590231578644105,-0.3074123358704253,1.7892793624660712,3.7834224378964034,1.7814427264830963,1.3391494497438414,3.2723156542689136,0.8413307178288897,3.04930680935391,2.5038008489554286,1.6510009166779605,2.8497241772090662,3.4106210971471103,1.2656656005884448,1.4877633298012969,1.494117620683899,0.9688317207185588,1.9465061585930534,2.4432632862314865,0.9844123095070825,1.2810799032358748,0.8690392491974427,2.526746908534269,2.1380739650047738,2.2797965141344116,0.624708614369404,1.2926131282221864,1.5481818409924455,0.5538881640078696,2.537554779131023,2.524682994763316,1.292807033919547,1.4800228889219544,2.7446121258165794,2.496406133904575,1.5221610627541624,2.989241864474854,2.407674891114823,2.8673731128668316,1.62039686545341,1.955516234589373,2.488225919666039,0.8329790321214093,2.337060050428308,0.9791899766334898,1.015711187969211,0.3422386313390338,4.062289218536433,2.4679484401375826,0.7061768554153547,2.5025160166292304,2.6729716801416337,1.7048804453133344,1.734399917032476,0.5393076811575416,2.5789634387906255,3.8943159845150643,2.6030933546529456,2.843158107855303,1.481284303035028,2.2565534697373244,1.3474114986955792,2.1686356939470603,1.958173828434614,1.8978298925535204,-2.579266248391218,-1.6541550241549794,-2.083135871395652,-2.943623742968718,-2.250420790510122,-2.0938176501955676,-2.672827151166219,-1.986998834043876,-2.838900534846596,-2.855822330431963,-1.758133196041006,-2.2902355309402576,-2.5320414125413304,-1.495509254618598,-2.144677480803472,-2.514778322719364,-2.338729776936818,-2.7328939592940116,-2.70139780561995,-2.0782635364028232,-2.4331353243799625,-2.6279963668184254,-2.899134456663199,-2.1988741536299172,-1.9295465969360348,-2.488135149961801,-2.7222962777324895,-2.644009883431258,-2.5015688591657823,-1.840070977308801,-2.0022451804948003,-1.9356965114225286,-1.3540420289457766,-2.1517897918196778,-2.584905500480736,-2.5782550397245916,-2.4331549835817134,-2.6354393329865715,-2.4990983859533342,-2.5031866663678715,-2.0247531162787658,-2.4381501313359455,-2.778722172039383,-2.7880546632633894,-2.1635393315568736,-2.494968016201007,-2.3994253436562456,-2.6863370369688258,-2.85719218288553,-2.207861154344933,-2.320421464568452,-2.4778072364358,-2.5143357601315843,-2.156589053089075,-2.365073674140633,-2.2930874520511284,-2.076307092269757,-2.3692492939358685,-2.1792534949088904,-2.090724330918395,-2.358461515197592,-2.3803826560648287,-2.8315551832715773,-2.3118787754717935,-2.079441538453792,-2.338143653105982,-2.4420659318314297,-2.6884764647545927,-2.655087406340946,-2.5584085490856876,-3.021649411851904,-1.7431019807555586,-2.238443712960635,-2.3213223392523963,-2.2608569108995247,-2.6914034741034802,-1.972697346280303,-2.715496525859116,-1.7074381089368504,-1.9944175660211374,-1.7042004480728938,-2.7203942227785674,-2.2759423928238904,-2.639035939510321,-2.190612263664063,-2.3562458629762926,-2.2474470940460414,-1.6614164882184908,-2.7719657768199157,-2.567808448043038,-2.2739434392044435,-2.009176556039163,-2.6447141948825004,-2.682051851656715,-2.5184774237759555,-2.3372351560807267,-2.576069573150457,-2.857923100023994,-2.246426966044733,-2.32499894525093,-2.20033306219907,-2.064296684803465,-2.808314219604404,-2.1333167523971563,-2.229139301857138,-1.785191978244514,-2.344208890235015,-2.7798768072875237,-2.584541818638328,-2.72116091652052,-2.1470821732979877,-2.5601564323298294,-2.000800820356626,-2.748259668015345,-2.263301024275838,-2.2632859023246303,-2.624304502566778,-2.630278205338786,-2.637449099636611,-2.331279903804867,-2.4355339560474136,-2.4365279850447648,-2.2917530839226767,-2.1669450237772256,-2.0703545673007877,-1.6184864393623803,-2.2169216521208703,-1.9689703518325268,-1.4366548920158857,-2.4226040173963184,-2.0135896590972724,-2.3569966173473156,-2.4537183167287764,-2.280363665556237,-2.336913094957013,-2.3705895336894507,-2.012447921067124,-2.9252799375866996,-2.4465514257611782,-2.0551627655317617,-2.0756663851363166,-2.5791397106548293,-2.748812726491492,-2.0267765157795097,-2.630982061022112,-2.5128406891121395,-2.2720681540283145,-2.074860114552992,-2.5652184044528408,-2.3499414027687484,-1.990043159281871,-2.249721713484459,-2.1667319734303176,-2.5906157406586363,-2.803796139602769,-2.194259049666919,-2.711066241895939,-2.7703105317334997,-2.128413320107439,-2.695592228845745,-2.9901875240006524,-2.518111888581823,-2.3976856859105493,-1.408005993655216,-2.3846755529757804,-2.220801072029485,-2.708378192398323,-2.2143156716292385,-2.6005214397200214,-2.4403737136226558,-1.6458813043692992,-2.455094343629586,-2.6523325137504843,-2.62032584707745,-2.6935343213179737,-1.8653955683227879,-2.5957524883767356,-2.1355801570280546,-2.613824280227419,-2.5044913784572636,-1.9790240227823737,-2.3915886993578486,-2.4064487894430404,-1.9646805253701924,-2.327964780585835,-2.931736508614842,-1.1104558693254287,-2.3625931425708906,-2.414015165859749,-2.8116668316987874,-2.05832239541683,-2.6753754804603154,-2.477634538242681,-2.3113458477783118,-2.812538030020977,-2.6384092558084493,-1.726821668788131,-2.573475057973845,-2.3717291462157664,-2.2149095624815502,-2.224363245372028,-2.348649417285882,-2.305434906302389,-2.6552121873698455,-1.9678979574330768,-1.8901477262116826,-2.2204746368248496,-2.317414404802653,-2.032346375892944,-1.8581553566346334,-2.045555320896385,-2.3083706489517364,-2.620099699920462,-2.026919838013715,-2.48925946333142,-2.5234584730438256,-2.2089243635160662,-2.4910055211487605,-2.056523864654978,-2.6536147959240277,-2.18041047676957,-2.547253056857678,-2.4451908301359757,-2.310771063506641,-1.6517662034309841,-2.0714713034498122,-2.0770236019298878,-1.575137089771525,-1.6884888198297976,-2.6150416439743105,-2.107282062785828,-2.225090197612253,-3.0820227400317637,-2.483571465223739,-2.4819429700466014,-2.6391937226908406,-2.6793111302377106,-2.3931600887282745,-2.2525487157432766,-2.0515078125032487,-1.9006065184664198,-2.4932015079020826,-2.763004508525628,-2.694846024910937,-2.027151556831896,-2.589729943124851,-2.2514536585769602,-2.619849488891933,-2.820681783382878,-2.390072248388541,-2.1633215134455845,-2.4414920498415906,-2.3870465450237957,-2.738377412675286,-2.625123267620379,-1.674284537637784,-3.0300943612222113,-2.1333548457511737,-2.887508596194604,-2.595154768895843,-2.206383473012771,-1.8094021047397557,-2.5282963458490535,-2.254623376666173,-1.823931696565778,-2.2020275068753117,-2.5483561353678263,-2.665814895717052,-2.8955148345875945,-2.3387369461864136,-2.398969946817411,-2.2873709339613026,-2.4790278195084006,-2.552226940898025,-2.5328206565887244,-2.280334797054135,-2.8441496788455645,-2.6939210248613032,-2.65508241002684,-2.6616913189763314,-2.7351530420257046,-2.768507602763088,-2.5351037265634893,-2.363389836039479,-2.3823485984250268,-2.668838719544924,-2.3296978857487334,-1.959672263837563,-2.5411596613731113,-2.5260856800447056,-1.8579272965375617,-2.838210313579457,-2.940312879602719,-2.0797718041227586,-2.484817041163599,-2.6323277609575495,-2.408568638085982,-3.1345762478070904,-2.4424077327363354,-2.2062119638882285,-1.484687638501508,-2.202984625571022,-2.344676240196747,-2.9053981436847445,-2.047995652560936,-2.42141338040077,-2.4920738525629655,-2.045896054946602,-2.723865752780749,-1.9957188962530807,-2.4598244086884935,-2.615713372841624,-2.608328562002952,-2.4955472253911184,-2.4606605704892535,-1.6510465898299602,-1.848412062942071,-3.2745406690442884,-2.4841842902328675,-2.1707054796359433,-2.357724234385784,-2.526459586035044,-2.0572724222351675,-2.494453049809367,-2.4675898869097823,-1.8830093412814017,-1.9376784592134983,-1.7831406441635624,-3.0784307466389436,-2.6100985639599004,-2.561292298524792,-2.416467640974133,-2.3237591075119677,-2.3105702708453006,-1.875810800721703,-1.653926679970556,-2.365689488731926,-2.58445524004133,-2.2242979687875026,-2.5094322709442167,-1.8968286388698585,-2.478509836591494,-2.6208781388131084,-2.715615535994792,-2.22255394366696,-2.544368493465983,-2.7847231220398623,-2.4496591003508494,-2.5912848957121226,-2.338012042680708,-2.8801962952931777,-1.7994136260858367,-2.1200067237816382,-1.8729349454645028,-2.139694795144972,-2.030583311048452,-2.5889020613115723,-2.3581668624565824,-2.256078964239279,-2.8210519210590874,-1.8754877682020068,-1.8304687749462116,-2.6468614406767763,-2.752407841537737,-2.7914218606267927,-2.7003529468147676,-1.8031254347068342,-2.264257946536651,-2.332826978764221,-2.2206959587915427,-2.433598925052113,-2.68380747084835,-2.6492034952872348,-2.778456229442424,-2.5748199055571543,-2.168674034964064,-2.5855854925612323,-2.257582208788167,-2.8104538292557226,-2.6977630986641166,-2.3820307413709036,-2.4606956374697777,-2.457526338850331,-2.4101226082091323,-2.393162997579381,-2.7945318391458844,-1.9073921640400462,-2.23911961381618,-2.1377124546042015,-2.1519956668266356,-1.9821726588350477,-2.4607813661085625,-1.6947725761010133,-2.4458243016268693,-1.9581999297523625,-2.1742140131525223,-2.1913193268087916,-2.3577348698189957,-2.6198215588390124,-2.2322321033569077,-2.4463013575362687,-2.598911360544343,-2.042934965661134,-2.936496289338716,-2.3687125983121287,-2.5827001040818893,-3.0810426945057556,-2.471910012954471,-2.0344541461284056,-2.008523423662457,-2.62286858080046,-2.856825873218974,-2.655661177637488,-2.6067817126035897,-2.7351554542777956,-1.9487101312939359,-2.516942209768029,-2.6725415338274376,-2.508207952774814,-2.3682035716264855,-2.689497695216111,-2.1601800767232207,-2.5951590908082407,-2.307680042777841,-2.4215646155196087,-2.7201084148980006,-3.0778395344168477,-2.7328941105504954,-1.9915631626256636,-2.349426193490175,-2.355615441552024,-2.1298217645954516,-2.0596591128093045,-2.0221301308129895,-2.6458222764069768,-2.7964875600859243,-2.507250963435756,-2.5738158725592557,-2.8032342865134146,-2.272850342993072,-1.9232165213880423,-2.24308428589837,-2.9000699068527394,-2.6855754164750216,-2.4403406018687406,-2.409553942582525,-2.5922019031849937,-2.170214906816663,-1.9395869407974051,-2.1215704558887527,-1.7312904929844941,-2.0033794190485326,-1.7271365918942976,-2.449537494883408,-2.5692861748049913,-1.9052089078196761,-2.133612874445316,-2.0219289037470074,-1.893413149739302,-2.6466169879756025,-2.2629073308130665,-2.144049366063044,-2.471630721691861,-2.26020818265022,-2.4309330738634523,-2.291621813683848,-2.321776653101877,-2.1585737387509565,-2.7666462931655293,-2.6190295375919836,-2.0720002025189777,-2.4897020583814244,-2.333139389961011,-2.4513878583140403,-2.92380739005537,-2.006735351477004,-2.435202534173548,-2.3649388981911352,-2.24275383744447,-1.9213335649971715,-2.4682815101217335,-2.5274285204741367,-2.367260343698265,-1.67916554552856,-2.0338768091350654,-2.7048519648120357,-2.4577654409945495,-2.673960475884558,-2.241919664934069,-2.4354949754418227,-1.9912008772360361,-1.8919669210715353,-2.4621971011158754,-2.4843974051303404,-2.074185941546675,-2.286018135087028,-2.3283437200283985,-2.3589065316629103,-1.4339028353408088,-1.9054177943024548,-2.504989660041074,-1.998624860676176,-2.4668356965943015,-2.4110002476504646,-2.6832235260190394,-2.644052915248815,-2.521722539770089,-2.4976729108225917,-1.717656991922658,-2.2451918057929414,-2.554902328876793,-2.4399227109264707,-2.654521027198539,-2.176856678649828,-2.5890529861188987,-2.9030302718229217,-2.2892608460468846,-1.847056845660093,-2.8537226621727934,-2.381814444471187,-2.835500430770341,-2.40493109710799,-2.2697970949081125,-2.1070651352936838,-2.3179465509038755,-2.2855451423554847,-1.7371927143093653,-2.540256948381915,-2.5181993115308914,-1.9952648831850661,-2.110470843075529,-2.7985105526532448,-2.43126441320717,-2.2361107098442496,-2.1309517838507497,-2.23147366510715,-2.243741566263546,-2.082559041777979,-2.9693301978036333,-1.4571409778435125,-2.9600841703912195,-1.9848749451134355,-1.4911736960933357,-2.281451201167598,-2.837525789665097,-2.1246434843404534,-2.488947399630151,-2.79354405358626,-1.6116690006341232,-2.509359007324148,-1.561488510622994,-2.5745746961853184,-2.6923450030924463,-2.3513234880818508,-2.7482021092468125,-2.4010948981171785,-2.724977089906058,-2.598566372357374,-1.8545773169171713,-2.812272567531689,-2.865261872270214,-1.6867084949941056,-2.5735519090354315,-2.325904589591661,-2.274306307998286,-2.3255508074182814,-2.669762908935427,-2.7122520175653495,-1.8594409977515827,-2.196994324046251,-2.4030193554613977,-2.188194186768919,-2.2324402545330493,-1.7257802591423523,-2.48333550586935,-2.3597294281304486,-2.374997527063581,-2.7381403017255916,-2.2330838505630983,-2.869676666203873,-2.56864842663465,-2.6654120157357237,-2.6073255746980486,-2.669298835644926,-2.643720711736131,-1.784984776382586,-2.711943447905762,-2.7231521972023356,-2.3507239005193075,-2.6928376100078926,-1.6816663420492426,-2.7726328269319445,-2.7169746777596506,-2.8293174542254147,-2.0244929503918043,-2.8468207855917624,-2.7037014995698376,-2.6294393561586267,-2.615375299167369,-2.445179689338532,-1.8678149959986743,-2.083346699975864,-2.406893595688297,-2.400858375057282,-2.226376772436294,-1.915577849015014,-2.7647832847822302,-2.2967985238847723,-2.524110134119474,-2.949826948785494,-2.552448310849603,-2.3730109443014116,-1.9834750201629003,-2.4328631632061986,-2.678481636036605,-2.3136800350511413,-2.5039028057934547,-1.8868335833319074,-2.839216734238106,-3.1172392623776988,-2.30514172338527,-2.5053381546447544,-2.73037428765788,-2.4458042890123304,-2.4366081663890067,-2.6581948937127966,-1.664559179588633,-2.2492157731763083,-2.6252534492914816,-2.5891511174173667,-2.580947813587975,-2.3599137683482816,-2.4686973550822393,-2.429580055477676,-2.355607135465237,-2.3781716200731067,-2.5971024323223424,-2.3673468389204255,-1.9721697641967997,-2.077116731400565,-2.273546402551929,-2.3378465484509547,-2.5590045458899473,-2.45605409745985,-2.306754919001787,-2.685785999348975,-1.9113526224545707,-2.214298778176539,-2.723549890551644,-2.4627254947221235,-2.4119984659514446,-2.377695354779652,-2.4848364326799404,-2.33683155470481,-1.9738389879735205,-2.842277385537482,-2.24119490146936,-2.557736784127049,-2.4508418855854863,-2.0670263315788846,-2.2961110488277523,-2.338325142274007,-1.6274336316216231,-2.0757672562130645,-2.5898081736631817,-2.4434176495421327,-2.261028694041415,-1.8662325828597173,-2.4434987018311047,-1.9500767117427986,-2.7025009571885206,-2.329358516534486,-2.272874246035877,-2.555935043822939,-2.6524292411680954,-2.7308028940877556,-2.5935316061722955,-2.266044573297433,-2.5186448859319137,-2.660155000149663,-2.446544207962073,-2.3145623168709477,-2.6237576078101816,-2.0924177246014817,-2.590734214545257,-2.4939474978631657,-2.0627530576186306,-2.3100477731968745,-2.6329358239418053,-2.2405494139603337,-2.6506363378412683,-2.6699447937422445,-2.6342851742263766,-2.6979884559286167,-2.149864721080723,-2.4634613689164424,-2.238083725047272,-2.034799469668759,-1.9805936130775512,-2.51655307238525,-1.302015514960599,-2.525826043379743,-2.409406960456722,-2.4974444828373334,-2.6141508623851077,-2.3512852891263645,-2.8133649015057296,-2.128198031196482,-2.575764573886442,-2.989501068827293,-2.7480506595287886,-1.8002753808818972,-2.4125529578333507,-2.249387832321848,-2.5464635694473317,-2.3077174654978547,-2.415652414694164,-2.4455548386261197,-2.6517086398689687,-2.0435478232580784,-1.5079793124770609,-2.4850822664938903,-2.446028884681796,-2.2812278811621405,-2.3024160185307734,-2.354101175340034,-2.324508532299992,-2.2465362465139145,-2.431340110664961,-1.9845225841924277,-2.5579192458686486,-2.3087611374699315,-2.79140592532871,-1.715399765177866,-2.09904344237304,-2.260791747060687,-1.8372134650209442,-2.633234536465589,-2.712454020159346,-2.5652372941066104,-1.6099219642832607,-2.7143848206580925,-2.4063515066454277,-2.087685618754382,-2.310878607576198,-2.339364622190813,-2.6602340072314394,-2.28172191682737,-1.9138662124155146,-2.536267915455344,-2.495585038041127,-2.2662783763688714,-2.186624780800539,-2.7845170645348056,-2.4908947023878243,-2.2348424157602573,-2.5944226628170766,-2.2416428707565794,-2.2778300670338765,-2.610633878024414,-2.273299611491341,-1.6910634917199014,-2.33251530971063,-2.5811171324487874,-2.2996251346071017,-2.851546251965553,-1.7989472336958092,-2.63074733653137,-2.428156709241363,-2.587001180870165,-2.4683073781274287,-2.3649778677267217,-2.500084526041346,-1.9538079948920943,-2.260738333130001,-2.4952695745824482,-2.34818308900462,-2.66823018144751,-2.661145239015726,-2.6044859721351883,-2.142993769744707,-1.8148747083979722,-2.345347994448321,-2.5765200961628194,-2.0439793602108454,-2.703691472432549,-2.483842993260444,-2.135644388464108,-2.0701996677268224,-2.3973682070562106,-2.257381585499145,-2.2314360224243437,-2.4255475505852484,-2.236361823266084,-2.467453818273118,-2.325861859976223,-2.389572020377122,-2.144736287489101,-2.4633671460939945,-2.318576115630342,-2.857377509427312,-2.4169522026709847,-2.352846626901382,-2.633739922135496,-2.70588305763744,-2.918610329844237,-2.62406471467136,-1.7250043008904345,-2.5486375455275962,-2.358194524889134,-2.2817450149536596,-2.6776230840913207,-1.7349445088057929,-2.2062365410674025,-2.3484829856725677,-1.93333837321208,-2.4483740209385974,-2.897624378008917,-2.5570349594327064,-2.252603001195573,-2.4392787564112606,-2.092167797804114,-2.2337809314665957,-1.6988625899425833,-2.6843564286047767,-2.4024389463992737,-2.4350751512596984,-2.4168227821331807,-2.6699521272035707,-2.625810392410699,-2.489440519119104,-2.5407657726319055,-2.493999019324196,-2.6954703092275305,-2.4474476187202683,-2.353985127538423,-1.6971843249122125,-2.079330106937626,-2.511315620193766,-2.368084811397003,-2.385295576861596,-2.3973863301875586,-2.94001818268496,-2.2391563785762316,-2.3035171969751147,-2.3657313339043475,-2.0821025364071315,-2.3428970763066816,-1.8980951511579467,-2.421681352035808,-2.13405270088514,-2.695617419649049,-2.0878914445604173,-1.4974835386047787,-1.9729903486580112,-3.0882094805320923,-2.264503761691704,-2.336021010275314,-2.410521960939785,-2.1522618334505688,-2.5763251101384927,-2.660757885357281,-1.9183384410430524,-2.570722001540078,-2.5267951211980857,-2.0532130032512206,-2.7942996983072,-2.461490858573674,-2.3903101410459318,-1.5599204235696442,-2.463186123132466,-1.9241396073082682,-2.3511423073915934,-2.669930334419244,-2.8839038722062313,-2.216344840181838,-2.4602202514315206,-2.125563044443897,-2.086567183782975,-2.352992961609502,-2.1302350634021985,-2.6531273847794474,-1.9552441032469416,-2.1214803179535693,-2.7210842868342895,-2.5564287218152555,-2.1595148233581676,-2.5542135475502423,-2.572843879657152,-1.533155625960276,-2.467558618030878,-2.084299748070279,-2.0048141500779133,-2.932715602450937,-2.5238377639925833,-2.4736362061475985,-2.186417758057759,-2.111307236070585,-2.5777418007226616,-2.1945978331930434,-2.6178428508136555,-2.625564697917407,-2.711391603576954,-2.44118569062521,-2.2160886278656298,-1.812999767886415,-2.1623093001313953,-1.704445855233455,-2.563115018488952,-1.8066461103221498,-2.6000230843043926,-2.7921006773181345,-2.3728805536187183,-2.123689730733192,-1.6575432087965867,-2.260492488553182,-2.0654960797132147,-2.372700348770321,-1.706953785654015,-2.424970571965603,-2.3741005361828647,-2.769445811200431,-2.3623639617377683,-2.6123776940141172,-2.6744253720093316,-2.445410536001584,-2.616663105715182,-2.1713987653523596,-2.38365838131606,-2.41920879084169,-2.8476985113912394,-2.330690333042936,-1.9895147780206,-2.606232692220221,-2.348546079168576,-2.528956619044058,-2.657029903372329,-1.9742576870257815,-2.0715873119561112,-2.824979695551637,-2.280612720321218,-2.6857474708036686,-2.4345483391700373,-2.289145192640218,-2.458485426975526,-2.1466569805515103,-2.906799625771272,-3.1265966644951333,-2.306079559504918,-2.916023363617402,-2.498290059465605,-2.2105965441339483,-2.253173957471992,-1.951639339781956,-2.7269192015513677,-2.8443188132157706,-2.245993729681814,-2.559087382862043,-2.6774931502785484,-2.5708013359312027,-2.3135863101417278,-2.569427968361945,-2.094035601057427,-1.8861645598900407,-2.4232220372023927,-2.684451791186414,-1.9658373644114866,-2.567157121939682,-2.8592682148894255,-1.9047824787706178,-2.421081296233056,-2.1817381436741665,-2.8780630334575608,-2.656798628785584,-2.3392064373353,-2.7184242190323746,-2.1407748092753,-2.1591492631209834,-2.6226420744969987,-1.7303747228324842,-2.8772629468779907,-1.5698889622727015,-2.220414870293258,-2.2600122411485373,-2.383276784941087,-1.8994961512120103,-1.901291093125091,-1.8541742674284882,-2.597824027420934,-2.1586199529465584,-2.506036172245179,-2.4814659331509907,-2.466433904957825,-2.5505846424193472,-1.8713929431031489,-1.447612985200449,-1.6129212366375685,-2.321005313085537,-2.3975232466061063,-2.166990037525989,-2.4858875632450186,-1.9946197996663995,-2.3146022032536067,-1.923711906736085,-2.0086885881535044,-1.9708127063786884,-2.1240448464303827,-1.909294303795801,-2.2438536930169786,-2.3065742290088105,-1.617321142369793,-2.5667375651176414,-1.8445351391361144,-2.1816592061472497,-1.9486189694233436,-2.5706065996594,-2.0311023634323733,-2.1296163336087606,-2.631558372346222,-2.207189444563287,-2.0528211048992775,-2.3864191748381836,-2.570711160112494,-1.7900876122110818,-1.60062736161158,-2.064746406214658,-2.541334103565569,-2.1642877699900738,-1.6041725595509182,-2.321266475614561,-1.7130168517275863,-2.4996764929719055,-1.737052078734959,-1.7353258318333968,-1.7741583476801175,-2.016881765801676,-2.102794109556114,-2.325020791398458,-1.9493647787226658,-2.192124539505351,-1.4168553929351029,-1.8545173341074415,-1.9089640270494146,-2.29460379398029,-2.7445556843931804,-2.2468853520434022,-2.0154348745302,-2.019385149744229,-1.6527782984475943,-1.7015311180102455,-2.5618915048702164,-2.558540955664542,-2.322805594908121,-2.2824060623382634,-2.1645534735901966,-2.5817128487915655,-1.9927008129724078,-3.0057514364473374,-2.3356504054372413,-2.2394033010277337,-2.1426317492529585,-2.3742373501387943,-2.6682529116994878,-2.1927015264287575,-1.4372091031910352,-1.521144270638469,-2.055155251936635,-2.407918510626855,-2.680034472866953,-2.1762822521983267,-2.10887608857028,-2.618346959207389,-2.1793659553899656,-2.145030451581671,-2.43515513203524,-1.9572303907190758,-2.083353006989238,-2.46715905258598,-1.573311707982973,-1.9417578004218536,-2.150287517136983,-2.526875577596409,-2.169676540004746,-2.4410191439643314,-1.983563385556402,-2.0746175049274456,-2.3533483375283213,-1.8192900698142265,-1.8037419901408454,-2.3196562811512584,-2.457643448911541,-1.9543740586443863,-2.453476356090723,-2.3534381435455844,-2.4593181855517368,-1.8739825275424862,-2.4964689434120357,-1.9997417270310676,-1.9151688294323679,-2.457983902671077,-1.926971250400989,-2.56729546302649,-2.221565364572771,-2.082770219123929,-1.9823442665584097,-2.1427130346974246,-2.3233640082518385,-2.404015916709372,-2.628808367970892,-2.2653552489829245,-1.9795755568029345,-1.8203862185081234,-2.47363709011647,-1.7002681426766117,-1.7925947277282406,-2.00677954262668,-2.4566797549380963,-2.3170295577632176,-1.9473930432366149,-2.092300817367138,-1.7785624556917978,-2.2355052364157744,-1.6987341027293574,-2.057452346594273,-2.7364367898649142,-1.5890613194488616,-1.7059360200534373,-1.9341122739920866,-2.1848917547813156,-1.9950460362025342,-1.9566225265194996,-2.4670945022475506,-1.6662376838123247,-2.03204405555276,-2.482728562933467,-2.54998544124342,-2.155454973424231,-2.1569968327686895,-1.8057866092987607,-1.8898412625514647,-1.855352103789123,-2.4389617339628344,-2.532889437674365,-2.203832906063484,-2.3009349046844463,-2.208371072639422,-2.4441558249427366,-2.2347733045327867,-1.8508538878462244,-2.4749642614443093,-2.1215698378157257,-2.108607300279105,-2.0479399948693384,-2.3234427729118283,-1.839237654061551,-1.8850442732085717,-2.306190960059931,-2.6855250393626373,-1.5706757665173274,-1.109721760122345,-2.0757101678073235,-2.6467570173107986,-2.836892131457981,-2.3069597939281095,-2.0601979695345713,-2.5103564826706974,-2.437244928444534,-2.043140058192147,-2.407680587966809,-2.5687634721691923,-1.891178731671222,-2.6109276240274424,-2.153117741114257,-2.6415012292588704,-1.8978518476372785,-1.8427550977049112,-2.186409871015398,-0.696776422094504,-2.606523516469036,-1.9421128063525377,-1.7721610095902918,-2.0478668248158334,-2.1913867077978226,-2.3991699491708065,-1.9277197788776939,-1.5977325949027983,-2.4522472716527934,-2.2599552550113806,-2.553448944526146,-1.9398964762935582,-2.0574773866441123,-2.3417111756574744,-2.102457390047795,-2.6037601312448593,-2.7800694190012254,-2.645842481016109,-2.077787343702263,-2.415593232575875,-2.3389218662967455,-2.1981210731520244,-2.0434880835885165,-2.0417374363371064,-1.7423981448736716,-1.9839529595967484,-2.041438927741009,-2.3817760814215605,-2.7951858012063324,-2.175097186335906,-2.082417211542416,-1.9999156941218952,-1.6911777065094415,-2.177495378239472,-2.200003588439076,-1.8010524449786138,-2.2912632171067018,-2.3165285227713923,-1.7640446864932706,-2.1220143433655987,-2.040187025231123,-2.0409082573638537,-2.4747645251422234,-2.4894981702436243,-2.2155133514675827,-1.7231153873254808,-1.4395063052791197,-2.517320311450212,-2.155274759293829,-1.5873743094367283,-1.8122764840698575,-2.0714575613495954,-2.158698066911841,-2.3996756164909323,-2.67441872008453,-2.13654415388528,-2.3943941452233592,-1.5045139661397042,-1.3355319793664238,-2.2473618630366765,-1.5624416093235514,-1.9472603843490766,-2.059594792905082,-2.219512767787008,-2.034805570642553,-2.4830377851746035,-2.0489637201009465,-2.031040248896591,-1.9156783984357928,-2.0481357232121185,-2.545333443572611,-2.1660004175797387,-2.3686643954778877,-1.7711979416004138,-1.6933204165118607,-2.7679993407278523,-1.9075053776601558,-2.388165708610088,-2.447734757658911,-1.6563406014942297,-2.0606286560771503,-2.412193462451414,-1.6058372080353926,-1.4337693877747095,-2.224164060977697,-2.770379720516292,-2.742729959259664,-1.4095211508444585,-1.9981084048839648,-2.2233727864512964,-2.4969850332394765,-1.194940670259498,-1.7511264693426567,-2.099317801914405,-1.994228956876132,-2.2945725813158675,-2.333309443777224,-1.4831489758466119,-2.23455142042065,-2.329458388128681,-2.6330131596883546,-1.952801223793318,-2.564362751605558,-2.4003643460612794,-1.6619698852912712,-2.6084671335997482,-1.710460183812418,-2.299055646840805,-1.5931484982152533,-1.8555027412989014,-2.4165978847317895,-2.5143912252103675,-2.3006338365411656,-2.3149354866207097,-2.332357183580609,-2.169802779909867,-1.6158683750461793,-1.8588703201295171,-2.195538387976594,-2.8214234153627986,-2.0842137660586992,-1.9245330755106105,-1.8664807936194177,-1.9889216453584924,-1.8049158783859762,-2.868259150900881,-2.167841881906627,-1.8762103995614754,-2.279504583776019,-1.536738907129188,-1.4573503495248272,-2.467928535852964,-2.493531896434191,-1.881632452252215,-2.697778173167383,-2.3916151137516994,-1.7822854841491937,-1.5744343790796962,-1.7839770420305234,-2.063857855503457,-2.5240214059067276,-2.448389712996626,-2.3604402651261167,-2.475457764004165,-2.229491579647744,-2.3651078080551473,-2.259417445414757,-1.8981006079126161,-2.3659537663141417,-2.189652770889117,-2.496936553993083,-2.6015254059766395,-3.032570551241574,-1.8309710476192982,-2.210187445515207,-1.9964664893264155,-0.8214383881237054,-2.7432730330713597,-1.734101525046185,-2.3958291548254547,-2.0224815227163475,-2.578288505856025,-2.0392287123200843,-2.7973570554509735,-2.154784859812338,-2.161663838704225,-2.5485358558711027,-2.854847651049231,-2.204301046427672,-1.9294508637521248,-2.4836427130290315,-2.036780701183911,-2.4697240006747196,-1.6481360735016128,-1.6966063437113381,-2.0747710050367276,-2.3939916678041575,-2.2856866291189215,-1.8994940780479064,-1.6030405943592008,-2.4481580870982924,-2.12210162508175,-1.802176017358403,-1.9944887411758925,-2.2366921879079147,-2.0295049928324,-2.1245317889845103,-0.760497140949081,-2.011545923256893,-2.1447257916827587,-2.446648735860796,-1.4984401693151073,-1.9764120656303872,-2.329536117855718,-2.8115817778166576,-2.15213218335644,-1.6454884351530705,-2.4977060771705397,-2.4316293856640563,-2.489343901531444,-2.5327247065993914,-1.7030233720326724,-2.2317811343445872,-2.2839950620054346,-2.388108727514158,-2.419551927803517,-2.3116031634732774,-2.167451083132932,-1.0943377631525033,-3.000301173604466,-2.221253799804056,-1.100442179571508,-1.922236867008608,-1.1686792461457263,-2.7221898778478337,-2.293023429355002,-2.7884292168529687,-2.069055256478719,-2.4010710168290297,-2.3474689277258656,-1.945679962694308,-2.1642760170815905,-2.1579536766473275,-2.1781234684163064,-2.4346600291823437,-2.7789310528473194,-2.3122057973285295,-2.0345655179717643,-2.7133332494519977,-2.5550406312690983,-1.8732653527408696,-2.287864169238438,-1.8615905768906256,-2.37631808144555,-2.016739907470892,-1.8801009237417978,-2.6727911999459657,-1.7499087459409852,-2.257206176425894,-2.2531641754655976,-2.4864469176955137,-2.6600867869747775,-2.3172269225650575,-1.347724044958864,-2.203188595825509,-2.189175932231936,-1.5065725453870897,-2.6044517834413763,-2.3141137298932284,-1.427236770188533,-3.071056380330998,-2.7530861463878185,-2.239826491854456,-2.1053306006708024,-2.0943754195245288,-1.7041236888069917,-2.5132222690748973,-2.4708045391972093,-1.947824177556635,-2.465205090611661,-2.0698976566862166,-2.597185052396829,-2.242014367604416,-1.9087652347851192,-1.9708740017590867,-2.617625992105631,-2.9125468704356035,-1.8781010378431433,-2.5707286818048836,-1.7679317380252322,-2.0776041930501195,-2.513586923478369,-2.1662703152912726,-1.5732497469985287,-2.2197498366763257,-2.432442938876564,-2.7401899480395278,-2.2361160048942446,-1.9379472691853397,-2.158727701432293,-2.0881020456208033,-2.484976810128439,-2.105643234989515,-2.633860263452047,-2.461169813930832,-2.393732698237071,-2.5525275763047803,-2.374873595208412,-2.4068083786089214,-2.0751639877341277,-1.7798098632859423,-2.6030954727034934,-1.3414949054688245,-2.2547067467782407,-2.2887429266270303,-2.3823620742840625,-2.347791218731202,-2.27115347052501,-2.0694820706696953,-2.3992756032554223,-1.7510794967436294,-2.5759422132166363,-1.963418985445117,-2.3541981576303748,-2.2527301357131093,-1.3581218445509364,-1.919861847376543,-2.463466505021416,-2.134845771020569,-2.466503852791288,-2.3375322444060185,-2.3244399427067814,-2.148428063303513,-2.0828049332761367,-2.5632549113829177,-2.1048687268689696,-1.7832408024689457,-2.138389614536945,-2.2703942451747046,-1.4883577293175199,-1.5411671353419762,-2.6518020158298667,-1.951099307918522,-1.2838944274167556,-2.526429819794131,-2.6454131109342045,-2.5462051265121874,-2.819606575573647,-3.016662248915818,-1.8895008360484056,-2.6897915750248487,-2.2107590101645,-2.425809940322141,-2.0418899034936375,-2.783384175981032,-1.9194461745193436,-1.931842325105456,-2.473664913569726,-1.9493669394475794,-1.8081781406149955,-2.55934789720232,-2.449022369833728,-2.4540811822818833,-1.8531720009510337,-1.6833480040096873,-2.3775317659144464,-1.9532102763272965,-2.467265939322858,-2.488368482105369,-2.483415570600216,-2.405914877994252,-1.1984209082277875,-1.9246037625183532,-2.448878966852747,-2.5274895563553583,-2.1197340955038495,-2.5096840982869253,-2.716695803762957,-2.323214034390745,-1.5909078164809118,-2.8754437254156255,-1.692916584785686,-2.3758540357358395,-1.4489537128841607,-2.3689980918084665,-1.9216422352712617,-2.4091041768766606,-0.98421090061339,-1.9688472243989568,-2.1564497014166704,-2.151340282648013,-2.3014453609158947,-1.3746644874588823,-1.9270864974737822,-2.000410694453166,-2.064962176409262,-2.357273954935883,-2.669393014433972,-1.7269736572959984,-1.2104426510961697,-2.2070220922584265,-1.9850026539974395,-2.552586613466805,-1.2540730760284922,-1.369686936969903,-1.4808345985631655,-2.3061448810762855,-2.016657306611292,-2.1603187318721715,-1.909040652936197,-1.940442631719213,-2.206933385744989,-2.140959605014099,-2.4515322296821793,-2.319074876093611,-1.9100906042713492,-2.3258904580499724,-1.8925547121150876,-2.1497141747770057,-2.070029893107153,-1.7186292897778102,-1.3192333183490925,-1.737748665570609,-2.1377774655199966,-2.5870124959786143,-2.4268259703134683,-2.275436123926727,-1.6871059284224859,-2.4294455400170096,-1.8281501844102142,-1.8171767019455642,-1.616012769757394,-2.154381385149201,-2.305997277709066,-2.531191398053196,-2.477232420453785,-1.4439621133391225,-2.224745292150238,-1.8320258442070447,-1.4033350200228027,-1.026571787530395,-2.407590844570194,-1.079340206739546,-1.1796473448379354,-2.490857373446936,-2.1827231642626828,-1.1589577514751155,-1.8737424842489532,-1.8837090935330165,-2.2139781371241964,-2.3555714249191357,-2.4336647964143268,-1.6904748531614213,-2.485727439768193,-1.5939155537657113,-2.4747842407421565,-2.1094604567573563,-1.7016828929695211,-1.8211896907363843,-1.9239161613728086,-2.6610161515487443,-1.975033569022974,-2.2270094439145462,-1.892995119811582,-1.4149387160678675,-2.043269191108778,-1.8407564171175124,-2.2055203401338006,-2.282986411228542,-2.1046913953459248,-1.2193100828433214,-2.110663647890866,-2.42070201929521,-1.868939946270475,-1.9753982383598065,-2.214624179096713,-2.151081119619179,-1.7181583072569113,-2.420107988490706,-2.239091516343429,-2.195727947855017,-1.1159617121924972,-2.135922461968238,-1.8787250997113991,-2.2276447490867066,-2.029846755254107,-2.8283879283459186,-1.743139417740794,-2.0073588354024094,-1.6546812300117246,-2.2782673922741346,-2.1137522323157056,-1.399850917812194,-1.5797481901906896,-2.132271976859928,-2.024901873473405,-1.5061545348241865,-1.6076023099953456,-2.30965417404327,-2.027758078908086,-2.2443888778792003,-1.9547041751686236,-1.7173695284266892,-2.168055627038961,-1.9613182540251328,-2.0617742605267066,-0.6057371583659714,-2.032830767611348,-1.4109547931936655,-2.1103950115815366,-2.0125874572982,-1.2085421148088349,-2.2863548056275285,-2.2963186290564375,-1.9815557986441346,-1.8293477606204904,-2.355612954125381,-2.2183183882917987,-2.0524655831824967,-2.0508906373920364,-2.297873509057639,-1.839715473902568,-2.579127006057808,-1.8274505718102048,-1.3181386197494032,-1.2108738201688136,-1.788308049991089,-0.9059060922230348,-2.056122160206907,-2.0300003382871847,-1.9811995635986372,-2.809488777239062,-2.8969429505061512,-2.058446205164057,-1.3271570271270505,-2.4180814639534502,-1.5216640209015608,-2.5441173082041932,-2.140235214094256,-1.2788832756571888,-1.531737305955048,-2.2294244518830397,-1.4018461928018675,-1.818771386879476,-1.9368419758287831,-1.7385617252963463,-1.9240113874529705,-2.0211870956404767,-2.694484373030384,-2.074843153598703,-2.1731112561320143,-2.4090282214497907,-1.4846582241548756,-2.492571498506186,-1.6771362969818047,-1.7726950527431096,-2.1021963176515404,-1.4627942142064683,-2.2578021936710853,-1.9660034866135165,-1.948824381973872,-1.1432897347910278,-1.876410251746495,-2.183266696603289,-2.063026268909478,-1.1769127878835637,-2.341271755903879,-1.9246822364427727,-1.7357613417370623,-1.8377553110765552,-2.3223014980410865,-2.137865525772511,-1.7556149489561932,-2.460030784539049,-1.2916101668791897,-2.1591477637969247,-0.9722811051975279,-1.7648176558447786,-1.9009636539561063,-1.921121098879007,-1.6881325702363685,-2.0350476896297853,-2.367003504498719,-2.949482921401524,-1.802174735175927,-1.7166262761987463,-1.8646235023211786,-1.870637632804009,-2.425599077494632,-1.989092225546088,-1.7878581684736379,-1.7866825887284106,-1.6009060788649667,-1.8903547011038764,-1.8114783569872952,-2.3936772598791185,-1.865836846571658,-2.0923281139771497,-1.458015048449318,-1.407826266451427,-1.6891891527524245,-1.8841795180231247,-0.879760785206168,-1.8231756804445087,-1.6602138522457306,-2.091726700768437,-2.3127561765802915,-1.9345525825072187,-1.597256610700884,-2.311199073072779,-1.2711351435641263,-2.2772294960687476,-2.027796865073619,-1.948951180786372,-2.6424766038085745,-2.364995520831403,-2.129090938554172,-1.4249654163786043,-1.7772095018221485,-2.1709291957547086,-1.4509290855976047,-2.206388173655966,-1.8946542663559058,-1.324111591521669,-1.9648228520580187,-2.787343470236057,-1.6765747119886283,-2.4657976730428697,-2.448130464034481,-1.5281232730125371,-1.7410467155337748,-2.3872694666677656,-1.6029210591205336,-2.18119922802661,-2.4848558955548334,-1.1977934935733385,-2.501410300936192,-1.0967060792694383,-0.6326711739617829,-2.077274890621722,-0.9459572449398815,-1.7266179288493535,-2.634023215901036,-2.0715098510363568,-1.7577572710616103,-1.7197066560849676,-1.939333520456114,-2.231348951076974,-2.1479209485075597,-1.7728151109882937,-1.707901063996417,-1.9280910875320914,-1.7607918185130542,-1.8903521070377691,-1.1963209167203965,-1.2792201867658273,-1.6861862397313752,-1.4406317049919233,-1.3738602928678854,-1.900729864089514,-2.301252879604965,-0.9250738147125355,-2.2174877691667794,-1.2954431095614565,-2.501722030445746,-2.113232219802427,-1.640012943330502,-1.855945330240694,-2.1319777602392533,-1.5138289658379702,-1.9735291419472198,-2.2500816171935436,-1.312888064363012,-2.3236072990282164,-2.338579126166621,-2.444426526481674,-1.877278305220375,-1.912402587677386,-2.144315807744318,-2.091783717082953,-2.26092428140991,-2.2547480247205094,-1.495179037304172,-2.0444121610050563,-2.163025686321204,-2.0257774319115813,-1.9461002645851286,-2.1375236987160617,-1.3233675154071884,-2.323251915485255,-1.4112866663739747,-2.0843613802716496,-2.598714621271348,-1.6863629519340584,-2.209470555247356,-1.3971864353053127,-2.537227649382376,-2.240663122222234,-2.458985916833739,-1.916675274517794,-1.8503086138728504,-2.005923082521383,-2.2421756390719536,-1.7655883542269888,-1.9599496645475056,-2.493795901068322,-1.091066049993129,-1.8161893644202791,-1.820300197122878,-1.6889872929580272,-2.2112260924736304,-2.058686942093202,-1.7908808879336788,-2.253947437974882,-1.4977836393992143,-2.5533575916697986,-2.0374850633038553,-2.270675525146051,-2.172297462562038,-1.4144907787271384,-1.6533923984362968,-2.4854275601605464,-2.422235208644411,-2.594025876748894,-1.9733605138996304,-1.904432003462801,-2.1356293990221125,-1.755782188860632,-1.705959343859774,-1.9651401847166676,-2.493825830285862,-1.1150157017290165,-2.219538742348318,-1.1429120840426679,-1.9705864363366206,-1.979758240248036,-1.8663126450070924,-2.3264992746957525,-1.4243041788023612,-2.496254132822677,-1.9273200900584633,-2.1899508602234827,-1.95456719968672,-2.0895010622729786,-2.6315587196729378,-1.833838138364304,-2.305661918029961,-2.1781495459190174,-2.300027554659151,-1.9140887331886733,-1.7677068170400374,-2.205214097422888,-2.4071772586620255,-1.8353572247625167,-1.7365074557581028,-1.987870703125898,-2.0191104034524883,-2.1627174174683086,-1.9505637717874076,-2.3162349202286423,-2.0593487507564623,-1.910259480598183,-2.2064370167209892,-2.1706781744900665,-2.1570479902415665,-2.0122765125426287,-2.15121688753344,-2.1789403688022957,-1.2866051103230658,-1.2185870700831332,-1.5749894065949803,-1.9424456238119643,-1.5787386639032892,-2.0993361281802394,-2.023375588408819,-1.3013516945907386,-1.4823189142950512,-2.145128785014902,-2.155257180505401,-0.8797970077020826,-1.394098379182029,-2.5200247127735675,-1.2350465645026951,-2.3952177294929315,-1.4165891067748644,-2.2123343610555524,-1.979909581613449,-1.592043852510095,-2.2577838169040687,-2.1355858697797654,-1.8948118789541246,-1.0958090657115116,-1.6318012304725158,-1.8210034503726722,-2.3932863530066633,-2.204934369499037,-1.3997598172706478,-1.8705123112445823,-1.9373328546543989,-2.8563070035556692,-2.1970330464236647,-1.8167226369642486,-2.0216076514450267,-2.473305456619569,-1.0454138565415907,-1.1518152957023489,-1.6065418408353718,-2.1344700908589487,-2.3481538581237436,-2.229981734018366,-1.5176765814931215,-2.3381630124908694,-2.066360113385648,-1.803155659728106,-1.6840456627679061,-1.6736992438591067,-2.0314855588397203,-2.654198980152932,-2.0637435691281607,-0.9809482135742497,-2.3734963461549117,-2.1850108612469286,-2.2543305508025084,-1.5643461964708059,-1.850767540706031,-2.470868187920716,-2.2306680318762386,-2.1440716599484406,-2.3760181384387717,-2.0482124519709375,-2.0918162424472313,-2.174978143933563,-1.4556503449488667,-2.1160090987496445,-2.1449006613499235,-2.463947608481714,-1.8057306446739492,-2.2682824444455787,-1.0722530630257903,-1.7556879158721186,-2.3887160821440343,-1.9402686878330453,-2.6414893720432886,-1.6891825043159776,-2.0160141623964547,-2.124403983080096,-2.480845898348659,-1.6109164440935833,-2.440895376777195,-1.7787739976940384,-2.2037107928414974,-2.1245644316180345,-2.231927127206443,-2.0779344711334575,-1.9757853146787543,-1.2218979097442708,-2.232198468629892,-2.339000579858009,-2.2830199273022616,-1.8988582227498536,-2.036152395838539,-1.6312533779014793,-1.669801938537207,-2.01624583136583,-1.8898792711571721,-1.7976673405840498,-1.3506766433208468,-1.8337831085728613,-1.989496585248613,-1.9814912651638776,-1.2572752145487922,-1.9165428932479143,-1.9346418581756588,-1.037943474533756,-1.8382152877629505,-1.6186692310018307,-0.9843782194253717,-1.8995220974605014,-1.4556185011638723,-1.8766899275921534,-1.395055803594849,-2.0037949410842946,-0.4637296427763224,-1.0134360589693263,-1.6369695028897362,-1.9976797729969575,-1.8464483615007685,-2.022684933257826,-2.0321881811826956,-1.737887387505068,-1.0685171078028406,-1.538906080679264,-2.0619274612209773,-1.7581540718662583,-1.0583720643223735,-1.493649420099128,-1.7183754738673753,-0.2955498762527163,-0.9300848411208178,-2.00406940637866,-0.9676843259957028,-1.343205749024739,-1.655267028873731,-2.0615399295373598,-1.7680864649674715,-1.9475847239975974,-1.46490180726825,-1.8640163777962244,-2.424537088639134,-1.7293621795637955,-1.3731157994160765,-1.5793003775474144,-1.9613649338325918,-1.1302648499732477,-2.0015241394981182,-1.8210723035295038,-1.7933785925051202,-1.4657531591571753,-1.7966237087001173,-1.6083505225780306,-1.411097331837499,-0.9366943463381737,-1.6023933387092757,-2.007385185853879,-1.5555348325748428,-1.8285312870580388,-1.893696068857558,-1.0881966404478496,-1.6976273680210887,-0.8589939827419821,-1.6684588868203574,-2.1272294433483014,-1.2633955347442336,-1.3228349029567528,-1.0639667006560367,-1.2892960084665144,-1.295914998207926,-0.9228223375185023,-1.988931128131571,-1.5566006616831802,-1.5333121945137516,-1.8991928087561112,-1.6575014104218846,-1.1975403183007147,-1.6618402712860736,-1.519456462233488,-1.4601914891155152,-1.3186224289177748,-2.0935658100101215,-1.5488432296164278,-1.8066918181589704,-1.7935652359601975,-1.2430775418091544,-1.125669382811002,-1.338129365535802,-1.2608662371104442,-1.8059785318053831,-1.4728370630890104,-1.6860961130865033,-1.9119277490656488,-1.5588061203624708,-1.2331177219127705,-1.743675515842608,-2.132726272993177,-1.328074921478069,-1.8427388468956056,-1.7989386532684515,-1.3786763682139773,-1.4693670807251997,-1.7312161643293709,-0.7320011412094587,-1.2894242743416355,-1.3181808169718554,-2.122267172303715,-1.6270925225234134,-1.6542832542022612,-1.0313459514085255,-1.901992599845256,-1.8714317672935228,-1.4463133326212767,-1.6688179931809362,-0.9868513685364709,-1.9430145798655372,-1.8183180450623098,-1.8541102397669056,-1.2628764418601537,-2.1214222574050456,-1.3411242636974605,-1.3419337121590988,-1.7096767479972914,-1.6886768832353702,-1.8176837528484662,-1.4466721619557643,-1.3273425083676729,-1.0789812931459986,-1.1871670287327905,-1.6739341709927535,-1.7087476588108519,-2.028787720237353,-1.5293145184585457,-1.2459485886081094,-1.3296024174086978,-1.6594937018575233,-2.1882634508492984,-1.7399251668901035,-1.1557557152855755,-2.0496923559661107,-1.9086413776579423,-1.3136684362352955,-1.0859157054539357,-1.2364779203994185,-1.624652733984072,-1.3357365701214097,-1.012042245513918,-1.6102608955295987,-1.9109662985395373,-2.1387745274772505,-1.7823971597823545,-1.135518478233387,-0.6910428865327015,-1.8875763114703474,-1.5305741422941612,-1.2806360786410094,-1.53845187034825,-1.848195312291201,-0.9531832415222304,-0.8648543627201304,-0.961696565517371,-1.564262031768182,-1.6361551159337797,-1.575701318527772,-1.7956752752263738,-1.8280645648713982,-1.7016514068605044,-1.7811098388985558,-1.5800355096125307,-1.5611378313897828,-1.6759980936639185,-1.826427485948831,-1.8280021484933364,-1.43403115747635,-2.110813269270473,-0.9733592657566302,-1.4155907162121868,-0.7087274170427585,-1.5323850200607847,-1.0567170893488713,-1.483409921430103,-1.893051772408373,-1.1168586434533176,-1.7414200341907542,-0.626458010247685,-1.1513755823133822,-1.1756341583152183,-1.625483203404857,-1.145724481261559,-1.3800143576641886,-1.485280246901167,-1.5855306794373518,-1.4331517005408108,-1.4882673739581962,-1.6028541470819675,-0.5675123574053539,-2.4011599517492326,-2.0992222959496023,-1.6521060354582204,-1.8633655271485838,-0.8619900749891553,-1.683209459591484,-0.8580671101752851,-1.1009236608791246,-2.038045511689444,-1.3467221579258166,-2.0246005357414396,-2.0677690749485746,-1.8460338115786732,-1.0494781376785043,-1.9143393820080719,-1.9617835719925514,-1.3292676772166465,-1.1113432286162477,-1.5497306778732574,-1.2860824541611946,-0.9751495532440448,-1.6223547307319788,-1.9876223740233319,-1.6352168843167152,-1.5993249349736425,-1.6421189863499717,-1.915742711214758,-2.1684221992930257,-2.1307099523128743,-0.9990448715942825,-1.0636354003008512,-1.4996135257694423,-2.093629261212228,-1.8353457203400003,-1.8875594736898367,-1.8953406811153573,-1.2876661424827025,-2.1818003236810224,-1.177466861534116,-1.905178699829686,-1.2218809092525993,-1.2485458669487262,-1.723053417439363,-2.10911616868005,-1.3636675126513267,-1.662268409699237,-2.0527509273620637,-1.2335011793151884,-0.7435723081955842,-1.1100033674497318,-1.3957473674873235,-1.178318242516067,-1.537971068507101,-1.9862590970932872,-1.1832703201297625,-1.4285890851883685,-2.0606794156045103,-1.3055151336127455,-1.7042445203841796,-2.0453208146440374,-1.1249084979036013,-1.7518969847980896,-1.573414369779732,-1.3371401434084564,-1.4852527151437944,-1.2587380660469345,-1.68877065170702,-2.0552787351297144,-1.5378649463307352,-1.6484710053307798,-1.2875150717685206,-1.4362108932624431,-1.466564472933112,-1.1013082149418403,-1.3731784425680043,-1.2991634771977365,-2.0175933888325748,-1.1237932327346267,-1.3978182163133621,-0.4099143398338281,-1.5818724197599832,-1.0183866407339914,-1.9826881565004797,-1.6186308319908542,-1.5098224032667147,-1.2033640122926184,-0.5135485021791225,-1.2248363132009918,-1.7500848082348426,-1.4140330221428306,-1.0387397059945374,-2.0055864303480075,-1.743924341408905,-1.4504749312823566,-1.4996384563922538,-1.7682379223528537,-1.9490086394681976,-1.2496246924384309,-1.9290120429159683,-1.263863205188907,-2.0647689062774717,-1.7249244580456202,-1.6816960483297978,-1.8094268024118274,-1.027785237846707,-1.6346947015231854,-1.8960370506869781,-1.6187389562621437,-1.6639548562289281,-1.7075393326754513,-1.4950508072028834,-1.6961392176889771,-0.9025015266363067,-1.426906527944318,-2.1726773892793783,-1.339372833701718,-1.7101652333829829,-1.9104791074865461,-1.4161860007478841,-1.7679940737779267,-1.9003519306634868,-1.880873780479966,-1.367066422993442,-0.7066959637976896,-1.839208397112519,-1.4288977246439099,-1.4444859220917718,-1.4750015094228692,-1.4938735584840679,-1.769747087731206,-1.4970103992439343,-1.8044657854449346,-1.46591375396549,-1.3136565156238267,-2.253339714619402,-1.7644008105870648,-1.4630026881981613,-1.4996574892981505,-1.6326788811781956,-1.2566130096308392,-0.6566214278243523,-1.6477042434254097,-1.0710003944047684,-1.3226921868524713,-1.8324711740963515,-0.8431397062402636,-1.6486067042454187,-1.6266655494128661,-1.3189314862582349,-2.0659589788695927,-1.632990496406755,-1.6972648121174745,-1.6215457250929235,-1.5024759867416089,-1.6136558823250662,-1.8164744887881294,-1.73009254316142,-1.9255771721078239,-1.318192833329252,-1.4761467170655218,-1.3675629252348547,-1.29106273192904,-1.7908492256771387,-2.273955290812673,-1.7262869837242893,-1.1191644145830273,-1.8190550779440935,-1.7480372383164606,-0.945406210848767,-1.456227407203662,-1.8886864587675485,-1.6213654604802294,-1.6866694704952605,-1.4010354909139984,-1.2967363419458815,-1.6311501219802766,-2.1066729258139585,-1.4246815861711244,-1.3689916077379887,-2.0778399615707857,-1.6215836002104598,-1.270302985428912,-1.6831186411781016,-1.805445798074935,-2.0671068772334777,-1.8319560226235299,-1.5470199556128228,-1.456354840983611,-1.7400577674717228,-1.1881638897260955,-2.3850959218669043,-2.096344018119773,-1.9338349033397033,-1.8138137873750604,-1.5222310594386719,-1.3129047784290222,-1.7064763898809452,-1.3997313562539013,-2.057118689562435,-2.162860049291507,-0.8748095157665176,-2.0841781598871028,-1.697558231014611,-1.693543392004364,-1.661689556915966,-1.9287567975236104,-1.3957965168441926,-1.5714709766223072,-1.5785629787728284,-1.8822987042574444,-1.5326918574427482,-1.0941312114448185,-0.4809869741068005,-1.3200274034609536,-1.5549608678413043,-1.1549234986786274,-1.5231486718619553,-1.3708996140429328,-1.6582912051276573,-1.0009817399595926,-1.4805426514550646,-1.4552194697436194,-1.4782632010890693,-1.9352102836543614,-1.4488154692836983,-2.0898528160814807,-1.995156227004046,-1.2857788611186463,-1.563986876098212,-1.472602060535905,-1.0396643123103373,-0.9343950390403624,-1.665846713227872,-1.7651057267660928,-1.9374796309497906,-1.874248303119014,-1.8947850704426654,-1.132764509788239,-1.7837382975035843,-1.3172516740167588,-1.9141095889606576,-1.327499978995799,-2.2244443843851616,-1.6537708737508805,-1.4704664314181515,-1.8808172053003436,-1.70791400737973,-1.3660750266383364,-1.8475542480214207,-1.689098187037362,-1.9423819197082226,-1.2949919027522891,-2.047455675207135,-1.4409687267217854,-1.3996294575520598,-1.142919687898059,-1.6633364101918338,-1.7308705750716915,-1.2185180599109808,-1.59603840685472,-1.6003831385098732,-0.9657402540426253,-1.197249884695064,-1.7048046543301763,-1.7518449631581032,-1.8495687490525987,-1.7987939497267658,-1.771010634973256,-1.542210833849996,-1.2299895740157512,-0.9228686530154175,-1.4634537980182742,-1.749421206150796,-1.4187048369364046,-1.5050119923989176,-1.2073478821752568,-1.93629010847585,-0.9222787718727768,-1.1292662249390197,-0.7226061056727231,-1.5876904243901093,-1.749078185504513,-1.0545787759143568,-1.5104316359921992,-1.7246338897666282,-1.6963572154606508,-1.526451929227713,-1.8928389081940853,-1.0463135217736956,-1.827543051001443,-1.672579465973168,-2.210190586207594,-1.4403367684832074,-1.3796105150933569,-1.5897251340540226,-1.3710135357691176,-1.346480040158467,-1.656064557925082,-0.9413331711447548,-1.1357617986168909,-1.67472763718973,-1.0802553562195165,-1.9535968427461217,-1.3875187961245021,-1.4372918145723732,-1.3151580031610766,-1.7272016526120857,-1.4551702157913387,-1.8001073734699244,-1.6432847540923363,-1.6949759026120068,-1.2832324815879874,-1.402404256434619,-1.4548151667054665,-1.7355859739261883,-1.614983565475632,-1.444452894013754,-1.7823167282360395,-1.6944414352582196,-1.9751147116163261,-1.2422954733948632,-1.1530817667363626,-1.0056343894613777,-1.6639243579275353,-1.5536548151653051,-1.7251593057675254,-1.385403046422674,-1.403447096714981,-1.423130565256161,-1.4786699215197132,-1.660495434214073,-2.020101304127702,-1.7752982775148625,-1.288248020929918,-1.7089594179564385,-1.4943246950467588,-1.5992008822480044,-1.5567294788717863,-1.661597219938949,-2.241101229653616,-1.3520599242438252,-1.5950203046525455,-0.9484193376007959,-2.075264927729054,-1.2548969337255553,-1.5788676457813242,-1.582672311382173,-1.8711636992498704,-1.4615064738441754,-2.0047200847956503,-2.0898868463506393,-1.320658090680985,-1.5298416156146006,-1.0939356749094993,-1.9900660115917015,-1.0017829206014237,-1.7462258656171354,-1.7300874977218115,-1.2081793565273968,-0.7524474519165314,-1.8885482794316366,-1.8661858969372394,-1.9580222159526859,-1.9628556288752157,-0.9423449317095841,-1.720545811841092,-1.6347234801054136,-1.5255247361537303,-1.5210152884744348,-1.3903766192249218,-1.7805195242654273,-1.2707189105995305,-1.616279299765633,-1.7349404037413794,-1.7673352775528959,-1.233024524875558,-1.6606963308015155,-1.594744669968823,-1.9542245263951223,-1.2493457474334047,-1.2027944395009271,-2.4380477095641173,-2.2996676336607473,-1.482122074300793,-1.8808457946747648,-1.6848292649729188,-1.7237350442229078,-1.6702408661322499,-2.300949605205824,-1.0937566647053452,-2.095818140264865,-1.4260923544693214,-1.8164972604028786,-1.9457925667046128,-1.8176981857138599,-1.7458489891996887,-1.0643467906864044,-1.8684773227099838,-1.9908910399058197,-1.835316391531186,-1.804941564370958,-1.743699907968856,-0.8712189314288259,-1.3820169370363582,-1.5568579089064187,-0.9981904238475171,-1.043424184322582,-1.3207700577932155,-0.9201250301749021,-1.501063938750618,-1.6090249465070787,-1.3100247438964125,-1.6615299380530957,-1.797235495870467,-1.4855284078960296,-1.5156088469676878,-1.0588808511485182,-1.2410810418534213,-0.8797090144940141,-1.7222982642011788,-1.7135574336272963,-1.1169197392792125,-1.819015028201749,-1.9972063993651248,-1.4357665915480982,-1.6072702994936892,-0.7690235450240441,-2.2599475110699814,-1.2271876228035496,-1.2979808490840672,-1.7024104244347913,-1.7532873167481706,-1.7153170075695245,-1.2104095814547766,-1.9724230312137665,-1.893928939586196,-1.2695695195332282,-1.6670857405133603,-1.305619037294684,-1.4016483122147594,-1.9747836386069901,-1.9553064986481314,-1.1991269447460602,-1.4421888328102859,-0.783729627464573,-0.7244991424125256,-0.8737186621396383,-1.6372244189332603,-0.8470254898166859,-1.8438344721686013,-1.5737449461079842,-0.8156065857270993,-0.751057723417642,-1.676241514338796,-1.5517995196617074,-1.9285545395022539,-1.4687630132237044,-1.3443702133723683,-1.859388254616397,-2.0735211968768854,-1.9817157007258928,-1.5084284924196936,-1.60480341705864,-0.9505041335533794,-1.317646667021115,-1.8582674846705036,-1.67272686111281,-1.4293070112074424,-1.9905010513732904,-2.0239778450952848,-1.7493123396424508,-1.1235935972292004,-1.6939523571803157,-1.3259889595719991,-2.151957268778966,-1.2290210742469558,-1.170061901493045,-1.113481200981509,-1.8030323952105942,-1.3868692618275882,-1.6633404604251456,-1.7165982485148776,-1.600589566623731,-1.465299721862171,-1.27850255163392,-2.1318992517653235,-1.39011078224688,-1.2325827650213554,-1.2510026590656895,-1.4711180744769157,-1.639389910122784,-2.009823226466832,-1.6040566999693986,-1.6846900065375974,-1.141690954516477,-1.563397044366309,-0.9393281584546719,-1.3398809724797156,-1.230209923627411,-1.4972137286498257,-1.9057145291426423,-1.5556590052044854,-1.8795002534184206,-2.0510169654143686,-1.1317386489536407,-0.49773037496822176,-1.39954666474412,-1.3316549355903113,-2.0343323887423974,-1.471706840940035,-1.796859010840717,-1.7687221982732773,-1.14163163935072,-0.6517763915957651,-1.8168161614082463,-1.538335869754949,-1.0164423880111713,-1.9264788382809988,-1.921203340186001,-1.7971687765481628,-2.160703400557234,-1.727941375631625,-1.5355690372590702,-1.7126041205325493,-0.6131787626401639,-1.4217036878464107,-1.4571025084305402,-1.7286194640973913,-1.5916879619288768,-1.9521423236134205,-1.3991787224351668,-1.034663515596724,-1.412974708373325,-0.9779713814627176,-1.7299489804375416,-1.4209845091602327,-1.048495307277524,-1.3176779136895616,-0.8507958943393295,-1.446689205922281,-0.9816741473134097,-0.9444295013938717,-1.341567697056775,-1.3023187823355047,-1.4537911350999229,-0.7787972018853355,-1.6149234949963875,-1.5190001759156875,-1.7106713132404667,-1.5349216490892914,-1.7579598975262853,-2.0248136503814207,-1.2418716378069343,-1.6818464072270436,-1.1449077598646933,-1.9951848339884095,-1.548281396733035,-1.675463484031442,-1.131517824169806,-1.747101978343473,-1.1536156600906895,-1.4647846187718734,-1.9778582359409023,-1.2439436401551813,-1.7586520111658324,-1.8338154789364838,-0.985071972638215,-0.7096580542826252,-1.6490140319247437,-1.437446315589064,-1.9371282940234473,-1.4796784864878572,-1.4497769142767967,-1.7860603212751953,-0.621081960879802,-0.8270574419127957,-1.2288837511755955,-1.3261027614868572,-0.9287350763798882,-1.7228768403093695,-1.8096999808533472,-1.149847445994674,-1.2020544564437672,-2.0371082874057804,-1.4919821061352088,-1.69307248950474,-1.0205401787844308,-1.3154440375200054,-1.8935395059678692,-2.171984460099264,-2.002250380593547,-0.8740098394765884,-1.2540163988233843,-1.2862853452630851,-0.7658253116577447,-1.1318069093969734,-1.6941580722382812,-1.7876515422202774,-0.3140101378632958,-1.8525336801893788,-1.6366576909531745,-1.950254638600432,-1.437456928059096,-1.6524244835533106,-1.7115899708722337,-1.928532408053247,-1.8715035468293009,-1.7626394740067408,-2.1230446867562143,-1.5938369527213085,-1.2611478983752986,-1.9109005794375038,-2.1817932065321615,-1.482676043572632,-1.5025079112329334,-0.86557815360223,-1.8145812186430463,-1.699887006101415,-1.3907390199844964,-1.1161774805883677,-1.4832079431788292,-1.6457606196694026,-1.5752381659027361,-1.9074726424561932,-1.661114199300218,-1.10003615896588,-1.7889097419718634,-1.4770051844849534,-1.8935666611120041,-1.818427250637783,-1.2559670016518651,-1.4241049543558337,-0.7643107108208823,-1.8128648320131653,-1.803544404289666,-1.9914842652493945,-1.926194810386444,-1.3244425248521166,-1.8288422128942954,-1.6012865842205326,-1.83485293231583,-0.9880951413671211,-2.1986425019517424,-1.5771910139954872,-1.354913141512506,-1.2060274237954136,-1.4980998507022358,-1.5568236752255182,-1.3894223983128111,-1.732401040827341,-0.9841979585023888,-1.5960150232019252,-1.5962949268858901,-1.7258288659028083,-1.3680246836986012,-0.973360012877602,-1.16178241344013,-1.4317077359376553,-1.4188720103141135,-1.696920508875771,-1.7967723047696784,-2.1371799568669836,-1.7284891471777264,-1.170091732904315,-1.738949329140553,-1.041349406554666,-1.5448784920598777,-1.7223378310400166,-1.4924898839907677,-1.4556905342567241,-1.671148824823737,-0.8977201269691614,-1.5233137787532844,-1.5649029068632687,-1.6354850331636839,-1.5473098702728165,-2.186328399754019,-1.0979433821282643,-1.3278106219882673,-1.6378601285814811,-1.2741815763857587,-2.248835595910091,-1.6373152608601318,-1.6771714426992081,-1.1204028942722801,-1.8096982610096997,-1.4548573128847833,-1.8980847284959483,-0.95321169333919,-1.9676829157185156,-1.6031511243242134,-1.5982452477012683,-1.6060023051237333,-1.5614494814829993,-2.1865913619354074,-1.5585524203028058,-2.06969861367937,-1.2695204851615671,-1.5311263097356882,-1.3179706139422174,-2.1171073800902973,-1.3894569122565223,-1.9698794229871228,-1.9785430836747233,-1.2578588714822991,-1.5211184517392446,-1.1739447792206616,-1.4837960484399195,-1.9071824175504433,-1.1440817195204624,-1.2739632277373512,-1.8857337553353184,-1.4804475439432987,-1.3056533782440936,-2.2448179267541533,-1.3165137882015059,-1.3483784636820162,-1.8336614028584841,-2.039555715560536,-1.4529841066367641,-0.9488148683738167,-1.5750589195872904,-2.137426622161291,-1.1490766148202913,-1.7194721265911221,-2.097834354459037,-1.53029062537309,-0.8681692890235587,-1.3693885702564592,-1.4632389632227096,-1.3085272365744558,-1.7957468605995976,-1.5306195144763106,-1.1782654047411205,-2.023739492430353,-1.3887164038443423,-1.5272230594701062,-1.6838696891258385,-1.8441173978559144,-1.6668479428189944,-1.610587786091896,-1.170865197047824,-1.5431297792756646,-1.5946419788830744,-1.9482443704315682,-1.5895885134223715,-0.8186912388478164,-1.6375288904394103,-1.6556669299185136,-1.4706174039204254,-1.8123402081463797,-0.700920599796648,-1.6154760453733057,-1.6554590257842616,-1.630891286557149,-1.3531964419406692,-1.2766535732694246,-1.3847998817558085,-1.7741052898081162,-2.1445116851381303,-0.8317929623164048,-1.5776852540165403,-1.70318121235785,-1.6934176071697706,-2.0979480996273683,-1.4672381438868018,-1.2207180432575777,-1.6033467311251468,-1.7699230882484043,-1.0135417549672192,-2.105817624674909,-1.8879940890769744,-1.82614753217609,-1.649984626324092,-1.4386626986399382,-1.252911733107908,-1.3094648988314732,-1.8804704435597843,-1.2055120432302133,-1.53301234014926,-0.7746844744517606,-2.3174651839270966,-1.8509735244955825,-1.8713602973066183,-1.1214698816750186,-1.4572600976598853,-1.0359391746980369,-1.278121148781584,-1.7701957077928632,-1.6574266079139701,-1.813907656760419,-1.119049137724336,-1.2272293022847798,-0.6840538911067368,-1.7902691863242521,-1.7163460405603146,-1.7824203180471643,-1.5241990057318526,-0.5545107793995936,-1.4104716476702746,-1.7489817431849515,-1.7447536790229214,-0.5473247803992703,-0.8838281490096133,-1.7419453134305387,-1.5990360888152875,-1.55372294632052,-1.3319973993306686,-1.5215391953202284,-1.1171929231865174,-1.4970323365879428,-0.9205332733866056,-2.001836634267474,-0.793574322491544,-1.4084858431242535,-1.6535963607660933,-1.5536320002731572,-1.7174566106202624,-1.3991519651279523,-0.8608526442288852,-1.1525702607246464,-1.3015846243640607,-1.734849302125207,-1.9186330737347301,-1.7522609101129385,-1.540030362313213,-1.3396995750249765,-1.68024555021776,-0.8169872853701409,-1.9790669013353293,-1.9905464431645705,-0.8063993032596799,-1.0233505607598345,-1.9099514758196237,-0.5871509781663731,-1.3514111851162642,-1.7618591952363862,-0.722321836124978,-0.8381076187246519,-1.4335053767940216,-1.523065836409557,-2.04557691261089,-1.6121621471120557,-1.333236587187111,-1.4153376629402292,-1.8268322752236674,-1.5349465794225576,-1.2098403654773537,-1.581703477410575,-1.174820218521772,-1.1793700923024537,-1.773091424301046,-2.038278682152242,-1.3444420170311095,-1.1333620343073183,-1.4247257989275142,-1.4905864290869264,-0.7852780547690883,-1.3801002702746195,-1.3323696246155476,-1.6937040578879152,-1.6433235701748976,-1.6641237417029158,-1.5101135952885645,-0.9956344930557225,-2.026889883691402,-0.8150509267095701,-1.8623363942101954,-2.0987373442384905,-1.333946239305696,-1.009038777440407,-1.360731585421931,-1.3877453197526142,-1.2132536194142123,-1.8132187539445306,-1.500228933761916,-1.6097653831962788,-1.2972752550925353,-1.7989663512759873,-2.0224488417842856,-1.715497916767113,-1.747839795189623,-1.2858388117217243,-1.5156765746732412,-1.6184912454995422,-1.5623473732638868,-1.9686258880953316,-1.720546225244514,-1.7635037890399603,-2.0785280077846755,-1.5524569797538028,-0.7846378178099879,-1.4776296095832386,-2.1458285113714037,-1.5044269394800363,-1.51076649302175,-1.8560144645980323,-1.061930675408777,-1.1942677836902875,-1.544102474166913,-1.971615482605099,-1.4913429995792795,-1.860830973924059,-2.0758300281892055,-1.2023585401335253,-1.0447392415752352,-1.6433312549557098,-1.0428566893936697,-1.2980209269008491,-1.6695902197454733,-1.956089885568505,-1.829184427219077,-1.220471530744227,-1.8132264888624574,-1.1592910111005437,-0.8640609394656578,-1.4485783476169074,-1.521121136600689,-1.6595895029255714,-1.9691619801589688,-1.7000054357780214,-1.8090202161825155,-1.1047163515106933,-1.5540149296420147,-1.652773027159695,-1.0362779742299424,-2.012153698470949,-1.4025088276972355,-1.4395466328244857,-1.52412441713203,-1.9281908532837462,-0.4834937751425764,-1.815221352680733,-1.195948868490679,-1.881022356269534,-1.1931710582324642,-1.6770560213295238,-1.8692358713326473,-1.8302160732084976,-1.0604842770986316,-1.9961289701848346,-1.4323957334944848,-1.3387570585733244,-1.2915256739682686,-1.569348056146747,-1.4380361577302894,-0.8133054658305201,-1.6635253860007277,-1.2628926779044225,-0.9784298329608789,-1.2159520330287261,-1.5377807523795848,-1.592038295098979,-1.4129345182254258,-1.405834846432644,-1.413642594977417,-1.4654632166519288,-1.864738494904004,-1.1813009373564323,-1.0233799712188107,-1.500711238012581,-1.4843826347378355,-0.9969995954956687,-1.5609784221025023,-0.8794750144073009,-1.1607233347842683,-1.8817795226810567,-1.3914141700487472,-1.4132087777238993,-1.548663385606008,-1.1227631858761518,-1.934525456571443,-1.756902225331967,-1.052537624610827,-1.3173725605043813,-0.9709221810302352,-1.6169362231381688,-1.923195782629431,-1.4692023603512274,-0.9887562169546291,-1.1225387962859954,-1.0371799694645538,-0.8226128586503331,-1.3910266976037198,-1.4943211195008816,-1.6909357227970814,-1.8128913683704295,-1.8710101982985317,-1.2765557963551293,-1.421419613742589,-1.6346962747742293,-1.330659400476896,-0.8950971883762877,-1.6509002923072227,-1.438853198103407,-1.0175706519906436,-1.0746092788907504,-1.3757353134419545,-1.4310158762495746,-0.9148341769482491,-2.3909906966633483,-1.9848060489020243,-1.0834927693896104,-1.617751327973874,-0.8346269054434818,-1.5765569763277816,-1.1398901983717542,-0.8382548409953313,-1.4435993165232806,-0.4542584182679412,-1.6934418866101721,-1.771585040170836,-1.621921834193811,-1.290919448218449,-1.3434844249139908,-1.504341586020249,-0.6204120601302824,-1.5713777449416644,-1.052820777937686,-1.6618743767049342,-0.9909578950829383,-1.2496748371017758,-1.8935830138062975,-1.7668471412945999,-0.9499024715652811,-1.2025131461290417,-2.056085278029503,-2.00630983487347,-1.5943731443687823,-1.4736554263800064,-1.2873107712519565,-1.0257029274304204,-1.6578916762710596,-1.7998661750839537,-1.5848890690902246,-1.8864388025777987,-1.610197501045194,-2.0242683667232395,-1.1627372518523835,-1.7476035537821895,-1.008039125369209,-1.325261291743812,-1.7489564877139978,-2.0418270245459382,-1.0807726045246597,-1.7706015219167224,-1.4596718022062216,-1.9882766012622537,-1.366587061870814,-1.2900034858897813,-1.1167536035829417,-1.0132698720135243,-1.811462273101815,-1.3660807365182375,-1.7101505743248233,-1.2632738455670651,-1.897043310703673,-1.6216124490217954,-1.747753415607926,-1.6993430255860387,-1.3165293548241568,-1.628584894896763,-1.5604942459956441,-1.609382369582261,-1.8733986150200348,-1.409436099312419,-1.6797832594690025,-1.2815164736421696,-1.732261461636782,-2.2005067014313604,-1.6014920272059223,-1.33645234334738,-1.4401799633132357,-1.204191811524601,-1.2638833994339895,-1.4671016853523426,-2.0555139846259807,-1.0396764501775115,-1.6104460801083877,-0.4521009664509208,-1.3554682563119536,-1.6507293643548653,-1.920649622689889,-1.2224634676539503,-1.4789534601552958,-1.444954345024182,-1.0019553884250219,-1.5342110448801975,-1.236418544231179,-1.3613080977681833,-0.05357635619724932,-2.095710471403914,-1.5225501428006938,-1.7206641220014658,-0.9893191004891018,-1.4593301705106398,-1.552434351820333,-0.8685547752324947,-1.703691860060353,-1.543620743872144,-1.911110833645835,-1.514847311783481,-0.9581295362174564,-1.6070574621594074,-1.4587351997962414,-1.9239619215033121,-1.5117340124572496,-1.7506096310736639,-1.478812142169255,-1.5704871017309479,-1.049128060775315,-1.4632080441857676,-0.8011826881031097,-1.3636140376577053,-1.606130165066515,-1.5072314803523135,-1.1465122101017158,-1.6097320154982373,-1.372488718884674,-1.4661611829654395,-1.357712076539188,-1.9861792324533056,-1.4356888937754582,-1.1354704342036488,-1.7931459652573092,-1.5808608414140464,-1.6313166010886182,-1.6434912433413273,-1.7059008033396492,-1.5599321780061306,-1.5145123326765337,-1.3544576919363283,-1.3506675735559541,-0.6860315160568197,-1.2412449330834172,-1.449951132708939,-1.4554177425862818,-1.7961561551093148,-0.6613651703957822,-0.910735371669604,-1.0644238343909367,-1.498665475598199,-0.5596766138760559,-1.3300367293781976,-1.2261943816090048,-1.5036283670172048,-1.1700012695767128,-1.8964918974022382,-0.6493838685809866,-1.6704776866412376,-1.1684658172064377,-1.6823685996009006,-1.6810162187885287,-1.4972658198588351,-1.5700476716949303,-1.5102104636824139,-1.6219220381360913,-1.8224867955874169,-0.9300996875911566,-0.8522235772205253,-0.9698314203691879,-1.4199564689257425,-1.9434571496151902,-1.8345632804551724,-1.2621336352273413,-0.6034690387219132,-1.815866933734895,-1.5673022645139398,-1.2210459005466177,-1.2692042371059944,-1.9086453044000178,-0.6479532550693168,-1.0355943765148035,-1.7049207406811138,-1.3840112984938302,-1.5478414158103906,-1.8353886574556915,-1.642376501643035,-1.6550430362240867,-1.901868938636427,-1.5556658906670118,-0.6727706720200474,-1.4649823921772667,-1.6044167886852307,-1.0839858085944485,-1.3113463386307702,-1.5151689878885428,-0.8304795837868446,-1.819013451266172,-0.7970170488421282,-2.1367645225282668,-1.3415624824856893,-1.8375605498127954,-1.8400141166040633,-1.2195812296017192,-1.026691778753502,-1.1252060108168338,-1.5341787567002605,-1.791392636568572,-1.8043285857166094,-1.504550238040397,-1.5757147851272233,-1.5569525406918596,-1.9593818429211796,-1.6608625713319765,-1.5969384787593464,-1.1794608194435876,-1.6256207806643934,-1.7204067555159122,-1.9324295176011559,-0.6779916125963545,-1.2462610991142042,-0.994325101342013,-1.0138192809309288,-1.6773121462930523,-1.7862073187471708,-1.57070097049584,-1.719787560929278,-1.5483495362046757,-1.7985084729661398,-1.4146264947076008,-1.4112311095267145,-1.8382936100988123,-1.7646383786051807,-2.236573957249139,-1.8437948533721684,-1.9769310678004102,-1.1433563626019212,-1.6184887365016285,-1.3791393600473638,-0.78017794865636,-0.42017157173982306,-1.8239111976656732,-1.366702996805815,-1.930519534027872,-1.3052481663453508,-1.7067683788060464,-1.2016050707566008,-1.1746049607757483,-1.797919201618395,-2.1614455974569644,-1.8299536836498447,-2.2246944599429734,-2.3349312926291645,-1.078986131183127,-1.347034581360423,-1.7897222983274588,-1.4589061305985702,-2.1273275513425243,-1.463139916719375,-1.9468421543589927,-1.4241182770264462,-1.7051792682348923,-1.260144720531752,-1.4536937848619056,-1.9506055141766192,-1.9247621189708726,-1.7241471973475304,-1.5412846814301935,-1.5810514413824697,-1.5285201601927572,-2.069602720542588,-0.2535863216100012,-1.923663813606669,-2.183318742844765,-1.9726966988414778,-2.2752718698765833,-1.7391814351012151,-2.1593883863236125,-1.6510791089603485,-1.4553238131881314,-2.052702295742616,-2.0187126197766903,-1.7222682167671972,-2.096845616765961,-1.3796648382480743,-2.1103883828861956,-1.3887979904022072,-1.0202684017374541,-1.9025934303281977,-1.0679212749813043,-2.052676870442083,-1.3573034351214415,-1.7699098390561587,-2.056130602174401,-1.5203246297382962,-1.8556496402591702,-2.185329363437238,-0.8899136887513379,-2.0000522125226725,-1.4935628668139147,-2.108285427301269,-1.37426418635152,-1.5915441452933865,-0.9243852057996786,-2.1491690158830394,-0.5184556199346906,-1.5429226390485675,-1.248093062993142,-1.5162447067705227,-1.4296342582411614,-1.5425549188587397,-1.5759494830102911,-1.9158646587587564,-2.012439722061859,-1.5386202962639783,-1.7686770745664542,-1.5522649912068076,-1.4352987607226968,-1.527151373214809,-2.017996800025002,-1.6516088739445178,-0.7547935624280877,-1.1048071876800178,-1.749351872457101,-2.1329824384608287,-0.4390921259348603,-1.8518149664333925,-1.8384475681068169,-1.4705176222300527,-1.26449307407042,-1.3459635174759026,-1.1605553705809621,-1.9212083785446814,-1.2465469457724858,-1.5649236400303552,-1.8208007238269677,-2.003169066692607,-1.82820253552333,-2.2538189484801956,-1.4222741806901154,-2.070989828784766,-1.3823780366176612,-2.059103777765207,-1.3490237196842947,-1.4558081732446733,-0.7406262568241059,-2.356863744132615,-2.0464051929594875,-1.7307210277861855,-2.049879790064302,-1.784175384951161,-1.6641548061450702,-1.222020584936858,-1.791561513368205,-1.7993059100780224,-0.8898047727734121,-1.8736411433884337,-2.0120908712976635,-1.3309968924684834,-1.3819858148892719,-1.6816640350865277,-1.6449926253957803,-1.9719038045132065,-1.8208123632845372,-1.6444034240713346,-1.1961193223376123,-2.2004097076786873,-1.7921788598754638,-1.2847600562026253,-1.9723592230209042,-2.1433176692740483,-0.8953439680717141,-1.650682059470891,-1.4184527532723286,-1.8399399207610756,-1.5036706984433814,-2.1254405640200007,-2.108614201816444,-1.8219687178761876,-1.9954828491423444,-1.6874108920348878,-1.4520037553893306,-1.0507828866394253,-2.1786834545571043,-1.4854410177918453,-1.9030372230505361,-1.2742377228880213,-1.5380600611182313,-1.3094348487322132,-2.227134855808163,-1.7768522232174226,-1.8733673793098653,-1.4795381914627712,-1.5534750596376579,-1.9987433445068286,-1.8438798552276785,-1.663043627822231,-1.8921497377137186,-2.053438336838471,-1.9835828957238248,-2.3400000450879426,-1.7174819750973964,-1.3035517296725267,-1.3567552830328835,-1.6741205891022977,-1.3895486575432003,-1.7353127977941998,-1.9693084313043279,-2.115182200325742,-0.9184096367678023,-2.139460307457352,-0.9374070868281781,-1.008185200677707,-1.7118544310989854,-1.1763313664165385,-1.307719649759034,-1.1018819480741473,-1.058197726656321,-1.5528496646115768,-2.1223174436373626,-1.8589467240802455,-1.1721069169732028,-1.8789948665998724,-1.162274337686075,-1.5537809613099864,-1.9495981074940862,-2.2702004443642734,-1.9256985283867991,-1.8713361818969363,-1.652103765753212,-1.6981327098517505,-1.1852067362445975,-1.7231481368290233,-1.4878543666396764,-2.2839934840755527,-1.5107501300703445,-1.870605183299573,-1.8624942931098194,-2.1654815494996145,-2.0238426820608946,-1.6749865519846356,-1.8544125666979625,-1.0712682281444388,-1.7229152411875477,-1.752630744861855,-1.9227082731011327,-1.2934348981982062,-1.8815882510394146,-1.3955324334078392,-1.6567672770930075,-1.3857101920885229,-1.6943240599367773,-1.7260083792723295,-0.9853500048371133,-1.3150828802261179,-1.0850840975610156,-1.8107450973667134,-1.6957824209786718,-1.2934128656991841,-1.6842320903199608,-1.642117519739184,-1.6657332369931952,-2.035271817347749,-1.9822981920481588,-1.9310216081765545,-1.4275465787115875,-1.7916112014470793,-1.1245218432617416,-1.444128416559664,-1.5774883583418338,-1.0122944862395913,-1.8431035308717798,-1.3142827081087205,-1.5562827526101577,-2.271545108050907,-1.7552769934817163,-1.8817682229170574,-1.4921943360479704,-1.721176237192586,-2.0471748128958636,-1.8929534534478343,-2.078168414727569,-0.8573769462662384,-0.4248975017350734,-2.418981702709512,-1.5996623306503452,-1.077627910292898,-1.7546538568010495,-1.5402246920307006,-1.6859185280895759,-1.6330847230053498,-1.701974408598761,-1.598688350572593,-1.2919078662398147,-1.8094873069695154,-1.8070203257481035,-1.4226915620117109,-1.6787889191905514,-1.4067950790825547,-1.7534734262033882,-1.9581274889782039,-1.5131396770868457,-1.888459690813212,-1.0847907109443695,-1.7783824784827829,-0.8678209200791295,-0.8111805014090538,-1.5269536614748125,-1.5055090339711987,-1.1666342267442436,-1.1834429180746948,-0.7159481296226948,-1.3866952817040425,-1.7613880573608318,-1.6559228085381488,-1.8467343988252822,-1.2748515693760902,-0.9819752682770305,-1.0563025924251281,-0.8295800924516862,-0.9902251661995113,-2.2739700879843916,-1.2957994623668432,-1.61654699925326,-1.707584228691943,-2.3709889493949223,-1.9154429859898403,-1.7284145467049992,-1.484618841694576,-1.664777370572243,-0.9958197734567235,-0.6114649129091309,-1.516231376609537,-1.4911626077436486,-1.8062371578497731,-1.3565999280738463,-1.5562225977415283,-1.8156883137989315,-1.5288372280809408,-1.037775002695601,-1.6542184939920466,-1.8143489350459288,-1.0147472355758138,-1.2901125608533788,-0.8324831208065274,-0.7384372887182251,-1.3012076029091804,-1.011058233873653,-1.922805100435867,-0.9337542506547971,-1.3464282770122877,-1.1812368982529635,-2.8553680356280506,-1.7698778943937028,-1.7456209944232324,-1.8604980324360116,-0.9675835864364294,-1.5484214530288904,-2.2804745010485568,-1.4124924754371972,-1.260799087979535,-1.3969706669834598,-1.9531626663647796,-1.773222161340851,-1.746846930888374,-1.2409773016774148,-1.9681302784729666,-0.6588135224852163,-1.4489047224472513,-0.9373689093754375,-0.8914674236758344,-1.8615263182451895,-1.990384319898711,-0.7845701203316827,-1.8300425179822855,-1.7212211772198573,-1.5461048010424454,-1.6486639972524517,-1.257557967116191,-1.5020097769411311,-2.2693907426380755,-1.0176239534260176,-1.1730474793763095,-1.5808962566331572,-0.8391044776549639,-1.701652958672896,-2.063341414200508,-1.3021898043901632,-1.6030934574497615,-1.934968082160816,-1.8989744791383856,-1.9231097213779398,-1.563482685056705,-1.7404132516830366,-2.0680828715101773,-1.5593041181146214,-2.2319028172554525,-1.883065531684854,-0.48909875448823936,-1.3065972705877626,-1.4498736467537068,-0.8549240855524777,-0.80539310977181,-1.9084497839751693,-1.9975744657106038,-1.1025716370816383,-1.8277706587599234,-1.800373531643809,-2.012967055527761,-0.320565454694017,-1.1038720430457367,-1.4224819124735997,-1.5510863977572267,-1.2784108737694735,-2.2867755990574046,-1.8689358912076988,-2.0101034446188253,-2.08864804863403,-1.503419093256391,-1.8759255788372593,-1.5748458358998594,-1.205954672134549,-1.029818849468771,-1.833663905878779,-1.2358050107657788,-1.146861906116273,-1.4347348185731288,-1.425923207383683,-1.5585120780015058,-1.9640218166440842,-1.3662856629035838,-1.7295010281796448,-1.6872697581691172,-1.999873055433666,-0.9944951997651762,-1.49527299618909,-1.2500230786656366,-2.038899581432706,-1.6668090534048152,-1.16687348982963,-1.6798633167220949,-1.7718885799518718,-0.9636379892140472,-1.6449225488376693,-1.6467533573229562,-1.8815573109235302,-1.8796091847633671,-2.0644081424348557,-1.1615640891708936,-2.275242863829328,-1.3055793808098717,-1.3603019890229717,-1.2865781690214757,-1.2841611384503704,-1.494096733404736,-1.2085992147558053,-2.1682590596526814,-1.2199924727756442,-0.8738768253949666,-1.7392600912985345,-2.3390546871585642,-1.099820140861857,-1.499934571067016,-1.46569594982576,-1.1772765411285615,-1.191061990605816,-1.421740969750011,-1.5485266923649934,-1.6398647312751424,-1.299870935038691,-0.5816695554675657,-0.9023151166610422,-0.23409958732671587,-1.3921453901193372,-2.1349249194137867,-0.9880380128987826,-1.6166223431969904,-0.8041351384349624,-1.227433023749889,-1.5414900410290566,-1.638843615520826,-1.240565460216624,-1.804477529550783,-0.8381767910155112,-1.5421107522239308,-1.9338300435615148,-0.8433372553446541,-1.0041846775897945,-1.3030681276186966,-1.2648910420083233,-1.0886442001631544,-1.7982878809644216,-1.2361919088013702,-1.9087975177168974,-1.39099553953979,-1.9925425387070956,-1.1018818113796713,-1.75076586922055,-1.607903309488869,-1.549654478472372,-2.0482125648315943,-1.9468157614374935,-2.0103994201003554,-1.828378815832859,-0.5590231125299259,-1.188594534955499,-2.088064810383641,-1.7731829754082737,-1.8464654547636328,-1.9019108365498132,-1.3630970919387133,-1.2043574060142086,-1.2882462095651959,-0.8285355817134025,-1.421209574041482,-1.450856540430607,-1.8169784440433707,-1.220358270831454,-1.4386399877898748,-0.7818167025857828,-1.9730426100257181,-1.2787294830561242,-0.07729690997374529,-1.160928019991035,-1.8390653576720242,-1.0616585121500821,-1.1898537034960417,-0.7275618321623839,-1.4262972535071063,-1.5839387946052925,-0.821066932596002,-1.5361480571446504,-1.7290599981214274,-1.4213848675931469,-0.7588747474617323,-1.8682900808451983,-1.2199133721126323,-1.6698871811026716,-1.2456534960465575,-1.3077667453342057,-1.7394737325621847,-0.47767015457451567,-1.4440770399466165,-1.7534551922559638,-1.9705963019674066,-1.1312328976060129,-1.3149146999286112,-1.2719540618914904,-1.2109663162345883,-1.7219335789315215,-1.8402239555304238,-1.1517453832445443,-1.2615859465949273,-1.3552058688207003,-0.7041127086248764,-1.9542164220394451,-1.990700749789187,-0.27410432851817185,-1.6276990532560442,-1.5116831665979413,-1.4601030322178987,-1.6450153309957536,-1.2596657963693967,-0.9656621210291342,-2.194132763235844,-1.8357619388749573,-1.3278138531419046,-2.0074445115856716,-2.4374799955326045,-0.951903373492889,-1.7688983745099012,-2.0533140332323074,-2.114230240347291,-2.4885432011185555,-1.837349306324874,-1.4057041232819802,-1.537193575491076,-2.121855191219195,-2.3179699033253267,-1.8427512072291996,-1.8959598165952305,-1.9682736755238865,-2.0103990425998024,-2.3907027099080937,-2.0399791078294114],\"xaxis\":\"x\",\"y\":[-1.3904921824944618,1.2558353320994364,-1.409225920496434,1.8105267555828535,-0.6670378367509914,1.3215422407369732,-1.0129180819225585,-0.8807726307596406,0.030143618649197422,2.261429960299593,-1.4708005481429953,0.8132139028283542,2.39217742549708,1.2217157227176463,-1.2686045679368363,-0.40575936580731403,2.3566786885061686,1.6922746936857556,1.6726308471611198,2.4463533774849564,2.845900032460696,1.3053826387167513,2.327059093253702,0.7763606176261857,2.5377319581818267,-0.514004313081468,-0.8552217119537667,-1.067433630708723,1.4179746048843314,-1.482521305688983,-0.6636327845281714,1.6451208320698023,-0.21302705041104233,-0.96554660440245,1.790069930799551,-1.0997557680472714,1.8741819157154793,-0.5425081301058906,-0.9572301486120823,-0.8877097774039361,0.8283297354163393,1.9898097569969517,-0.6083002791371206,-0.06786225685132498,-0.864302683399886,-0.7946245938393375,-0.32703728140404564,-0.5830643218341541,-0.865955241878768,1.246805981239986,-0.6643356907509419,1.6910131736469718,-0.5279612120547247,-1.3250542928133453,1.0608674995377685,1.082350927070139,1.650815160803772,-0.4426529590079769,-0.580191942760412,1.771224081912081,2.8083902627050183,-0.944153570286449,-0.6594386103057689,-1.1939756530190817,1.1068134600311716,1.3364879177787181,-1.3223744830179638,1.0605832419265802,0.6102649473709499,1.3467277237388238,-0.8725922941244838,0.5977765597132244,-1.194987900725386,-0.754635799074479,1.6658516194152584,0.6548696309892869,-0.23664781017275294,-0.708247349803936,-0.4265629175329657,2.067040364942941,-0.8067410930726702,0.6162298244934404,-0.3664835546960065,-0.4082567486565428,-0.545415829755151,2.36063238524246,-0.9919036995487908,0.9600736706257372,1.4938659410398323,0.5085809648425245,1.2343797737861888,2.2432212653901042,2.090668049431186,1.1307205176686572,1.9800398308582854,1.5015629084181785,1.1057713980474053,-0.77960435848987,-0.3809258780958942,1.8618635970460256,0.5676481004015453,2.623053793231211,-0.9259321241551363,-0.3925943463025558,0.5184350040447995,1.1266956265235333,-0.8700699130116635,0.7915003728112351,1.909391362632511,-1.1552438750272227,0.6773972490271637,1.4691402109992222,1.7879903444451255,-1.1887272586730657,-1.0516235297702268,0.9015651565237137,1.826687210350356,1.2094199436149315,-1.4818110196205208,0.8215179872524326,0.7975976166243715,-1.2511508344842903,2.126078077072746,-0.24975970953409504,1.442958641715779,-0.614781200349882,-0.9506292110960057,-0.3518383032595594,-0.9251566503128512,0.5503468458469839,-1.0492466634856557,1.1495618232375577,0.992578894669253,-0.8687884247710027,2.4686747180219673,0.3845655707208819,0.4287704992282879,0.05142034103771302,-0.5735338820591923,-0.282192710093967,-1.2008916579331028,0.8750953092884907,1.9489193856587237,2.8569445091791286,-0.7909388059200014,-0.4313316762043585,1.7774956351213498,-1.3218341645362564,-0.2306435256601103,2.3959591524529986,2.2237008381271135,-0.2502761352108824,1.8385989980017219,-1.4125613156635342,-0.5687690715270881,0.6559423633571063,-0.6032179580932462,-0.3483530018428552,-1.1825889988470555,1.0406646287923214,0.6586211610029372,1.1895697787787873,-1.4511141532514933,1.201883068425792,-1.0003964745757972,0.09732746734298009,1.6431560303173947,1.519219843306421,-0.9746852056882281,1.451609876897384,0.9032474317014759,-0.6606041300137361,-0.5978414890690298,-1.4259417248691797,1.2085403179011993,-1.855558081383465,2.282601408783194,0.08420976517447966,-0.2862878957283411,2.4925223079061714,-0.5895435060817509,0.929367283619538,-1.0270912025347765,1.5444803630438977,1.382374774698946,-0.8578825049517604,-0.8061485891897552,-1.355477323068231,0.6490046236337409,1.0803949789574776,-0.49289647060964353,1.7635933381081992,-0.3539802438282986,-1.231297590155744,-1.2403375053954209,2.140202160244323,1.0839271299144768,0.19237457207644718,1.7058875934177888,-0.6770008763374975,-0.4854654388414599,2.455788751459917,1.6226692523969848,1.9835992881304463,1.1455378083628518,-0.5735977940804141,-0.7902215890101746,-0.37507093764540644,2.0955939149787706,0.9477085476263539,2.7355294595677515,0.2503740064857747,-1.164573715445375,2.0062161787734247,-0.4058947391240973,2.360947783644874,1.8206966026601819,1.8495013918837597,0.5529386219289952,0.944577871333447,2.4849778987847713,-0.6763116181179478,-1.4278843987638346,-0.6292316924164889,-1.2251236767738105,2.0754512073820592,-0.37540536983405864,0.6742130386745044,2.355953912761835,-1.412972218962948,2.1083803054405363,1.14710583572784,-1.557563454331528,2.6583188892823046,-0.7868811898941764,-0.7926076302501566,-0.79406008747001,0.6590560218678578,0.3655717929164221,2.4999258468320136,0.9907046411012592,1.5033984551569217,-0.9051956830618774,-0.5108710239393569,2.661124776163737,2.7067347678162696,0.08119461097213865,-0.6092576193972039,-0.8559232362716075,-1.4792272473247097,2.2350286794240923,2.578146119664231,1.6814551767147592,1.024074980706051,-0.19675188514593178,-0.4856212832149131,1.9141434993942863,1.0271374697557358,1.0019410353014877,0.42645334709113497,-0.38874291533660255,-1.0851215931407008,2.2513884596569187,-0.33148780676998263,-1.3534859670994595,2.4039321930532958,-0.9569853745813717,1.429666921816905,-0.6230722055821469,0.7319008323389399,0.9164652361793663,1.0766328497239226,1.2483073877755773,2.0606975346846004,1.6323680276311576,2.010714626686966,1.594864824109996,1.9993768669714644,-0.8006464149946463,-0.48811249252136074,1.0144043851757187,2.764630015198311,-0.4801296734618596,-0.9100232846812879,2.1157699097385145,-0.36000139321413754,2.0783852996322345,1.6978949203235556,0.8707092630055628,1.6120280724478024,-1.0678062707084703,-1.2629767459079382,1.0070614422098185,-1.312900711299507,1.2031991398455524,0.3387655900330395,0.6405070604108333,0.9388966082225253,1.1416407709469383,0.407383355890566,2.5228226790528825,-0.8104944631753346,-1.0973757366651395,-0.7035930065480576,-1.1057723864046975,-0.509410444388697,-0.31874919033605986,0.9433565100415883,0.921463713553521,1.8352667165274927,1.4963291117705253,1.1957461039417854,1.0643842706481752,-0.3654250374635603,-0.4442669110724934,1.8062056195996499,-0.9165248393766482,-0.6104604344440381,0.7174206243299023,-0.5736300510907115,1.1343770677677023,-0.42493348825453287,-0.3664970912475445,-0.8130465439934457,-0.9453728872023542,2.6405086034720013,0.5577941028548974,-1.2221208740069738,2.1179867062351136,-1.4681296850293746,-1.18587518318857,1.1752820235860786,1.3439972268424751,1.5891588309436862,-0.6582489147331971,-1.3864595745069186,1.1641462759662458,0.7947095574754954,-0.47804019009423415,-0.6518978706378089,1.488963795978927,-1.2272460133964869,-0.5354505321472152,1.3169591768950446,1.4253894423801345,-0.7172585678426506,-1.401883695771051,-0.5343589382581551,1.2381023647884355,-0.7607134385176412,2.7249544951120517,0.014567533033394408,-0.957694483055461,-0.42020662016487237,-0.3622062026423675,-0.880628613785661,0.9876315678805088,-0.8669824415561708,-1.2341663926136037,2.5337091221683536,-1.027705205420253,-0.6409046040264811,-0.8389865536286393,0.7015097843485892,-0.411568606228723,-1.145711429384726,2.4704509243203296,-0.37694756244946487,2.2568155087504658,2.057482368475145,-0.898234703263125,1.4942437620977858,1.4763929457740856,0.9913646843255596,-0.810155591438294,-0.6887337195400407,-1.4255839732825193,1.2412907526741508,-0.5073157601357966,0.8497855659137105,-0.7461176838600134,-0.6313858306497021,2.5810207169215995,-0.35562100925922824,-1.4092617557006955,1.2493940105297818,1.3209051369226548,2.1199964750945557,-0.8890311846158075,1.173914888165522,-1.0187485432679328,-0.700917083430429,0.47200010635231104,-0.8730560569969686,-1.0914692622561082,2.150427144461325,-0.29353288138740646,-1.2448645945997285,-0.13710814839111238,-0.7138341662950815,-0.9365807788493904,-0.20387259748773998,-0.6423060888596219,-0.7020588970911339,-0.957457089528347,-1.3684084954377336,-1.8252922902002084,1.8373725933622405,-1.0114992438291919,0.8537729008842609,0.8659269902438296,-1.113885759683444,-0.5307065361246303,-1.052737148085963,-0.8739241724437845,-0.4611850796989778,1.412193248600506,-1.0059840254586792,2.6806514591852206,-1.2209541293739556,-0.623263011704975,0.22304660984536884,1.8042636116579645,0.694081174667381,-0.7894734771448217,1.0681117955328197,-0.9310172561989669,1.4789916101354634,1.3482999551331962,-0.3959800956330003,-1.057025425964173,1.6260892087289682,-0.47773418716935223,0.4901237170055729,-0.671497925293902,-1.451139434734472,0.08120732683769478,1.6734024734318824,-0.53641494557598,-0.7649718288999316,0.8356956295622078,1.2871560473473354,-0.022766397740603343,1.402418119188211,-0.11574681686025604,-0.2327058661815798,-0.3864701210446858,0.4422790901858894,-1.3641796503033434,0.6050781283189988,-1.2148202222025748,-0.18301941219007062,-0.471261194509813,1.4141334060377444,-1.4766299088497223,-0.5288596667958082,1.2284589298007809,-0.37020831124756987,-0.4721912236744854,-0.5366900807023705,1.2605498744205799,1.6648098896725771,2.7385782336018356,0.562565122363299,1.9863855095356462,-0.45777740233037123,-1.1170983525118847,-0.3090313491719736,-0.5715637379922432,-0.8924362090996713,2.596864213883484,1.318839924137594,-1.0404405836846977,2.5371083682259776,-1.3967911002146585,2.969723735610193,1.4035695485656563,2.2700924514012204,-1.220816937263412,-1.0786083522319327,-0.6804486373233463,-0.37423028152271703,0.869295540351516,-0.77786511330612,-1.2606759806230527,-0.5903169201463121,1.0892827055672094,2.019168350028449,-0.13006194106770583,2.0201187878029723,0.9576000754949493,1.6714362534127551,0.23328422388777972,-0.8285867755797818,1.7616760539931926,-0.5906432568038502,-0.617490890107335,1.5398007676122192,-0.9147024580666407,1.8317955224733313,1.7895283204002272,0.652747172065545,-0.7743085759839627,2.068180852483528,2.101394643248893,1.865861668918079,-0.5322140404469948,-0.480653416443528,1.1362708637672518,-0.7437813865627647,1.2201854435181942,0.6880365534279419,2.2650973573575914,1.298868849002112,-0.8071325574402968,-0.5806585219987065,2.108594714493652,1.3895340006352341,-0.9620991181019499,1.7668929797155104,1.9673681275853983,1.2737856722486065,-0.4737960107512731,-1.123404013774796,2.7537035014145315,2.2195652958244123,1.0278628165588777,1.373034316808984,-0.4655123684156925,-1.170164678438149,2.22310588987161,0.7703688404787343,-1.3383810344704952,-0.19147921543794824,2.6678596360791857,-0.7927230306355162,2.204273724760241,1.8822777054701223,1.1006486733108238,-0.9677159428434551,0.9876763839946752,1.26420929458176,2.7066733760444124,2.412420723364731,-0.24568333819876378,1.4409530541675546,-0.10132465885021191,2.379272573879226,1.1965374749361564,-0.8927366174049786,1.9371468617150331,1.4090286021923875,0.6580719295060017,1.739981304635128,-0.29515403820910685,-0.9748652857886089,-0.175556911695688,1.666203491642959,-1.3995757720865145,-0.8560659898351085,-1.2646685536129398,2.1520019080046793,1.6570009419148855,1.418917707874321,-0.7570524892880617,-1.1620144647980168,2.304747447886671,2.6698990099877213,1.1914260130685095,1.3880680951508064,-1.0913117846716383,-0.868756880036612,0.016464664804725013,-0.9841456982498062,-0.47325363420517214,-0.8356373641529705,2.196175443174552,1.3591582451392596,1.745970501059522,-1.2544211635193356,2.5395202953710627,-0.746098208229483,-1.3197006944419447,-0.847175765346088,1.8588609634097084,2.3480287445252292,0.46404795242089314,-0.2015440569131793,2.043049560789951,-0.27910050183959223,0.5021157292223597,1.9325970628113147,0.49762936890652715,-0.7490403525675817,1.5720370801225416,-0.4715489539541582,2.188203820373552,1.376545994361138,2.5537911565540865,-1.0649503690017803,2.154316521518897,-0.5285631247592611,-0.8609275310713995,-0.8886714632221343,-0.05651859996300973,2.7156355600478506,0.8703482819159825,-0.9247406970852778,-1.2887213493884249,0.30283842600721744,2.006134538181224,-0.2953937147003345,1.5655320867181854,-1.0143962015281174,1.111048024334663,-0.29430481862627084,-0.968312923476775,1.7329256160489765,-0.7250456898063062,2.647181992375118,-0.8608250462850604,0.007865565407153639,-1.133232474919862,0.9563842171460933,1.666902629398627,-0.4191935183319022,-0.7799694680640609,-0.6722113494861102,-0.9024936628613224,2.079641242282348,-1.5001269139101845,1.1810516017518167,-0.5102755454728053,-1.008873084686306,2.312784504347461,3.0100864578961977,-0.2032190162158283,2.007636371948873,0.44499595145849374,2.3948266170030514,1.889563942959468,1.842596442397765,0.42157705838981113,2.1833816018371692,-1.3949697139449395,-0.7404586426968994,1.0928231982207381,1.7685830666914504,-0.684656316751525,0.43811341570876045,2.291631507697699,1.4549257697556623,-0.7584863491163253,-0.337975786719734,-1.1321349139965375,1.8567048390766567,-1.5055419300851174,0.9745982993954104,1.0882145856252101,1.2053139163503033,1.0969961492340627,0.49137302155682966,-1.304726781973143,1.1323326420365882,2.227275119449412,2.4477329392857885,2.13514055662069,-1.3833923017194354,-0.9542347806069733,2.271038895515172,0.17935031895729409,0.20624259711871568,2.6937941833841643,0.6494839068190518,1.3456571917653761,2.376928059519656,2.024815067585519,1.8826528342549391,-0.9567075528975465,-0.8864082741410977,-0.8472252178338889,-1.7026891053971154,-1.4295970458720462,-1.310850880429453,-1.3141727610474576,-1.2557654856009581,-1.4207383869566275,-1.345140914943482,-1.0474232675598811,-1.5379901813757428,-1.2051778700840343,-1.1547820958299675,-1.5259021337984995,-1.5494331655670122,-1.2660592872677998,-1.4987484905603834,-1.06140773516058,-1.2775479137969783,-1.3410267843740176,-0.9239520529551959,-1.0725917992147551,-1.3470577787567561,-1.5066070430939726,-1.1700046812954894,-1.311796690891141,-1.1740502774400297,-1.6367358546528106,-1.0216670660989722,-1.2085309019415342,-0.9764566671583995,-1.3363759952886625,-1.1846461466499694,-0.7798802128670242,-0.975515952729891,-1.0064704251328493,-0.9519091323845499,-0.41363801652691734,-0.8854393805855788,-1.2790842707453398,-1.3520460649095778,-1.6382020806651667,-0.6030321549208326,-1.0674087806533463,-1.7367354348581647,-1.6210326977431277,-1.4258413570725645,-0.9764030373227994,-1.483516860848842,-1.6234565581663996,-1.629082684375033,-1.138795235640799,-1.478417718417123,-1.2447431957586086,-1.328834664206294,-1.235608662139716,-0.9881762001231448,-0.9588681349077567,-1.4439102406589301,-1.3755506368574066,-1.5504327403003275,-1.50667131576282,-1.7252770818474923,-1.0341163103643805,-0.703440983967427,-1.4418967240842235,-1.1627768168142307,-1.2449423040061103,-1.1890630175100365,-0.7657048533029317,-0.8747451027511947,-1.8672221340237516,-1.1683015196108302,-1.3404382929442091,-1.1581068955482448,-1.7437739180485123,-1.0578487788378699,-1.2348148160129508,-1.1964104956710147,-0.7465381519309837,-1.224349890782341,-0.914192381185756,-0.9337743655880291,-1.2002392462418583,-1.6256141911385202,-0.9747155014268599,-1.4560016822294655,-0.5767284292880648,-1.485358817694124,-1.5357636203438112,-0.959245912720315,-1.2462895582187918,-1.2274471157249012,-1.3885886496111204,-1.5680979275516442,-1.295575893762793,-1.3540056970555665,-1.3067622590478523,-1.0641075119123282,-0.7483803702906635,-1.1976827003641863,-1.5098021408334428,-1.7566099460239402,-1.3102015225482269,-0.823288098501154,-1.103895579918947,-1.263490139236624,-1.2710919260546405,-1.0643044540569184,-1.1269068320316207,-1.7603929822192215,-1.663305435841213,-0.8826974021234864,-1.2617164871826472,-1.234933444220272,-1.1047304489523166,-1.1230845516686017,-1.3463471566070329,-0.8466493655737725,-1.8475671752912368,-1.024623763794321,-1.1093530564721619,-1.4986266096167706,-0.9169287835804489,-1.3098435048231947,-1.1817769163686627,-1.4396664895978228,-1.1159995792430721,-0.9821403063582476,-0.6757590767850711,-1.3520802776190914,-1.2952324228787502,-0.8939717958083581,-0.8373361642620615,-0.9669358907223783,-1.4380424522582764,-1.0561314870054423,-1.5183694337092906,-1.2034502437239345,-0.6189807708219665,-1.1522590011928608,-1.045861460468139,-1.1984108088840573,-1.5418335615203052,-1.3044932601959451,-1.5141214381576495,-1.0272807895775784,-1.35704102050667,-1.4985616547247522,-1.121240435382597,-1.3565481497493668,-0.673823866160854,-1.6195254397578998,-0.7535216060539474,-1.2303072218423092,-0.8974283929858673,-1.526532670269121,-1.685386148741575,-1.4631561974393155,-1.1870179903449873,-1.0311699281551798,-1.077246288993461,-0.6676642163583327,-1.3696220841845308,-0.800061504889238,-0.758225894192136,-0.6636994585379317,-1.5908324286865592,-0.9366985810399052,-1.0446869516221833,-1.811094501761694,-1.4611654054296404,-0.9954238866496136,-0.4712984911492525,-1.2555333252510998,-1.4067413570252922,-1.1492800787910789,-1.265977112747576,-1.5984131417919365,-1.2150520629676633,-1.8314874568020771,-1.2647770948695598,-1.1084950908390394,-0.8639222240085483,-1.1960399215884996,-1.1177414135155377,-1.3510366225910286,-0.8926051770933543,-1.1844456513033699,-0.929245251332916,-1.071067163476949,-1.5641294861750692,-1.1111531713228493,-0.9356607217529623,-0.9059701250743575,-1.0262771334972391,-1.525809385577498,-1.2775372377504697,-1.4829667957792918,-1.2006387669554361,-1.3126969436826756,-1.4185862069376118,-0.9519828364552353,-1.6174866817809292,-1.2230412350579294,-1.297509794618476,-1.845152727941726,-0.8758185412973417,-1.6099470283680293,-1.811705273800221,-1.4152530304107476,-1.2623697277266241,-1.4605874218123716,-1.6072552594865421,-1.3957171179095478,-1.5182311215893252,-1.343091394811507,-0.8809629372215427,-1.8455174858593828,-1.1836095789753505,-0.7166932055991634,-1.342123570540204,-1.6802340893351582,-1.4709101856286138,-1.2294893526320503,-1.2608547856173262,-1.3278997218833488,-0.922978441504787,-1.7679304828831401,-0.570223935658891,-1.5070777551784311,-1.101076217730561,-1.2890064827569323,-1.316942547940898,-1.3030050827395556,-1.1368006277437377,-0.9223241243914767,-1.629979136390401,-0.9689906871016544,-1.107615344726583,-1.3000253510764892,-1.1088444593184419,-1.4986730415950935,-1.6346591880871437,-1.6331496001417676,-1.1768956637500165,-1.4141986727831741,-0.9675408655421108,-1.2209725338048185,-0.47021899442490384,-0.5650223051251612,-1.5297330201064445,-1.7410270506932477,-1.769387233386409,-0.6989781146836747,-1.3452170662166105,-1.5408487856197721,-1.8335171895264164,-1.624452253950993,-1.2283322699582075,-1.031964464313785,-1.7978244765552658,-2.0514310360624153,-1.7889215242170404,-1.3737969812986603,-1.1948130806401056,-0.624858580140212,-1.3068166082825146,-1.3567927549888763,-1.1401146944924898,-1.4391986573886666,-1.5720540734866444,-0.9715239463493975,-1.244462441906446,-1.040586631511146,-0.7137197858501099,-0.8366497380612222,-1.501068113907534,-1.165156339877149,-1.2541659236648866,-1.0086748945917021,-1.9886914010590266,-1.171906118565716,-0.8042726665435772,-1.2798896167275506,-0.8387472868045054,-0.7056724499028352,-1.8113116546311483,-1.082369439844852,-1.5121898563436118,-1.9186366097156715,-0.9532640500250165,-1.149607504042284,-1.4614612592459728,-1.1099553545568073,-1.005963775438956,-1.0052899267213309,-0.5946879100173875,-1.6859691232081586,-1.540936011442962,-1.309864624324915,-1.4333052349735231,-1.0115137898572009,-1.1800232519806422,-1.1225544275683759,-1.3692398977026914,-1.2505501037216296,-2.0306755990693577,-0.4701429111805659,-0.7104974541144177,-1.6049684798064294,-1.1316801919800297,-1.2706884888987293,-0.9976660961652736,-1.4393343486323922,-1.474502055522905,-1.0772936844799792,-0.8381901434392904,-1.439613012066168,-1.5239239827272013,-1.4520270201710597,-1.9919986925282904,-1.6833874307715804,-1.882828848671566,-1.4144056206974789,-1.158105350942725,-1.5627535170644637,-1.897903259124681,-1.9841361568249698,-1.0775756885410508,-1.672485165788326,-2.1136925361274566,-1.625127810198101,-1.763254057783763,-1.9066221845860998,-2.1171860618198366,-1.399212952533965,-1.9623072180333652,-1.7784576521464983,-1.651007106380977,-1.59568703540185,-1.1760294492365178,-1.541222999829082,-1.1279194587845096,-1.8706834124379381,-1.5472275885534121,-1.4476424565842811,-1.447065193654744,-2.046913356741733,-1.9197799500895187,-2.1567796843871454,-1.4464546535555463,-1.7659005948567563,-1.1549046200894288,-1.6843644803302098,-1.5838504835532046,-2.1802032469509953,-1.4208202781625179,-1.7138115540482464,-2.015519220131707,-1.9398130055039007,-1.793348770223519,-1.805535530870135,-1.444900529825251,-1.3950182478665116,-1.2682714773022146,-2.0720773818601455,-1.073474877380854,-1.9246363501733603,-1.918242448161609,-1.9508071207011959,-1.5722234459109046,-1.5247033651143933,-1.4890006281782577,-1.9204853421199626,-1.8176154236857929,-2.2895591039018597,-2.1397952231168027,-1.0107122260340062,-1.6626847184629474,-1.7938329293989699,-1.3534417424050484,-1.3715081723372846,-1.873489598679765,-1.7719517590862364,-2.1982219460073407,-1.9420382399510239,-2.004476027638265,-1.4630662187345709,-2.6659731951962584,-1.7806854524533935,-1.8648684708699295,-1.8301827738911072,-2.0164783465483427,-1.6424746055115402,-1.7030846043092687,-1.8305671413881301,-1.765464949016389,-2.1907772240063035,-1.3993878904183676,-1.206024096276418,-1.2516609649366188,-1.9926249223655361,-1.5897035697187276,-1.3583430202982845,-1.5664508255665697,-1.9301469326959122,-1.4339564138550052,-1.9525426879982843,-2.11753503051812,-2.056044510197521,-2.3011095393440306,-1.0448983903573699,-1.7509362458593876,-1.3159417593854859,-2.217695557575354,-2.0232513246663455,-1.3840167258667724,-1.4771368925622357,-1.3619138129992778,-1.6290729649579405,-2.167323576071707,-1.428389045525018,-2.000383589617355,-1.6915716178418456,-2.4211878082450458,-1.2763261328213122,-1.9966502500453516,-2.1652345416916265,-1.745131839545507,-2.0795004730387197,-1.8323521580617659,-1.427913460169801,-1.650284010881123,-2.3752981417893793,-2.287431590807095,-2.587914005294737,-1.9157196778102787,-2.208517966923671,-1.6162101189358877,-1.8050581705278779,-1.6467681114331691,-1.6691958002260157,-1.5138576697276558,-1.2074984397518331,-2.2168619563399234,-1.5368939811916793,-1.5325108447922648,-2.016943133321227,-2.3428017735053634,-2.0511945406200778,-1.7533510247753958,-1.826716844103964,-2.1139017184749536,-1.8537894538822643,-1.8676617561654187,-1.9107626685785748,-2.1632014669155963,-2.1177868324836715,-1.7048975140178542,-1.4156997371837354,-2.2086915853533866,-1.9786455281021578,-1.8298695473428745,-1.406952086128444,-1.4027552892571842,-1.4640023612495625,-1.6145641430536182,-2.8119964655729324,-0.9285477909165594,-1.771680504207653,-1.4697335260341902,-1.6389816645768618,-1.819726163104327,-2.2141996286274774,-2.0308307342986827,-2.0677039885374384,-1.8066818037614591,-1.9493390452767747,-2.2513134057090722,-1.7664837362439008,-1.7909691801957306,-1.989234439104063,-2.3392213524754655,-1.768051612986864,-1.9554081417535703,-1.4556822685044597,-1.907372367574432,-1.786566913658164,-1.6986547108969174,-1.363554004817987,-1.7218945789834186,-1.665633707635643,-1.6253221476152615,-2.383529134185209,-1.9045964763920347,-2.1353262347061883,-1.8168876079588274,-1.6348172970896484,-1.7197465069117595,-1.7464118063293317,-1.592720460564887,-1.4789291347324585,-1.5473784209881414,-2.1270981396223574,-1.9030934180929366,-1.6868693119600924,-1.7119541643187375,-1.935985123092638,-1.8587262444084256,-1.6703596952894537,-2.1042391463524655,-1.3210854034271637,-1.5730149409316083,-2.089009585593886,-2.088048214056153,-1.8311100894820305,-2.1684739924236114,-1.2064893263640126,-1.6706419049109127,-1.5891454541333625,-1.781745819310921,-1.439876016852629,-1.8571785539177184,-1.5431387756174388,-1.8583015159282747,-1.7743109384787896,-1.2363604947231808,-1.4820971097341251,-1.273946786954988,-1.9382229066850676,-1.2199576433937098,-1.4902022836603295,-2.1487828226001775,-1.692193143523942,-1.506397371896378,-0.9710755675196409,-1.4166985501260903,-1.799223760557375,-1.876548412862918,-1.7097796319848406,-1.9075040155140128,-1.9728208696578533,-2.0548807890383434,-2.2681057651827268,-2.2789165941403127,-2.37126275502683,-1.6450255060639616,-2.3631964279174555,-1.1511881551150787,-2.3470559975285914,-2.026607062278193,-2.2776561547346175,-2.0269639664433323,0.22137354625120112,-1.9587362930497838,-1.522702515613603,-1.7162785693229898,-1.0545747492705237,-1.2584424793616542,0.3917952779468751,-0.6469154461728646,-0.3259143230278482,-1.5956879076235373,-1.8755625571401557,0.38719359494598754,0.04969577888389519,-1.2531239520655064,-1.7914197940300702,-1.5058971023645695,-2.3630540452737283,0.06971578395459245,0.0057458158167136624,-0.2904918365724435,-0.5525035871916095,-1.2283189718453638,-1.9536407533175253,0.06074537369156635,-0.7104826264236785,-0.7809711110658984,-1.0511252326941785,-1.585839160986466,-2.2086602141523453,0.046754002744225136,-1.6884430616205113,-2.046116031087808,-0.1394210134020478,-2.188677100580178,-0.3141599660229448,-1.6573128069005505,-1.0919696515132455,-0.7369341906019558,-0.5170900480005501,-0.37099072424891644,-0.33995096562103055,-0.23208523781185797,-0.10299664653555016,-0.752230299456007,0.005404807278667552,-2.1769014017318615,-1.6178488914252012,-0.5541504332788856,0.439751522871521,-1.290917393703221,-1.834006216410503,0.07220928268034014,-1.8976301227800125,-0.12223274210323724,-0.609067016205689,-0.9212541769659285,-0.5934553166088706,-2.579043815348472,-2.3634974971252545,-0.7674806373996568,-2.320839908169784,-0.8367212285253143,-1.3292431838806011,-0.8349047060728622,-0.8223005691263843,-0.9250815734371259,-1.6449177474490688,-0.16280590900675868,-1.837137191229649,-1.8144395113530523,-1.9540924443523546,-1.8527659871133069,-1.9595829864237342,-1.1154255391353427,-1.1554520050868486,-1.23435111240009,-0.3408579005772662,-0.8183043312067443,-0.6454947035321996,-0.6505311524522084,-1.5258947461215653,-1.383115766975794,-0.8755726937964403,-1.6605842288556676,-1.7458010547442833,-0.6039409317676978,-1.928481546863121,-0.1962520310268575,-1.8267302261882299,-1.6735203120930695,-1.4322627732026678,-1.753769207920546,0.6544525237897825,-0.9557536465993824,-1.7532737002423473,0.021875059967783907,-2.1492668873113074,-2.4409759292873177,-1.0362448052123874,-0.5931462249824931,-0.20602754063476258,-1.4982773101662943,-2.710087780395187,-0.7480825712406174,-1.130515843288229,-1.8778334167956288,-1.9792470448654065,0.0956016827888396,-2.494789683809748,-1.3879909430670243,-0.8122075765276121,-0.9911170599102311,-1.4277354545238758,-2.0036788947396,-1.2108514734400673,-0.8713447405582048,-1.3829745658438526,-0.012083289993054894,-1.4598337648563924,-1.9883325205169244,-1.4462004684898868,-1.9117150663040552,-1.8204543565565368,-0.4544689391118178,-2.025376868494722,-2.0390015646837405,0.24181755465303967,-2.0930985945497644,-1.3493207063329065,-1.6238638786807293,-1.283901639973736,-1.804073224978127,-1.8504124526347439,0.03065352621274487,-1.775984358324885,-0.21574043138977514,0.22527667003906957,-1.3532372845183192,-0.2162430264398848,-0.861925096134096,-1.0923616692252045,-1.624191599749682,-1.9890799618667567,-2.576658835079858,-1.048454476703656,-2.3270350615155593,-1.3550737920204279,-2.148981813331746,-1.783785063030684,0.31000165410349273,-1.7931129381072932,-2.1701021537412943,-0.7565967684475612,-0.294736732695498,0.023337534854581076,-2.1893316477052425,-0.3894093537510377,-2.185440559842829,-1.79165956710562,-1.3152257597119736,-1.6320265282906439,-2.3551214695175697,-0.551363295683509,-1.5140671551136413,-1.7709972883349479,-1.6544249657482877,-1.634167023956479,-1.477287159976274,-1.2533023723196013,-2.1207888571757683,-2.2350558586598073,-1.9588414720893568,-1.9477638413569276,-2.909933307130033,-0.37411663804496,-1.8768069673489192,-0.3960343796400941,-0.38893081772977944,-1.7134751333677434,-1.6825858031978607,-1.8648530156802632,-1.722344271791724,-1.6757633931782006,-0.6725268897007514,-2.0879406626786614,-0.10515551706252357,-1.8352497329184134,-1.61122349510938,-1.3469256578902307,-0.5114821937097229,-0.825645585670694,-1.832148019243488,-1.0837261113541254,-2.0612477392667494,-0.24445201886323867,-0.47104826268537936,-1.5250804403929208,-2.0533381161642494,-0.661697844807529,-1.972561210232084,-1.1750868394276293,-2.0568825892342715,-1.8741160135344024,-1.1962743579334745,-0.015141397488629945,-1.765212519363134,-1.3797400995346045,-0.9230857991209813,-0.2930469655452486,-1.3156092127391679,-0.34464509796688003,-1.735655441446136,-1.6351894280897177,-1.6536392940261269,-1.4040294988764417,-1.7820148951295802,-1.2264992466793694,-2.1581021497146087,-0.7465506712306879,-2.0325781304557373,-0.2623276169047632,-2.3868794797023205,-2.0596831050260302,-1.0946101985003438,-1.419598414786595,-2.1938530224733626,-1.6710845000903392,-0.7507627128208219,-0.2523560341920354,-0.002103911928586738,-0.7517753703040683,0.1851231964856247,-0.9473443581505909,-1.6420033491077832,-2.048254577196844,-1.9788478482675058,-2.0482430371193323,0.12785903060407725,-0.24948422502002804,-2.3967862744887163,0.16419138196236244,-1.7464630762133133,0.423612480956857,-0.6331687645924317,-0.13227370210606731,-1.9824867271282356,-2.332355509310637,-1.4058928912398718,-1.5331733636436444,-1.0381178750249085,-2.33529416102813,-1.6377894366562087,-1.1056626643466925,-0.2890002742247563,-0.08774630490186525,-1.4523489750711451,-0.6122140674142412,-0.8856760833793186,-0.36063146805383134,-1.261549211828006,-2.1647992195694243,-0.32311720086233553,-1.2397435818672116,-1.8626175007623291,-0.4866800061880821,-1.7184292959591996,-0.25732289224594285,-0.11755945319650932,-0.6897973947494385,-2.3990113263649007,-0.49004264835096445,0.32827529092796276,-0.40002164629717046,-1.6033002279606963,-1.006933119222028,-0.9622780378891111,-1.6484401374704034,-0.5760873558047005,-0.9574376553003192,-0.07375966312426536,-0.7661250322367817,-1.624382530016489,-1.781929270183828,-0.32258148720563107,-0.7234256931925707,-2.14227632167668,-0.4926484174842164,0.009692672324615018,-0.46268879612337716,-1.5200960075444494,-2.0601627622930283,0.5942628625982659,-0.2788645726868047,-0.5707390410763893,-0.697954394272411,-0.8477422200466309,-2.327797332835439,-0.22226812690591505,-1.3651361880875723,-1.8847032979496674,-1.1210896284545726,0.46511308139023183,-1.5990525186102105,-0.6237184565590458,-0.7953864282285568,-0.8087390191256466,-1.9509566411739985,-1.0913787618377326,-0.513447026515285,0.5730667673103927,0.15696028124932068,-1.3138985583993186,-0.09371414251187399,-1.6096162112094963,-0.053688185866130854,-0.7513489731245517,-1.8811784046330995,-0.09562391997652059,-0.4861574528476625,-1.0311273569200656,-0.23540849190871363,-1.6989346771836136,-1.4485878493477484,-1.109992866081255,-0.10587438081291316,-2.288041503034221,-1.2845929332019004,-2.193009786092894,0.20717880485899884,-0.5586156585507918,-0.8775772205983928,-1.4292349378142535,-2.0583139278331664,0.19990975372916756,0.4033340161062913,-0.6686304592445247,-0.691670315815279,-1.621692147011179,-2.0867036327057944,-1.0410895737135788,-1.595217048939081,-1.8561870602413815,-1.5399698875619352,0.06770202531112463,-0.19547615749341463,-0.736427349249821,-1.8914023879274642,0.631371654516805,-1.5456804546468121,-1.9254919062688431,-1.6652847583779615,-0.09292221474348034,0.10692007134718462,-0.7664408970376205,-1.4242615623161006,-0.10705965326375752,-1.264865341247145,-0.6903230409791917,-0.2931453410058765,-0.9530372110905356,-1.9084134731902465,-0.5554794033512315,-1.3371666420155353,-0.26990850616707857,-0.38530435981858313,0.4284359797966796,-2.042704230513927,-0.2920531253857973,-1.3713436403569346,-1.9992717499310153,-1.8515294655951393,-1.5767012064525048,0.1861227361841355,-0.7739380914645305,-2.400228999373735,-2.097023957582273,-1.4309854097353494,-0.7035319226141225,-2.137103066005715,-0.2990680339479897,-1.8497726686384428,-0.8240924085855369,-1.165131913015549,-2.2193868552836316,-0.42834504213581254,-2.3748979915194517,2.2408096917702234,-1.2969622089904427,-0.4984631665989013,-1.7207917737216243,0.29725818329893333,0.8038829956894442,-0.7572879695236973,-1.3034400849916332,-0.8764156145420994,-1.4629321845339223,1.5963248571658597,-1.836777562430699,0.9474904147356376,-0.6242957024110266,-1.646744969968103,1.766970417153508,2.6095311993392056,-0.7507980652648181,1.275877962182127,0.141092495692068,1.8341767983601907,1.659380461659691,1.071043956503029,0.171132118338533,1.6107220527130566,-2.045217831183022,-1.0865420856505985,0.6577643952875002,1.4683262606217802,-1.3610110146880614,-0.3718951569084822,1.8044277228628267,1.0384692319873188,-1.1088662900531736,-0.7492688734327163,-1.69446700734076,1.5590917822922492,-1.8922049421787956,0.6430617477531144,0.3876606304678656,0.5621406707866465,0.6756959388736059,-0.37904972316361646,-2.1268549900842126,0.4970109922200208,2.065025453052027,2.1012636859227443,1.4144122879135432,-1.9325024197320613,-1.0841758336126575,1.98943075296761,-0.37537919629395966,-0.21266250697663894,1.8970923254863306,0.2066794128585409,0.7548813114811486,2.0603104762505478,1.798087559705198,1.2976692563275574,0.7599391871084692,-0.7231032403149505,-0.7800304215449356,-1.775191616738483,-1.476706874111118,0.07170570844367527,1.391989958769742,0.9946706549611012,-1.5988474110150035,-0.8087346022355456,-0.8914775805279346,-1.3295490856593237,-0.6956909517362123,-0.37993134395913775,1.2745948271856062,-0.945769627819812,1.728688826929807,-1.8977883223099732,0.5092449705343769,-1.542308431915948,0.9560717354631925,-0.9892836337499792,-1.2906091330898566,0.7006369695666245,-1.2244203527623232,-1.1970816264817203,-0.09718388801598975,1.0606827483507504,-1.5771334096356158,2.3538129168844018,-0.592618736292998,1.8393973881292123,0.2942852716330136,-1.061439468676271,-0.908331011751831,0.9701085729026684,0.4964179397209674,2.054770285749931,2.1503359973855725,1.4974518988900063,0.9471393395694035,1.8955605402686893,1.3789196954683962,-1.1273862784450377,1.3958990599216106,-1.1210483150199553,-2.0105089551307915,-1.2920691625491274,1.373003981416421,1.14305411759262,1.2814186322182577,0.6152202899176568,1.1855074743022527,-0.8758674142653292,-1.299397572068779,-0.798278538135705,1.2903353095218353,2.1097818637160453,-0.8307373607893919,0.8030044382749769,-1.2925585222236224,1.753265127044511,-1.4808314273032857,-2.1871696328046717,-1.4615776432458563,-0.697473689022707,0.4920384612287414,2.007309679945752,0.48343471383246883,-0.11002184570745807,2.3872770602617326,-0.7742914829709848,0.5059935025454507,0.19812427182837383,-0.13592371560881283,1.294986607171479,-1.7848128462719706,-0.6952338620833766,-0.9955089710368432,1.1082077845524734,2.2870995767905997,0.36197209594273677,1.4349674646017185,1.1382422660950113,1.5328885470964222,-1.401353721012333,-1.132988728970166,1.5223796948669683,1.9386614844449643,-1.5953069576390242,-1.8034871113489923,-0.791449241404297,1.1228905276835075,-0.6969347446905126,-1.4304547347579564,-1.9059630962295986,0.06729370718491916,0.42233060480751244,-1.295252722517469,-0.9278445115519162,-0.2742559569699254,-1.2402166755611308,-0.8257620564987256,0.020314328376338724,-0.9177009056821673,-0.5607838578059904,1.0086381121807209,1.2950230134596599,-0.038528428701555505,1.0381489458494297,-0.9023683106881716,-1.6055500261584468,0.5343936186281452,-0.7011109637433927,-1.3216290900576482,1.5258992788210315,0.9774562447874371,1.9379693417744281,0.8809730080168009,0.5314654223215519,-1.7065952052828244,0.8438625964255795,0.5693642036107294,1.5931063439668032,2.0917912209624263,1.5491214064594212,-1.075239973392772,2.1147845230992406,-0.5360090695549434,0.8898958444848689,-0.8389241069806187,0.09949374821498079,-0.8783307947420543,0.5610519860031251,1.8752361322153122,1.8844219817490957,0.9787015350174454,-1.0950394002185386,0.15732406772232718,1.9465276155409983,1.0432715516912867,0.3874840895958145,0.8501377835805322,1.4496822393207822,-2.039691586637549,-1.144397304245769,-1.55459733526034,1.5543988090994387,0.6129970366685343,1.2292582330031685,-1.232915563224957,-1.2415639312425608,1.2165192738943258,-1.977353657699612,-1.0082043100038487,-1.7594127100575172,2.2591970226552918,0.605276159969579,-1.0661526753383679,-2.072758321811055,-1.5627252757824184,1.241183156154663,-0.8311055294639679,1.4700552807904597,0.3551348074145364,-0.7308422003343621,2.6084550834510694,-1.282147674725918,-0.09532305962213405,1.3739018585280258,0.6741246748203056,0.3291078054798785,1.2448342607454757,1.5845911589352004,-0.4589304202823847,1.1572930787598483,-1.9113122106550309,0.5216256217499419,-1.5934474660401061,-1.0780883867043831,1.5768569370032233,-2.2138897819974783,1.1646420929098202,1.5114319476337421,1.0096252332188778,-0.874830167926919,1.0299428030760778,1.580030441773335,-0.8666874398127952,-1.8119441776053586,-1.0220958596930456,0.8354690435309622,0.3993608014789494,-1.3235923360935145,1.0148665711293572,-1.5343903107437729,0.7733697137298524,-2.051733321283278,1.8142929998378348,-1.7601760078059283,1.3259397811575375,-0.9017156443011355,-1.3381650943410848,-1.000585551739392,-1.562023557385503,-1.414420722141115,-1.0035333161600155,0.05646143004998316,1.0056284845283716,-1.74028534071379,-1.7988592874632519,0.09385292496435879,0.03446295805003191,-0.21849181983616317,0.7459266267527683,-1.4417294708966084,1.288536037318866,-1.0588302560292333,1.876252384228752,-2.309528098326533,1.692191210372696,-0.9863851265376874,-0.9534459242282904,1.2447182057909583,-1.8050578407638191,1.9544893210560017,-0.7001386237709167,0.6665029092309644,0.9282831618688175,-0.5426807541519761,1.14825213112294,-1.191217498795587,-1.0934692457036763,1.9453437424555733,-1.254897510512891,-0.9649196645253468,1.7929201533786445,1.2714010648174079,0.8207059192351778,1.070289977533435,-1.5085849190796026,-1.746473268154241,1.2873830329584477,-1.7596000007051562,0.25854389193842353,0.7250481843304797,0.5059122271507798,-1.40221824864234,2.060381309298304,1.0949723650973417,-0.6542361389324189,0.9988528694455996,-1.756383194518128,-1.5656348680448997,0.7007040721400892,2.3537652767896526,0.5451323261797709,-1.829355296787033,0.9382499178427965,0.09589064124199514,2.156187963672952,-1.0215662159499355,-2.440220649219388,-0.07738495367821767,-1.0549816458945054,0.7619516657148402,0.37259589572708635,2.111572261275243,-1.7475090792691068,-1.6975794374181024,0.5796030944441989,0.9350481250279047,0.11621841526151558,-0.21723744979239265,-1.0057041141954053,1.9729288494231705,-0.9380526406365859,-1.2714468681238003,0.24019716734773816,-1.3880253992502707,-1.6897709468021997,-1.052910315138404,-1.504025525423595,-1.2737309992170383,-0.3919067679786519,1.5177027490858221,-0.20875570202725674,1.2053744614539152,-2.1185482565390075,-1.3809805781070577,0.2046953409348189,-2.0427978159812037,-0.47575754437272133,-1.6922994959765132,0.3137529627417183,-1.4059874179715603,1.4250213525919082,-1.09741588447286,1.1767639051046526,-1.7274578593836638,-1.5132511144379297,-1.5173781352970737,-1.4126876331744784,1.5052845903230776,1.582550555558999,-1.7379125848052484,-1.0785362371117189,-1.2860266973116672,-1.9877914339060982,2.2219518733785475,-0.028654047715640625,-1.6349294940880144,0.9344223524224272,-1.07091230787371,2.163256351435294,-1.796213197648582,-0.8722568151441787,-0.880939500570231,-0.7485357471157962,0.09805678985929299,-1.1794540138246334,0.5581158444137593,-1.1872266001508527,1.5696009961197352,-1.2796270592706602,1.9933293598381514,-0.5538093579958406,1.4347707194921173,-0.7168869989121105,-0.3460068033859282,0.09971774414935033,2.28734973254477,-1.0260718243577112,0.9837387202306888,2.621362780085816,1.8860804113171403,-0.875715388641859,-0.3239074534541936,2.817777794762081,1.926916842431368,2.324717748907644,2.9988537858685214,2.9250235477353796,1.4622654707268983,2.3516146669596387,1.3616017909509968,2.8419482324275904,-0.07200398637461812,-0.6274005559042481,-0.6022419288351555,2.0045799767483614,-0.8659035659621428,-0.44672521679240257,1.882491377893852,0.1539423566387807,-0.7527316322843374,1.7750637468681456,-0.5008726093302739,2.3148180438831103,0.033183653444388866,-0.623001506503507,-0.5794009075405158,1.0206817294461723,2.4604582530273937,-0.17857773928323875,0.34821829761037054,-0.8261051243017639,-0.5968158056526303,-0.18379643478608518,-0.4575580562260363,-0.507171026064257,1.276818349102797,-0.6384159185057874,2.0293344113732026,-0.42837471869176125,-0.7384489209493157,1.0649600951554248,1.5693698055712053,2.0819018991968723,-0.3962702086745424,-0.4846980450151045,1.8448908030298887,2.8697791969698594,-0.429850721001009,-0.2938334017951646,-0.7383333409200449,1.6333940961695783,1.9599266502016512,-1.016794010232981,1.0878672127109539,1.2405246724899768,1.6741353731513045,-0.4906167031432553,1.0097645185572641,-0.8171049053618135,-0.5677405992015206,1.998716062984615,1.0654933912941071,0.019821515200357544,-0.4122162667934835,-0.09915526812048414,2.429917176375108,-0.6594076508370533,1.0623227468179461,-0.3173724072841342,-0.248645519567958,-0.43900834369609437,2.984071117665393,-0.9427925521369187,1.605339579676169,1.7407858766384123,0.9969640418828092,1.677744299032258,2.481956009753371,2.2038965281863367,1.4717701524733255,2.3429166422904526,1.5370320704378648,1.4468210328520736,-0.39762876750864096,-0.3877468707919872,1.9519007006344582,0.976907662167147,2.919084876241662,-0.2670242297125172,-0.28345846316506157,1.1705219057913254,1.1812635680922798,-0.6627117350504256,1.1557413827826197,1.9189407524070416,-0.5290767455258515,1.0443666560769866,1.701053962666397,2.129039979249794,-0.7549121232015279,-0.5223144965533816,1.4063186160346222,2.0695145503312804,1.5586547696549125,-0.9129402287663343,1.2621541154200642,1.2395979433312212,-0.8446196697971255,2.4071029761517937,0.08310473403526104,1.6912427758535775,-0.45516997126129727,-0.6696043120169592,0.2033905022024403,-0.3535574623802269,1.0987546586128907,-0.712289624298644,1.60929673095425,1.5287089205821913,-0.703720401525543,2.5682612113849315,0.8224733018100763,0.7752769281898308,0.569815785940809,-0.15336073197984107,-0.26582232762334335,-0.6743110217946948,1.0428917296123879,1.954376179815599,3.162524981964111,-0.7923030044592203,-0.09028204139969062,2.3450022274363165,-0.7406855868291014,-0.12287184106183528,2.711089015012513,2.3355651183430455,-0.13977605353416972,2.123716492698425,-0.7495608256032591,-0.14450332583008052,1.052924138269741,-0.10119289566077479,0.28463512035460886,-0.7310392823656754,1.614992213803383,1.2697821065729027,1.2482303159651904,-1.1305274965351044,1.7789390505152902,-0.705729590104564,0.27603747598062617,1.9882982607397184,2.1890413260627875,-0.6227219825698105,1.4870790389170694,1.4066366926731664,-0.277264340493289,-0.4232240760490395,-0.8529783383973375,1.5045714009116515,-1.348076224794119,2.6482066172937975,0.19061725123353632,-0.17033101989475413,3.0259239367406727,-0.03704309769818797,1.1285402703454641,-0.6969551560438573,1.8882583949270042,1.7861775423076736,-0.6764440992356767,-0.6451731615619516,-0.8370818781651354,0.8659121913695099,1.115864140977163,-0.0372541585106069,1.7267599775492957,0.1316744361335487,-0.63923542413484,-0.7792383991395095,2.6176716489708585,1.7414708258178773,0.5688933689008008,1.845035844418094,-0.5869637727490651,-0.32176161413521936,2.7422704446958392,2.1028671382019577,2.343747702484175,1.367902170255495,-0.12068387905981501,-0.7533882284512702,-0.09131764148792239,2.2020014010378266,1.1837148949111844,2.856943129558213,0.4700099712999809,-0.5370423874047858,2.4154757405390277,-0.33768481216316387,2.3909601515076835,2.0376041703959515,2.2778597331984227,0.8939882567336638,0.9650408494217273,2.4931630900200834,-0.38573732926437043,-0.9108531523999575,-0.1381202182977668,-0.7299196070374321,2.1559389211959616,-0.2949176560201569,1.1516825274010396,2.77203446722353,-1.3106573285215475,2.3662138293528647,1.714612428042808,-1.1169273261638968,2.729257213321676,-0.7445910351783979,-0.6138976216125103,-0.6017080934401776,0.933259928250811,0.3573866016811099,2.5776851635674776,1.533655659710291,1.5770651762747296,-0.29949153164878617,-0.4167413247332684,2.665217371781393,2.8240558421890762,0.25990461960978456,-0.24638080796503734,-0.738602161898802,-0.8885292798430247,2.606090682091571,2.9287451442434302,1.7346589197442872,1.3023714827066604,-0.1885666939106197,-0.21141737683195966,2.1419646554438057,1.2917919863641583,1.5953673998616102,0.6624596943759651,-0.13227358996349153,-0.7126953919340034,2.745228330854079,0.06276557106421399,-0.840547316353239,2.7095126658382784,-0.4276763413645264,1.6902288428076708,-0.3461399021207561,1.2530246743204727,1.4471384679354302,1.6632382215879524,1.7339620677374246,2.407203963646143,2.0648189645634774,2.4022396074427252,2.0941614894640312,2.3909018477272244,-0.3327263160426417,0.10531387203876182,1.3036144754900774,2.9078708618162707,-0.4910432617756087,-0.7572330482887966,2.108948917042421,0.030159389002403104,2.246181719956132,2.0102963858046317,0.8570672776133753,2.1208741275763665,-0.5535034214230302,-0.730939315612656,1.2021418333180889,-0.7876842737003175,1.4760388476892867,0.9758463078481597,0.9801924966762829,0.9184336301342456,1.7923634741542462,0.9189578080975684,2.7260882613964648,-0.7177289625084647,-0.673109990968132,-0.12926542153699616,-0.8493030610315877,-0.3211510459765204,0.22556602681219046,1.3662580571993768,1.06743295724992,2.2827238373912184,1.936965239938157,1.4112894731383352,1.458637648482372,-0.3367768681399677,0.09322731337966388,2.1827244164240036,-0.5522838294052622,-0.07023781291344389,1.354501342145022,-0.2707779753841662,1.2830747085425374,-0.014309727949712678,-0.2696389949630187,-0.6316081382773626,-0.49109477364253645,3.0593175550121328,1.039356187199089,-0.8346884888688706,2.2339435820687017,-1.011123174391119,-0.7165908856973469,1.8300973224110406,1.715059229509955,2.0570789298956913,-0.4304277586836787,-1.0344963513885004,1.7221034785066827,1.4113272972023352,-0.43438583683923687,-0.5127496196375044,1.5694515097928292,-0.5969862882774606,-0.4085800679998785,1.6470952233859635,1.9587910712146352,-0.7186227663818696,-0.9298710012013899,-0.49616137916003245,1.7032940666620027,-0.36782425922266343,2.754966862974864,0.29832082919087854,-0.8431018057610914,-0.3192559282626907,-0.2721690990539348,-0.45636286808865406,1.5210331967150101,-0.26946348137839243,-1.099110737230955,3.1312280823461314,-0.4124516642326312,-0.22755244664322316,-0.7434926558833312,0.9729852936531055,-0.02140782401218261,-1.0202051637766083,2.477271917016423,-0.0877374721351064,2.791581336124184,2.107957714426236,-0.4726047590268989,1.8366575954416733,1.7887944112551615,1.3296859220517911,-0.5796060383103383,-0.09939995059757384,-0.9453860874775464,1.8633652865578656,-0.1103339852231623,1.2331253554341581,-0.17588269446660804,0.0016022915477620135,2.7801937036475253,0.24053375237933197,-0.8472119575426025,1.3994558498438368,1.3400039164717157,2.111811283859244,-0.48522841700708075,1.4576681843230064,-0.5590136355512406,-0.5644972295085616,0.9426486023827535,-0.579753371064954,-0.907302459461588,2.380976697589281,-0.15574882892632014,-0.9747532838344316,-0.02660806671440028,-0.5132969810299364,-0.6569200783095619,0.31725124449379294,-0.02568834913278181,-0.20821902589397429,-0.5591111160764942,-1.2265318473589917,-1.1909399694635256,2.103391308509881,-0.3703259303964158,0.8660506877372292,1.170143264489594,-0.9515461335164215,-0.04914445178043878,-0.8112740066442575,-0.6338252295412983,-0.4707344694735086,1.803718229356266,-0.5107799557223013,2.954855365568172,-1.0245095397264667,-0.2522010090374956,0.6691395321698749,2.0511835472565445,1.0337666109328305,-0.673516601311234,1.6192480053771636,-0.6077022024041421,1.500818786762962,1.5201889710747487,-0.18589352059332456,-0.527716392747328,2.0217067851023836,-0.3031167741493623,0.6906609022707176,-0.29225073139111113,-0.8195155110762264,0.16442343773003387,1.6788592675887575,-0.03984667730038302,-0.4075518116246393,1.4782331415342027,1.8655762279760517,0.3251042297601581,1.8935295933069327,0.06432739031660889,-0.15494654944611566,-0.364642944417187,0.7887855191474322,-0.7120927485568179,1.1671279264770922,-0.7469001232505696,-0.0766119261310138,-0.14521774363655052,1.9802757998134917,-0.9241295004661596,-0.4729275266878425,1.5012986376445148,-0.10964639025680345,-0.005635323261699166,0.03218071015181628,1.7762169222452386,2.2500510629973873,2.872269690445267,1.0154790373838982,2.2046572758106335,-0.41957984323224823,-0.9124685716290835,0.09067882281909793,-0.1486621908344553,-0.3863185510495432,2.796037200609409,1.8385995675799072,-0.44019322642848124,2.5780343244025374,-0.8429264932918772,3.1770819135714325,1.6245697119190814,2.2496294733129405,-0.6001066019189162,-0.5165585540738398,-0.5945041293525697,-0.014081867168987619,1.0384561592146313,-0.2349140946970881,-0.9168979487399468,-0.27927965320445475,1.3375668397050076,2.012347357332356,-0.034568043322398684,2.3898165919312344,1.6315141538689728,2.042498256080236,0.6507289768886932,-0.19696285192153645,1.9158304889249025,-0.5783654699508817,-0.13592880576314378,1.5125167968278452,-0.3649304467615161,2.059616678522849,2.3120163609209783,1.2775501030276977,-0.16314763041399716,2.4419712522294468,2.25827747525904,2.538411548752883,-0.5199362535940268,-0.29648661364900686,1.5960057714839448,-0.4709416787190299,1.5776054607934873,1.0113516072227668,2.3142085047694647,1.83499887491505,-0.3296630687137613,-0.2764422477529421,2.509669085023942,1.8792812762147377,-0.559660549032441,2.1174920042947103,2.0846892019582035,1.485236445827501,-0.08090683145629574,-0.8519285044702802,2.8587467889343685,2.4037320986189337,1.6594867402171232,1.5667505093780358,-0.3509196911213239,-0.6135716744369304,2.681476599049085,1.0254739673126254,-0.6890225298024069,-0.10144211184951554,2.7292485703440272,-0.7859020379394227,2.848175435271454,2.1824013840982293,1.0897350849970755,-0.6798700510683146,1.257787694759972,1.6516416797198628,2.8089882664858123,2.5870381363847206,0.048983546272469675,1.5323543562952058,-0.09723206323255602,2.6534764802621797,1.3343215273972433,-0.34296460609985346,2.5414868145889042,1.6791399129576856,0.8695227030848963,1.783635657890126,-0.20238853754223743,-0.40053770077754725,0.3728509010702187,1.8135369338785752,-0.8470753637029523,-0.5559423112069998,-1.1541684719362275,2.405742836299353,2.280439674337819,2.045084837375692,-0.3818978910029266,-0.623156041806641,2.355222793837762,2.7981336726742754,1.5952287806772363,1.633623832210167,-0.6029287076313532,-0.32034906727070545,0.15561291580502995,-0.8490900428671578,0.07378998002151627,-0.48230994249533427,2.500391717420315,1.6811091003948664,2.3093844977568336,-0.7755874762535818,2.641835185812463,-0.5087276624054338,-0.9008917429018115,-0.40653963717845637,2.405904577636396,2.4544362305842866,1.06293111113789,0.049468474303056884,2.228580562123691,-0.1113040815156955,0.9932272033410819,2.333671433341605,0.8973395408975983,-0.4762006447238472,1.9812966418881435,-0.22735741543401553,2.6397535368549327,1.5156942453614426,2.6752048265445474,-0.4101350701768176,2.817317011579172,-0.3566741088177086,-0.39164323358017655,-0.3921031949465372,0.32136439540056233,2.932543127783619,1.3764659399661106,-0.4363576200449929,-0.8767333905443854,0.8116844811357832,2.6623140355454056,-0.2039924125726833,1.5819024691888097,-0.33638952753643697,1.4329988795902702,-0.17698374425346466,-0.3789791545343082,2.127178993883173,-0.24211940692289577,2.7413116915812044,-0.8362694725791242,0.07743969090730617,-0.6257506183305155,1.3711005730685704,1.9915818817326716,-0.18318717104707202,-0.2151912728275303,-0.13880972065160865,-0.6610305214196173,2.068727653968599,-1.0895031536053637,1.4375209271249276,-0.25380622009969483,-0.9392989591861544,2.4519327553477646,3.0646543994649447,-0.13500908925489444,2.1249574463216794,0.8951814694006559,2.76588861967053,2.2183357909111665,2.0622324072119715,1.0068182317146217,2.694956054044171,-0.9966237404930876,-0.7199956646086197,1.4475148184175928,2.389293402035946,-0.5114031022707538,1.080650927680755,2.332557463874259,1.628178984236434,-0.5388503843021188,-0.024210122699439333,-0.4855048064068868,2.196390275342107,-0.8848315947406211,1.1260243372486833,1.2505542117922324,1.4549622490273202,1.5731014394213794,1.1229969452150752,-0.8395350800995753,1.3615179966253252,2.719750792107353,2.550047829727189,2.277017204699431,-0.8336202904143091,-0.4563023137921581,2.7389589944671764,0.21345528243776082,0.3740390174426124,3.0198376342574287,1.0069039240943434,1.734453775442697,2.8516691511677528,2.07529041353661,2.1595851377163306,1.3363312629667472,-0.004079870686073264,-0.3156111882427144,-0.8497213693386562,-0.39867679563949066,1.069269594031773,2.246685608782913,1.6396930168878137,-0.8194861249000288,-0.5149294639093174,-0.6519827486292259,-0.6807069934470008,0.20017294744647063,-0.15927432178820547,2.2405961804509764,0.02434533044726422,2.8401244632471236,-0.7983898216738211,1.263386697314463,-0.35569837266116117,1.992768529824273,-0.24120850401599278,-0.9910148959850235,1.497142262157685,-0.4102734817220258,0.04305280566094125,0.8502540500023575,2.1667430469558124,-0.98910933047464,2.8469691210904466,0.06366587700262091,2.249971027856136,0.9921319825953172,-0.185604704629486,-0.45616829007916343,1.503659962589925,1.0984860098207263,2.8288372653788945,2.492961122188667,1.8167069947486623,1.4784131617808882,2.7101042821416317,2.0267394435603454,-0.28283890131483364,2.384313706039532,-0.37055601655696346,-0.8645296548588048,-0.476045522323298,2.6598903175791198,1.699054448203436,2.5283268270587214,1.608233583747449,1.862135634988135,-0.15983818913953335,-1.1110858482867314,-0.1663954712721605,1.9923602489154968,2.977116050643539,0.16843252388348773,1.9563267365465533,-0.4624858345523866,2.717711586172901,-0.7662601803430867,-1.2013651122562803,-0.7183677896346888,0.4370120183956569,1.9084459900861477,3.1478596970820387,1.425777474514496,0.804989270352305,2.7640039980384734,0.17723767316512515,1.4152897033944045,1.1853180996892614,1.2663411717345778,1.803262217443347,-0.8287208155245829,-0.34710331753180823,0.13017852826727577,2.0223880758183856,2.8465049151304607,1.0897079708804094,1.9487524042748319,1.9548881594104526,2.690022084867799,-0.2775064923089533,-0.30425929462797074,2.150683370224165,2.6746589048469276,-1.0500545791113696,-0.8614687388490948,0.071478169494788,2.0978132461714654,0.047606009572039185,-0.7284529941154936,-0.9590562761772854,0.9169501930817968,1.549815014169975,-0.7789699277287783,-0.030486463387891616,0.14842091061652074,-0.027479739271982394,-0.2129003295271485,0.7617236615186954,-0.3286483182762384,0.11797280656131097,1.660220812596113,2.287818840819216,0.7360212642839079,1.4006233777489285,-0.21109756677582,-0.5142791012416053,1.0918176346094934,0.0042173505473749665,-0.7605649143935646,2.5917666232562833,1.548304778970053,3.2312063154826642,1.635257886559776,1.6319204516242616,-0.7085572125733068,1.5656333161181863,1.0805877533274924,2.6463357829122574,2.5582121261922106,2.4447310575762287,-0.44929507363554655,2.73240285621412,0.38244192332158655,1.4631076629825595,-0.17784465346946507,0.807444098903231,-0.08506779045381861,1.0749438354320677,2.5878854672696825,2.9313085989153302,1.6737925654618904,-0.28365690827039697,1.4004574614476561,2.6507358272442554,1.4717525958234432,1.6625097547747487,1.386502623897917,2.6201040673571856,-1.0790426735507281,0.15280049701501042,-0.6178855954743971,2.522841009440501,1.0523337213999298,2.122927548953023,-0.7053816700980446,-0.7054776857174365,1.4412630414832306,-0.6305186528982657,-0.21991623154151319,-1.0708334973154185,3.0333798440916313,1.3794353551188794,-0.2726769202578974,-0.9037194470750091,-0.2881230364018865,1.936414079410724,0.07922084680376147,2.3843230831376703,1.026716770451664,-0.06670815013960031,2.969114727834521,-0.5681840514107686,0.9832062710509788,2.0809567070625703,1.3259091482703145,1.489555982080826,1.630206634202247,2.3532005939786242,0.3571147382787543,2.3725498232097055,-0.933046436029313,1.4509054411046773,-0.8492468354465018,-0.0626923015069266,2.1435258728496263,-1.0314580099371042,1.7848608577567253,2.3728356983021275,1.5949677307244445,-0.2939569263403333,2.1702272180594937,2.7771763372586555,-0.09930181594619576,-1.0970215955087246,-0.18478518495442592,1.6573780343111655,1.888730151143963,-0.4157425441981226,2.116099529829977,-0.330811648003323,1.5711799893200797,-0.8635735464609576,2.578215064464198,-0.7013181868808962,1.9296889321920119,-0.47156234904741473,-0.4179437784039086,-0.2453204154794831,-0.44187059119074973,-0.6007820660709754,-0.36386559786504136,0.8951661912848354,1.9239690459446643,-0.7217875382204348,-1.0750315520371418,1.1262469370928034,1.3348603471776306,1.027329752452932,1.869578868622448,-0.6480755208109891,2.1340285503686967,-0.3019529213903476,2.154072896887859,-1.0853558704243413,2.460843951956079,-0.22747272591390974,0.26395211206103525,2.1704404689313552,-1.104368291060733,2.6403090003893257,0.11556089937168955,1.5203929146487485,1.7721449084261,0.7240542717940173,1.7882964100878995,-0.35628920271522624,-0.31430688606159907,2.8735134732804797,-0.4948982446428365,-0.3111217718769592,2.2833682750456523,1.7501889332886729,1.9404036080086984,1.2400489022470613,-0.615533075179032,-0.6068524121343701,2.341109763420696,-0.8941549642029782,1.5646365384386742,1.4503912832577233,1.4579759025421855,-0.4357492252008026,2.676760663093664,2.3334438935381794,-0.1240773027117109,2.416380705334388,-1.0482582650800514,-0.28368962882339255,1.7328105992575598,3.2238219486599697,1.8737585227742475,-0.962228971090957,1.9801219754739308,1.031867438759989,2.3970725118357654,-0.42736103523073815,-1.0227846264631673,0.8898041186380089,-0.3120011244872901,1.0459352812115124,1.4601424135316585,2.2932352298051,-1.0406825438502225,-0.6835644864526506,1.2123677741814467,2.1446490549011625,1.2382180214487872,0.07057881191559501,-0.2668984380619717,2.7570862164330974,-0.27066026732114734,-0.7124670510357746,1.0845152874713382,-0.9052215652684228,-0.506026196534119,-0.00186424090363597,-0.6832205506943785,-0.04276661821176624,0.13065144413362825,2.8192711083840205,0.19829859099899783,1.7752467141649169,-0.847730886418488,-0.8328736105263885,1.3725320753328683,-0.7808628962626123,-0.04524310701149308,-0.799782685694166,1.0175126233665819,-0.16667855048887742,2.126132187662231,-0.33517085838423477,2.0101963036178074,-0.6390975147750578,-0.3350451438562801,-0.8110019820378189,-0.4251153839493787,1.873637222439603,2.5443619250545124,-0.46884396285129076,0.1300379404314529,-0.41434855205134535,-0.7343637800712011,2.7272575643016594,0.5257650750739113,-0.625354467584938,2.1463850148175556,-0.9699461521004438,2.839593524622115,-0.38631906912913305,-0.20509340418843017,-0.11441479197746118,0.15920558033358914,1.581932838946701,-0.2894416316458195,1.3952949701273007,-1.5340384162069425,0.8564156999850037,-1.700084461549006,1.7671068612596355,-0.911826123177314,1.039890774042119,-1.060684479432815,-0.7670795760792003,-0.4720130155748969,1.7265072807437385,-1.4479668919535127,0.4110681364427752,1.9099241667716504,1.5175056736160368,-1.1670726115675658,-0.7565320334797491,2.5693266676425623,1.4482793241078413,1.5381442981843994,2.702898448408891,2.678379259921821,0.9251384759756911,1.7991552659314591,0.7871852735015408,2.689785306772777,-0.9046837847845502,-1.0439828813321073,-0.8103064751030714,1.0896553977087795,-1.3444209234550963,-1.220518191911575,1.6424752420802722,-0.16313258080992638,-1.390875146928873,1.089576722588253,-0.9149192291404578,1.74739340044624,-0.4478631054651094,-1.267513306976327,-1.294500378259044,0.6116619060626801,2.082323603605749,-0.43151695997919076,-0.2884353462279591,-1.2998679863057852,-1.0494309826181973,-0.6678379265422052,-0.6613361350102746,-0.7897646445700609,0.7036659637447324,-1.0988481691860275,1.3477571914706226,-0.8245646737576362,-1.0573339407509807,0.8070091977625359,0.9067865722061568,1.5526686085080201,-1.2368201023949044,-0.7997016910970695,1.1547498041678794,2.2802301608264535,-0.9935397845180425,-0.410959010657774,-1.696433705332244,1.111825803469701,1.6828982756963855,-1.2954009867067195,0.6163970371314547,0.8708975227379536,1.2420294203238438,-0.9545730094185891,0.4615147247088132,-1.1956916149406065,-1.0853284759449735,1.2465545739179678,0.4176358944416813,-0.6242459816398263,-0.6529620956670765,-0.5999614998342268,1.7509979693421263,-1.329792182358584,0.33619783177311496,-0.7823133362950898,-0.8091225851063775,-0.7766474313106155,2.518896414853478,-1.3042282873449016,1.012477137220563,0.9815174672138631,0.16867275277672625,1.3931320933972207,1.7605185349366035,1.6811179108075947,0.7665148872365393,2.211886348673597,1.092727562107514,0.9962903030987209,-1.2520749118220231,-0.7080873903619788,1.396107067545681,0.4437353476585672,2.59561876809284,-0.8528978695682906,-1.009767248023376,0.6828715709757341,0.6463535239938177,-1.4565669343156347,0.6807509185443068,0.9903784669584526,-1.0652931153133427,0.6466620070541492,1.1811361600553945,1.4260408728332414,-1.0888802511126905,-0.7437511196713317,0.8743301856203823,1.6064486264975257,0.9872004181167444,-1.7384317380740262,0.7171717325803089,1.092629140493362,-0.9547291235025526,2.077288483056146,-0.42067294071750744,1.4489324618190407,-0.9048615724346748,-1.399272268909316,0.08020529042276148,-0.7273190751278248,0.9254804108564062,-1.1440329980911206,1.0196532411414465,1.3282407164593453,-1.1218230895426993,2.426073264943093,0.5453342152551168,0.5687658067676895,0.26842529896424705,-1.0281565176700058,-0.8699953217607057,-1.1279934003892946,0.4815651096159722,1.5249670761768686,2.279665625263922,-1.2326725486452639,-0.2783160665678901,1.8750596656788836,-1.36332662702551,-0.4658757376362613,1.9730185397385178,1.9741769646278962,-0.2691892527407999,1.7138172616712268,-1.3361689298753925,-0.9380500603446479,0.8661969023697785,-1.0036541386622777,-0.07013528323580981,-1.3731409274983946,1.239559326356731,0.8207807503646656,0.9949675060805598,-1.5340510702892194,1.5316264570662872,-1.1341252118064211,-0.3206371793610033,1.2916200124908428,1.820317851559326,-1.524172328760701,0.825715906209773,0.8520890215360633,-0.32374691821528306,-0.7235523966929491,-1.610662833313484,1.4314779294660394,-2.140913173974192,2.0693777184346303,-0.04686230755945771,-0.5776633048910176,2.421732350234808,-0.7679408899894786,0.7458508875882794,-1.4304313937347346,1.2984021322420318,0.9721699539941424,-1.2381384653713694,-0.8339478314365871,-1.465839178730137,-0.043222376970507084,0.7077009517827832,-0.9598972904236357,1.2273828639033575,-0.30503268506182757,-0.9939849368098693,-1.2512880949563356,1.6711946536311832,1.4074321605577504,0.12568581251915897,1.204155605513092,-1.284309366761769,-1.1134470030573724,2.433371167345236,1.7017633238430827,2.028703997551584,0.7478511912127276,-0.43580027177491915,-1.5733908954127267,-0.6684749249387986,1.6707869473565335,0.8295195576732537,2.672778069180055,0.06106551401989417,-1.229862361699062,1.6966906323132847,-0.7640271212388929,1.8323217965547802,1.166614148147088,1.7631251239198371,0.176929025986416,0.6942972544308256,2.2900264470605816,-1.119718335698806,-1.5699784377039123,-0.4678488576532559,-1.1153539764671332,2.08940340048758,-0.703859650798467,0.3804693501766345,1.947588057772636,-1.781435956718361,1.4519915858109222,0.8993364653118305,-1.746462278615156,2.480780604171981,-1.2709307418327707,-1.1739898380276599,-1.0054714828371722,0.34154998502087675,-0.03927175363282949,2.0888963511149186,1.097178644842561,1.4893567606135263,-0.3932508778287078,-0.8940154998068668,2.1020181119056467,2.6089254702945377,-0.2721736595510798,-0.5717284163278001,-1.2569840631876,-1.5468958490145206,1.897493329768779,2.364832012965367,0.8743803212195731,0.8881000691652632,-0.7109703531198289,-0.9283391497739889,1.6646182649105454,0.9221363505554033,1.1282894883051398,-0.18182908991747004,-0.48548732151034346,-1.19233411491036,2.43498496412137,-0.3215481612513905,-1.0875002845770807,2.1535052662759777,-1.3407077990830205,1.4571792085436313,-0.930212125130146,1.150990705040449,1.0883206799021128,1.0263285060002973,1.5077721964214397,1.897457203215044,1.603350957360322,1.9779834599851802,1.7892043442427839,1.4529838232583165,-0.6656887476127784,-0.24107325094097518,0.6653832473138809,2.4281603795954902,-1.1274026119635974,-1.0976743587188393,1.2934956751182787,-0.7861248584651531,1.7430181214252785,1.7362872015826334,0.47758542951412,1.6425758679392917,-0.6836370900556671,-0.8287204810019665,0.6557029033294571,-1.6160186364273195,0.867276415693438,0.2879861965721013,0.11040390183336332,0.5109561316099775,1.4548790889303254,0.5076860845593277,2.166624823060877,-1.0687325914444241,-1.4891489740387585,-0.40580436979800244,-1.6649672417722667,-0.5448938036765795,-0.2980164598921996,0.6449768109729652,0.601492140198939,1.9483795139702222,1.2976114363804425,1.0094762379777635,0.9941538294206164,-0.9104218994256639,-0.3354323910394627,2.023261872445536,-1.0300850797541643,-0.41563986232584244,0.9510347045365035,-0.6890530134036653,0.9275394297423658,-0.4870116659385263,-0.8010625780401792,-1.2508478154261895,-0.8158740286621421,2.4759590315325415,0.669184437167497,-1.2864022231172516,1.8750289077113544,-1.159577130614673,-0.9663190938062025,1.3090423448901887,1.4472268875405225,1.6724222291618718,-0.5863590031717959,-1.4152008923996124,1.384640431847178,1.145597385375053,-0.7540687889008293,-1.0452665451002625,0.8325762493672177,-1.1760204289792906,-0.7182853796764451,1.1138244678577254,1.443026691151916,-1.1829021459118838,-1.4887322293120138,-0.9896181902542283,1.2639839357398395,-0.713075454963573,2.60171986229395,-0.42733257191070045,-1.3188328560068372,-0.7865399693189036,-0.660660384411287,-0.603153327783726,0.8524955151775652,-0.5525192543033679,-1.294826888693178,2.44101489514608,-0.9663182904506591,-1.0665158134391182,-1.5388406545930404,0.38394032449741927,-0.5292069124600537,-1.8150013409030017,1.925511345310817,-0.424485381842978,2.392815201678782,1.4140217516931557,-0.9400465882441285,1.4903094117449327,1.6312799047134994,0.6808206124621545,-0.7792306434011113,-0.5700455229438885,-1.7746632597524779,1.5453134010073062,-0.7057474471379316,0.7685246298580011,-0.7808831682995215,-0.5317066759663701,2.2132885105889657,-0.3458542173762905,-1.7047482481487215,1.1342058646658666,0.7475141264799766,1.9263716966387154,-0.7256855864030486,1.0099632491001762,-1.124803589903774,-1.016994205826731,0.7760397966626519,-1.1116796510953277,-1.4007515031381708,2.028138719599453,-0.527616226506558,-1.6757105227441749,-0.6657941568266132,-0.7381635770370393,-1.3180811353339341,0.00738798007719945,-0.29738961370233913,-0.7227306265660585,-1.285210957835,-1.7382276410112723,-1.7866705440976332,1.3899168069504602,-0.8343897028851988,0.3467779687970401,0.6359292022221285,-1.3522386722596087,-0.28716759491116517,-1.4085758884066886,-1.2887068597759164,-1.164072042256073,1.307616719738985,-0.6276291601916011,2.4506560648625584,-1.6757080225347059,-0.6768667161977818,-0.0984280541610753,1.5018802740580022,0.22995924153784483,-1.2950030348638915,0.7752195894621912,-1.0953122570266414,0.8241007278813826,1.0765603901173229,-0.6464175845640471,-1.021304484807623,1.5204517433017146,-1.1035359663122963,0.31135341724588805,-0.5821180278240895,-0.8948758403153808,-0.11942843960703974,1.3639316860799047,-0.5701508474202951,-0.7323504690298688,0.7238599422732998,1.2677181560566175,-0.14996594516924822,1.7792191935572526,-0.35273768837959246,-0.4908547708845488,-0.8550685218256783,0.47629765598909934,-1.2034256067340734,0.5924338426355283,-1.572316927532014,-0.7391320707594033,-0.7571348025274356,1.2736982253838267,-1.4071204023689492,-0.9977464725416433,0.7062134272087067,-0.9327555193221561,-0.7540294094779861,-0.6369635408688512,1.30343909987478,1.7548607972883923,2.416389693541583,0.29796336816757524,1.5693961552250042,-1.0061599441502342,-1.3912281386528804,-0.25069059265175747,-0.5833816346434633,-0.6086903071109331,1.9262613755958764,1.2591099899968534,-0.7775335071178254,2.09787267729939,-1.1535136326882618,2.5504595295670955,0.7135712245100009,1.6827813816898138,-1.5555136273592134,-0.8611282765016491,-1.2521731706246513,-1.0508576836947225,0.49370231100545386,-0.8054746019185427,-1.359120049057891,-1.1721365170321187,0.6541876066552798,1.1709075473755315,-0.5828587364365239,1.7619725055429714,0.8172187670975328,1.4916319440193866,0.0789663073787953,-0.63392932427168,1.2119514657784134,-1.0226629742688766,-0.9214119634285147,0.4123024330499321,-1.2669504154750948,0.9771926212315019,1.6177679886965084,0.44779288253757166,-0.5815134810563765,1.5421456359925683,1.9010996993905374,1.8283161024946906,-1.0012322979440547,-1.0831095109838205,1.2056426785394234,-1.1737959244991392,0.7116866645825538,0.2723994659826706,1.40769064653347,1.3373724340933224,-0.9800984230567295,-0.45785213519313533,1.893730041661646,1.1320608522233935,-1.3719246474027684,1.2717864878805991,1.0599132513038125,0.6707888123401067,-0.9467208484591237,-1.1488627246389134,1.8006419973370182,1.4978902940748076,0.7305867967272854,0.9094541316470994,-1.239317020885486,-1.5908923082993194,1.911510001905485,0.3208360605774094,-1.2394599405607156,-0.7608938204200476,2.0362131226270686,-1.9441418336937044,2.4433226877287173,1.6765263674499489,0.8158902964173084,-1.1206265833562823,0.5031076919252293,1.031746801772939,2.133856431469171,1.448443506376992,-1.0084871650664093,0.518025781983508,-0.7828545128681393,2.1005428078466717,0.7446035402323655,-0.9294149474633182,2.0236592914978964,0.7417283786552962,-0.031811497309566866,0.8287321374955845,-1.0344001518886974,-1.1316981328284932,-0.11026553738771204,0.9463471236214945,-1.8258856697890653,-1.5487127868580057,-1.9224614997152845,1.706096243931679,1.2815697275698765,1.1444150290272523,-1.3845602552382328,-1.2380945261975238,1.6519281676258082,2.0601842702862765,0.8152048630975145,1.1062460827057974,-1.746214472527154,-1.1699247150390117,-0.8817365363693732,-1.3211982068856285,-0.7317516531256746,-1.4616207265017647,1.6850701158758494,1.1014540309150753,1.384090881891178,-1.338453699480403,1.970157385194234,-1.6025128597997336,-1.7761597772547615,-1.1459306044398416,1.7979445475008615,1.2462402080299793,0.24937404187099066,-1.0685960546293887,1.4367246440287997,-0.936967487199073,0.27420562223528283,1.5607365198872356,-0.004542906575339514,-1.3765940338312086,0.8116659030853564,-0.9579618954841711,2.09811263523015,0.7427818331071492,1.763500164861269,-1.139673159785323,1.7705910466723198,-1.10222259971728,-0.7823353641670037,-1.0829414114401847,-0.6623107800671888,2.218890376648684,0.4889952811272757,-1.0720147994926332,-1.614028099222331,0.20248727981921277,1.727694779990196,-0.7967911989297678,1.0678777681849791,-1.207921964292487,0.8138493435390366,-1.1704403268563095,-0.9957570758297304,1.8882136525919417,-0.8629755944046043,1.6025173426641508,-1.6294080340364734,-0.6315505390929866,-1.2916418209186888,0.22076572851692775,0.8937849683974531,-1.0034778775527071,-0.5936733569323573,-0.9847898281177682,-1.720058572914783,1.2514284984820387,-1.6087545141108583,0.8083312551956628,-1.250208667101191,-1.9883995823411431,1.7974624531604626,1.95235938880818,-0.9949088544678295,1.618304737936905,0.09334652893150791,1.756488315705347,1.627389381603629,1.0081970340791488,0.22870436690499135,2.010398934982152,-1.7384761195619478,-1.5913281542421789,0.6493430351615759,1.4174286351397531,-1.3026964731054227,0.7048605022637627,1.2819533122631694,0.7922334100023424,-1.47448056377236,-0.6839212528195378,-1.2378788744139873,1.7278809878877945,-1.7216406458530849,0.41574426871197323,0.35095449951556734,0.6026906782101081,0.7272720981286768,0.5497574902111809,-1.3595496629428643,0.5540109852736164,2.06281000709377,1.3517921046824781,1.81718206010202,-1.294520755410247,-0.7463507448947102,1.6602438850347048,-0.3982690798528988,-0.6038233874915304,2.1246205120544235,0.03939477863515146,0.6816385963735649,1.8252816580700824,0.9739045928270599,1.5404583707916482,0.9967103364469762,-0.8632771439356829,-1.0957972806503764,-1.3161780133542988,-1.275158494126097,0.14362666651401543,1.5471861477002853,1.0592739283344546,-1.617123417138888,-0.914009410801863,-1.2844067195922164,-1.2704082692104197,-0.6664872322512468,-0.790612389134226,1.7560356109026127,-0.6365843281481366,1.7464847041893055,-1.4869208814599715,0.3607025031828164,-0.9670117501950704,1.1971333245578106,-0.916409418934776,-1.7254927142745322,1.0211540835107578,-1.2681753089862489,-1.2052892649896052,0.0872272879414181,1.3364385407232975,-1.4575703388001597,2.125993199075898,-0.6705398240258589,1.2199585397384998,0.25991359916773765,-1.117172857693128,-1.1945977860038,1.1174532962751704,0.40340702557065544,2.1459885308383315,1.910451757727282,1.1077565738939306,0.6722405466304647,2.092101981093039,1.0477423917833915,-1.2728898967297302,1.4345350999049302,-0.8970033901516149,-1.2464952452377989,-1.0102645946014444,2.0749963536882134,1.3063994700262618,1.557011321226449,0.7954392557756521,1.5755515407362088,-1.1636645034907673,-1.4502467088990183,-0.8100312414565761,1.2756168705258857,2.131572841134085,-0.14325415154409413,1.4473894091741573,-1.2313536806016012,2.285938918327231,-1.1512267208369684,-1.9703866098929326,-1.412265680023465,-0.1414203770064331,1.2890150616490543,2.4305234752405984,0.6591107615207816,-0.04796770931576798,1.9365338390045657,-0.19534093788854306,0.7636922291971813,0.07857257688458598,0.13908082725720738,1.1289111411674988,-1.33465860524151,-0.836057861916304,-0.9787882080574304,1.470634421060873,1.9923760642405626,0.2003429782647065,1.7004391024561285,1.2290711519447854,1.97240188066424,-1.1605758094982928,-0.8025601082079692,1.7078275449706628,1.7596057230106585,-1.6740469984456308,-1.6978061269964986,-1.0115810369590907,1.3510999251870888,-0.5599156249490399,-1.591017294046818,-1.6659425991641343,0.3617677129156978,0.6786116680903185,-1.5728366745441476,-0.3267975951375414,-0.6806036796163306,-0.6783478900583338,-0.9146059234188878,-0.20199373910585855,-1.280090543817337,-0.5820721484992063,1.0433767804310368,1.3904571056305814,0.03840622991270338,1.0194817496656865,-1.3575508406425307,-1.3632782351946167,0.6112884678101033,-0.5292707244002376,-1.6717590006923944,1.899677699635687,0.8307670640928244,2.4921496119737347,0.9412715919479239,0.48478822746415323,-1.5055653837393839,0.9078232505659254,0.27381209589887767,1.7193500427097985,1.7205992097825877,1.9318414356805793,-1.2331529993045556,1.5905790167404594,-0.5477850431703765,0.5694509627753206,-0.9411558316672528,0.34667817387051486,-0.5049422463784752,0.3216484295161052,1.8596087063597901,2.350375254593398,1.5453543531428189,-0.9599196286532813,0.8858711901905953,1.8166583414168764,0.8687517871627616,0.6556945923947682,0.7015811571399715,2.200641593869287,-1.9796042195643222,-0.2607045962010464,-0.9309211575060997,1.6503728169262653,0.8582607330468861,1.3004384875058446,-1.2728687258662303,-1.126133258682958,0.6776459552699087,-1.3560174288530258,-0.6359080871916353,-1.7792782348609726,2.67430918639743,0.8250199815304852,-1.1462988955602686,-1.6106557166850493,-1.2439891255227074,1.1882842154586712,-1.0517371492415535,1.7413902649472675,0.5295216882007401,-0.905636284506923,2.5538422272633516,-1.1510927067181407,-0.14831006867204438,1.0106845278085277,0.35230793788133746,0.9307481915560071,1.0923543351572167,1.8475446500600288,-0.3243759551784544,1.6976702646040418,-1.4760660103507013,0.9470087242736033,-1.9170099803214007,-0.9013721704394648,1.5670760433519195,-1.2801686917847837,1.2080814702956033,1.497536090565696,0.48154273096889094,-0.6952516411769464,1.2617359578826188,1.8587524315131745,-0.8030475822256629,-1.7000915570760486,-1.0478133465617978,0.8746182471782804,1.4277191014462383,-1.0327431591510399,1.034743830980017,-1.2713877196353252,1.1377601940395694,-1.5333916504295735,1.9015680824804522,-1.495154383018254,1.219275333413042,-1.1632812237434949,-1.10787785209943,-0.9510507688470626,-1.3009784629897372,-1.344777206401363,-0.5510119472030347,0.386549704712947,1.5810034059086802,-1.4578375257852578,-1.812893579378291,0.5025654380602587,0.7628962044077426,-0.015178491380184293,1.269725427435597,-1.2389019855016414,1.3895383236908945,-1.146600659002976,1.505021407432045,-2.071917038051029,1.5872157793125987,-0.8213093536486287,-0.6480311628400142,1.3046337993174066,-1.5027862769619307,1.5706593145326142,-0.3638493588075526,0.6722149517920339,1.0504769886406278,0.3886546080772894,1.0611609551636647,-1.0307275438729613,-0.8046196984238726,2.006315490430663,-1.1745797066351793,-1.0003652430114003,1.6187685457158165,1.1429006984321144,1.3450457409168872,0.20955838291718923,-1.6637880748440002,-0.9498379636672251,1.5964804116417817,-1.4140007707255553,1.131425967047354,0.755667758345736,0.5176809473981432,-1.1195188610987221,1.7283517374920576,1.3719340435059488,-1.2803333609461136,1.7707889504860324,-1.5104548238221014,-1.0765011415330787,1.2427968902831856,2.31416164666111,1.0370177010149424,-1.3635322884258174,1.3725666389640092,0.6305336565988807,1.4600048441735787,-1.4870793237881608,-1.9906525399608324,0.06207053263487088,-0.8688807135449711,0.5520477874547756,1.1180733397524905,1.2189534589748343,-1.3218636079204487,-0.9153117557128695,0.4926288718242437,1.4574365448648592,0.9212746783170016,-0.965028194376608,-0.9575499110688639,1.5626766554440241,-1.2065091899390472,-1.409145739433949,0.2675220899732752,-1.3821647734436144,-1.0380664641001363,-0.7038274016863388,-1.253717147293542,-0.9150925604306397,-0.8211492615526798,2.2671311701850905,-0.8606564708632122,1.0947468670442562,-1.3333814306538556,-1.6242082394245223,0.4446870289399981,-1.219768755572881,-1.0475608969524388,-1.5771458800138278,0.48142664000575897,-0.9529561040706859,1.691122030957941,-1.2754714686818787,1.4103572653465035,-1.6560710943404016,-1.0457830018553804,-1.4840805873934173,-1.14516713145312,1.0775136850840565,2.1140391402930465,-1.2393310475218313,-0.5777913038459583,-0.8322777296126046,-1.6285741027344887,1.6621769710644272,-0.15099769169184057,-1.6190079095377807,1.3714722124774599,-1.5638200052757087,1.787007544360934,-0.8687532477883965,-1.1714715865776875,-0.769346388042959,-0.4566242538402633,1.041215848408333,-1.2675822544915922,-1.6287537011880002,0.20161774688637327,-1.4218331151835875,0.3763882846254014,-1.05607930632793,-0.07669826516198666,-1.3125282035274606,-1.20103054820603,-0.8327670614960083,0.4686287203926688,-1.0643596938262823,-0.3063914229612391,0.42440787735277696,0.264544552186015,-1.4569127957707884,-1.357306193753976,0.8030877419694534,-0.1750589486152958,0.49066067794994633,0.521037396597267,0.6310506072075195,-0.21687510792210116,0.3908141202796311,0.05283120040089198,0.5751664169978711,-0.7692487439947258,-1.0769606850502493,-1.501976256455285,0.3335228312657567,-1.1379089224850099,-1.0632199532695248,0.20015481252349773,-0.864227830430846,-1.2096880052097634,-0.1259484799927432,-1.1592678550084579,0.36711542557086324,-1.2543949427314443,-1.171716190215532,-0.9638998862221058,-0.3779739952926354,0.7213950875680677,-1.0331437605279041,-1.0028395255298486,-1.455386727176997,-1.6578706021499445,-0.7547527004476271,-1.2090943654548219,-1.2140853179519446,-0.46690715598391846,-0.6751369030888765,0.19334504521293033,-1.0758607506387237,-1.1612739201603501,-0.24087154516398818,-0.2874993922140106,0.21076044912096573,-1.073168561589122,-1.2710020839490044,0.07241649565991594,0.49395808504283506,-0.998960626070995,-1.167834921517638,-1.6497037601340423,0.1503468644689188,0.3093760215692377,-1.0320912502081707,-0.17536740815343452,-0.2811987362566738,-0.10071644048975685,-1.3434396605132548,-0.5056562378499426,-0.875863200566178,-0.867140077854241,0.39638807928198233,-0.10201318787496488,-1.1396845382601792,-1.2801931205712076,-0.9371970195755469,0.38604983224561334,-0.8842704490366565,-0.17122778875005124,-0.7565888365813577,-1.053941754397539,-1.1485536333896615,0.9731790604362399,-1.5107818755380573,0.04374871340427018,0.263248432211268,-0.32752733527281863,0.1910308559126531,0.5142078272865475,-0.020639263659497753,-0.012819335095930003,0.3698109591752585,0.24763768217247606,0.1544176801408934,-0.9320752198371344,-1.2276966292499985,0.2659769428376423,-0.4106474271123342,0.8034541164840243,-0.8120294476907606,-1.1289009257274758,-0.31900955318510726,-0.12489558832104454,-1.241297514985461,-0.3185447146286298,0.07677224945629367,-0.8151843673172121,-0.08249861715337145,-0.03485205416644979,0.3119205121447651,-1.5464258231299073,-0.9695903299986558,-0.09780969723137235,0.28413386131258794,-0.14997969836595215,-1.0324119477466258,-0.40669340370102086,-0.21376753861524028,-1.0532091946622164,0.6101717968719667,-1.1342672064655932,-0.04817093297698477,-0.7558702611805493,-1.0382480423230114,-1.0478418734356039,-1.0311154929837263,-0.11186357029316911,-0.9455981861159077,0.3858508875249706,0.1780678374336053,-1.1264633959493546,0.5051362581251567,-0.26543383183355407,-0.2595066322344065,-0.5743536725240451,-1.1544453995300674,-1.3027267000805138,-0.7434290416800775,-0.43471872754221125,0.07969716022921364,0.7263751315352422,-1.289024402424637,-1.127763507797649,0.4792868685156835,-1.7735339498221863,-0.7743616154006925,0.2523298797942703,0.3714812449992288,-1.2200133543346694,0.19978774278586806,-0.6518069271196214,-1.1100136331880945,0.14647870941630964,-1.165109618707273,-1.2277352296190474,-0.9982832535562729,0.30520512291147267,-0.1473296773400537,-0.3196135278948851,-1.1545476658976506,-0.12114429531485199,-1.4816308575570925,-0.9525382666497785,0.14853384804968134,0.5035516627294498,-0.9489832227396072,0.06322731057358622,-0.026957701147956172,-1.2315085219912751,-0.8953415931784139,-1.4404265866788681,0.1653463233128237,-1.4239587293308738,0.7205627688512952,-1.0654451179265556,-1.1973703346032254,0.8602296612270811,-0.9248551497986532,-0.016520123626540702,-1.4912165352242288,0.3705885573257499,0.08285652430793666,-1.0184106541319082,-1.2206842991549212,-0.9684099679193906,-0.44230900558637287,-0.4707572332596276,-0.9757707717405192,0.22654379723757656,-0.6781835329715054,-0.9952332922778455,-1.0471501986067626,0.6836188720553142,-0.00428151408821287,-0.9094048629260774,0.048034133726857976,-0.987723014242283,-1.2304166332322513,0.42440844501547853,0.014955419148013595,0.3633990400314314,-0.2985176266227,-1.176126782055593,-1.2932316065736922,-1.0413881316294218,0.36703934879712574,-0.27253548193211474,1.0897469931273454,-0.6145890244380677,-1.113777340989123,0.15186203747208557,-1.5106803287010757,0.5777035304175638,0.4316302659158276,0.006045338721604237,-0.588033330308315,-0.1921480356452046,0.004799308747936642,-1.1447084037534385,-1.0847554946221842,-1.4532021682708662,-1.677932976465042,0.018439309080212105,-1.0368437059905573,-0.06724301412576862,0.6747636240407218,-1.3979428926085993,0.42993113667653504,0.1332624770064311,-1.5225352736123794,0.38535924389196125,-1.6517856474963413,-1.0184996485027162,-1.3308813812000924,-0.3878822878222782,-0.7550907476473111,0.4744076874476421,0.15414456362736542,-0.11848181741893885,-1.06917508714423,-0.9778199335651122,0.46967766235004166,0.6879467829836066,-0.8222131328557224,-1.2721737718207786,-1.3255063879089577,-0.9431380702885461,0.6280325753214786,0.5446513610421274,0.2788947370836339,-0.1602518384426027,-1.137290161114541,-1.3358053170914344,0.3581893232432068,-0.14616802266139906,-0.03014894798102193,-0.591069746898115,-0.9617684875613524,-1.648909517133108,0.46157112938795924,-0.9867111726319235,-1.372849804359166,0.34285790240320874,-1.365995602582112,0.31612128249380334,-1.290392534396438,-0.3548457025842943,-0.06319847938295006,0.260543043886405,0.11447628085854869,0.36218815632804935,0.121635932854291,0.2962217856618258,0.0936569847625731,0.4689901757290734,-0.9390610424381584,-1.1655851308208123,0.03083823665017676,0.5256679490085399,-1.1362203750431652,-1.6157833026661619,0.20868163447872615,-0.9252880067133769,0.2322924517955927,0.22781429149411797,-0.33220368337795336,0.3812877644087557,-1.4808603947984225,-1.3288843514828306,-0.2259033893243721,-1.3009942819840459,-0.09415770646590575,-0.2687341890753475,-0.2089648541695034,-0.2881408893163117,0.09395101064923327,-0.5685316954286229,0.5173612242035794,-1.361764981232064,-1.590031002627912,-1.217149188212901,-1.189215646211218,-1.2541717321246,-0.8934616552331848,0.004078928124646198,-0.2196642158716998,0.07334674873421733,0.25865365550514324,-0.12396798547872095,0.23573944859273782,-1.2871017080605218,-1.0694085709920638,0.20925802762541998,-1.0336292782792582,-1.2473156307379463,0.0883315213529499,-1.24213398796482,-0.20312948318104798,-1.1426342978584136,-1.191987923815352,-1.0748826791843122,-1.0566461421413924,0.7649410826002699,-0.2387008001443263,-1.1686591325872293,0.2386533114501138,-1.1859876816277337,-1.2984949448084695,0.1557904937974093,0.016646565971580603,0.30256711034838174,-1.0177565286142547,-1.3131541097307062,0.10149298042991713,0.002458247789566144,-1.5946794379293838,-1.2088934333972596,0.2594309777566026,-1.3531085690334814,-0.9478153534725137,0.11402976083628932,0.10496967089539685,-0.9806210137542376,-1.3498109545703527,-0.8959451073871797,-0.27203174054992124,-0.9549026538017058,0.1988963327866833,-0.6821319310247304,-1.2348873747222617,-1.1498956824174424,-1.4659229801249571,-1.3346782179605996,-0.028422037073837725,-1.2198775580344852,-1.3939273476940623,0.7239627404420228,-0.6921023808220554,-0.7461894586028822,-0.874003065740472,-0.33906912020879876,-1.136588980061771,-1.3101131365031042,0.43885508417748226,-1.4243516537041636,0.4009233704119058,0.43515810073727546,-1.2462665904591312,0.1908835991163342,0.1652362174684058,-0.3519585521872213,-1.0719539492194432,-1.1236868721751756,-1.5752702227849653,0.4019482641451233,-1.395876798831142,-0.26460792013862755,-1.101521636227911,-0.9620311514686231,0.7902541459091327,-0.8961045946749011,-1.228448038714812,-0.2741516870435236,0.13293735059556894,0.21790076897744076,-1.6985433328788213,-0.2144836744015573,-0.9208079425973081,-1.3242256631494538,-0.4134913440150842,-0.7893595007725596,-1.5705407136663565,0.2764093950660523,-0.9737875577797315,-1.0637321497409373,-0.9189891222410763,-1.3393100626246932,-1.124452270128216,-0.9865110505398562,-1.2025053821028546,-1.012898466748834,-1.2177841809321273,-1.5311327268511419,-1.530678826058917,0.13240594066499406,-0.9392494280247313,-0.11346711428032395,0.3577435774186227,-1.0549350632847534,-0.7910806896879183,-1.4919797830380492,-1.336313711142757,-1.4752182750804028,-0.06284622567993071,-1.4007325593950681,0.5026286530467954,-0.9212270131425487,-0.8925004718103264,-0.6434519710996116,0.15392083271789744,-0.32642654456542614,-1.2493332980962466,-0.0793892585305261,-0.844343859358853,0.16218886175034827,0.15600915474296287,-1.1598138711755819,-1.1451332474249183,-0.06578578262479234,-1.2354550843719625,-0.6467650294466354,-0.9251760872449303,-0.9967344791275712,-0.6763401411590417,0.3242095368571285,-0.8960923497169621,-0.8873961862365779,-0.07621883151944611,0.10761774635953131,-0.9535078245561738,-0.09430110541947878,-0.9149820759068932,-0.9952854942113025,-1.2194751379372555,-0.5716854117807791,-1.257965908752272,-0.10636986083336067,-0.6337979005141329,-0.6772531646415244,-1.151232639834332,0.2589915127918576,-1.3493768946773115,-1.4668075115611618,-0.2758268570105134,-1.2282920783467133,-0.9920074785096525,-0.8616564652731017,0.15208162312778442,0.511866227443883,0.7305602142917902,-0.289311072289739,0.38145519583448145,-0.39678389461553043,-1.4560958337872643,-1.1083812468306928,-1.0619972573026977,-1.3267309681255368,0.6329269528080839,0.2549051096210421,-1.4154655451429239,0.7782837456255697,-1.3278732284648003,0.8576355301766606,0.34487027256188063,-0.0897521415291931,-1.0441041076312632,-1.2151769026442052,-1.227906062317461,-0.9223114095304893,-0.15319372461349595,-1.5018730222893117,-1.0164314920431017,-0.5616106187359601,0.07328450563015454,0.367966936818569,-0.8912941138179701,-0.08446260964277928,0.09151944755168387,0.17359404014217583,-0.2939672128184514,-1.1860497229535674,0.2897683233260335,-1.3173763637850124,-1.1748968410677583,0.12420526414551501,-0.9752582050512778,0.3203700516505683,0.4704927455799524,-0.12891607026535776,-1.1761394293103813,-0.06678122377416264,0.5585044302849754,0.40246337633991786,-1.0043715140943081,-1.0265342532533945,0.08688402551997056,-1.1158573020641989,0.1322214170316807,-0.6915644539202864,0.44855991983930193,0.11920733851389087,-0.9743682616927218,-1.159430243029054,0.49265608490123514,0.47239499221234765,-1.1992687961510051,0.21187879759119524,0.23071660457572157,-0.44561117680363244,-0.9624398419705018,-1.1875633631107998,0.7130265409855089,0.2572962766375539,0.3117955483497356,0.0654515444181414,-0.7233088833106527,-1.0484117303471268,0.6658328400264796,-0.3651866101405514,-1.4174935655250884,-1.2578027038767332,0.6738432329004511,-0.9951928301060966,0.7543491440280343,0.12407794475994016,-0.41954974776832793,-1.3620233450168282,-0.17896969674901372,-0.1102022250923424,0.6331471879802761,0.4484723809186893,-0.9292610969891962,-0.016579122937793754,-1.2912918365220678,0.7072893203021448,-0.04946220008079101,-1.1220917348976802,0.6628044495222557,0.11143023378763517,-0.3250569062584143,-0.07391870405205933,-1.2821329734920466,-0.8768963303464756,-0.8259248484524656,-0.038150000676464145,-1.4238501739938234,-0.6506301017947551,-1.2863416941322683,0.2728586722213155,0.5354533276367928,0.298150807118283,-1.048846991406015,-1.3200297715091371,0.4838666060402711,0.3215342936864128,-0.0484436426694371,-0.20210652140293855,-1.1306840799901727,-0.9740235132578245,-1.1299667877711257,-0.8986713762487055,-0.8032574810995876,-1.1552098564382745,0.4479339719778991,0.061436562231587125,0.4703689305197001,-1.4181093156288076,0.43245987941306296,-1.059175903112984,-1.6103881439568795,-1.2965598997847418,0.03855731641239529,0.31034226038463725,-0.26782585376925505,-1.1846642927382933,0.3060350225741385,-1.306082129905334,-0.2619197827336586,0.2231790871612433,-0.4440769564319839,-1.061216980843567,0.18003736215386038,-1.1042792708543354,0.5930353520248999,-0.06248747148721198,0.4186133662364151,-1.2647228348835204,0.41383740419427967,-0.9962829156818749,-1.3048145153968433,-0.8795986110201512,-0.9227811197862946,0.6397035383805486,-0.12108849485716819,-1.4411431905309502,-1.152820585821599,-0.4024958702441058,0.6889528923877122,-1.239583943991113,0.22782611204069841,-1.1652162535018789,-0.4860913716378288,-0.91118951975498,-0.9341914621034204,0.2417188895471874,-1.5172095103293797,0.5466575024436199,-0.9983242940949502,-1.1724823227410033,-1.2128707129413323,-0.13236318586036455,0.461529841943768,-0.9474321369815745,-1.0910911892602249,-1.1137494965362398,-1.416129930276201,0.3020746045738178,-1.3447336665014578,0.07611913250519756,-1.0038797112238764,-1.4465008014904708,0.1364688400010902,0.5947976438230039,-1.1267511326688258,0.21734609720105866,-0.3470554632293996,0.7700602828925882,0.17090727358529106,0.34340304399258637,-0.23654628040571976,0.24995765713721996,-1.218917111609412,-1.2015658399146731,-0.2436863477151584,0.4028508449570287,-1.626915943815984,-0.14903590081006907,0.2044847367007671,0.0038755412851123193,-1.03321986058596,-1.0712852031952431,-0.7994441906792397,0.3545344391508874,-1.38205165808798,-0.18219269867113866,-0.04309430220040174,-0.15990313823604885,-0.14662558178955398,-0.2140638596211467,-1.0698386826725135,-0.23172514109999653,0.6686288965201036,0.2590877759432384,0.38401324545828774,-1.0766526578861602,-0.8465524879273009,0.48020088641256464,-0.7861123274087336,-0.658209432274063,0.5030876228550147,-0.3856222180490257,-0.19037486671355378,0.503300531968308,0.24136578135176995,0.196745080194825,-0.22377927329867406,-1.1355878368856955,-1.1909649189071674,-1.2864506312600386,-1.1601258885594807,-0.2617549551233049,0.4404409097594078,-0.07936497470860811,-1.135524250868713,-1.4314748730072242,-1.0705136844226448,-1.4348149839362008,-1.0213738325968762,-1.4033235222226583,0.3582303193328072,-1.2858295242030389,0.7935429532960271,-0.7340079271591151,-0.1127581562903855,-1.2139844637353319,-0.15998045781992698,-1.1148636029986838,-1.48694087157081,-0.009088242586815046,-1.4944437186505717,-0.868329069208374,-0.3042065755663778,0.2529373587650472,-1.4699566042779166,0.6796019928349927,-0.9387576681364241,0.1792556838858882,-0.21287877722749635,-1.3888429964724167,-1.0420631041625865,0.1782837383628613,-0.21769424544505894,0.5002855754456216,0.6114712510162,0.3820641490425142,-0.09294012567244725,0.4743938318851434,0.26355094602766954,-0.7959526980057614,0.5327407341722359,-1.2275928493314237,-1.0883709770948355,-1.4370696662736424,0.5241666664078244,0.13072177568290494,0.10223848782597318,-0.07844044001910948,0.3485590463412549,-1.2378099650023497,-1.1374733179063352,-1.1996230053577492,0.40573916940636306,0.6458172502703338,-0.6416132182059341,-0.03671723488219608,-0.9958493825491188,0.7937879871315805,-1.2885504673238135,-1.1675061165912892,-1.4935713430026436,-0.8399498468242056,0.15161485004745606,0.8689602900807535,0.057147820313127214,-0.646303658794444,0.38848237662988,-0.8671866894842807,-0.04096453851037849,-0.20175480826427142,-0.21999194575473266,0.20816181209734944,-1.515553647159995,-1.1819742514805447,-1.330181480955524,0.22359774855920625,0.5369071543455868,-0.3373635051180945,0.30602808787822,-0.021271997062760412,0.7818643405978811,-1.2923076544362446,-1.3675964580830613,0.13574945443872063,0.6175524115101391,-1.2246321922540557,-1.2380860167744288,-1.1187493681667413,0.408716935070364,-1.1492130776505365,-1.53196020050102,-1.488013585560826,-0.27689602762046783,0.08373685759985798,-1.40482309113618,-1.1729641215356181,-0.934086784758084,-0.8014441946915198,-1.4121652409748435,-0.5840712604423528,-1.3106090339277219,-0.8286434163741797,-0.019258392439641933,0.1380864092140744,-0.5428362541924098,-0.22072793129829976,-1.0503245278857216,-1.2299569007872437,-0.19414964623647502,-0.9173533532727871,-1.612745732007696,0.6683552347065671,0.013564169149877436,0.933370361696992,0.17685521117661943,0.001963430340455893,-1.4660678717603324,-0.12781142445793636,-0.23882295119928268,0.7176097329169185,0.28172040247869834,0.3904702185425423,-0.9491745637636942,0.2414561166236891,-0.7558161954621684,-0.04983215114508072,-0.8678684737528329,-0.17330077841406044,-0.9630744512747992,-0.3846229166082378,0.4599480348912466,0.8637170217219671,-0.07300644473738285,-1.1694205651989484,-0.1247770394913058,0.6157651020858246,0.09314152614025473,-0.03148499789652417,0.08042932340876642,0.5080013173117562,-1.4757638276866507,-0.8581548421700641,-1.067337029640506,0.8523016130693839,-0.12958094547950724,0.23804239157325677,-1.1470693533371026,-1.5145361071516947,-0.16382782301534352,-1.3176906012710279,-0.845981220294897,-1.3955004569035412,0.7851695050785539,-0.03915808025878552,-1.28859061165504,-1.2864638509056574,-0.9773906961647115,0.24623840754826887,-0.9762949312129255,0.40804411192054674,-0.2903295374596222,-1.0938934885511185,0.9963545097498409,-1.082273018202498,-0.5860034051761097,0.13378491702528567,0.09114888386969196,-0.01008561715991084,-0.15983589793640937,0.1053840892430646,-0.8932543008112702,0.5218093852809522,-0.9486773552469289,-0.16050726691291595,-1.2016041916941358,-1.385118737977204,0.017442737887199477,-1.3416413205370523,0.0720970359191718,0.2835539738574616,0.06503689983301898,-1.2444136977364149,0.2830168861741591,0.7344881426425176,-1.17079038990993,-1.0939753664299376,-1.035429007631439,-0.02024931579729833,0.043878612568182054,-0.691785427597563,0.42105008634296764,-0.9992730279676953,-0.05520011384984332,-0.8497634326962038,0.31926424649996704,-1.1685899116502527,0.004056508699147171,-1.3050629232775177,-1.3453891167446483,-1.2618418819970483,-1.409160188187855,-1.1900960031931809,-1.322823647611444,-0.5060914848751169,0.4746397166701998,-1.111812109672197,-1.6192676149742258,-0.18430246725887595,0.11805308541563718,-0.5019580525404733,0.006086246062646531,-1.2374973554984137,-0.12230630961604978,-1.2973399056695059,0.1214301999428863,-1.194358460516465,0.6570872775776799,-1.0339102570734242,-1.1867121521632276,0.5314861664218664,-1.6207517842345007,0.39358042559409007,-1.1970099383609678,-0.27226427010284576,0.28781233302666537,-0.3731465890004297,0.33710588683486414,-1.2621814945535725,-1.2025953433873984,0.4093442589920308,-1.1886332083582463,-1.4401936356396199,0.38794278780336094,0.1910796744676065,0.32538230353459163,-0.25745743538963595,-0.927566025598682,-1.1622732227166752,0.3377568141196308,-0.9556114635098588,-0.06163259934911704,-0.1344429363722841,-0.20383401609489304,-1.3155329539150535,0.3809302896947252,0.25472291576315065,-0.5203686102587485,0.5500741139255808,-1.0152582947548754,-1.431572288995121,0.022253750141947182,0.9535693719662406,0.20263589959002964,-1.122637665431451,0.14264437809900507,-0.04233839143971447,0.1178228466398023,-1.2290401179547836,-1.4278746657544692,-0.4571205558375095,-1.3706624823175217,-0.4513136155458852,0.14503641055487232,0.7022441576028708,-1.123543353613999,-1.2029646287316298,-0.37131176526412635,0.3220472515438649,-0.2589817554538398,-1.2342995855552439,-1.3525035789050923,0.7092382445441536,-1.3049006190872345,-0.9782585187546141,-0.3877360521206706,-1.0223833549882533,-0.6707469503319364,-0.8627623426510878,-1.5105647232334392,-1.088545844594646,-0.9772667248913368,0.7728607398744881,-1.0363087911193316,0.19825864278266386,-1.3547467427975646,-1.1679642875744887,-0.17493960430805316,-1.5594757484224782,-1.4037386091383004,-1.1883470485627692,-0.46238138131747397,-1.2192841806047403,0.3828890747857176,-1.1619170651519515,0.1440764803079195,-1.1973274627840678,-1.0806940798752354,-0.7290365255868818,-0.9952491788687422,0.5287220254719519,0.5439514192336988,-0.82385619175327,-0.8593848541134567,-0.773014164308475,-1.6064491381445853,0.8938152573967916,-0.44832105806957584,-1.0199215617069952,0.5626735715961036,-1.1030783359870462,0.7738631167354552,-0.8754949177080312,-1.13315263840517,-0.8631361793972231,-0.585940944972332,0.11057206283324672,-0.9808203230394169,0.07305485154456023,-1.532192063522783,0.1691999656974661,-1.3129710674458062,0.6677107798424344,-0.9832049673311565,0.1727194431214789,-0.9707906611470491,-0.5796714980198825,-0.7593856510353407,0.49214934148071776,-0.8968971540508831,-0.1317256867323237,0.9015848185325985,0.35485920467449644,-1.1556917113863572,-0.8309335140793561,0.8992769349510825,0.2916236692719222,0.7671801533538344,0.9689621381535194,0.9022887428533652,0.04609841408793539,0.7292216801741183,0.3764745885010027,0.8389531413899363,-0.8045686894867167,-1.0645603498555842,-1.542488338569912,0.5173101519672264,-0.7973379449075636,-0.7099482754180164,0.5022473078253382,-0.6224137721058692,-1.042882399303082,0.25875655321332947,-1.148428849686402,0.6920490468432631,-0.9767016550816799,-0.8277744785477109,-1.043165072521047,-0.3421092401225356,0.7283880900454879,-0.8065544795211534,-0.839581502323907,-1.3240473088170934,-1.483545554409929,-0.19844101507635395,-1.1275798793608318,-1.0684021271597877,-0.15531767228522514,-0.5025096891732167,0.4545430586106943,-0.9554899628709301,-0.663809685195559,-0.06013476510158473,0.09678054688555533,0.5334369052149566,-1.0804444974636884,-1.2554408206123193,0.1944681794107937,0.6953512323960983,-0.5830412264376932,-0.8473317237543116,-1.3657286405958151,-0.05846089288505778,0.5122299418622226,-1.0550604726090989,-0.15516965391534948,-0.1855311656919336,0.32934082125654895,-0.9667068428844293,-0.11317984176284251,-0.8059364182689795,-0.5305829264190249,0.6069907928065222,-0.08735696113700013,-0.9004969522249674,-1.1554746477574693,-0.51677246973888,0.4988449722406664,-0.7043857615381308,-0.25513794813700125,-1.0652342083490065,-0.7106316548073418,-1.1675558402964457,1.0519907490023834,-1.3526738253170967,0.21742885168157264,-0.0185257475666923,-0.3055734832545597,0.20997602527726064,0.8353638006878723,0.4414797881937871,0.08210299490563913,0.5999612279812966,0.027860268390596802,0.39459619874683594,-0.5777196196811598,-1.230764260198389,0.2334003289601766,-0.10860152276859988,0.9964361315193159,-0.7085555347591792,-1.1240674652970213,0.16295688849714604,0.08670115161588048,-1.3305275013524427,-0.3396086409818536,0.18013317186929548,-0.5908474845187972,-0.09363518102863698,0.286918222033335,0.45859850435294225,-1.4470542853633135,-1.0931432145644773,-0.2337158439400886,0.4232850268860366,-0.03203551674389545,-1.1516139680697828,-0.07302226835509988,0.17939288754900118,-0.929237063630926,0.5729180704693686,-0.6802283725333617,-0.0931005767451597,-0.6931699409024747,-0.7735425792534433,-0.8583258446131737,-0.7973975123866351,-0.247577811255227,-0.658508194358724,0.4376448936876152,0.06788004732653069,-0.8672974379255344,0.7499869174956177,-0.2335321555629584,-0.4868001936705789,-0.6537630645021212,-1.168009193148272,-1.0182150499752174,-0.6455181596466862,-0.29644835776158257,0.42962229846332567,0.9683080809209887,-1.2436734983693312,-0.4787643470586203,0.885586752622569,-1.463534739444583,-0.6850462592408078,0.7783700040645806,0.5958917991423183,-1.0728536440110605,0.5752403555193853,-0.7622271687736597,-0.7752312144918866,-0.011827529921107234,-0.7933509963249087,-0.8819940047254868,-0.8039646027324207,0.10650841146241906,0.1565800585107755,-0.07327393395968536,-1.0947840961900124,0.49991461843365864,-0.8950821305332178,-0.7782449243967887,0.3564868323598279,0.5843440278597885,-0.44960258723722174,0.08330580249362234,0.22124392844091484,-1.1046667743007728,-0.913147892135187,-1.435989529780078,-0.0642190375294008,-1.379673955517214,0.5275645642331976,-0.7794938219335069,-0.856661489403171,0.9112536403894361,-0.8934567047705244,-0.04671322648465153,-1.245188597400791,0.562658490519689,0.19365066605587508,-0.5884263966469153,-0.9678217980056317,-0.9127722491602618,-0.20955703204952508,0.005759994315030677,-1.031875365466415,0.2572970871700627,-0.4363912237354264,-0.7619506667594225,-1.1776633785108142,0.6601788962894845,0.14440138401773422,-0.5763692386473175,0.389920116293462,-1.0611530517816905,-0.7935888763898166,0.8372153020645468,0.4198198905685728,0.7733741911935965,0.2073665513170152,-0.9718496067813017,-1.2201083639581078,-1.2829958342225727,0.5865606071830591,-0.025077941186375536,0.8792562090008915,-0.6274451187417369,-1.0132228835287422,0.7014140326188546,-1.2449649189369012,0.7540619989752545,0.6215462120852437,0.26199991821078406,-0.0936598977609177,-0.058462546761515584,0.6386983101669156,-0.9609859743917198,-0.8729176640111181,-1.0366733370491379,-1.468823105470455,0.3064870595790265,-0.8320359675983858,-0.22023033241104334,1.0237161661210916,-1.4756929428585093,0.6347611571870387,0.27946858044428363,-1.2600361070183812,0.6114375509526084,-1.3630519598620603,-0.7493686901447433,-0.9934928298377426,0.02059103972478037,-0.7749448106971812,1.0836423822091765,0.21878364119302912,0.1587080094872026,-0.6600354773529062,-1.1468758729061204,0.8161488117650522,0.6665165876016541,-0.6193137010570468,-0.9506664754584974,-1.050432053397782,-1.0294316115019466,0.8369493414375571,0.8418017958297961,0.11129158632943943,-0.05558321552989294,-1.0146861287109803,-1.2002592727556076,0.5433328431463179,0.1114277399397006,0.32298774604241787,-0.5474029380568459,-1.1756043226030244,-1.3440804481903554,0.8828765079450429,-0.6894976831985172,-1.4188157839262887,0.7000772117140586,-1.2117877641680188,0.2253765291094867,-1.0117784134690604,-0.25876274445568576,0.03847912419311038,0.3982890195189138,0.23545258396768723,0.48144960082590377,0.1721522393730415,0.6903350506134137,0.2969254579319622,0.6823078773804316,-1.1288241866541069,-0.85731270322711,-0.08995233370659435,0.7344182562149603,-1.0356591811161653,-1.2107669210691987,0.8226446814296252,-0.7323979779956425,0.3074681330025338,0.31885085041514805,-0.26273341748765067,0.4187752565064875,-1.3580503252603486,-1.1799477693942773,-0.16292270621922172,-1.528116861492813,0.06017004593514219,-0.1636518012165819,-0.1751879537369254,-0.3036555553830092,0.2959913839251937,-0.34419036890000215,0.7241955072164243,-1.378343422513527,-1.3295425447447111,-1.0428956041697337,-0.929707010993559,-1.2714481672457512,-0.22796023424254747,0.21133491733097645,-0.11749836262841394,0.3148170956524532,0.35581099201990635,0.2710991149248757,0.3456420493665492,-1.224302270374253,-0.5606259786405696,0.31935730594370587,-1.1899296835842297,-0.8914478437846365,0.1464773482444387,-1.1145436133975224,0.27187960300907443,-1.2294991840635257,-1.1892665630530297,-0.9102377587729085,-0.8502273089490966,1.1631301369833194,-0.20349346965550735,-0.8380432565101575,0.5432184810815754,-1.2498821910796665,-1.411102014615917,0.46225477311022334,-0.00861659546782003,0.5341443811814583,-1.1040649629079933,-1.49310092825884,0.21461401866260413,0.25877783708340607,-1.2676764151548694,-1.4241406559659078,0.2821599239359804,-1.292097725917982,-1.1054991889767327,0.27989469394971966,0.36195234657911873,-0.851525950278993,-1.3811226043047302,-0.7432673876891814,0.3492206604392382,-0.9253294564790583,0.612472837121815,-0.7085606955219349,-1.0149570708757032,-1.0620740542086864,-0.9310793565791257,-1.0648542405237447,0.16643464756738588,-1.2316261962078332,-1.550374078194761,1.2840655575028996,-0.3185467639623051,-0.708098340254893,-0.5694472726222111,-0.15367862576101418,-0.7000278827048999,-1.1557292662930319,0.5149770099897522,-1.0252012473255054,1.016949099299792,0.7565036107794704,-0.6873142215089437,0.4324920201065965,0.18009215288123448,-0.03881344786441845,-0.8254829631387965,-1.1179929435762628,-1.4107527651587572,0.11116502321983256,-1.0384896090796252,-0.243847894604179,-0.7988680807486059,-0.3498565865369891,0.8870376514781417,-0.8943371147298123,-1.1291647079014828,0.14188992703880338,-0.006173008718672421,0.5796470327857698,-1.7003400773312534,0.12725161172605895,-0.8761279751127746,-1.1416166141110684,-0.02939855933937568,-0.6857830648898156,-1.5083918127149973,0.6354306061483318,-0.9186006677494875,-1.246361863909793,-0.6367625183491937,-1.1081175937544143,-0.6375835052980521,-0.6753224166074937,-0.8183612379269032,-0.9027596582622253,-1.1473958899670753,-1.331018719433481,-1.6407407885312033,0.37539604571315965,-0.7369582992918327,-0.16230526649572455,-0.015917576834651833,-1.1311969945039853,-0.9274083075141898,-1.0953609716612196,-1.1882153807464906,-1.3040872049857957,0.1586433064199567,-1.146986647002912,0.8582598785443867,-1.1286869843308625,-0.7583299484078843,-0.5569926519420677,0.3358886116858049,-0.274868127292916,-1.1924724523949042,0.03756694777901115,-0.5631707511873217,0.3065820249735779,0.0853425544107729,-0.9542139215882317,-1.0349912959881342,0.23970674557991664,-1.0675436518535386,-0.21884796195686237,-0.8927590927890601,-0.8908406730829107,-0.5485500311482056,0.3448946233200609,-0.7440887866272036,-0.9714827592518586,0.20731836416861923,0.38015356404930745,-0.5375876065988261,0.2440258484389801,-1.0653870771339586,-0.8773214321941901,-1.0082430758174012,-0.39999215869024374,-0.8529427460850484,-0.16697040395782553,-0.5832059191005563,-0.29614589605645886,-1.0500951405176058,0.3182984794008311,-1.1988323157905074,-1.2003649559314158,-0.20680404362969576,-1.1291603726320227,-0.8064811001478565,-0.8313320071049396,0.3261956079201323,0.344009394174733,0.8996500549257662,0.022052960082922273,0.31574446465864814,-0.5466091904424626,-0.7927106380765927,-0.7795445622439019,-0.7768290969295987,-1.2466868972261878,0.6094719782751821,0.31215417095211584,-1.25670384759537,0.46033057747387685,-1.054727264433653,1.1073439811312027,0.18761456231763063,0.4450509682119957,-0.7795996122082118,-1.0029300512377517,-1.153401650703889,-0.8405403758697665,-0.16726037391549697,-1.0259300084512075,-0.9409622555089472,-0.3531202423062965,0.1793303052712401,0.5844833656564521,-0.90839639824118,0.37933714667931206,0.121691248608072,0.45448580629845503,-0.2897825173150021,-1.1925056130098615,0.7194981621411353,-0.9462989796319269,-1.2753270497183946,-0.03734194312829995,-0.5601231650449918,0.3620218125714832,0.6510397987436691,0.11960662995913572,-1.2387847938389895,0.3447878219974258,0.8150656556312279,0.630095515627709,-1.021382854732294,-0.943978258258989,0.007689409523343424,-1.1459609915308622,0.2713779796058845,-0.2133350773916131,0.5855258590702858,0.09526443090631266,-0.7393826322926124,-1.0167043739069197,0.7646969935460421,0.7022481465124925,-0.9320100379235045,0.4606006174538669,0.3208581359052973,0.13631870313360833,-0.8286452962891904,-1.430697189286329,0.7763715241338751,0.2702975189488619,0.6307331740994181,0.08231396023219002,-0.4981276059213644,-1.137536718313036,0.9240969667103666,-0.3328494522978505,-1.0579253748309736,-0.9761017654152113,0.9252455928834801,-0.9282327672427589,0.8475560183544937,0.22099363200900363,-0.41652710622696565,-1.160714305377474,-0.16285031565874356,0.15208880432909408,0.9901067590991248,2.586923095539297,-0.14738475115786537,1.5535001074716497,-0.045184158089937136,2.4637820708258387,1.2751030411680877,-0.23701360784457068,2.4385121206076885,1.7663215302795676,0.66637278061738,1.6711626378167668,-0.4330253773386012,-0.5648263810320643,0.3870564554079817,1.4765963916857026,-0.8538684293073839,-0.4186779040931051,-1.1092666894913377,2.5407576117550734,2.3591617404632386,1.9124283567955056,-0.4971888954676901,-0.7140257660975902,2.232481161880802,2.481219769999696,1.7003443656937904,1.6518180446303254,-0.8738993315950212,-0.2850762337437241,0.1566105862711564,-0.8253300075224466,-0.1344856992141047,-0.7417020962931169,2.5017272963046455,1.5344982703498173,2.2148944100956016,-0.8930256024637823,2.500669089817608,-0.45950624250270533,-0.8671855760309414,-0.7174930356542406,2.3596383510567227,2.5834933582989286,1.0050789992120837,0.09976827289828775,2.1244854082689564,-0.031842203224110986,0.9817677067874744,2.4377988267332356,0.9175777540069502,-0.6757061482707841,2.034216383794034,-0.16424082501640158,2.374922304511487,1.4068449543282115,2.398296331211381,-0.42054956224076895,2.9379695210626116,-0.5413573439466066,-0.532443143430763,-0.5472072070563406,0.24127725280390488,2.9595380911944518,1.2834426262041876,-0.681840101842826,-0.8556143865743039,0.6647881476199058,2.758736105148527,-0.2958610514447666,1.8051126265179964,-0.44605750471938954,1.5461637987321497,-0.21622546468621753,-0.2417559285091289,2.330529704398636,-0.33033041354454973,2.7418672777430975,-1.1166252264897305,-0.03606476635070623,-0.889771830602725,1.5808351371913318,1.9866532039789804,-0.04700823416005793,-0.1948488408792215,-0.035862955707663825,-0.8641306058437953,2.190347678250676,-1.006629141210386,1.3849730913674758,-0.5180684228201774,-1.1802679629776038,2.2387633214099116,2.8725021971786004,-0.31789272057421775,2.2548680492731137,0.7397126326830977,2.900137566770751,2.349647379007733,2.1889242573237486,1.047542744421876,2.685359666626879,-1.0452342283325933,-0.8138870680562694,1.4625153725976057,2.336940030198212,-0.6975061072974033,0.8417987065342343,2.3762316211666246,1.6519985592591064,-0.4038100887704826,0.011923817355160836,-0.4375688801500401,2.2380039639875187,-1.0996691578938658,1.0961081713264782,1.3279982813132711,1.524127236267341,1.6643093154791238,1.0773837224181353,-0.8149292530876702,1.2476242844757586,2.5043785955024016,2.302991154972629,2.2910319186805816,-0.6764248084368087,-0.29520400181041745,2.705343985114357,0.21551157865090884,0.286929386091722,2.922942882134247,1.0519211725654127,1.5701664044823624,2.827743011364049,2.0071432511875664,1.8827268978162042,1.0778299914175626,0.04105311547089958,-0.4151129662594677,-0.6527954023680248,-0.3580106342220645,1.0201581687710162,2.371695056549612,1.6032000129655009,-0.9340454638490182,-0.7091213180924694,-0.6053753946912688,-0.8282175780676281,-0.06329822842742125,-0.4094295393691094,2.3921202622196946,0.1865382060928702,2.6701490941783463,-0.909979402307505,1.2704720596620764,-0.5101605410628312,2.136665484529438,-0.1699031793001053,-1.24833595816567,1.5125850342175535,-0.5583010508588757,-0.00820313126986969,0.9269297298474686,2.078501880875967,-1.0437304214318404,2.869557861104255,-0.164470548860878,2.164303323380603,1.0246132652519804,-0.28793983959005215,-0.5159220664818194,1.6522456567027313,1.1001287236969841,2.863509477262587,2.275958161026918,1.7818457716382545,1.2813922326022487,2.7936706996826746,1.9314541423917233,-0.5442303699996653,2.5182263882282845,-0.45851897004222636,-0.9149644686416961,-0.32542659715955874,2.7873080693498085,1.569477638893099,2.4117484397878024,1.592339955631424,2.068646031767345,-0.32478731104394387,-1.1355824006524369,-0.15993550843268245,1.952945576488027,2.7945365833732985,0.1325145394398758,1.9907282292938657,-0.520356798700237,2.584672054220656,-0.6652079183981325,-1.2711200235454236,-0.5743349567451758,0.5489017757269563,1.7813477861735323,3.360683339257522,1.3912110360008196,0.9244688114373849,2.8040352871822063,0.008378274406066397,1.29102779961232,1.0685815629466833,1.140954254702201,1.9042347948200133,-0.8425142022721119,-0.5389280412945001,0.016135606197991127,1.8722921817363882,2.8535119789277292,0.9976364849408392,1.9563932206108727,1.8658654743407155,2.727233973647599,-0.5214345846682237,-0.5142685327086528,2.2512493413990695,2.9060355965298283,-1.01754895536483,-0.9251087321710715,0.00100895686405922,2.218913916368626,-0.10343937461478743,-0.8525410040221006,-0.8665284061138899,0.7771379268384789,1.4282825254568865,-0.8345794589982657,-0.03383298036036233,0.0444053693404808,-0.25685194285966717,-0.35160781850738027,0.8628534538649096,-0.41593099720434995,0.06285824676788421,1.6466841619431687,1.9937811343986422,0.7508445824019945,1.37215185262021,-0.25927032674029493,-0.46680418270666596,0.9996009766965004,-0.02180387463544421,-0.8800651649996044,2.6783135850936506,1.621113347496363,3.2284580997410055,1.3442898707673396,1.5858883503816774,-0.6945228704448827,1.7678068984610544,0.8949388611273446,2.6343178254190884,2.4536483546586862,2.6105776190065417,-0.7427543070634287,2.4707421527059745,0.25134704304067307,1.5780932978123299,-0.07260028212488367,0.8818827920198068,-0.09263469694612787,1.0820983778826143,2.5828846592278794,2.835029812717824,1.5555439266396172,-0.2270772407577845,1.3604104848192333,2.625793897484118,1.2118184471905484,1.4417493867192324,1.1515483291995765,2.598328701604266,-1.2726344854331635,0.15030767115722624,-0.5739543111473184,2.3805609806066768,0.9053163867916636,2.0811624676880847,-0.6911849581070334,-0.8691098318895212,1.4755392593262193,-0.8044168647806871,-0.21084378543899734,-1.124188901646287,2.887628442827452,1.375738622920235,-0.16174916189948896,-0.8796452252050917,-0.17522988409371057,1.9668487247170527,0.2085549220866699,2.316117026174232,0.9020723409699707,-0.2271933997227966,2.822446086697659,-0.5970701916698644,0.9652146255263594,1.8821532888776584,1.1768475720878693,1.330183083437199,1.7259011844843717,2.1271147998232522,0.2670092868781466,2.5336068261517606,-0.8597004007178765,1.3948458282490277,-0.9551852138239386,0.0738327970736942,2.0818263622170674,-1.1391806410679781,1.9348791465467328,2.1967967043767693,1.7290832021938907,-0.2023066910104656,1.8641511856140403,2.8499354015567566,-0.22138538944303954,-1.0237623593610028,-0.3367499158979825,1.5512900231674565,2.005499541839404,-0.5248065207918806,2.166533699820138,-0.4764348286111766,1.5409587399287132,-1.0343575442146389,2.671012220535079,-0.7175364186414918,1.9149859737970916,-0.41509546584738705,-0.32225012091869,-0.5042226019398509,-0.31211890136199316,-0.6000636255244023,-0.2203267643537894,0.846595028084708,1.9494070724755863,-0.9360091249067868,-1.0435336238405526,1.0775839281948612,1.3362646853083182,0.8884725850409542,1.778692110387347,-0.7944563322599881,2.129009186292683,-0.2804958320009397,2.2943867078988425,-1.031978435394074,2.4104992334782875,-0.460499341227535,0.02889899027543535,2.0286951012043692,-1.1647912533607365,2.579849771749662,0.0663661758206585,1.309307634160636,1.560012761376231,0.7493588068798244,1.6656472177777457,-0.35048402037449106,-0.31836049651384535,2.72660963049165,-0.5849653928846476,-0.355736818643416,2.329226096490657,1.7505734399890733,1.9574400253756536,1.040375203246058,-0.6444581111617721,-0.5067440021420442,2.430633180464168,-0.8456542662314748,1.453483879777127,1.5298476616705663,1.2847548263268729,-0.5022119018857606,2.547801256204145,2.3262436539350384,-0.030190121657793285,2.167343142915065,-1.0915652421044395,-0.44710393575808643,1.8398550210022753,3.1820313975274184,1.8419935689067888,-0.9984998771481672,1.968851243739596,0.8237013479433332,2.2716485505095205,-0.638052613900256,-1.086858224361367,0.7934114915307195,-0.5698220628390328,1.1049571878577031,1.5223135736374482,2.2102893716792096,-1.074476262959159,-0.7532222112849123,1.1985022013643263,2.1874653735715714,1.2285203464199235,0.187151875248891,-0.35005340438458843,2.927967338012551,-0.3453291795668409,-0.7933568443649084,1.1087779991812072,-0.8638858069412207,-0.33534721404370327,-0.03087684941137773,-0.8918023398327976,-0.024083162824448615,0.12962208504155046,2.777133603104477,0.023760697361395907,1.72142539950314,-0.6737351332740724,-0.679215380374788,1.2384147240063337,-0.7891231926900634,-0.011084517677108578,-0.8459759159140493,1.1001273582523918,-0.15414968602424678,2.248858743736257,-0.36298718927619755,1.9761561432855186,-0.5956879714389045,-0.37681860549682367,-0.7215564130760757,-0.4974775059052811,2.0263140476461787,2.470592499042985,-0.4868521307575434,-0.010790080382663344,-0.3917450564829573,-0.6360780088878752,2.62764168505997,0.5521963141015969,-0.8542098260791643,2.182545527596277,-0.776462544294726,2.8971492628185276,-0.5314086268554257,-0.0993742622742876,-0.2509582525054888,0.160851331778588,1.4497309040755795,-0.5870126651205536,1.3578932081275314,-1.2660587420205263,1.477993145959439,-1.2031248365804192,1.7946628362233272,-0.6805385882908135,1.387311420397704,-0.851660263054305,-0.5194975335090117,0.07561203169793318,2.141233139853512,-0.9563683137959081,1.0318976491276342,2.6042078014588923,1.6824526445607886,-0.7185377279630908,-0.37018076677766815,2.6220129770461416,1.8887476238032812,2.259121823441778,3.0076925888435304,2.852037872658008,1.4373580449663657,2.2629918184894087,1.460520665958229,2.779049389836878,-0.11376386377291302,-0.7281707361016667,-0.5478921675348065,2.107706874748411,-0.8565744589926994,-0.6038340062667266,1.8350808423059377,0.29083432937328463,-0.9362898900503307,1.8702121994699583,-0.29418945806282226,2.2049946947922,-0.053003641286660824,-0.6441615369257626,-0.7275359864839399,1.1112724081151357,2.236660122636891,-0.33242831979129783,0.06655104604564999,-1.0867931416035324,-0.5862132923606351,-0.2566308079467315,-0.548199605356153,-0.7656365032466629,1.3071807654200651,-0.6035945744454572,2.1845884606847084,-0.4123981962859782,-0.9094102255114974,0.9637191423664043,1.3475749879333252,2.1923509328088726,-0.4008211976258294,-0.4632155521445614,1.893881887273426,2.7130669275024024,-0.5290170782103755,-0.28228337343524246,-0.8203267061342853,1.683537674250023,2.016294644880313,-1.088849782669741,0.9326759214137226,1.1975510906902274,1.4852313373953696,-0.3578273175106476,1.0730328019072093,-0.9250572302189018,-0.630790444795278,2.0022017471755653,1.1535161122065158,-0.05905205016986434,-0.4822651558162041,-0.05511057460062446,2.3025443136362234,-0.7842685473730875,1.1184449577495774,-0.5376339430566112,-0.4730012015861996,-0.6374091073702942,3.1199686433365956,-0.8406232710686277,1.589098884006746,1.7616813200430617,0.765645955183538,1.5602837982115945,2.2808964980064763,2.342067424486982,1.5218066751956758,2.3077390890503597,1.4562527544764594,1.294067366739113,-0.29434137112377035,-0.2027073871251567,1.8169475209971675,0.9749719796041617,2.9269566220197882,-0.4960088084176907,-0.11343703990841533,1.0870459690593335,0.9856851903799875,-0.6783029932446476,1.2238219715288547,1.8988986538752806,-0.5678837831990713,1.013566005806089,1.3918945851882008,2.0869719320068496,-0.8956226734123862,-0.47033305196930336,1.224535096767813,1.8904512132215938,1.7265904750163537,-1.0432707675874857,1.2494384299443588,1.146770557592818,-0.7517553506138546,2.471933430471549,0.10706959439026983,1.6771528371299862,-0.42250950659273284,-0.7643191181521154,0.332296238573298,-0.25279811520288586,0.9623565411691215,-0.7447946553565982,1.4562683400466472,1.6118166803995464,-0.7740789564724979,2.738657218695446,0.6015767247064655,0.5894006265045127,0.6794542414334267,0.01188151766328733,-0.25414790362334655,-0.4145112231329353,0.8947953901009716,1.8695043315681101,3.0502459744873587,-0.7856624996763615,-0.24494730682247795,2.3013055553973265,-0.7086454897669566,-0.00796608187857728,2.6856862903908736,2.3981935483312986,-0.3768289529445897,2.2374805991029367,-0.8465184644672646,-0.19577852140495605,1.073810374043678,-0.17790183522995545,0.033324534665281555,-0.9494517277875898,1.6464342435087154,1.2119511907308245,1.1901465742868673,-1.1561261338897786,1.7182384667748831,-0.915494051820192,0.03335084417056793,2.015246714443742,2.2831168708268614,-0.8677049346762796,1.5196603035662022,1.2478123198174074,-0.3851495697153961,-0.5007293534271747,-0.9168229037450404,1.539332634608492,-1.2800594242039034,2.6940413667841114,0.2564220997229688,-0.2945824241361529,3.0969059478508596,-0.2173493963479932,1.2170558125500195,-0.56684832827542,1.986660087272854,1.8097962547079565,-0.7040222181733036,-0.7592914165526818,-0.9894567973659183,1.0254563003576,1.0562540035853423,-0.15183121358336968,1.8152411831707618,0.19404182768136613,-0.8767906561600904,-0.902344468927786,2.7001153691197413,1.6628884823497656,0.3494891322489322,1.8264762680993856,-0.7123397525534694,-0.4906257166329147,2.64621531326208,2.0732628524623773,2.4446846386959358,1.3610375317374523,-0.1605015039224607,-0.898668206632667,-0.1477866727135618,2.0282899738172393,0.976422766832222,2.7467507516236216,0.5188043867598326,-0.47978384428761633,2.447414562812497,-0.3954709090090982,2.3253154460467536,2.0542971877895453,2.1178928911350066,0.7911599658172211,1.093653664471126,2.587967858407824,-0.40875969005274265,-0.818837598377876,-0.2062073799586255,-0.6122627213100402,2.282235526018405,-0.4758913656329233,1.1557486221756903,2.817435559556651,-1.4390087292392746,2.377909814440548,1.597702168750728,-1.1812623812731804,2.6317952938798013,-0.9354225096407477,-0.7407339379729578,-0.45801633751014986,0.7546789998639631,0.17246892556223317,2.523977259027632,1.5934552072002364,1.6688949622920992,-0.4399655988422154,-0.47509442024281795,2.679704394435513,2.8526243413574788,0.4000914000218013,-0.4625599584701458,-0.8639232763995105,-0.9375813403769643,2.7073494184591156,2.8026057870324808,1.6056967020269874,1.2457013175180691,-0.17480054373115217,-0.08639000981131695,2.163406124385803,1.0719645850132236,1.3729045898779357,0.5169624200808672,-0.12613728061486265,-0.6479717750718682,2.5839646937670633,0.07984964476832832,-0.9620492814278615,2.659887648171324,-0.6953896451744366,1.5635218497080703,-0.29983130259029744,1.0117633793826553,1.263900054302906,1.8053614709212917,1.7247890810830746,2.239795469321124,1.8079265455063533,2.402492205018453,2.08885719757376,2.0887787838164718,-0.58843890644779,-0.10699846238555417,1.103590014556145,2.8234074269198355,-0.4162923357256709,-0.7376123555007763,2.0471449188403623,0.06375921360918331,2.2724140552856635,2.0176233137769763,0.81416948862951,2.149418107491689,-0.5291453761545286,-0.7961459458786212,1.1982212351591002,-0.6797053165595865,1.5908599323477512,0.9336156831841455,1.0659486128877205,0.6809431146923964,1.5897598902036896,0.9624249185819387,2.604259603261492,-0.9598182432047102,-0.8174097688358541,-0.15500244311859576,-0.8917517794015899,-0.1376643576280819,0.32246223232019866,1.4255359326100534,1.1894454689127818,2.3632558914635196,2.086206456061234,1.5235647784470472,1.207737777323529,-0.30421615667194035,0.22868839715478093,2.174208920498593,-0.5609658937634409,0.030888360912429434,1.2408517250819902,-0.3344440942730035,1.0714431662068449,-0.19549934202738173,-0.46795622262338193,-0.7144827879372908,-0.332969345886959,2.983819410887928,1.0177996215655807,-0.7104819650786085,2.020008070067628,-1.1354848737045575,-0.7224731513981245,1.7511870980308328,1.624404883129288,1.8576811776738527,-0.3770532994078568,-1.1331459616666473,1.7729512866623154,1.5189358385737615,-0.628611087220035,-0.7638480740027379,1.5438142365315397,-0.4722913741983972,-0.46590166475801975,1.4970909652060111,2.036330653735401,-0.715932138041834,-0.9628029125263395,-0.45163116664349323,1.4692562573752688,-0.4352949218181053,2.4773357406097065,0.12929311965807713,-0.7388441271020996,-0.21933897171095823,-0.24463571319314353,-0.5385296714189091,1.4508186592174626,-0.43971326331820365,-1.1326044493930354,3.2301507077134173,-0.44707183222065233,-0.3279569964346643,-0.6711292122393527,1.025958165221596,-0.031295036016307384,-0.9786494967374469,2.3672734648334064,-0.26276994796015474,2.575944238999975,2.030561278296454,-0.48366716757602035,1.731595925269931,1.7229140933565854,1.1345017127500627,-0.7435821037455033,-0.2739914423347651,-0.8343319516710046,1.9115847492552194,0.02226788901407067,1.244501704130109,-0.30263589721910283,-0.060592207356554705,2.664707387956354,0.13300399251217684,-0.867678084273399,1.5079258425011837,1.1597386875091917,2.038661812918327,-0.7654489427589365,1.3322776009737471,-0.5995834410631331,-0.6821039680702956,1.1156529509805382,-0.7349785485494362,-0.787664370816982,2.4549986229254572,-0.2499167402775625,-0.9628266540900229,-0.22708197061735116,-0.7934938278927687,-0.865084225637933,0.3000125096205616,-0.2026051065275554,-0.3045699271500305,-0.5980100137343349,-1.209511641061288,-1.0769235214724358,2.0660831170023344,-0.5902618840634486,0.9161075188358914,1.2086332299404983,-1.243561396061554,-0.16756952553125404,-0.7093174163149569,-0.841944843935223,-0.4612278597092146,1.6875736785059987,-0.49479192726595145,2.923392784123931,-0.9152235704774381,-0.3571719031417638,0.4516687530993809,1.8541822789595062,0.980350888946402,-0.5636025913133429,1.6315873999092956,-0.6735051566310417,1.3286772994909362,1.3301883789557807,-0.33865009993782225,-0.489972321620298,1.9332709727202841,-0.5260729992550972,0.5114856533013691,-0.27812019595079523,-1.079076476702531,0.11816475370998664,1.548972455415146,0.02180069067861724,-0.39794847241793324,1.4096945835230796,1.9935472009678856,0.21492859593808866,1.7206915358490396,-0.18884184463569556,-0.2171440086045283,-0.5972630605596372,0.7223365217308446,-0.9291239409141456,0.9486532870325334,-0.855362638409276,-0.040136396056373966,0.04730099850081264,1.8743896669617626,-0.9927690995006475,-0.6056218307016017,1.337461471751669,-0.11834732401887112,-0.11025130636341797,0.18757917431358387,1.5326059699391006,1.9776387492746692,2.735831337038304,0.827978359810359,1.9361116857872018,-0.5325336682037419,-0.990679238949007,0.18555522206678976,-0.1477378843333515,-0.27929236848290834,2.8711621605876108,1.9189331040977844,-0.6479823962825717,2.279946776290624,-0.805744529875477,2.892912760210628,1.7203834447371735,2.3783795728618746,-0.7907331463638705,-0.45793172226564266,-0.7320243049252446,-0.21553837431968068,1.0104772404104474,-0.0824302423978006,-1.0235632573453566,-0.37462336911415556,1.2050035663732794,1.8773561032213737,-0.26659117338833277,2.5890567020203146,1.5687933458570267,1.970663530455179,0.6863404045555956,-0.18112126462567393,1.7565383965273391,-0.5634005960377924,-0.3410527961087936,1.5673368443022468,-0.5267159163070165,1.9289478846413641,2.3095778692933915,1.1733819010133468,-0.28782537571192607,2.319382037333871,2.4273743847982217,2.2993653152322717,-0.4644462126669823,-0.4131345178472037,1.7364594549963857,-0.3362884570069595,1.5242738392422515,1.140056000549884,2.0804898293214484,1.9535107983921969,-0.3539263154746938,-0.4687987113809897,2.528615018025979,2.0257795639043366,-0.5155786152776616,2.1301071029160865,2.0425467444412475,1.5073377039580775,0.021758648564637807,-0.7670189893716857,2.773083400231568,2.4814521131338068,1.7133042072776865,1.4018676354824657,-0.448090020763154,-0.7191681274888773,2.725924223205825,1.1113223097180278,-0.6013311116560704,-0.06782733433401433,2.8746994444205725,-0.9437046678141541,2.739429866751459,2.220419483398024,1.1589136516301433,-0.6956122077731525,1.0178126730221266,1.6949454035566407,3.0325002918455954,2.689885972116318,-0.14143404467764664,1.5602871628154593,-0.030365913350766903,2.3429469645345606,1.2972470161426648,-0.5675731552686564,2.4318922083374073,1.6313613024816824,0.7545304395666674,1.739419575475257,-0.3301536844320795,-0.46369642500691877,0.39776188315691424,1.7040250340953633,-0.8621416573862767,-0.6011802787393316,-1.3275816761133044,2.590486386995261,2.3908033564837465,2.0103735999120884,-0.5089682548519203,-0.5751658753374159,2.1451335149280526,2.8132330244127113,1.5866108116664714,1.7938346017920255,-0.5286506988546747,-0.5741341254635753,0.08109622415962534,-0.788237665724258,0.03844530393026642,-0.6192276461983726,2.277364758072166,1.558691305134436,2.127442611500009,-0.7855682689173404,2.6469115697934273,-0.5104850000410484,-0.800346276611566,-0.4092918762556841,2.2306036855720937,2.3419955682331413,1.0661423002757293,-0.025987347384019917,2.368513537510708,-0.12011258360825956,1.1365139302099154,2.238822927413786,0.9309571465532466,-0.586639046886838,1.9197293172459244,-0.29930377823434706,2.7608610352431793,1.360950081829606,2.6651391690249717,-0.5881579527604169,2.85888689142366,-0.3308977181760488,-0.5295862004054691,-0.42128434582245783,0.35630508630023294,2.9544558244947323,1.3032898172717335,-0.5953102137724108,-1.0254153453315404,0.6647018738875424,2.645374336871001,-0.3803096360936686,1.621393631747357,-0.2956070968355825,1.3246730707692518,-0.29960039269721445,-0.27533752281156615,2.091960270257954,-0.22885037678711123,2.676780104529952,-0.8910520434960795,0.16983572401551958,-0.44274247768676867,1.4585943232258851,1.8127634023255512,-0.19897693500551877,-0.11950030175251873,-0.2628226410932548,-0.7128345821721325,1.958567214038789,-1.1823024650814904,1.4485940405611255,-0.49765101417858076,-1.0506382979281206,2.4103744740973103,3.1494368446097116,-0.21737043998925348,2.2169988643064595,0.7961263197293371,2.801459063252425,2.2667626150323246,1.9456826027749519,1.0430280473756945,2.666296733467621,-1.2203748276949051,-0.713829914623989,1.4026540963343261,2.378376408599515,-0.6463107653268176,1.114921755010112,2.1551679504102856,1.5167010860848986,-0.5404878600172941,0.004707133731180217,-0.44950277212872924,2.0438515919940183,-1.0594559295102677,0.9993612839888796,1.1385203652983493,1.49893635166381,1.5094433161880452,0.8943912714518414,-0.8928456486616415,1.4031534025357304,2.7780231733708742,2.5642670469013105,2.3607865985441525,-0.9381190499231523,-0.44201323614246935,2.522063893906838,0.17994220106614792,0.18445479180978963,3.0946922389835696,0.8202263751396442,1.6416170438861692,2.7749078628386186,1.8538748249345092,1.9114637373251282,1.3441184740922374,-0.18196907403575582,-0.39323422413113224,-0.9883077808071656,-0.22142962686136022,1.1183589087965267,2.4132771728123874,1.5739697480465265,-0.8186905046634353,-0.4608390392358979,-0.6645981872595275,-0.694714701375733,0.1159509801819364,-0.17974792999771974,2.1130024523594613,-0.11640291289177729,2.7701118127873006,-0.958027734740425,1.360089051912309,-0.44313534309923847,1.977664538138506,-0.36432832051617303,-0.996580997118671,1.551881113771182,-0.5519638402061833,0.18331488456941195,0.8367607072250097,2.290642860450218,-0.9601643851305904,2.850123440331662,0.07652839003334434,2.1789479199836994,0.7955756156419758,-0.10846411137741406,-0.3469490769971305,1.4092622563968291,1.1374045184412023,2.567865380518638,2.453325519678872,1.6942338291592256,1.481925198993741,2.627612414498836,2.135454504034824,-0.49383432717110853,2.1984635945620403,-0.23177722714176738,-1.0500434056253019,-0.2659587355065861,2.472118243320714,1.8824475609768017,2.496095236273675,1.729706617586163,2.1222116645812,-0.1487221189478697,-1.270232816394131,-0.19782959361006794,2.000202045065837,2.7912808464438,0.16869649226800607,1.9878840529856183,-0.583251124288247,2.591531279949163,-0.9101667825079649,-1.3931943813667875,-0.8292766392587417,0.5173887541556914,1.916112272776221,3.1323486021618963,1.5293556013047511,0.7589981081880205,2.7402624247138543,0.13985269640426437,1.383630029585847,1.3607536619060185,1.151407576147788,1.8633096922581556,-1.0381815131835195,-0.5586786641371274,0.06600939232884354,2.089908613670965,2.665859548529144,1.2212677999486035,2.031461581682903,1.7348213254808507,2.6680396711085943,-0.29298946475172594,-0.5451883371711383,2.1153787274491775,2.6327608315203763,-0.9701140991030096,-0.8158019098236684,0.15630682806161583,2.1743804240607454,0.11668211389747173,-0.9356612385794428,-0.9751278230153765,0.7342348639442978,1.4489103045015939,-0.6793330228796559,-0.19910838152021126,0.13940114507049078,-0.06123410452964701,-0.4227804404693195,0.6310197436288301,-0.3124958887959332,0.018432003928721383,1.7442898908855304,2.075023890091912,0.5841764366275055,1.1423756646068801,-0.10886552635630628,-0.4559183710887392,1.2221350209198338,-0.07665139110172771,-0.892411283219353,2.4591172191678474,1.6085289913024605,3.356382530366611,1.670656877028558,1.436604087264063,-0.6138566585916551,1.7213919760383591,1.010447290326415,2.483559714507368,2.42339490722493,2.2798467371504176,-0.5608541674659806,2.5563969537904554,0.4866820250798855,1.4763511896467791,-0.11858593214207602,0.735284034843465,-0.14200744685814823,0.8373443662660093,2.4162959738661867,2.9516175279810297,1.7355188171233944,-0.17974472682478732,1.344000106598964,2.6204288332496093,1.1396406653688622,1.670872793275823,1.3120947314580704,2.5471529314200807,-1.3023123772555192,0.31700268560661066,-0.7232640653792279,2.474702646031807,0.9563214080757761,2.131172809860684,-0.744821186402532,-0.6267742518856038,1.5650356137705848,-0.6862131839852813,-0.4610310489091292,-1.0887771966945727,3.0720935687573943,1.2711981058085249,-0.14116194893008882,-0.8831484202823903,-0.5191945000384041,1.7835624572531583,-0.04501370741892626,2.263887206453532,1.0924781855753567,0.048414807034902974,2.812097203759052,-0.5880819363739583,1.0423578201768482,1.8560644715982033,1.5374255551348026,1.4800133267358455,1.5006744352689885,2.3342457878145333,0.2863008799234726,2.5345463509896944,-1.0438085720239378,1.4007911729626519,-0.9375471312932904,-0.21976043715358745,2.2154639399662104,-1.0892490815932578,1.9107992481582068,2.395587028513741,1.4564764173757268,-0.46369306613927774,2.0135643561524468,2.7798059479420694,-0.025679392951709488,-1.2172332639384134,-0.47152931112135366,1.7002388989805288,1.8363220680291772,-0.3350684041046785,2.0480657320985927,-0.2934077568317605,1.447526391739056,-1.015136802485471,2.4509247197937762,-0.8761000885759952,1.8839101419899216,-0.5036048438931059,-0.455919590103504,-0.37611308706692875,-0.4466668732175104,-0.44474166309515084,-0.2900525716460087,0.997111481999589,2.035745063731226,-0.5775345690302076,-1.138477017770845,1.3067465075398825,1.298862752127212,1.2250866184648554,1.7373351771894359,-0.7921979084205332,1.9446525643185895,-0.3642965930064659,2.269055280096641,-1.1387524664554083,2.581052659677119,-0.17648015571505685,0.20114713916794197,2.0046825974604445,-1.0756737233754523,2.4951545834636515,-0.10333190736137648,1.2440063062787912,1.805980976395126,0.6074652293506828,1.5654047987619508,-0.5816360905506373,-0.39872120587634435,2.71437150266522,-0.6970836310657382,-0.33194811735863616,2.1553020326620014,1.6170517511740965,1.8306826634862539,1.197872966006316,-0.7813474226614121,-0.6955040126606603,2.4564693222511114,-0.8011201254766669,1.2849178824683514,1.4246439510980953,1.3291586521982361,-0.5893274359771109,2.5160013118006663,2.200105904957512,-0.1382111641592133,2.2487490078744194,-1.1759350930776191,-0.32069064300312466,1.8998280238759038,3.050651125326783,1.7727543393437526,-1.188289123278625,1.7911063219741212,1.2060439029443482,2.214788936582778,-0.5000909008554116,-1.0792917461976692,0.7745514820615994,-0.2798858091882947,1.1076823126979327,1.5690716143045267,2.3754805391431075,-1.0396887127427374,-0.7107806738094199,1.2289695356002945,2.235288607569958,1.301232428127553,-0.015379740244610635,-0.3743694217265533,2.7804593027868214,-0.3009353012002894,-0.5995766214747392,1.1545069607807867,-1.04738086925154,-0.3068862954511045,-0.19725560988360807,-0.733455002492145,-0.18945149864904529,-0.12592723226552044,2.8033334638471046,0.3423214228749208,1.6431747722963674,-0.8644712320249798,-0.8151736882913744,1.3300801656608967,-0.7516495565084665,-0.20202366405744288,-0.8095217711001995,1.0213762528916588,-0.083164642538509,1.9773863434380428,-0.5718997989287099,2.0555169487824654,-0.6222515894876999,-0.4271593637915762,-0.8809182268286769,-0.5801743098486033,1.7830232103794816,2.3147731105125846,-0.5737600548103747,0.04138108291293058,-0.41045150639085776,-0.5298843217669578,2.605019903441907,0.4830841913040414,-0.7923866871125173,2.22266200261376,-0.7872009568348418,2.7231996593994876,-0.5565201319009686,-0.2645057717428979,-0.2609808740576554,0.042388390983285604,1.3890023123442512,-0.2985254329780333,1.5087347277823233,-1.3010241220814358,1.472109942623818,-1.3897825209715782,1.8066925807689922,-0.7997865888530244,1.3632063009374191,-0.7375919941770679,-0.4306290242204924,-0.13455210562567962,2.1801048387030884,-1.0301275786934458,0.7338773215339284,2.507526004755202,1.8513896341408935,-0.9951094220793839,-0.3454807214647146,2.6360777705088116,1.7925550682139098,2.3296018378243284,3.0193514705560864,2.680586202290576,1.2160565037966922,2.113549053219661,1.4649505086116226,2.6838961478049987,-0.02560851954003687,-0.7981078845723012,-0.4884785350430496,2.0903858592767843,-0.8277892705039732,-0.5582201345832029,2.007984600865555,-0.053984004169284956,-0.8300908806698782,1.9334597574785606,-0.41972166113100695,2.483802740252331,-0.08812047796465886,-0.49271192752753273,-0.488153519729872,1.006957481613713,2.4896526525749367,-0.2698656553328958,0.1412705625411354,-0.9523176615050432,-0.5610634197165432,-0.36929635877729583,-0.47779659645961553,-0.5781797165064833,1.3069796776543434,-1.0161258595598808,1.7442468004388305,-0.5762222108778642,-1.0238133438111563,0.908530639998426,1.5503947195690828,2.0449840474834553,-0.6132436532882963,-0.5888854052153067,1.6591560517594763,2.5145718653482345,-0.48474168019536945,-0.3378547667221679,-0.7982556127561358,1.428006998508322,1.600349529314484,-1.2041540568566944,0.9754643760820549,1.0110732819803077,1.3138957597217378,-0.7147356031021521,1.0414565142166303,-0.7991458973340434,-0.8006399783314857,1.8656428524738122,0.9887910837173963,0.08361115706133003,-0.5649719510858038,-0.4932952218114442,2.1792581284076973,-0.9882984178285503,0.9259482775406812,-0.269967903884181,-0.5587285067275147,-0.5599797717679845,2.7090387120824535,-1.135331934763955,1.3089274910246576,1.3734024967999074,0.806605190856702,1.549167447458227,2.334677637914569,2.1720895185255413,1.0750988416286724,2.2019759083408053,1.245596091117468,1.3950763778436421,-0.4125334985190188,-0.6955459091257278,1.7891641000377123,0.8830922043451034,2.4385731955686447,-0.418853464628608,-0.550042109575596,1.1694129504187976,0.739201205820772,-0.8427256870456276,0.9634445714474186,2.0270988490099664,-0.7979826470927524,0.9397039871587063,1.5178746826123872,1.9996261872449623,-0.9775438472557257,-0.6599813993754698,1.1442958537846735,1.8626956371414742,1.5772460208757118,-1.2072706527899142,1.2965669015935597,1.1413245049370029,-1.143339893693047,2.2738034730604073,-0.11409937976511599,1.3122369463888908,-0.37818806833550683,-1.0492710558268847,0.18490863076878905,-0.49115406430703373,1.1361627959501577,-0.8519959245150633,1.570243870755151,1.3811488801029421,-0.8092312051093661,2.224093120703392,0.537829582484147,0.6934815771928673,0.5363542968794618,-0.29088076781725064,-0.5506419885400412,-0.613035630431406,1.009320867879968,1.6960793902066593,3.077502700405219,-1.0553348719713311,-0.42904010102343215,2.1684665964068484,-0.8089641156138134,-0.25449253945442224,2.5596129412223543,2.315500848502862,-0.6081551063381916,1.8567184717846865,-0.9869026186478067,-0.24652935038990967,1.063590919390178,-0.30925342070641837,-0.08689975262217262,-1.150573330685505,1.2399675483158217,1.0660928367905032,1.2842727017807076,-1.4314491749741287,1.655120725462996,-0.8700029770396767,0.02824759321988346,1.7857524037945598,2.104391618173606,-0.8182287032630157,1.4087997937560608,1.2135471406667822,-0.18181729519890122,-0.4000199943139606,-1.1636874302224811,0.9729941605591675,-1.3526568723758348,2.517827351531063,0.16914145579336237,-0.20545631918837254,2.7304132884838093,-0.10157435230054758,0.87453144126704,-0.7350874346465346,1.6597082922674715,1.7131803576915994,-0.72151115070637,-0.7545278164154704,-1.2398881219566948,0.9568181493897381,0.9092356717631007,-0.3942300357619332,1.5176632925057332,-0.21812441256988824,-1.1303766191995646,-1.0222018362954963,2.455215141704981,1.654758587772442,0.5385918956124629,1.739812447499785,-0.47896697504103997,-0.40083454312388517,2.5202493623803965,2.1216849449427437,2.2733089637105652,1.2926228846491952,-0.0027464839430380228,-0.8699084832686134,-0.3493516242508465,1.7901587634763911,1.0177239382276513,2.73177320656934,0.36054191220881376,-0.6217466663752926,2.571523283525323,-0.3554730726361645,2.1810939236722913,1.4868130906594013,2.1529795771288005,0.7155963198739845,0.9044784875406982,2.3555370986110558,-0.6077751107841972,-0.8654085831735421,-0.40651030064306054,-1.0557662566598205,2.1817584623787414,-0.40715712333741017,0.9864968064417468,2.7014222931475396,-1.2337778514200923,2.2387129972608064,1.5443470067766771,-1.1662303776857443,2.4340701854111875,-0.7457513686691204,-0.5184765804770396,-0.7421240507451616,0.3899419269056982,-0.1443468617600079,2.5977043411565726,1.105490880859457,1.2816124553802681,-0.24186527130548852,-0.5344369664117739,2.494494198455053,2.745056677335828,0.028944922298849794,-0.5287292170673941,-0.8213907890854596,-1.1471841160792944,2.630604735463456,2.668842058944356,1.7232824468095103,1.2132664029156082,-0.5611367781729513,-0.28749538984398454,1.9555657618929045,1.144994207683183,1.291063917808604,0.47922415035407756,-0.3296289260368166,-0.5989682355599122,2.1119408446746357,-0.07575832175703888,-1.1208613292589482,2.82631516135058,-0.6772866395064867,1.2708051562440499,-0.29389195594358497,1.4331418265440177,0.8504695774709284,1.333033243016377,1.76213798120291,2.195387495719748,1.8251682959646975,2.0086962931686836,2.1369814052339278,2.2014886009467625,-0.8373003210461277,-0.2033621584695118,1.3183195703007813,2.5838187496536675,-0.5790425964922709,-0.6051378907261462,2.00033294052955,-0.09798962982091877,2.162058007412974,1.63307503706917,0.8307636718276026,1.8530820036839497,-0.7686345462684172,-0.569911434536544,1.1961481430619674,-0.7976554346083289,1.1230860438021943,0.7521012061208984,1.0071972363808765,0.778598448621166,1.6953022872823778,0.8750418486107486,2.4348631050480347,-0.9051232911058209,-0.7999755677327527,-0.38967619945828263,-1.1956072921890084,-0.27722097110220456,-0.029221963920110137,1.3468164733406065,0.9320539694837767,2.077741459271908,1.689918917428482,1.1735645785863675,0.8305643808349004,-0.5324450964042579,-0.19227757626918132,2.2502317547975315,-0.742246329751282,-0.174789961920012,1.3400094834880285,-0.31349106743126837,0.9736984326820508,-0.2978421647025974,-0.5640260576980192,-0.9791155349227749,-0.4168944956809362,2.897760798585874,0.8771209788621854,-0.9688515433592648,2.050604112920428,-1.1849683566537654,-0.927563073744847,1.7500216462261404,1.4878834734940514,1.7872163906006218,-0.6364765564691947,-1.2448633835204481,1.630761470219642,1.2503883664552,-0.49539342926131935,-0.7805111374158656,1.4140684021371341,-0.6045560279936769,-0.598276710410024,1.337629818865508,1.7238609237240075,-0.9695722992559317,-1.2617639097928997,-0.4975322990241894,1.7006203157069992,-0.5357069062504561,2.572323870949638,0.0960176407653852,-0.946003568139798,-0.4111951472805934,-0.4105217740664595,-0.8770630158362562,1.2680028620954644,-0.6827457274155063,-1.0709300843625644,2.7535717597213796,-0.31863637196412226,-0.5924815141304118,-0.8737985403686422,0.6517602328850696,-0.14948151206795351,-0.9878505546703054,2.2729048857868133,-0.07734315447383937,2.555483559531376,1.9764624576118957,-0.5510487310959263,1.6631141800738265,1.6051198852475512,0.9183053419439458,-0.500734837753957,-0.3244748232831603,-0.9533287979865384,1.6591765552386029,-0.09222052241157197,1.0321759988323018,-0.19351050450653726,-0.36784180217042745,2.4197256973396724,-0.0802771633858242,-1.1182416449691028,1.3555883777942226,1.2901817037938135,2.1232723377275966,-0.6781338010679898,1.2623702364233718,-0.5780547821739359,-0.6854269614777726,0.9557027562216985,-0.7555850438572261,-1.0366227241120576,2.0156468455367325,-0.29960330657172596,-1.0262141821371598,-0.15289756831599544,-0.597246667730969,-0.7756481973131504,0.07709337288341703,-0.3452022335494502,-0.3407374520780368,-0.9837330750462189,-1.2379078480950176,-1.1691906424504217,1.9233062440421567,-0.48729043959906854,0.7812456514659951,1.157256636480252,-1.1808926083254576,-0.4276523867788372,-0.8322519208736485,-0.6733572342563275,-0.7008521194365378,1.7015788122124826,-0.6043497678686037,2.7498790606002146,-1.2069447792955585,-0.6215494832334303,0.4161767723894615,1.9054065274734868,0.8662683376146565,-0.7800538245514618,1.2175556950527697,-0.7032613168134888,1.4024117386114299,1.45390108240699,-0.3038966822144444,-0.7550083221478857,1.7850628584305177,-0.32660696062432154,0.5942829316238794,-0.32579689642324644,-0.8976624009326474,-0.11563993245224696,1.434584377692553,-0.2253392840987266,-0.44867007631431827,1.3237691925549684,1.4856149192523695,0.24289633941250416,1.5641130235432377,-0.2674879663531594,-0.41256554349004915,-0.5725756681812095,0.5127358669704026,-1.0443498019117587,0.8013556883937613,-1.0818115896388212,-0.2518349844432931,-0.2903679638106158,1.9455892938306594,-1.1477802484446331,-0.7090446882876604,1.5079614630729745,-0.28395552724020623,-0.03165881830748929,-0.43980746816882,-1.357772774120204,-1.1594338098739265,-1.0766644841531487,-0.9420012772636128,-1.0864105175938295,-0.7554320805624639,-1.1635425773827746,-0.9099276214916295,-0.7296481161407974,-1.1178477585495874,-1.0616154393635564,-1.2109103556051015,-1.187567003645203,-1.1707029793468882,-1.169639807112017,-1.0127436182307419,-1.0587635788744498,-1.1528310122054812,-0.7301356515100464,-1.2857247838035484,-1.4062257991488554,-0.7766765600313204,-1.238116685805485,-1.2414051262825663,-1.2769106883223298,-0.8326813791318259,-1.2022997765095564,-0.9961848562651848,-0.630740808946357,-1.319734711237261,-1.1055661317845047,-1.4968314601314052,-1.420413574188289,-1.1169404619519787,-0.5446393519647562,-1.0045669916617432,-1.3264421301126326,-0.9085314954839259,-0.7134404633013585,-1.144291863616842,-1.0302417674249285,-1.1562553799020514,-1.3409555896648893,-0.9705641740865018,-1.1092981467762577,-0.8820387455514875,-1.0285428358350133,-1.1639954913675272,-1.1316658998690057,-1.070000278194168,-0.9426972590362018,-1.5572911155063467,-0.9000100152942201,-1.1970682499424299,-0.9301326243627712,-1.1212126008889114,-1.2836709930921726,-1.1184128788330001,-1.2685593168878577,-1.1823111334235683,-0.8958670031611455,-1.0476177027240487,-1.1579656936462321,-1.1260283760858998,-0.5876290759471435,-1.592856250645836,-0.6376762448015316,-1.3350273900670981,-0.5778351595218304,-1.002635583413482,-0.7930465039905191,-1.4166163110809367,-1.2849422234048395,-1.3054914193222007,-0.840094002526918,-1.215311511494527,-0.9596357719307742,-1.3851540687598973,-1.195845519075818,-1.0530069137989442,-1.2120463694126236,-1.4880043229549722,-0.7222391855351301,-1.0635897040442026,-0.9338364116117471,-1.027941332708534,-1.273647452226447,-1.1547660897028516,-1.268969150369412,-0.765887924540009,-0.8315073822922706,-1.1617721411486104,-1.1240052840888337,-1.4144523272048704,-1.2463915469309543,-0.758716239459825,-1.3643136782047907,-1.6278384596005173,-0.9091101771912515,-1.4301228235232575,-0.9771364668612663,-1.0247690210372735,-1.1714027054606182,-0.8792080278517431,-1.1208275094072944,-1.0816735818013425,-0.8917245126212029,-0.9499475396382518,-0.8462056258922664,-1.081181340006822,-0.8480765339834767,-1.383591191101648,-1.0959782396132907,-1.0156401188984707,-0.7295334679579387,-0.943372371319534,-0.672455768946862,-1.4845535675447612,-0.8329178739948656,-0.7625875631938914,-1.345799100114629,-0.9825978264834757,-1.1006475798939905,-0.7184723122963255,-1.155418407534205,-0.8826332979256102,-1.141060259745024,-1.1729065130995207,-1.0683005612296903,-1.2360054688169027,-1.0498585632822588,-0.9844747448071316,-0.6558602606696133,-0.9562937039637548,-1.0696265288998186,-1.209539695481361,-0.9780422053150951,-1.180470395681525,-0.820083269639374,-0.8948279599637634,-1.5272302827251552,-1.142840286911994,-0.9316368199069752,-1.1782025318973246,-1.5713662948016944,-1.2939080237184724,-1.4704450128490996,-1.210514309818995,-0.9008178883997018,-1.1701267236333692,-0.6086700127434617,-1.0606024339252094,-1.2743312626936527,-0.7522688733503357,-1.079777396414709,-1.1411871521805506,-1.3910005461043715,-1.1126182873816648,-1.2409133763899358,-1.0581318665979913,-1.11292569086923,-0.7062448770334515,-0.6737291394198717,-0.9305955870231947,-1.187498213660084,-1.172634431119439,-0.9073810918440431,-1.0561077356208008,-1.3320420973833549,-1.1519730047086787,-0.9809644866257821,-1.266287564505836,-1.342693003570838,-0.8084378139737415,-0.858227334072902,-1.256980058845626,-1.6491192018455763,-1.1083723351444814,-1.4180365288142613,-0.9589002391672825,-1.0771259021374997,-1.2376793005742854,-1.2578415067277848,-0.8393758079247331,-1.2167299166150185,-0.927148967377237,-1.3608539430279605,-1.0561289158097407,-0.9305672527575358,-0.8257650437983461,-0.9473748812631466,-0.9198953158761446,-0.7558398938577424,-1.085251667926616,-1.3143285558782507,-0.8601968527913069,-0.9571000662881075,-1.215049391185249,-0.9838872287209641,-0.8758805829972894,-1.3935813293351293,-1.2173644611311276,-0.7616101688482124,-0.9524104570319014,-1.1789281534644114,-0.9688654259145568,-0.9637173993588962,-1.1077000356297677,-0.9378547104398817,-0.8228893195124327,-0.6501795956961562,-0.9796562868204802,-1.0930162611548824,-0.9489426492520302,-1.0688003660289593,-1.1232935243367896,-1.2734327247890043,-0.9007776988681981,-1.1213089968153567,-1.437226743505693,-0.9556819581112975,-0.9567500298240916,-0.9045989860363539,-0.9943844091087144,-1.0581713425444825,-1.306411529954477,-1.2093049520382497,-1.5888119837564614,-0.9126654370181535,-1.2112400512291273,-1.448742614346156,-0.8749742963225714,-0.7792549675539131,-1.368593573105799,-1.0165589358246532,-0.9225567514666525,-1.354823201293455,-1.0857420821989832,-1.4891260814644562,-1.2340210676362433,-1.6235132506404122,-1.0563809442331467,-1.4606618607290551,-1.4913340441787792,-1.662586455198889,-1.3193469932756274,-1.3694101005482948,-1.4117528291030177,-1.6540468611795571,-1.23269456371465,-1.1274025905451937,-1.3482876448995664,-1.096807816651574,-1.285597921366533,-1.1556757632411958,-1.4932268586068167,-1.5627825585947641,-1.235471319293339,-1.5700728880400234,-1.1665575790006109,-1.1290277767993542,-1.4242575510068405,-1.3203552155985214,-1.8090511894274575,-1.0653645509669873,-1.490749825663124,-1.4048925068434892,-1.2859592178719064,-1.31088378741164,-1.2241781685563062,-1.3365126974924642,-1.2712044395814504,-1.224805170100319,-1.2316615478651614,-0.9721887011895877,-1.3048450434576404,-1.4626167169928133,-1.1500369958032055,-1.3329309127579811,-1.5736905954677747,-1.5116506179494298,-1.144554568227565,-1.3463839456907871,-0.9936724517814886,-1.0708496734340478,-1.41428196915866,-1.1870913039791955,-1.1028233579507882,-1.4710657056747731,-1.188639108042674,-1.0489543161002006,-1.3018368818323593,-1.795029428890053,-1.15422177706886,-1.3617478369958842,-1.1908908878390387,-0.9911423323248475,-1.3328506097167416,-1.216579395625364,-1.3429108272747527,-1.2744513762161016,-1.490186087932514,-1.4550917758397333,-1.3973008811451642,-1.3447544838144143,-1.271263078929951,-1.3573624863202634,-1.2297312235531626,-0.9637714357064094,-1.3988642973034113,-1.375041900315666,-1.5097245294255324,-1.4193992376534863,-1.3336803391737737,-1.536830714374271,-1.2448350605297092,-0.8579704139414459,-1.125181624561998,-1.3420187800991732,-1.4742540799251076,-1.7016386481992962,-1.1190408402953778,-1.2286944004956404,-1.2111099819406081,-1.3737662121914584,-1.2399006782870754,-1.4649747647973148,-1.3335336611144875,-1.159315941602434,-1.2543326738378764,-1.6000409571660683,-1.0718923772254436,-1.409642360148475,-1.2734803382296305,-1.5266149296750287,-1.4546915376871072,-1.6690024050022567,-1.5067851076838328,-1.4736339945591597,-1.1539560135542244,-1.7614551961417486,-1.3294161364378503,-1.0024102635143883,-1.5879860860021013,-0.8755706343242354,-1.2989853218927028,-0.9696650302927176,-1.2267652921078254,-1.237426690304735,-1.3946233160585593,-1.0359263711364088,-0.9746435253865995,-1.5342732273125126,-1.4055962973268348,-1.5688854654558972,-1.2451862718515954,-1.1477943546100295,-1.3061367613926338,-1.1799129588451638,-1.294279557193105,-1.6997192426983991,-1.3995801624464277,-1.1746599831218472,-1.087233060269389,-1.2120889749378954,-1.3309338813868412,-1.2155338076415556,-1.6351364078580821,-1.1581867910424906,-1.2271988494620365,-0.8983836346162829,-1.3109214760821963,-1.128433853710949,-1.1411593970085534,-1.388319738416611,-1.4011816431649406,-1.377230019618141,-1.1334058826815956,-1.2625886424936055,-1.042503302040413,-1.3879995271923817,-1.2509601679906626,-1.106706577111329,-1.4528149713583556,-1.5729769633918407,-1.0672200622003831,-1.3281453626873356,-1.59844924273147,-1.538712332098729,-1.3370252863354544,-1.040702709615871,-1.0655114445956515,-1.054950572854367,-1.1386063907469608,-1.568059522988753,-1.5155404938290933,-1.2650522636702992,-1.4090042249603798,-1.1974986483789445,-1.2439155793064656,-1.0729930055272217,-1.4507029831549427,-1.1087758505012533,-1.1913329821658378,-1.3053834590213722,-1.46136436259706,-1.492171825721585,-1.3248011465225598,-1.453214781270339,-1.1072945890758186,-1.2600798153495707,-1.1073704599289282,-1.0941947180750071,-1.2055392777232667,-1.406118259899704,-1.7780071654868146,-1.4074676833870687,-1.4529299386418721,-1.3856215195007526,-0.992005460060657,-0.5638858800322114,-1.1173615168578879,-0.6946709833453,-0.61713954081454,-0.13357883197270745,-1.0021745387484575,-1.4704173495680382,0.13325826670548716,0.15984854361633327,0.48501429365650667,-0.9375946133217283,0.17994284657082,-0.5755746635712747,0.4410531946412434,-1.1048181095816094,0.5433708283744171,-0.8455277266988319,-0.45048270639669435,0.5543172031420662,-1.2134009135832453,0.5706265516218035,-0.3811131894223086,-0.1288129894139872,0.4542617797252932,-0.4661637044741122,-0.00882604257722068,-0.9158513865168956,-0.6514772056123111,0.6605015873326667,-1.182762049831332,-0.7837930013331229,0.37121334141371126,0.3276131292783223,0.5072480690838151,-0.18959478933379165,-1.2800617038737894,-0.8864163124667559,0.4309895932412413,-0.8034128784847455,-0.05977848883790112,-0.2399264498509954,0.0965071109725907,-0.8957701443267186,0.7060989465360564,0.18443532765268308,-0.5920825274472955,0.33852560163819573,-1.3515991498391673,-0.5576440448797005,0.18543458274596436,1.013716782270663,0.2302560898617416,-1.130517278901502,0.3961800350920749,-0.26352942433848364,0.1746461389350777,-0.8867220903549683,-1.384787532632434,-0.2376896197433508,-0.6772822094446609,-0.050797857576391,0.3102357588527419,0.5314885330406285,-1.2200133496547116,-0.843254824749226,-0.1119272907846019,0.44131314622962653,-0.25443375307077304,-0.43226266857879037,-0.679523753720732,0.6856322061974686,-0.9489338442163909,-1.2542985290636812,-0.2993539756431697,-1.3044638728203477,-1.0718725506698945,-0.8316687330393095,-0.9013146414639055,-0.6809766264932151,-0.33130543864544426,0.8905613454121823,-0.45855777906973405,0.1984044926851765,-1.1177062539825207,-1.0450287892647667,-0.051910761630669454,-0.9100338199791457,-0.49664824630558146,-1.1519231998813086,-0.5073724967119126,-0.943626876734169,0.5171004910247485,-0.9637992336955549,0.2312148810369149,-1.1013581480331678,-0.6698797390999085,-1.3564344239520807,-1.134557696852098,-1.5619047968969075,-1.2186866124197637,-1.4691346064307331,-1.4764980037843807,-1.520129440087077,-1.687403944979898,-1.0360655358741253,-1.299045671064669,-1.6115851200724227,-1.0851617556278261,-1.5630871569880016,-1.2958885325603606,-1.2679687793975971,-1.369108180292513,-1.3771527832256751,-0.8177463434975981,-1.2276536724267184,-1.1606678054182635,-1.2201936705177656],\"yaxis\":\"y\",\"type\":\"scattergl\"}],                        {\"template\":{\"data\":{\"barpolar\":[{\"marker\":{\"line\":{\"color\":\"white\",\"width\":0.5},\"pattern\":{\"fillmode\":\"overlay\",\"size\":10,\"solidity\":0.2}},\"type\":\"barpolar\"}],\"bar\":[{\"error_x\":{\"color\":\"rgb(36,36,36)\"},\"error_y\":{\"color\":\"rgb(36,36,36)\"},\"marker\":{\"line\":{\"color\":\"white\",\"width\":0.5},\"pattern\":{\"fillmode\":\"overlay\",\"size\":10,\"solidity\":0.2}},\"type\":\"bar\"}],\"carpet\":[{\"aaxis\":{\"endlinecolor\":\"rgb(36,36,36)\",\"gridcolor\":\"white\",\"linecolor\":\"white\",\"minorgridcolor\":\"white\",\"startlinecolor\":\"rgb(36,36,36)\"},\"baxis\":{\"endlinecolor\":\"rgb(36,36,36)\",\"gridcolor\":\"white\",\"linecolor\":\"white\",\"minorgridcolor\":\"white\",\"startlinecolor\":\"rgb(36,36,36)\"},\"type\":\"carpet\"}],\"choropleth\":[{\"colorbar\":{\"outlinewidth\":1,\"tickcolor\":\"rgb(36,36,36)\",\"ticks\":\"outside\"},\"type\":\"choropleth\"}],\"contourcarpet\":[{\"colorbar\":{\"outlinewidth\":1,\"tickcolor\":\"rgb(36,36,36)\",\"ticks\":\"outside\"},\"type\":\"contourcarpet\"}],\"contour\":[{\"colorbar\":{\"outlinewidth\":1,\"tickcolor\":\"rgb(36,36,36)\",\"ticks\":\"outside\"},\"colorscale\":[[0.0,\"#440154\"],[0.1111111111111111,\"#482878\"],[0.2222222222222222,\"#3e4989\"],[0.3333333333333333,\"#31688e\"],[0.4444444444444444,\"#26828e\"],[0.5555555555555556,\"#1f9e89\"],[0.6666666666666666,\"#35b779\"],[0.7777777777777778,\"#6ece58\"],[0.8888888888888888,\"#b5de2b\"],[1.0,\"#fde725\"]],\"type\":\"contour\"}],\"heatmapgl\":[{\"colorbar\":{\"outlinewidth\":1,\"tickcolor\":\"rgb(36,36,36)\",\"ticks\":\"outside\"},\"colorscale\":[[0.0,\"#440154\"],[0.1111111111111111,\"#482878\"],[0.2222222222222222,\"#3e4989\"],[0.3333333333333333,\"#31688e\"],[0.4444444444444444,\"#26828e\"],[0.5555555555555556,\"#1f9e89\"],[0.6666666666666666,\"#35b779\"],[0.7777777777777778,\"#6ece58\"],[0.8888888888888888,\"#b5de2b\"],[1.0,\"#fde725\"]],\"type\":\"heatmapgl\"}],\"heatmap\":[{\"colorbar\":{\"outlinewidth\":1,\"tickcolor\":\"rgb(36,36,36)\",\"ticks\":\"outside\"},\"colorscale\":[[0.0,\"#440154\"],[0.1111111111111111,\"#482878\"],[0.2222222222222222,\"#3e4989\"],[0.3333333333333333,\"#31688e\"],[0.4444444444444444,\"#26828e\"],[0.5555555555555556,\"#1f9e89\"],[0.6666666666666666,\"#35b779\"],[0.7777777777777778,\"#6ece58\"],[0.8888888888888888,\"#b5de2b\"],[1.0,\"#fde725\"]],\"type\":\"heatmap\"}],\"histogram2dcontour\":[{\"colorbar\":{\"outlinewidth\":1,\"tickcolor\":\"rgb(36,36,36)\",\"ticks\":\"outside\"},\"colorscale\":[[0.0,\"#440154\"],[0.1111111111111111,\"#482878\"],[0.2222222222222222,\"#3e4989\"],[0.3333333333333333,\"#31688e\"],[0.4444444444444444,\"#26828e\"],[0.5555555555555556,\"#1f9e89\"],[0.6666666666666666,\"#35b779\"],[0.7777777777777778,\"#6ece58\"],[0.8888888888888888,\"#b5de2b\"],[1.0,\"#fde725\"]],\"type\":\"histogram2dcontour\"}],\"histogram2d\":[{\"colorbar\":{\"outlinewidth\":1,\"tickcolor\":\"rgb(36,36,36)\",\"ticks\":\"outside\"},\"colorscale\":[[0.0,\"#440154\"],[0.1111111111111111,\"#482878\"],[0.2222222222222222,\"#3e4989\"],[0.3333333333333333,\"#31688e\"],[0.4444444444444444,\"#26828e\"],[0.5555555555555556,\"#1f9e89\"],[0.6666666666666666,\"#35b779\"],[0.7777777777777778,\"#6ece58\"],[0.8888888888888888,\"#b5de2b\"],[1.0,\"#fde725\"]],\"type\":\"histogram2d\"}],\"histogram\":[{\"marker\":{\"line\":{\"color\":\"white\",\"width\":0.6}},\"type\":\"histogram\"}],\"mesh3d\":[{\"colorbar\":{\"outlinewidth\":1,\"tickcolor\":\"rgb(36,36,36)\",\"ticks\":\"outside\"},\"type\":\"mesh3d\"}],\"parcoords\":[{\"line\":{\"colorbar\":{\"outlinewidth\":1,\"tickcolor\":\"rgb(36,36,36)\",\"ticks\":\"outside\"}},\"type\":\"parcoords\"}],\"pie\":[{\"automargin\":true,\"type\":\"pie\"}],\"scatter3d\":[{\"line\":{\"colorbar\":{\"outlinewidth\":1,\"tickcolor\":\"rgb(36,36,36)\",\"ticks\":\"outside\"}},\"marker\":{\"colorbar\":{\"outlinewidth\":1,\"tickcolor\":\"rgb(36,36,36)\",\"ticks\":\"outside\"}},\"type\":\"scatter3d\"}],\"scattercarpet\":[{\"marker\":{\"colorbar\":{\"outlinewidth\":1,\"tickcolor\":\"rgb(36,36,36)\",\"ticks\":\"outside\"}},\"type\":\"scattercarpet\"}],\"scattergeo\":[{\"marker\":{\"colorbar\":{\"outlinewidth\":1,\"tickcolor\":\"rgb(36,36,36)\",\"ticks\":\"outside\"}},\"type\":\"scattergeo\"}],\"scattergl\":[{\"marker\":{\"colorbar\":{\"outlinewidth\":1,\"tickcolor\":\"rgb(36,36,36)\",\"ticks\":\"outside\"}},\"type\":\"scattergl\"}],\"scattermapbox\":[{\"marker\":{\"colorbar\":{\"outlinewidth\":1,\"tickcolor\":\"rgb(36,36,36)\",\"ticks\":\"outside\"}},\"type\":\"scattermapbox\"}],\"scatterpolargl\":[{\"marker\":{\"colorbar\":{\"outlinewidth\":1,\"tickcolor\":\"rgb(36,36,36)\",\"ticks\":\"outside\"}},\"type\":\"scatterpolargl\"}],\"scatterpolar\":[{\"marker\":{\"colorbar\":{\"outlinewidth\":1,\"tickcolor\":\"rgb(36,36,36)\",\"ticks\":\"outside\"}},\"type\":\"scatterpolar\"}],\"scatter\":[{\"marker\":{\"colorbar\":{\"outlinewidth\":1,\"tickcolor\":\"rgb(36,36,36)\",\"ticks\":\"outside\"}},\"type\":\"scatter\"}],\"scatterternary\":[{\"marker\":{\"colorbar\":{\"outlinewidth\":1,\"tickcolor\":\"rgb(36,36,36)\",\"ticks\":\"outside\"}},\"type\":\"scatterternary\"}],\"surface\":[{\"colorbar\":{\"outlinewidth\":1,\"tickcolor\":\"rgb(36,36,36)\",\"ticks\":\"outside\"},\"colorscale\":[[0.0,\"#440154\"],[0.1111111111111111,\"#482878\"],[0.2222222222222222,\"#3e4989\"],[0.3333333333333333,\"#31688e\"],[0.4444444444444444,\"#26828e\"],[0.5555555555555556,\"#1f9e89\"],[0.6666666666666666,\"#35b779\"],[0.7777777777777778,\"#6ece58\"],[0.8888888888888888,\"#b5de2b\"],[1.0,\"#fde725\"]],\"type\":\"surface\"}],\"table\":[{\"cells\":{\"fill\":{\"color\":\"rgb(237,237,237)\"},\"line\":{\"color\":\"white\"}},\"header\":{\"fill\":{\"color\":\"rgb(217,217,217)\"},\"line\":{\"color\":\"white\"}},\"type\":\"table\"}]},\"layout\":{\"annotationdefaults\":{\"arrowhead\":0,\"arrowwidth\":1},\"autotypenumbers\":\"strict\",\"coloraxis\":{\"colorbar\":{\"outlinewidth\":1,\"tickcolor\":\"rgb(36,36,36)\",\"ticks\":\"outside\"}},\"colorscale\":{\"diverging\":[[0.0,\"rgb(103,0,31)\"],[0.1,\"rgb(178,24,43)\"],[0.2,\"rgb(214,96,77)\"],[0.3,\"rgb(244,165,130)\"],[0.4,\"rgb(253,219,199)\"],[0.5,\"rgb(247,247,247)\"],[0.6,\"rgb(209,229,240)\"],[0.7,\"rgb(146,197,222)\"],[0.8,\"rgb(67,147,195)\"],[0.9,\"rgb(33,102,172)\"],[1.0,\"rgb(5,48,97)\"]],\"sequential\":[[0.0,\"#440154\"],[0.1111111111111111,\"#482878\"],[0.2222222222222222,\"#3e4989\"],[0.3333333333333333,\"#31688e\"],[0.4444444444444444,\"#26828e\"],[0.5555555555555556,\"#1f9e89\"],[0.6666666666666666,\"#35b779\"],[0.7777777777777778,\"#6ece58\"],[0.8888888888888888,\"#b5de2b\"],[1.0,\"#fde725\"]],\"sequentialminus\":[[0.0,\"#440154\"],[0.1111111111111111,\"#482878\"],[0.2222222222222222,\"#3e4989\"],[0.3333333333333333,\"#31688e\"],[0.4444444444444444,\"#26828e\"],[0.5555555555555556,\"#1f9e89\"],[0.6666666666666666,\"#35b779\"],[0.7777777777777778,\"#6ece58\"],[0.8888888888888888,\"#b5de2b\"],[1.0,\"#fde725\"]]},\"colorway\":[\"#1F77B4\",\"#FF7F0E\",\"#2CA02C\",\"#D62728\",\"#9467BD\",\"#8C564B\",\"#E377C2\",\"#7F7F7F\",\"#BCBD22\",\"#17BECF\"],\"font\":{\"color\":\"rgb(36,36,36)\"},\"geo\":{\"bgcolor\":\"white\",\"lakecolor\":\"white\",\"landcolor\":\"white\",\"showlakes\":true,\"showland\":true,\"subunitcolor\":\"white\"},\"hoverlabel\":{\"align\":\"left\"},\"hovermode\":\"closest\",\"mapbox\":{\"style\":\"light\"},\"paper_bgcolor\":\"white\",\"plot_bgcolor\":\"white\",\"polar\":{\"angularaxis\":{\"gridcolor\":\"rgb(232,232,232)\",\"linecolor\":\"rgb(36,36,36)\",\"showgrid\":false,\"showline\":true,\"ticks\":\"outside\"},\"bgcolor\":\"white\",\"radialaxis\":{\"gridcolor\":\"rgb(232,232,232)\",\"linecolor\":\"rgb(36,36,36)\",\"showgrid\":false,\"showline\":true,\"ticks\":\"outside\"}},\"scene\":{\"xaxis\":{\"backgroundcolor\":\"white\",\"gridcolor\":\"rgb(232,232,232)\",\"gridwidth\":2,\"linecolor\":\"rgb(36,36,36)\",\"showbackground\":true,\"showgrid\":false,\"showline\":true,\"ticks\":\"outside\",\"zeroline\":false,\"zerolinecolor\":\"rgb(36,36,36)\"},\"yaxis\":{\"backgroundcolor\":\"white\",\"gridcolor\":\"rgb(232,232,232)\",\"gridwidth\":2,\"linecolor\":\"rgb(36,36,36)\",\"showbackground\":true,\"showgrid\":false,\"showline\":true,\"ticks\":\"outside\",\"zeroline\":false,\"zerolinecolor\":\"rgb(36,36,36)\"},\"zaxis\":{\"backgroundcolor\":\"white\",\"gridcolor\":\"rgb(232,232,232)\",\"gridwidth\":2,\"linecolor\":\"rgb(36,36,36)\",\"showbackground\":true,\"showgrid\":false,\"showline\":true,\"ticks\":\"outside\",\"zeroline\":false,\"zerolinecolor\":\"rgb(36,36,36)\"}},\"shapedefaults\":{\"fillcolor\":\"black\",\"line\":{\"width\":0},\"opacity\":0.3},\"ternary\":{\"aaxis\":{\"gridcolor\":\"rgb(232,232,232)\",\"linecolor\":\"rgb(36,36,36)\",\"showgrid\":false,\"showline\":true,\"ticks\":\"outside\"},\"baxis\":{\"gridcolor\":\"rgb(232,232,232)\",\"linecolor\":\"rgb(36,36,36)\",\"showgrid\":false,\"showline\":true,\"ticks\":\"outside\"},\"bgcolor\":\"white\",\"caxis\":{\"gridcolor\":\"rgb(232,232,232)\",\"linecolor\":\"rgb(36,36,36)\",\"showgrid\":false,\"showline\":true,\"ticks\":\"outside\"}},\"title\":{\"x\":0.05},\"xaxis\":{\"automargin\":true,\"gridcolor\":\"rgb(232,232,232)\",\"linecolor\":\"rgb(36,36,36)\",\"showgrid\":false,\"showline\":true,\"ticks\":\"outside\",\"title\":{\"standoff\":15},\"zeroline\":false,\"zerolinecolor\":\"rgb(36,36,36)\"},\"yaxis\":{\"automargin\":true,\"gridcolor\":\"rgb(232,232,232)\",\"linecolor\":\"rgb(36,36,36)\",\"showgrid\":false,\"showline\":true,\"ticks\":\"outside\",\"title\":{\"standoff\":15},\"zeroline\":false,\"zerolinecolor\":\"rgb(36,36,36)\"}}},\"xaxis\":{\"anchor\":\"y\",\"domain\":[0.0,1.0],\"title\":{\"text\":\"PC1\"}},\"yaxis\":{\"anchor\":\"x\",\"domain\":[0.0,1.0],\"title\":{\"text\":\"PC2\"}},\"legend\":{\"tracegroupgap\":0},\"title\":{\"text\":\"PCA Scatterplot\"}},                        {\"responsive\": true}                    ).then(function(){\n",
              "                            \n",
              "var gd = document.getElementById('b02eaf7b-b76c-4501-8d0d-d49d98e7f4a5');\n",
              "var x = new MutationObserver(function (mutations, observer) {{\n",
              "        var display = window.getComputedStyle(gd).display;\n",
              "        if (!display || display === 'none') {{\n",
              "            console.log([gd, 'removed!']);\n",
              "            Plotly.purge(gd);\n",
              "            observer.disconnect();\n",
              "        }}\n",
              "}});\n",
              "\n",
              "// Listen for the removal of the full notebook cells\n",
              "var notebookContainer = gd.closest('#notebook-container');\n",
              "if (notebookContainer) {{\n",
              "    x.observe(notebookContainer, {childList: true});\n",
              "}}\n",
              "\n",
              "// Listen for the clearing of the current output cell\n",
              "var outputEl = gd.closest('.output');\n",
              "if (outputEl) {{\n",
              "    x.observe(outputEl, {childList: true});\n",
              "}}\n",
              "\n",
              "                        })                };                            </script>        </div>\n",
              "</body>\n",
              "</html>"
            ]
          },
          "metadata": {}
        }
      ],
      "source": [
        "fig = px.scatter( x=X1[:,0],\n",
        "                    y=X1[:,1],\n",
        "                    template='simple_white',\n",
        "                    color_discrete_sequence=px.colors.qualitative.G10,\n",
        "                    title='PCA Scatterplot'\n",
        "                    )\n",
        "fig.update_layout(xaxis_title=\"PC1\",yaxis_title=\"PC2\")\n",
        "fig.show()"
      ]
    },
    {
      "cell_type": "code",
      "execution_count": 75,
      "id": "d5b38b06",
      "metadata": {
        "id": "d5b38b06"
      },
      "outputs": [],
      "source": [
        "X_train1, X_test1, y_train1, y_test1 = train_test_split(X1, y1, test_size=0.2, stratify=df.is_safe)"
      ]
    },
    {
      "cell_type": "markdown",
      "id": "5c001525",
      "metadata": {
        "id": "5c001525"
      },
      "source": [
        "## Logistic Regression"
      ]
    },
    {
      "cell_type": "code",
      "execution_count": 76,
      "id": "7972ee46",
      "metadata": {
        "id": "7972ee46"
      },
      "outputs": [],
      "source": [
        "model_lr1 = LogisticRegression()"
      ]
    },
    {
      "cell_type": "code",
      "execution_count": 77,
      "id": "5d55226d",
      "metadata": {
        "id": "5d55226d"
      },
      "outputs": [],
      "source": [
        "model_lr2 = LogisticRegression()"
      ]
    },
    {
      "cell_type": "code",
      "execution_count": 78,
      "id": "92bc7160",
      "metadata": {
        "id": "92bc7160",
        "outputId": "9343f136-c3f1-47b9-a188-45296d890c7f",
        "colab": {
          "base_uri": "https://localhost:8080/"
        }
      },
      "outputs": [
        {
          "output_type": "execute_result",
          "data": {
            "text/plain": [
              "LogisticRegression()"
            ]
          },
          "metadata": {},
          "execution_count": 78
        }
      ],
      "source": [
        "model_lr1.fit(X_train, y_train)"
      ]
    },
    {
      "cell_type": "code",
      "execution_count": 79,
      "id": "8ecd149d",
      "metadata": {
        "id": "8ecd149d",
        "outputId": "680c1a2f-9688-4cee-8e4b-08b8a1688c80",
        "colab": {
          "base_uri": "https://localhost:8080/"
        }
      },
      "outputs": [
        {
          "output_type": "execute_result",
          "data": {
            "text/plain": [
              "LogisticRegression()"
            ]
          },
          "metadata": {},
          "execution_count": 79
        }
      ],
      "source": [
        "model_lr2.fit(X_train1, y_train1)"
      ]
    },
    {
      "cell_type": "code",
      "execution_count": 80,
      "id": "842e228c",
      "metadata": {
        "id": "842e228c"
      },
      "outputs": [],
      "source": [
        "predictions1 = model_lr1.predict(X_test)"
      ]
    },
    {
      "cell_type": "code",
      "execution_count": 81,
      "id": "c47c5dda",
      "metadata": {
        "id": "c47c5dda"
      },
      "outputs": [],
      "source": [
        "predictions2 = model_lr2.predict(X_test1)"
      ]
    },
    {
      "cell_type": "code",
      "execution_count": 82,
      "id": "ff92db3b",
      "metadata": {
        "id": "ff92db3b",
        "outputId": "027a69fb-19b1-419b-b0a8-e99d094f3a8f",
        "colab": {
          "base_uri": "https://localhost:8080/"
        }
      },
      "outputs": [
        {
          "output_type": "stream",
          "name": "stdout",
          "text": [
            "0.91125\n"
          ]
        }
      ],
      "source": [
        "score1 = model_lr1.score(X_test, y_test)\n",
        "print(score1)"
      ]
    },
    {
      "cell_type": "code",
      "execution_count": 83,
      "id": "705cd2be",
      "metadata": {
        "id": "705cd2be",
        "outputId": "93aa9c71-1790-458f-f479-cf4c08e8bdf7",
        "colab": {
          "base_uri": "https://localhost:8080/"
        }
      },
      "outputs": [
        {
          "output_type": "stream",
          "name": "stdout",
          "text": [
            "0.906875\n"
          ]
        }
      ],
      "source": [
        "score2 = model_lr2.score(X_test1, y_test1)\n",
        "print(score2)"
      ]
    },
    {
      "cell_type": "code",
      "execution_count": 84,
      "id": "e8ec8c12",
      "metadata": {
        "id": "e8ec8c12",
        "outputId": "f9d59374-1a98-4e3d-b475-f7e005f14c2e",
        "colab": {
          "base_uri": "https://localhost:8080/",
          "height": 365
        }
      },
      "outputs": [
        {
          "output_type": "display_data",
          "data": {
            "text/plain": [
              "<Figure size 576x396 with 2 Axes>"
            ],
            "image/png": "[encoded data removed]"
          },
          "metadata": {}
        }
      ],
      "source": [
        "cm = metrics.confusion_matrix(y_test,predictions1)\n",
        "cm_display = metrics.ConfusionMatrixDisplay(confusion_matrix = cm, display_labels = [False, True])\n",
        "cm_display.plot()\n",
        "plt.savefig(\"confusion_matrix_no_pca.png\")\n",
        "plt.show()"
      ]
    },
    {
      "cell_type": "code",
      "execution_count": 85,
      "id": "c4d12478",
      "metadata": {
        "id": "c4d12478",
        "outputId": "4335648d-2017-42a3-dec3-294e8ebc08b1",
        "colab": {
          "base_uri": "https://localhost:8080/",
          "height": 361
        }
      },
      "outputs": [
        {
          "output_type": "display_data",
          "data": {
            "text/plain": [
              "<Figure size 576x396 with 2 Axes>"
            ],
            "image/png": "[encoded data removed]"
          },
          "metadata": {}
        }
      ],
      "source": [
        "cm = metrics.confusion_matrix(y_test,predictions2)\n",
        "cm_display = metrics.ConfusionMatrixDisplay(confusion_matrix = cm, display_labels = [False, True])\n",
        "cm_display.plot()\n",
        "plt.savefig(\"confusion_matrix_with_pca.png\")\n",
        "plt.show()"
      ]
    },
    {
      "cell_type": "code",
      "execution_count": 86,
      "id": "e9f3ad18",
      "metadata": {
        "id": "e9f3ad18"
      },
      "outputs": [],
      "source": [
        "Accuracy1 = metrics.accuracy_score(y_test, predictions1)"
      ]
    },
    {
      "cell_type": "code",
      "execution_count": 87,
      "id": "4f6dee30",
      "metadata": {
        "id": "4f6dee30"
      },
      "outputs": [],
      "source": [
        "Accuracy2 = metrics.accuracy_score(y_test1, predictions2)"
      ]
    },
    {
      "cell_type": "code",
      "execution_count": 88,
      "id": "d62469c4",
      "metadata": {
        "id": "d62469c4"
      },
      "outputs": [],
      "source": [
        "Precision1 = metrics.precision_score(y_test, predictions1)"
      ]
    },
    {
      "cell_type": "code",
      "execution_count": 89,
      "id": "cd2279b7",
      "metadata": {
        "id": "cd2279b7"
      },
      "outputs": [],
      "source": [
        "Precision2 = metrics.precision_score(y_test1, predictions2)"
      ]
    },
    {
      "cell_type": "code",
      "execution_count": 90,
      "id": "3cb5d3ed",
      "metadata": {
        "id": "3cb5d3ed"
      },
      "outputs": [],
      "source": [
        "Sensitivity_recall1 = metrics.recall_score(y_test, predictions1)"
      ]
    },
    {
      "cell_type": "code",
      "execution_count": 91,
      "id": "30d178bd",
      "metadata": {
        "id": "30d178bd"
      },
      "outputs": [],
      "source": [
        "Sensitivity_recall2 = metrics.recall_score(y_test1, predictions2)"
      ]
    },
    {
      "cell_type": "code",
      "execution_count": 92,
      "id": "8174fe21",
      "metadata": {
        "id": "8174fe21"
      },
      "outputs": [],
      "source": [
        "Specificity1 = metrics.recall_score(y_test, predictions1, pos_label=0)"
      ]
    },
    {
      "cell_type": "code",
      "execution_count": 93,
      "id": "3edb81d2",
      "metadata": {
        "id": "3edb81d2"
      },
      "outputs": [],
      "source": [
        "Specificity2 = metrics.recall_score(y_test1, predictions2, pos_label=0)"
      ]
    },
    {
      "cell_type": "code",
      "execution_count": 94,
      "id": "d0d7ff6d",
      "metadata": {
        "id": "d0d7ff6d"
      },
      "outputs": [],
      "source": [
        "F1_score1 = metrics.f1_score(y_test, predictions1)"
      ]
    },
    {
      "cell_type": "code",
      "execution_count": 95,
      "id": "17f1a8ac",
      "metadata": {
        "id": "17f1a8ac"
      },
      "outputs": [],
      "source": [
        "F1_score2 = metrics.f1_score(y_test1, predictions2)"
      ]
    },
    {
      "cell_type": "code",
      "execution_count": 96,
      "id": "db81a63a",
      "metadata": {
        "id": "db81a63a",
        "outputId": "c327ca97-2ee8-4b2a-8359-9017120c8693",
        "colab": {
          "base_uri": "https://localhost:8080/"
        }
      },
      "outputs": [
        {
          "output_type": "stream",
          "name": "stdout",
          "text": [
            "{'Accuracy': 0.91125, 'Precision': 0.7631578947368421, 'Sensitivity_recall': 0.31868131868131866, 'Specificity': 0.9873060648801129, 'F1_score': 0.44961240310077516}\n"
          ]
        }
      ],
      "source": [
        "print({\"Accuracy\":Accuracy1,\"Precision\":Precision1,\"Sensitivity_recall\":Sensitivity_recall1,\"Specificity\":Specificity1,\"F1_score\":F1_score1})"
      ]
    },
    {
      "cell_type": "code",
      "execution_count": 97,
      "id": "1f7e65f1",
      "metadata": {
        "id": "1f7e65f1",
        "outputId": "258f01c2-5b55-46f9-b3bc-2d2d24fd6fbb",
        "colab": {
          "base_uri": "https://localhost:8080/"
        }
      },
      "outputs": [
        {
          "output_type": "stream",
          "name": "stdout",
          "text": [
            "{'Accuracy': 0.906875, 'Precision': 0.6853932584269663, 'Sensitivity_recall': 0.33516483516483514, 'Specificity': 0.9802538787023978, 'F1_score': 0.4501845018450184}\n"
          ]
        }
      ],
      "source": [
        "print({\"Accuracy\":Accuracy2,\"Precision\":Precision2,\"Sensitivity_recall\":Sensitivity_recall2,\"Specificity\":Specificity2,\"F1_score\":F1_score2})"
      ]
    },
    {
      "cell_type": "code",
      "execution_count": 98,
      "id": "287b31a2",
      "metadata": {
        "id": "287b31a2",
        "outputId": "e1b0d099-f206-431d-d2fe-dbfaa49dcdb5",
        "colab": {
          "base_uri": "https://localhost:8080/"
        }
      },
      "outputs": [
        {
          "output_type": "stream",
          "name": "stdout",
          "text": [
            "              precision    recall  f1-score   support\n",
            "\n",
            "           0       0.92      0.99      0.95      1418\n",
            "           1       0.76      0.32      0.45       182\n",
            "\n",
            "    accuracy                           0.91      1600\n",
            "   macro avg       0.84      0.65      0.70      1600\n",
            "weighted avg       0.90      0.91      0.89      1600\n",
            "\n"
          ]
        }
      ],
      "source": [
        "\n",
        "print(classification_report(y_test, predictions1))"
      ]
    },
    {
      "cell_type": "markdown",
      "id": "63238ba3",
      "metadata": {
        "id": "63238ba3"
      },
      "source": [
        "## Recall of minority class is very less so we apply smote and then PCA"
      ]
    },
    {
      "cell_type": "code",
      "execution_count": 99,
      "id": "1eed3747",
      "metadata": {
        "id": "1eed3747"
      },
      "outputs": [],
      "source": [
        "from imblearn.over_sampling import SMOTE\n",
        "from imblearn.over_sampling import SVMSMOTE"
      ]
    },
    {
      "cell_type": "code",
      "execution_count": 100,
      "id": "a973c20e",
      "metadata": {
        "id": "a973c20e"
      },
      "outputs": [],
      "source": [
        "sm = SMOTE(random_state=42,sampling_strategy=0.3)"
      ]
    },
    {
      "cell_type": "code",
      "execution_count": 101,
      "id": "79b77091",
      "metadata": {
        "id": "79b77091"
      },
      "outputs": [],
      "source": [
        "X_smote, y_smote = sm.fit_resample(X_train1, y_train1)"
      ]
    },
    {
      "cell_type": "code",
      "execution_count": 102,
      "id": "851f6dcb",
      "metadata": {
        "id": "851f6dcb",
        "outputId": "3b0c4871-2685-477e-9b4c-84710d9eef03",
        "colab": {
          "base_uri": "https://localhost:8080/"
        }
      },
      "outputs": [
        {
          "output_type": "stream",
          "name": "stdout",
          "text": [
            "Before OverSampling, counts of label '1': 730\n",
            "Before OverSampling, counts of label '0': 5666 \n",
            "\n",
            "After OverSampling, the shape of train_X: (7365, 18)\n",
            "After OverSampling, the shape of train_y: (7365,) \n",
            "\n",
            "After OverSampling, counts of label '1': 1699\n",
            "After OverSampling, counts of label '0': 5666\n"
          ]
        }
      ],
      "source": [
        "print(\"Before OverSampling, counts of label '1': {}\".format(sum(y_train == 1)))\n",
        "print(\"Before OverSampling, counts of label '0': {} \\n\".format(sum(y_train == 0)))\n",
        "\n",
        "print('After OverSampling, the shape of train_X: {}'.format(X_smote.shape))\n",
        "print('After OverSampling, the shape of train_y: {} \\n'.format(y_smote.shape))\n",
        "  \n",
        "print(\"After OverSampling, counts of label '1': {}\".format(sum(y_smote == 1)))\n",
        "print(\"After OverSampling, counts of label '0': {}\".format(sum(y_smote== 0)))"
      ]
    },
    {
      "cell_type": "code",
      "execution_count": 103,
      "id": "decf4912",
      "metadata": {
        "id": "decf4912"
      },
      "outputs": [],
      "source": [
        "model_smote = LogisticRegression()"
      ]
    },
    {
      "cell_type": "code",
      "execution_count": 104,
      "id": "391640e3",
      "metadata": {
        "id": "391640e3",
        "outputId": "a4eea805-5842-491d-fe98-4b31959292e3",
        "colab": {
          "base_uri": "https://localhost:8080/"
        }
      },
      "outputs": [
        {
          "output_type": "execute_result",
          "data": {
            "text/plain": [
              "LogisticRegression()"
            ]
          },
          "metadata": {},
          "execution_count": 104
        }
      ],
      "source": [
        "model_smote.fit(X_smote, y_smote)"
      ]
    },
    {
      "cell_type": "code",
      "execution_count": 105,
      "id": "ad9b8d1d",
      "metadata": {
        "id": "ad9b8d1d"
      },
      "outputs": [],
      "source": [
        "import itertools\n",
        "\n",
        "def plot_confusion_matrix(cm, classes,\n",
        "                          normalize=False,\n",
        "                          title='Confusion matrix',\n",
        "                          cmap=plt.cm.Blues):\n",
        "    \"\"\"\n",
        "    This function prints and plots the confusion matrix.\n",
        "    Normalization can be applied by setting `normalize=True`.\n",
        "    \"\"\"\n",
        "    plt.imshow(cm, interpolation='nearest', cmap=cmap)\n",
        "    plt.title(title)\n",
        "    plt.colorbar()\n",
        "    tick_marks = np.arange(len(classes))\n",
        "    plt.xticks(tick_marks, classes, rotation=0)\n",
        "    plt.yticks(tick_marks, classes)\n",
        "\n",
        "    if normalize:\n",
        "        cm = cm.astype('float') / cm.sum(axis=1)[:, np.newaxis]\n",
        "        #print(\"Normalized confusion matrix\")\n",
        "    else:\n",
        "        1#print('Confusion matrix, without normalization')\n",
        "\n",
        "    #print(cm)\n",
        "\n",
        "    thresh = cm.max() / 2.\n",
        "    for i, j in itertools.product(range(cm.shape[0]), range(cm.shape[1])):\n",
        "        plt.text(j, i, cm[i, j],\n",
        "                 horizontalalignment=\"center\",\n",
        "                 color=\"white\" if cm[i, j] > thresh else \"black\")\n",
        "\n",
        "    plt.tight_layout()\n",
        "    plt.ylabel('True label')\n",
        "    plt.xlabel('Predicted label')"
      ]
    },
    {
      "cell_type": "code",
      "execution_count": 106,
      "id": "d9d4d12c",
      "metadata": {
        "id": "d9d4d12c",
        "outputId": "6328757b-07cd-40ba-b2c6-cc2b0e3a6972",
        "colab": {
          "base_uri": "https://localhost:8080/",
          "height": 432
        }
      },
      "outputs": [
        {
          "output_type": "stream",
          "name": "stdout",
          "text": [
            "Recall metric in the testing dataset: 50.54945054945055%\n"
          ]
        },
        {
          "output_type": "display_data",
          "data": {
            "text/plain": [
              "<Figure size 576x396 with 2 Axes>"
            ],
            "image/png": "[encoded data removed]"
          },
          "metadata": {}
        }
      ],
      "source": [
        "y_pre = model_smote.predict(X_test1)\n",
        "\n",
        "cnf_matrix = confusion_matrix(y_test1, y_pre)\n",
        "\n",
        "print(\"Recall metric in the testing dataset: {}%\".format(100*cnf_matrix[1,1]/(cnf_matrix[1,0]+cnf_matrix[1,1])))\n",
        "\n",
        "class_names = [0,1]\n",
        "plt.figure()\n",
        "plot_confusion_matrix(cnf_matrix , classes=class_names, title='Confusion matrix')\n",
        "plt.savefig(\"PCASMOTE.png\")\n",
        "plt.show()"
      ]
    },
    {
      "cell_type": "code",
      "execution_count": 107,
      "id": "0991f043",
      "metadata": {
        "id": "0991f043",
        "outputId": "49c841ec-4ffb-4df7-c890-e7d3b402d597",
        "colab": {
          "base_uri": "https://localhost:8080/"
        }
      },
      "outputs": [
        {
          "output_type": "stream",
          "name": "stdout",
          "text": [
            "              precision    recall  f1-score   support\n",
            "\n",
            "           0       0.94      0.94      0.94      1418\n",
            "           1       0.54      0.51      0.52       182\n",
            "\n",
            "    accuracy                           0.90      1600\n",
            "   macro avg       0.74      0.73      0.73      1600\n",
            "weighted avg       0.89      0.90      0.89      1600\n",
            "\n"
          ]
        }
      ],
      "source": [
        "print(classification_report(y_test1, y_pre))"
      ]
    },
    {
      "cell_type": "code",
      "execution_count": 108,
      "id": "f0cb4405",
      "metadata": {
        "id": "f0cb4405"
      },
      "outputs": [],
      "source": [
        "\n",
        "\n",
        "Accuracy = metrics.accuracy_score(y_test1, y_pre)"
      ]
    },
    {
      "cell_type": "code",
      "execution_count": 109,
      "id": "95a51bda",
      "metadata": {
        "id": "95a51bda"
      },
      "outputs": [],
      "source": [
        "Precision = metrics.precision_score(y_test1, y_pre)"
      ]
    },
    {
      "cell_type": "code",
      "execution_count": 110,
      "id": "0017893e",
      "metadata": {
        "id": "0017893e"
      },
      "outputs": [],
      "source": [
        "Sensitivity_recall = metrics.recall_score(y_test1, y_pre)"
      ]
    },
    {
      "cell_type": "code",
      "execution_count": 111,
      "id": "c15b0efa",
      "metadata": {
        "id": "c15b0efa"
      },
      "outputs": [],
      "source": [
        "Specificity = metrics.recall_score(y_test1, y_pre, pos_label=0)"
      ]
    },
    {
      "cell_type": "code",
      "execution_count": 112,
      "id": "2a2e717d",
      "metadata": {
        "id": "2a2e717d"
      },
      "outputs": [],
      "source": [
        "F1_score = metrics.f1_score(y_test1, y_pre)"
      ]
    },
    {
      "cell_type": "code",
      "execution_count": 113,
      "id": "5746b545",
      "metadata": {
        "id": "5746b545",
        "outputId": "d05ed2aa-3aec-4480-b0e6-7613da1dbab1",
        "colab": {
          "base_uri": "https://localhost:8080/"
        }
      },
      "outputs": [
        {
          "output_type": "stream",
          "name": "stdout",
          "text": [
            "{'Accuracy': 0.895, 'Precision': 0.5411764705882353, 'Sensitivity_recall': 0.5054945054945055, 'Specificity': 0.9449929478138223, 'F1_score': 0.5227272727272727}\n"
          ]
        }
      ],
      "source": [
        "print({\"Accuracy\":Accuracy,\"Precision\":Precision,\"Sensitivity_recall\":Sensitivity_recall,\"Specificity\":Specificity,\"F1_score\":F1_score})"
      ]
    },
    {
      "cell_type": "markdown",
      "id": "6f96ae67",
      "metadata": {
        "id": "6f96ae67"
      },
      "source": [
        "## SVM(weak learner)"
      ]
    },
    {
      "cell_type": "code",
      "execution_count": 114,
      "id": "d856c19a",
      "metadata": {
        "id": "d856c19a"
      },
      "outputs": [],
      "source": [
        "\n",
        "from sklearn.svm import SVC\n",
        "from sklearn.metrics import roc_auc_score,f1_score"
      ]
    },
    {
      "cell_type": "code",
      "execution_count": 115,
      "id": "fcc3ace8",
      "metadata": {
        "id": "fcc3ace8",
        "outputId": "f5630fc2-9cb6-4d05-9577-e075346ca193",
        "colab": {
          "base_uri": "https://localhost:8080/"
        }
      },
      "outputs": [
        {
          "output_type": "execute_result",
          "data": {
            "text/plain": [
              "SVC(class_weight='balanced', probability=True)"
            ]
          },
          "metadata": {},
          "execution_count": 115
        }
      ],
      "source": [
        "svc_model1 = SVC(class_weight='balanced', probability=True)\n",
        "svc_model1.fit(X_train, y_train)"
      ]
    },
    {
      "cell_type": "code",
      "execution_count": 116,
      "id": "fd3cda11",
      "metadata": {
        "id": "fd3cda11",
        "outputId": "8e2277f7-7717-437a-b7d8-cca29c0c2adb",
        "colab": {
          "base_uri": "https://localhost:8080/"
        }
      },
      "outputs": [
        {
          "output_type": "execute_result",
          "data": {
            "text/plain": [
              "SVC(class_weight='balanced', probability=True)"
            ]
          },
          "metadata": {},
          "execution_count": 116
        }
      ],
      "source": [
        "svc_model2 = SVC(class_weight='balanced', probability=True)\n",
        "svc_model2.fit(X_train1, y_train1)"
      ]
    },
    {
      "cell_type": "code",
      "execution_count": 117,
      "id": "ca4d9293",
      "metadata": {
        "id": "ca4d9293",
        "outputId": "09527cf7-56b7-41f8-8eb6-c0317e9058f9",
        "colab": {
          "base_uri": "https://localhost:8080/"
        }
      },
      "outputs": [
        {
          "output_type": "execute_result",
          "data": {
            "text/plain": [
              "SVC(class_weight='balanced', probability=True)"
            ]
          },
          "metadata": {},
          "execution_count": 117
        }
      ],
      "source": [
        "svc_model = SVC(class_weight='balanced', probability=True)\n",
        "svc_model.fit(X_smote, y_smote)"
      ]
    },
    {
      "cell_type": "code",
      "execution_count": 118,
      "id": "5c2493e3",
      "metadata": {
        "id": "5c2493e3"
      },
      "outputs": [],
      "source": [
        "from sklearn.metrics import f1_score,roc_auc_score,precision_score,accuracy_score,recall_score"
      ]
    },
    {
      "cell_type": "code",
      "execution_count": 119,
      "id": "8e6ca631",
      "metadata": {
        "id": "8e6ca631",
        "outputId": "513f8a18-3af9-462e-9df2-2559672e7dea",
        "colab": {
          "base_uri": "https://localhost:8080/"
        }
      },
      "outputs": [
        {
          "output_type": "stream",
          "name": "stdout",
          "text": [
            "ROCAUC score: 0.8677327608921404\n",
            "Accuracy score: 0.905625\n",
            "F1 score: 0.6636971046770601\n",
            "precision:  0.5580524344569289\n",
            "recall_score:  0.8186813186813187\n"
          ]
        }
      ],
      "source": [
        "svc_predict = svc_model.predict(X_test1)\n",
        "print('ROCAUC score:',roc_auc_score(y_test1, svc_predict))\n",
        "print('Accuracy score:',accuracy_score(y_test1, svc_predict))\n",
        "print('F1 score:',f1_score(y_test1, svc_predict))\n",
        "print(\"precision: \",precision_score(y_test1,svc_predict))\n",
        "print(\"recall_score: \",recall_score(y_test1,svc_predict))"
      ]
    },
    {
      "cell_type": "code",
      "execution_count": 120,
      "id": "5bc36fc3",
      "metadata": {
        "id": "5bc36fc3",
        "outputId": "f01be9c7-9131-43a6-c0bb-a007eb34b0f6",
        "colab": {
          "base_uri": "https://localhost:8080/"
        }
      },
      "outputs": [
        {
          "output_type": "stream",
          "name": "stdout",
          "text": [
            "ROCAUC score: 0.8967474697375967\n",
            "Accuracy score: 0.901875\n",
            "F1 score: 0.6735966735966735\n",
            "precision:  0.5418060200668896\n",
            "recall_score:  0.8901098901098901\n"
          ]
        }
      ],
      "source": [
        "svc_predict1 = svc_model1.predict(X_test)\n",
        "print('ROCAUC score:',roc_auc_score(y_test, svc_predict1))\n",
        "print('Accuracy score:',accuracy_score(y_test, svc_predict1))\n",
        "print('F1 score:',f1_score(y_test, svc_predict1))\n",
        "print(\"precision: \",precision_score(y_test,svc_predict1))\n",
        "print(\"recall_score: \",recall_score(y_test,svc_predict1))"
      ]
    },
    {
      "cell_type": "code",
      "execution_count": 121,
      "id": "c7c5be12",
      "metadata": {
        "id": "c7c5be12",
        "outputId": "0dcf6e55-573a-43c7-978e-f2cb670b2522",
        "colab": {
          "base_uri": "https://localhost:8080/"
        }
      },
      "outputs": [
        {
          "output_type": "stream",
          "name": "stdout",
          "text": [
            "ROCAUC score: 0.8684224801996312\n",
            "Accuracy score: 0.885625\n",
            "F1 score: 0.6272912423625255\n",
            "precision:  0.49838187702265374\n",
            "recall_score:  0.8461538461538461\n"
          ]
        }
      ],
      "source": [
        "svc_predict2 = svc_model2.predict(X_test1)\n",
        "print('ROCAUC score:',roc_auc_score(y_test1, svc_predict2))\n",
        "print('Accuracy score:',accuracy_score(y_test1, svc_predict2))\n",
        "print('F1 score:',f1_score(y_test1, svc_predict2))\n",
        "print(\"precision: \",precision_score(y_test1,svc_predict2))\n",
        "print(\"recall_score: \",recall_score(y_test1,svc_predict2))"
      ]
    },
    {
      "cell_type": "markdown",
      "id": "9d040451",
      "metadata": {
        "id": "9d040451"
      },
      "source": [
        "## Random Forest(Highest acuracy for now)(No scaling)"
      ]
    },
    {
      "cell_type": "code",
      "execution_count": 123,
      "id": "d7ed18ae",
      "metadata": {
        "id": "d7ed18ae"
      },
      "outputs": [],
      "source": [
        "df1 = pd.read_csv('waterQuality1.csv')"
      ]
    },
    {
      "cell_type": "code",
      "execution_count": 124,
      "id": "097fa178",
      "metadata": {
        "id": "097fa178"
      },
      "outputs": [],
      "source": [
        "df1['is_safe']=df1['is_safe'].map({'0':0,'1':1,'#NUM!':0})\n",
        "ammo=[]\n",
        "for i in range(len(df1)):\n",
        "    s=df1.loc[i,'ammonia']\n",
        "    if s=='#NUM!':\n",
        "        ammo+=[0]\n",
        "    else:\n",
        "        ammo+=[float(s)]\n",
        "df1['ammonia']=ammo"
      ]
    },
    {
      "cell_type": "code",
      "execution_count": 125,
      "id": "97c053a8",
      "metadata": {
        "id": "97c053a8"
      },
      "outputs": [],
      "source": [
        "X3 = df1.iloc[:,0:20].values\n",
        "y3 = df1.iloc[:,20].values"
      ]
    },
    {
      "cell_type": "code",
      "execution_count": 126,
      "id": "e7816d5d",
      "metadata": {
        "id": "e7816d5d"
      },
      "outputs": [],
      "source": [
        "from sklearn.preprocessing import StandardScaler\n",
        "from sklearn.decomposition import PCA\n",
        "sc = StandardScaler()\n",
        "X3 = sc.fit_transform(X3)\n",
        "  \n",
        "pca = PCA(n_components = 18)\n",
        "X_pca = pca.fit_transform(X3)"
      ]
    },
    {
      "cell_type": "code",
      "execution_count": 127,
      "id": "b36d01b9",
      "metadata": {
        "id": "b36d01b9"
      },
      "outputs": [],
      "source": [
        "sm = SMOTE(random_state=42,sampling_strategy=0.3)\n",
        "X_smote3, y_smote3 = sm.fit_resample(X_pca, y3)\n",
        "from sklearn.model_selection import train_test_split\n",
        "  \n",
        "X_smote_train, X_smote_test, y_smote_train, y_smote_test = train_test_split(X_smote3, y_smote3, test_size = 0.2, random_state = 0)"
      ]
    },
    {
      "cell_type": "code",
      "execution_count": 128,
      "id": "f602e359",
      "metadata": {
        "id": "f602e359",
        "outputId": "c1b3d3f5-4add-4950-82fe-f253140c2ce4",
        "colab": {
          "base_uri": "https://localhost:8080/"
        }
      },
      "outputs": [
        {
          "output_type": "stream",
          "name": "stdout",
          "text": [
            "ROCAUC score: 0.8941660034880374\n",
            "Accuracy score: 0.935973955507325\n",
            "F1 score: 0.8513853904282115\n",
            "precision:  0.8871391076115486\n",
            "recall_score:  0.8184019370460048\n"
          ]
        }
      ],
      "source": [
        "from sklearn.ensemble import RandomForestClassifier\n",
        "\n",
        "rfc3 = RandomForestClassifier()\n",
        "\n",
        "rfc3.fit(X_smote_train, y_smote_train)\n",
        "\n",
        "rfc_predict3 = rfc3.predict(X_smote_test)\n",
        "print('ROCAUC score:',roc_auc_score(y_smote_test, rfc_predict3))\n",
        "print('Accuracy score:',accuracy_score(y_smote_test, rfc_predict3))\n",
        "print('F1 score:',f1_score(y_smote_test, rfc_predict3))\n",
        "print(\"precision: \",precision_score(y_smote_test,rfc_predict3))\n",
        "print(\"recall_score: \",recall_score(y_smote_test,rfc_predict3))"
      ]
    },
    {
      "cell_type": "markdown",
      "id": "492f0f6b",
      "metadata": {
        "id": "492f0f6b"
      },
      "source": [
        "## Gaussian Naive Bayes(Weak Learner)(NO scaling)"
      ]
    },
    {
      "cell_type": "code",
      "execution_count": 135,
      "id": "7599628f",
      "metadata": {
        "id": "7599628f"
      },
      "outputs": [],
      "source": [
        "X_nosc = df.drop(target_col, axis=1)\n",
        "y_nosc = df[target_col]"
      ]
    },
    {
      "cell_type": "code",
      "execution_count": 136,
      "id": "53a10507",
      "metadata": {
        "id": "53a10507"
      },
      "outputs": [],
      "source": [
        "X_train_nosc, X_test_nosc, y_train_nosc, y_test_nosc = train_test_split(X_nosc, y_nosc, test_size=0.2)"
      ]
    },
    {
      "cell_type": "code",
      "execution_count": 138,
      "id": "e129cbae",
      "metadata": {
        "id": "e129cbae"
      },
      "outputs": [],
      "source": [
        "from sklearn.naive_bayes import GaussianNB\n",
        "model = GaussianNB()\n",
        "model.fit(X_train_nosc, y_train_nosc)\n",
        "y_pred2 = model.predict(X_test_nosc)"
      ]
    },
    {
      "cell_type": "code",
      "execution_count": 139,
      "id": "2f472e47",
      "metadata": {
        "id": "2f472e47",
        "colab": {
          "base_uri": "https://localhost:8080/"
        },
        "outputId": "62661c44-07c2-4018-8b45-e49d2168140c"
      },
      "outputs": [
        {
          "output_type": "stream",
          "name": "stdout",
          "text": [
            "Accuracy: 85.625 %\n"
          ]
        }
      ],
      "source": [
        "\n",
        "\n",
        "\n",
        "\n",
        "from sklearn.metrics import accuracy_score\n",
        "print('Accuracy:',accuracy_score(y_test_nosc, y_pred2)*100,'%')"
      ]
    },
    {
      "cell_type": "code",
      "execution_count": 140,
      "id": "c72deb1b",
      "metadata": {
        "id": "c72deb1b",
        "colab": {
          "base_uri": "https://localhost:8080/",
          "height": 523
        },
        "outputId": "4838d169-b732-41eb-d1ad-b1e8aac85024"
      },
      "outputs": [
        {
          "output_type": "stream",
          "name": "stderr",
          "text": [
            "/usr/local/lib/python3.7/dist-packages/sklearn/utils/deprecation.py:87: FutureWarning:\n",
            "\n",
            "Function plot_confusion_matrix is deprecated; Function `plot_confusion_matrix` is deprecated in 1.0 and will be removed in 1.2. Use one of the class methods: ConfusionMatrixDisplay.from_predictions or ConfusionMatrixDisplay.from_estimator.\n",
            "\n"
          ]
        },
        {
          "output_type": "stream",
          "name": "stdout",
          "text": [
            "precision:  0.4053030303030303\n",
            "recall_score:  0.5944444444444444\n",
            "f1_score:  0.48198198198198194\n"
          ]
        },
        {
          "output_type": "display_data",
          "data": {
            "text/plain": [
              "<Figure size 576x396 with 2 Axes>"
            ],
            "image/png": "[encoded data removed]"
          },
          "metadata": {}
        }
      ],
      "source": [
        "from sklearn.metrics import confusion_matrix, precision_score, recall_score, f1_score\n",
        "from sklearn.metrics import plot_confusion_matrix\n",
        "class_names = [\"No\",'Yes']\n",
        "plot_confusion_matrix(model, X_test_nosc, y_test_nosc,\n",
        "                              display_labels=class_names,\n",
        "                              cmap=\"Oranges\")\n",
        "plt.title('Naive Bayes Model', fontsize = 15)\n",
        "plt.ylabel('Actual',fontsize = 15)\n",
        "plt.xlabel('Predicted',fontsize=15)\n",
        "print(\"precision: \",precision_score(y_test_nosc,y_pred2))\n",
        "print(\"recall_score: \",recall_score(y_test_nosc,y_pred2))\n",
        "print(\"f1_score: \",f1_score(y_test_nosc,y_pred2))"
      ]
    },
    {
      "cell_type": "markdown",
      "id": "9a650651",
      "metadata": {
        "id": "9a650651"
      },
      "source": [
        "## Decision Tree"
      ]
    },
    {
      "cell_type": "code",
      "execution_count": 141,
      "id": "2316f39c",
      "metadata": {
        "id": "2316f39c"
      },
      "outputs": [],
      "source": [
        "import pandas as pd\n",
        "from sklearn.tree import DecisionTreeClassifier # Import Decision Tree Classifier\n",
        "from sklearn.model_selection import train_test_split # Import train_test_split function\n",
        "from sklearn import metrics #Import scikit-learn metrics module for accuracy calculation"
      ]
    },
    {
      "cell_type": "code",
      "execution_count": 142,
      "id": "3ffc1d3a",
      "metadata": {
        "id": "3ffc1d3a"
      },
      "outputs": [],
      "source": [
        "from sklearn.metrics import f1_score,roc_auc_score,precision_score,accuracy_score,recall_score"
      ]
    },
    {
      "cell_type": "code",
      "execution_count": 143,
      "id": "29d3ac04",
      "metadata": {
        "id": "29d3ac04"
      },
      "outputs": [],
      "source": [
        "dtc = DecisionTreeClassifier()"
      ]
    },
    {
      "cell_type": "code",
      "execution_count": 144,
      "id": "9bc114a8",
      "metadata": {
        "id": "9bc114a8"
      },
      "outputs": [],
      "source": [
        "dtc = dtc.fit(X_train,y_train)"
      ]
    },
    {
      "cell_type": "code",
      "execution_count": 145,
      "id": "d39a32b3",
      "metadata": {
        "id": "d39a32b3"
      },
      "outputs": [],
      "source": [
        "y_pred_dtc = dtc.predict(X_test)"
      ]
    },
    {
      "cell_type": "code",
      "execution_count": 146,
      "id": "352f2abe",
      "metadata": {
        "id": "352f2abe",
        "outputId": "263e672d-4609-4f68-f968-0100ba83aa34",
        "colab": {
          "base_uri": "https://localhost:8080/"
        }
      },
      "outputs": [
        {
          "output_type": "stream",
          "name": "stdout",
          "text": [
            "ROCAUC score: 0.886994528743471\n",
            "Accuracy score: 0.9525\n",
            "F1 score: 0.7934782608695653\n",
            "precision:  0.7849462365591398\n",
            "recall_score:  0.8021978021978022\n"
          ]
        }
      ],
      "source": [
        "print('ROCAUC score:',roc_auc_score(y_test,y_pred_dtc ))\n",
        "print('Accuracy score:',accuracy_score(y_test, y_pred_dtc))\n",
        "print('F1 score:',f1_score(y_test, y_pred_dtc))\n",
        "print(\"precision: \",precision_score(y_test,y_pred_dtc))\n",
        "print(\"recall_score: \",recall_score(y_test,y_pred_dtc))"
      ]
    },
    {
      "cell_type": "markdown",
      "source": [
        "##K-nearest Neighbour- KNN"
      ],
      "metadata": {
        "id": "VWxqhtA0Afay"
      },
      "id": "VWxqhtA0Afay"
    },
    {
      "cell_type": "code",
      "source": [
        "from sklearn.neighbors import KNeighborsClassifier  \n",
        "classifier= KNeighborsClassifier(n_neighbors=5, metric='minkowski', p=2 )  "
      ],
      "metadata": {
        "id": "HzYeCbIkA42U"
      },
      "id": "HzYeCbIkA42U",
      "execution_count": 158,
      "outputs": []
    },
    {
      "cell_type": "code",
      "source": [
        "classifier.fit(X_train, y_train)  \n",
        "y_pred= classifier.predict(X_test)\n",
        "print(classification_report(y_test, y_pred))"
      ],
      "metadata": {
        "colab": {
          "base_uri": "https://localhost:8080/"
        },
        "id": "-In61I5LBD-4",
        "outputId": "5f50fcd0-bd3c-4dae-bf65-de7a8c109d8f"
      },
      "id": "-In61I5LBD-4",
      "execution_count": 159,
      "outputs": [
        {
          "output_type": "stream",
          "name": "stdout",
          "text": [
            "              precision    recall  f1-score   support\n",
            "\n",
            "           0       0.92      0.99      0.95      1418\n",
            "           1       0.77      0.32      0.46       182\n",
            "\n",
            "    accuracy                           0.91      1600\n",
            "   macro avg       0.84      0.66      0.70      1600\n",
            "weighted avg       0.90      0.91      0.90      1600\n",
            "\n"
          ]
        }
      ]
    },
    {
      "cell_type": "code",
      "source": [
        "classifier.fit(X_smote_train, y_smote_train)  \n",
        "y_smote_pred= classifier.predict(X_smote_test)\n",
        "print(classification_report(y_smote_test, y_smote_pred))"
      ],
      "metadata": {
        "colab": {
          "base_uri": "https://localhost:8080/"
        },
        "id": "bNDmadHyBIqZ",
        "outputId": "cb455f13-d21e-4e3b-e033-a8033baf4d63"
      },
      "id": "bNDmadHyBIqZ",
      "execution_count": 160,
      "outputs": [
        {
          "output_type": "stream",
          "name": "stdout",
          "text": [
            "              precision    recall  f1-score   support\n",
            "\n",
            "           0       0.96      0.88      0.92      1430\n",
            "           1       0.67      0.88      0.76       413\n",
            "\n",
            "    accuracy                           0.88      1843\n",
            "   macro avg       0.82      0.88      0.84      1843\n",
            "weighted avg       0.90      0.88      0.88      1843\n",
            "\n"
          ]
        }
      ]
    },
    {
      "cell_type": "markdown",
      "source": [
        "##XGBoost"
      ],
      "metadata": {
        "id": "kl5Jgb3sBQaf"
      },
      "id": "kl5Jgb3sBQaf"
    },
    {
      "cell_type": "code",
      "source": [
        "from sklearn.metrics import precision_recall_fscore_support\n",
        "from sklearn.metrics import accuracy_score\n",
        "from xgboost import XGBClassifier"
      ],
      "metadata": {
        "id": "bvzjZovwBN3M"
      },
      "id": "bvzjZovwBN3M",
      "execution_count": 161,
      "outputs": []
    },
    {
      "cell_type": "code",
      "source": [
        "model = XGBClassifier()\n",
        "model.fit(X_train, y_train)\n",
        "y_pred = model.predict(X_test)\n",
        "predictions = [round(value) for value in y_pred]"
      ],
      "metadata": {
        "id": "de2gMEG1BfBs"
      },
      "id": "de2gMEG1BfBs",
      "execution_count": 162,
      "outputs": []
    },
    {
      "cell_type": "code",
      "source": [
        "\n",
        "# evaluate prediction\n",
        "accuracy = accuracy_score(y_test, predictions)\n",
        "print(precision_recall_fscore_support(y_test, predictions,average='micro'))\n",
        "print(\"Accuracy: %.2f%%\" % (accuracy * 100.0))"
      ],
      "metadata": {
        "colab": {
          "base_uri": "https://localhost:8080/"
        },
        "id": "iJ9XcJ7ABlYt",
        "outputId": "114e35a4-9b80-408a-9654-92c87f0f6d11"
      },
      "id": "iJ9XcJ7ABlYt",
      "execution_count": 163,
      "outputs": [
        {
          "output_type": "stream",
          "name": "stdout",
          "text": [
            "(0.959375, 0.959375, 0.959375, None)\n",
            "Accuracy: 95.94%\n"
          ]
        }
      ]
    },
    {
      "cell_type": "code",
      "source": [
        "model = XGBClassifier()\n",
        "model.fit(X_smote_train, y_smote_train)\n",
        "y_pred_smote = model.predict(X_smote_test)\n",
        "predictions = [round(value) for value in y_pred_smote]"
      ],
      "metadata": {
        "id": "RoFONLJFDgJq"
      },
      "id": "RoFONLJFDgJq",
      "execution_count": 164,
      "outputs": []
    },
    {
      "cell_type": "code",
      "source": [
        "accuracy = accuracy_score(y_smote_test, predictions)\n",
        "print(precision_recall_fscore_support(y_smote_test, predictions,average='micro'))\n",
        "print(\"Accuracy: %.2f%%\" % (accuracy * 100.0))"
      ],
      "metadata": {
        "colab": {
          "base_uri": "https://localhost:8080/"
        },
        "id": "UePGp_0lDka0",
        "outputId": "3381cf83-ca31-4be9-c542-d11fc01442c7"
      },
      "id": "UePGp_0lDka0",
      "execution_count": 165,
      "outputs": [
        {
          "output_type": "stream",
          "name": "stdout",
          "text": [
            "(0.9007053716766142, 0.9007053716766142, 0.9007053716766142, None)\n",
            "Accuracy: 90.07%\n"
          ]
        }
      ]
    },
    {
      "cell_type": "markdown",
      "id": "a3785ed6",
      "metadata": {
        "id": "a3785ed6"
      },
      "source": [
        "## Ensemble"
      ]
    },
    {
      "cell_type": "code",
      "execution_count": 147,
      "id": "76beef90",
      "metadata": {
        "id": "76beef90"
      },
      "outputs": [],
      "source": [
        "from sklearn.ensemble import RandomForestClassifier, VotingClassifier"
      ]
    },
    {
      "cell_type": "code",
      "execution_count": 148,
      "id": "a950585d",
      "metadata": {
        "id": "a950585d"
      },
      "outputs": [],
      "source": [
        "from sklearn.naive_bayes import GaussianNB"
      ]
    },
    {
      "cell_type": "code",
      "execution_count": 149,
      "id": "57879710",
      "metadata": {
        "id": "57879710"
      },
      "outputs": [],
      "source": [
        "from sklearn.svm import SVC"
      ]
    },
    {
      "cell_type": "code",
      "execution_count": 150,
      "id": "50427ae8",
      "metadata": {
        "id": "50427ae8"
      },
      "outputs": [],
      "source": [
        "clf1 = LogisticRegression(random_state=1)\n",
        "clf2 = SVC(class_weight='balanced', probability=True)\n",
        "clf3 = GaussianNB()"
      ]
    },
    {
      "cell_type": "code",
      "execution_count": 151,
      "id": "f5e53de4",
      "metadata": {
        "id": "f5e53de4"
      },
      "outputs": [],
      "source": [
        "eclf1 = VotingClassifier(estimators=[('dt', dtc),('svm', clf2), ('gnb', clf3)])"
      ]
    },
    {
      "cell_type": "code",
      "execution_count": 152,
      "id": "100d3e98",
      "metadata": {
        "id": "100d3e98"
      },
      "outputs": [],
      "source": [
        "eclf1 = eclf1.fit(X_smote_train ,y_smote_train)"
      ]
    },
    {
      "cell_type": "code",
      "execution_count": 153,
      "id": "7fea9ff6",
      "metadata": {
        "id": "7fea9ff6"
      },
      "outputs": [],
      "source": [
        "vote_pred = eclf1.predict(X_smote_test)"
      ]
    },
    {
      "cell_type": "code",
      "execution_count": 154,
      "id": "28d9c721",
      "metadata": {
        "id": "28d9c721"
      },
      "outputs": [],
      "source": [
        "from sklearn.metrics import f1_score,roc_auc_score,precision_score,accuracy_score,recall_score"
      ]
    },
    {
      "cell_type": "code",
      "execution_count": 155,
      "id": "9ab63840",
      "metadata": {
        "id": "9ab63840",
        "outputId": "2dad3fac-4ade-4c03-f5eb-3448de162568",
        "colab": {
          "base_uri": "https://localhost:8080/"
        }
      },
      "outputs": [
        {
          "output_type": "stream",
          "name": "stdout",
          "text": [
            "ROCAUC score: 0.9088860292250123\n",
            "Accuracy score: 0.9267498643516007\n",
            "F1 score: 0.8428405122235156\n",
            "precision:  0.8116591928251121\n",
            "recall_score:  0.8765133171912833\n"
          ]
        }
      ],
      "source": [
        "print('ROCAUC score:',roc_auc_score(y_smote_test, vote_pred))\n",
        "print('Accuracy score:',accuracy_score(y_smote_test, vote_pred))\n",
        "print('F1 score:',f1_score(y_smote_test, vote_pred))\n",
        "print(\"precision: \",precision_score(y_smote_test,vote_pred))\n",
        "print(\"recall_score: \",recall_score(y_smote_test,vote_pred))"
      ]
    },
    {
      "cell_type": "code",
      "execution_count": 156,
      "id": "15fed8d5",
      "metadata": {
        "id": "15fed8d5"
      },
      "outputs": [],
      "source": [
        "import joblib"
      ]
    },
    {
      "cell_type": "code",
      "execution_count": 157,
      "id": "ed8538bd",
      "metadata": {
        "id": "ed8538bd",
        "outputId": "c22d82cd-f2d6-4016-8cdb-781aef6e75e2",
        "colab": {
          "base_uri": "https://localhost:8080/"
        }
      },
      "outputs": [
        {
          "output_type": "execute_result",
          "data": {
            "text/plain": [
              "['Ensemble_jlib']"
            ]
          },
          "metadata": {},
          "execution_count": 157
        }
      ],
      "source": [
        "joblib.dump(eclf1,'Ensemble_jlib')"
      ]
    },
    {
      "cell_type": "markdown",
      "id": "3a2c94df",
      "metadata": {
        "id": "3a2c94df"
      },
      "source": [
        "## Does better than both SVM, GNB and Logistic Regression"
      ]
    },
    {
      "cell_type": "code",
      "source": [],
      "metadata": {
        "id": "Kn8aK473AbkJ"
      },
      "id": "Kn8aK473AbkJ",
      "execution_count": null,
      "outputs": []
    }
  ],
  "metadata": {
    "kernelspec": {
      "display_name": "Python 3 (ipykernel)",
      "language": "python",
      "name": "python3"
    },
    "language_info": {
      "codemirror_mode": {
        "name": "ipython",
        "version": 3
      },
      "file_extension": ".py",
      "mimetype": "text/x-python",
      "name": "python",
      "nbconvert_exporter": "python",
      "pygments_lexer": "ipython3",
      "version": "3.9.12"
    },
    "colab": {
      "provenance": [],
      "collapsed_sections": [
        "b79bca67",
        "cb11a667",
        "e10c3a8c"
      ]
    }
  },
  "nbformat": 4,
  "nbformat_minor": 5
}